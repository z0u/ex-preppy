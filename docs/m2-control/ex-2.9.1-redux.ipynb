{
 "cells": [
  {
   "cell_type": "markdown",
   "id": "191d5190",
   "metadata": {},
   "source": [
    "# Experiment 2.9.1: Delete only red with two repulsive regularizers\n",
    "\n",
    "This is a re-run of [Ex 2.9](./ex-2.9-delete-only-red-5d.ipynb) with more mature tooling. See the earlier notebook for discussion. Unlike 2.9, we only use one label (_red_), but unlike 2.10.1, we use both an anti-subspace and anti-anchor regularizer."
   ]
  },
  {
   "cell_type": "code",
   "execution_count": 1,
   "id": "db26371c",
   "metadata": {},
   "outputs": [],
   "source": [
    "from __future__ import annotations\n",
    "\n",
    "nbid = '2.9.1'  # ID for tagging assets\n",
    "nbname = 'Ablate red (only), 5D'\n",
    "experiment_name = f'Ex {nbid}: {nbname}'\n",
    "project = 'ex-preppy'"
   ]
  },
  {
   "cell_type": "code",
   "execution_count": 2,
   "id": "eaf0edd7",
   "metadata": {},
   "outputs": [],
   "source": [
    "# Basic setup: Logging, Experiment (Modal)\n",
    "import logging\n",
    "\n",
    "import modal\n",
    "\n",
    "from infra.requirements import uv_freeze, project_packages\n",
    "from utils.logging import SimpleLoggingConfig\n",
    "from ex_color.vis import NbViz\n",
    "\n",
    "logging_config = (\n",
    "    SimpleLoggingConfig()\n",
    "    .info('notebook', 'utils', 'mini', 'ex_color')\n",
    "    .error('matplotlib.axes')  # Silence warnings about set_aspect\n",
    ")\n",
    "logging_config.apply()\n",
    "\n",
    "# This is the logger for this notebook\n",
    "log = logging.getLogger(f'notebook.{nbid}')\n",
    "\n",
    "image = (\n",
    "    modal.Image.debian_slim()\n",
    "    .pip_install(*uv_freeze(all_groups=True, not_groups='dev'))\n",
    "    .add_local_python_source(*project_packages())\n",
    ")\n",
    "volume = modal.Volume.from_name(f'{project}-{nbid}', create_if_missing=True, version=2)\n",
    "app = modal.App(name=f'{project}-{nbid}', image=image, volumes={'/data': volume})\n",
    "\n",
    "viz = NbViz(nbid)\n",
    "None  # prevent auto-display of this cell"
   ]
  },
  {
   "cell_type": "markdown",
   "id": "89b2028d",
   "metadata": {},
   "source": [
    "## Model parameters\n",
    "\n",
    "Like Ex 2.9, we use the following regularizers:\n",
    "\n",
    "- **Anchor:** pins `red` to $(1,0,0,0,0)$ (5D)\n",
    "- **AxisAlignedSubspace:** repels everything from dimension $1$ (with varying weight, see schedule)\n",
    "- **Separate:** angular repulsion to reduce global clumping (applied within each batch)\n",
    "\n",
    "Since we're isolating _red_, we have 5D latent embeddings and two nonlinear activation functions in the encoder and decoder, to allow the latent space to be warped more.\n",
    "\n",
    "But unlike 2.9:\n",
    "- **Anti-anchor:** has been removed, relying on anti-subspace to keep other concepts clear of the dimension to be ablated.\n",
    "- **Unitarity:** is present in this list, but we'll do a run without it too."
   ]
  },
  {
   "cell_type": "code",
   "execution_count": 3,
   "id": "ac781a07",
   "metadata": {},
   "outputs": [],
   "source": [
    "import torch\n",
    "\n",
    "from ex_color.loss import AngularAnchor, AntiAnchor, AxisAlignedSubspace, Separate, RegularizerConfig\n",
    "\n",
    "K = 5  # bottleneck dimensionality\n",
    "N = 2  # number of nonlinear layers\n",
    "H = 10  # hidden layer size\n",
    "RED = (1, 0, 0, 0, 0)\n",
    "ANTI_RED = (-1, 0, 0, 0, 0)\n",
    "assert len(RED) == len(ANTI_RED) == K\n",
    "BATCH_SIZE = 64\n",
    "CUBE_SUBDIVISIONS = 8\n",
    "NUM_RUNS = 60  # to probe seed sensitivity\n",
    "RUN_SEEDS = [i for i in range(NUM_RUNS)]\n",
    "\n",
    "reg_separate = RegularizerConfig(\n",
    "    name='separate',\n",
    "    compute_loss_term=Separate(power=100.0, shift=True),\n",
    "    label_affinities=None,\n",
    "    layer_affinities=['bottleneck'],\n",
    ")\n",
    "reg_anchor = RegularizerConfig(\n",
    "    name='anchor',\n",
    "    compute_loss_term=AngularAnchor(torch.tensor(RED, dtype=torch.float32)),\n",
    "    label_affinities={'red': 1.0},\n",
    "    layer_affinities=['bottleneck'],\n",
    "    phase=('train', 'validate'),\n",
    ")\n",
    "reg_anti_anchor = RegularizerConfig(\n",
    "    name='anti-anchor',\n",
    "    compute_loss_term=AntiAnchor(torch.tensor(ANTI_RED, dtype=torch.float32)),\n",
    "    label_affinities=None,\n",
    "    layer_affinities=['bottleneck'],\n",
    "    phase=('train', 'validate'),\n",
    ")\n",
    "reg_anti_subspace = RegularizerConfig(\n",
    "    name='anti-subspace',\n",
    "    compute_loss_term=AxisAlignedSubspace((0,), invert=True),\n",
    "    label_affinities=None,\n",
    "    layer_affinities=['bottleneck'],\n",
    ")"
   ]
  },
  {
   "cell_type": "code",
   "execution_count": 4,
   "id": "f09f0f05",
   "metadata": {},
   "outputs": [
    {
     "data": {
      "text/markdown": [
       "## Parameter schedule \n",
       "|   STEP | PHASE   |   ACTION |      lr |   separate |   anchor |   anti-anchor |   anti-subspace |\n",
       "|-------:|:--------|---------:|--------:|-----------:|---------:|--------------:|----------------:|\n",
       "|      0 | Train   |          |   1e-08 |            |      0   |          0    |           0.25  |\n",
       "|     10 |         |          |   0.01  |            |          |               |                 |\n",
       "|    248 |         |          |         |      0.01  |      0.1 |          0.05 |                 |\n",
       "|    750 |         |          |   0.1   |      0.001 |      0.1 |               |           0.003 |\n",
       "|   1425 |         |          |   0.1   |      0     |      0   |          0    |           0     |\n",
       "|   1500 |         |          |   0.05  |            |          |               |                 |"
      ],
      "text/plain": [
       "<IPython.core.display.Markdown object>"
      ]
     },
     "metadata": {},
     "output_type": "display_data"
    },
    {
     "data": {
      "text/html": [
       "<picture>\n",
       "  <source srcset=\"large-assets/ex-2.9.1-dopesheet.dark.png?v=zqdTIgF1Bky3-ZZ72IJn1qsFOcs1kZVsUmCilq1uSmM\" media=\"(prefers-color-scheme: dark)\" />\n",
       "  <source srcset=\"large-assets/ex-2.9.1-dopesheet.png?v=zqdTIgF1Bky3-ZZ72IJn1qsFOcs1kZVsUmCilq1uSmM\" media=\"(prefers-color-scheme: light)\" />\n",
       "  <img src=\"large-assets/ex-2.9.1-dopesheet.png?v=zqdTIgF1Bky3-ZZ72IJn1qsFOcs1kZVsUmCilq1uSmM\" alt=\"Plot showing the parameter schedule for the training run, titled &quot;&quot;. The plot has two sections: the upper section shows various regularization weights over time, and the lower section shows the learning rate over time. The x-axis represents training steps.\" />\n",
       "</picture>"
      ],
      "text/plain": [
       "Plot showing the parameter schedule for the training run, titled \"\". The plot has two sections: the upper section shows various regularization weights over time, and the lower section shows the learning rate over time. The x-axis represents training steps."
      ]
     },
     "metadata": {},
     "output_type": "display_data"
    }
   ],
   "source": [
    "from mini.temporal.dopesheet import Dopesheet\n",
    "\n",
    "dopesheet = Dopesheet.from_csv(f'./ex-{nbid}-dopesheet.csv')\n",
    "viz.tab_dopesheet(dopesheet)\n",
    "viz.plot_dopesheet(dopesheet)"
   ]
  },
  {
   "cell_type": "markdown",
   "id": "22376072",
   "metadata": {},
   "source": [
    "## Data\n",
    "\n",
    "Data is the same as last time: color cubes with values in RGB.\n"
   ]
  },
  {
   "cell_type": "code",
   "execution_count": 5,
   "id": "89508e77",
   "metadata": {},
   "outputs": [],
   "source": [
    "from torch.utils.data import DataLoader, RandomSampler\n",
    "\n",
    "from ex_color.data.cube_dataset import prep_color_dataset, redness, stochastic_labels, exact_labels\n",
    "\n",
    "\n",
    "def prep_train_data(training_subs: int, *, batch_size: int) -> DataLoader:\n",
    "    dataset = prep_color_dataset(\n",
    "        training_subs,\n",
    "        sample_at='cell-corners',\n",
    "        red=lambda c: redness(c) ** 8 * 0.08,\n",
    "    )\n",
    "    return DataLoader(\n",
    "        dataset,\n",
    "        batch_size=batch_size,\n",
    "        num_workers=4,\n",
    "        sampler=RandomSampler(dataset, num_samples=len(dataset), replacement=True),\n",
    "        collate_fn=stochastic_labels,\n",
    "    )\n",
    "\n",
    "\n",
    "def prep_val_data(training_subs: int, *, batch_size: int) -> DataLoader:\n",
    "    dataset = prep_color_dataset(\n",
    "        training_subs,\n",
    "        sample_at='cell-centers',\n",
    "        red=lambda c: redness(c) == 1,\n",
    "    )\n",
    "    return DataLoader(\n",
    "        dataset,\n",
    "        batch_size=batch_size,\n",
    "        num_workers=2,\n",
    "        collate_fn=exact_labels,\n",
    "    )"
   ]
  },
  {
   "cell_type": "markdown",
   "id": "6d8fcb76",
   "metadata": {},
   "source": [
    "## Train"
   ]
  },
  {
   "cell_type": "code",
   "execution_count": 6,
   "id": "73c22398",
   "metadata": {},
   "outputs": [],
   "source": [
    "from typing import Callable\n",
    "\n",
    "import torch\n",
    "import wandb\n",
    "\n",
    "from ex_color.model import CNColorMLP\n",
    "from ex_color.seed import set_deterministic_mode\n",
    "from ex_color.workflow import train_model\n",
    "from ex_color.evaluation import Result\n",
    "from utils.time import hour\n",
    "\n",
    "\n",
    "@app.function(\n",
    "    cpu=1,\n",
    "    max_containers=20,\n",
    "    timeout=1 * hour,\n",
    "    env={'WANDB_API_KEY': wandb.Api().api_key or ''},\n",
    ")\n",
    "async def train(\n",
    "    dopesheet: Dopesheet,\n",
    "    regularizers: list[RegularizerConfig],\n",
    "    *,\n",
    "    seed: int,\n",
    "    score_fn: Callable[[CNColorMLP], float],\n",
    "):\n",
    "    \"\"\"Train the model with the given dopesheet and variant.\"\"\"\n",
    "    logging_config.apply()\n",
    "\n",
    "    if seed is not None:\n",
    "        set_deterministic_mode(seed)\n",
    "\n",
    "    train_loader = prep_train_data(CUBE_SUBDIVISIONS, batch_size=BATCH_SIZE)\n",
    "    val_loader = prep_val_data(CUBE_SUBDIVISIONS, batch_size=BATCH_SIZE)\n",
    "    model = CNColorMLP(K, n_nonlinear=N)\n",
    "    res = train_model(\n",
    "        model,\n",
    "        dopesheet,\n",
    "        regularizers,\n",
    "        train_loader,\n",
    "        val_loader,\n",
    "        experiment_name=experiment_name,\n",
    "        project=project,\n",
    "        hparams={'seed': seed},\n",
    "    )\n",
    "\n",
    "    score = score_fn(res.model)\n",
    "    key = f'model-{res.id_}.pt'\n",
    "    torch.save(res.model.state_dict(), f'/data/{key}')\n",
    "    return Result(seed, key, res.url, res.summary, score)"
   ]
  },
  {
   "cell_type": "code",
   "execution_count": 7,
   "id": "7eba60c7",
   "metadata": {},
   "outputs": [],
   "source": [
    "from ex_color.evaluation import EvaluationPlan, ScoreByHSVSimilarity\n",
    "from ex_color.surgery import ablate\n",
    "\n",
    "ablation_plan = EvaluationPlan(\n",
    "    {'ablated'},\n",
    "    lambda m: ablate(m, 'bottleneck', [0]),\n",
    "    [],\n",
    ")\n",
    "\n",
    "score_fn = ScoreByHSVSimilarity(ablation_plan, (0.0, 1.0, 1.0), power=3.0, cube_subdivisions=CUBE_SUBDIVISIONS)"
   ]
  },
  {
   "cell_type": "code",
   "execution_count": 8,
   "id": "c6b26721",
   "metadata": {},
   "outputs": [],
   "source": [
    "import asyncio\n",
    "\n",
    "# Reload dopesheet: makes tweaking params during development easier\n",
    "dopesheet = Dopesheet.from_csv(f'./ex-{nbid}-dopesheet.csv')\n",
    "regularizers = [reg_separate, reg_anchor, reg_anti_anchor, reg_anti_subspace]\n",
    "\n",
    "\n",
    "async def sweep():\n",
    "    logging_config.apply()\n",
    "    workers = [train.remote.aio(dopesheet, regularizers, seed=seed, score_fn=score_fn) for seed in RUN_SEEDS]\n",
    "    return await asyncio.gather(*workers)\n",
    "\n",
    "\n",
    "with app.run():\n",
    "    results = await sweep()"
   ]
  },
  {
   "cell_type": "code",
   "execution_count": 9,
   "id": "47bf9b77",
   "metadata": {},
   "outputs": [
    {
     "name": "stdout",
     "output_type": "stream",
     "text": [
      "I 401.5 no.2.9.1:Summary statistics for all 60 runs:\n"
     ]
    },
    {
     "data": {
      "text/html": [
       "<style type=\"text/css\">\n",
       "</style>\n",
       "<table id=\"T_8c58b\">\n",
       "  <thead>\n",
       "    <tr>\n",
       "      <th class=\"blank level0\" >&nbsp;</th>\n",
       "      <th id=\"T_8c58b_level0_col0\" class=\"col_heading level0 col0\" >seed</th>\n",
       "      <th id=\"T_8c58b_level0_col1\" class=\"col_heading level0 col1\" >score</th>\n",
       "      <th id=\"T_8c58b_level0_col2\" class=\"col_heading level0 col2\" >val_recon</th>\n",
       "      <th id=\"T_8c58b_level0_col3\" class=\"col_heading level0 col3\" >val_anchor</th>\n",
       "      <th id=\"T_8c58b_level0_col4\" class=\"col_heading level0 col4\" >val_anti-anchor</th>\n",
       "      <th id=\"T_8c58b_level0_col5\" class=\"col_heading level0 col5\" >labels/n_total</th>\n",
       "      <th id=\"T_8c58b_level0_col6\" class=\"col_heading level0 col6\" >labels/n/_any</th>\n",
       "      <th id=\"T_8c58b_level0_col7\" class=\"col_heading level0 col7\" >labels/n/red</th>\n",
       "      <th id=\"T_8c58b_level0_col8\" class=\"col_heading level0 col8\" >val_loss</th>\n",
       "      <th id=\"T_8c58b_level0_col9\" class=\"col_heading level0 col9\" >_runtime</th>\n",
       "    </tr>\n",
       "  </thead>\n",
       "  <tbody>\n",
       "    <tr>\n",
       "      <th id=\"T_8c58b_level0_row0\" class=\"row_heading level0 row0\" >min</th>\n",
       "      <td id=\"T_8c58b_row0_col0\" class=\"data row0 col0\" >0.0000</td>\n",
       "      <td id=\"T_8c58b_row0_col1\" class=\"data row0 col1\" >0.0615</td>\n",
       "      <td id=\"T_8c58b_row0_col2\" class=\"data row0 col2\" >0.0000</td>\n",
       "      <td id=\"T_8c58b_row0_col3\" class=\"data row0 col3\" >0.0001</td>\n",
       "      <td id=\"T_8c58b_row0_col4\" class=\"data row0 col4\" >0.0000</td>\n",
       "      <td id=\"T_8c58b_row0_col5\" class=\"data row0 col5\" >96064.0000</td>\n",
       "      <td id=\"T_8c58b_row0_col6\" class=\"data row0 col6\" >68.0000</td>\n",
       "      <td id=\"T_8c58b_row0_col7\" class=\"data row0 col7\" >68.0000</td>\n",
       "      <td id=\"T_8c58b_row0_col8\" class=\"data row0 col8\" >0.0000</td>\n",
       "      <td id=\"T_8c58b_row0_col9\" class=\"data row0 col9\" >49.5294</td>\n",
       "    </tr>\n",
       "    <tr>\n",
       "      <th id=\"T_8c58b_level0_row1\" class=\"row_heading level0 row1\" >max</th>\n",
       "      <td id=\"T_8c58b_row1_col0\" class=\"data row1 col0\" >59.0000</td>\n",
       "      <td id=\"T_8c58b_row1_col1\" class=\"data row1 col1\" >0.9848</td>\n",
       "      <td id=\"T_8c58b_row1_col2\" class=\"data row1 col2\" >0.0023</td>\n",
       "      <td id=\"T_8c58b_row1_col3\" class=\"data row1 col3\" >0.0302</td>\n",
       "      <td id=\"T_8c58b_row1_col4\" class=\"data row1 col4\" >0.0005</td>\n",
       "      <td id=\"T_8c58b_row1_col5\" class=\"data row1 col5\" >96064.0000</td>\n",
       "      <td id=\"T_8c58b_row1_col6\" class=\"data row1 col6\" >98.0000</td>\n",
       "      <td id=\"T_8c58b_row1_col7\" class=\"data row1 col7\" >98.0000</td>\n",
       "      <td id=\"T_8c58b_row1_col8\" class=\"data row1 col8\" >0.0023</td>\n",
       "      <td id=\"T_8c58b_row1_col9\" class=\"data row1 col9\" >189.6218</td>\n",
       "    </tr>\n",
       "    <tr>\n",
       "      <th id=\"T_8c58b_level0_row2\" class=\"row_heading level0 row2\" >mean</th>\n",
       "      <td id=\"T_8c58b_row2_col0\" class=\"data row2 col0\" >29.5000</td>\n",
       "      <td id=\"T_8c58b_row2_col1\" class=\"data row2 col1\" >0.8570</td>\n",
       "      <td id=\"T_8c58b_row2_col2\" class=\"data row2 col2\" >0.0001</td>\n",
       "      <td id=\"T_8c58b_row2_col3\" class=\"data row2 col3\" >0.0012</td>\n",
       "      <td id=\"T_8c58b_row2_col4\" class=\"data row2 col4\" >0.0001</td>\n",
       "      <td id=\"T_8c58b_row2_col5\" class=\"data row2 col5\" >96064.0000</td>\n",
       "      <td id=\"T_8c58b_row2_col6\" class=\"data row2 col6\" >83.6167</td>\n",
       "      <td id=\"T_8c58b_row2_col7\" class=\"data row2 col7\" >83.6167</td>\n",
       "      <td id=\"T_8c58b_row2_col8\" class=\"data row2 col8\" >0.0001</td>\n",
       "      <td id=\"T_8c58b_row2_col9\" class=\"data row2 col9\" >89.6498</td>\n",
       "    </tr>\n",
       "    <tr>\n",
       "      <th id=\"T_8c58b_level0_row3\" class=\"row_heading level0 row3\" >std</th>\n",
       "      <td id=\"T_8c58b_row3_col0\" class=\"data row3 col0\" >17.4642</td>\n",
       "      <td id=\"T_8c58b_row3_col1\" class=\"data row3 col1\" >0.1541</td>\n",
       "      <td id=\"T_8c58b_row3_col2\" class=\"data row3 col2\" >0.0003</td>\n",
       "      <td id=\"T_8c58b_row3_col3\" class=\"data row3 col3\" >0.0039</td>\n",
       "      <td id=\"T_8c58b_row3_col4\" class=\"data row3 col4\" >0.0001</td>\n",
       "      <td id=\"T_8c58b_row3_col5\" class=\"data row3 col5\" >0.0000</td>\n",
       "      <td id=\"T_8c58b_row3_col6\" class=\"data row3 col6\" >8.0087</td>\n",
       "      <td id=\"T_8c58b_row3_col7\" class=\"data row3 col7\" >8.0087</td>\n",
       "      <td id=\"T_8c58b_row3_col8\" class=\"data row3 col8\" >0.0003</td>\n",
       "      <td id=\"T_8c58b_row3_col9\" class=\"data row3 col9\" >42.3578</td>\n",
       "    </tr>\n",
       "  </tbody>\n",
       "</table>\n"
      ],
      "text/plain": [
       "<pandas.io.formats.style.Styler at 0xffff2afe4590>"
      ]
     },
     "metadata": {},
     "output_type": "display_data"
    },
    {
     "name": "stdout",
     "output_type": "stream",
     "text": [
      "Correlation of reconstruction error vs. similarity to anchor\n"
     ]
    },
    {
     "data": {
      "text/html": [
       "<picture>\n",
       "  <source srcset=\"large-assets/ex-2.9.1-boxplot-score.dark.png?v=JPq6yks4r5SoV2J-nez70QekzaDaigwsnpEH0u1zC04\" media=\"(prefers-color-scheme: dark)\" />\n",
       "  <source srcset=\"large-assets/ex-2.9.1-boxplot-score.png?v=JPq6yks4r5SoV2J-nez70QekzaDaigwsnpEH0u1zC04\" media=\"(prefers-color-scheme: light)\" />\n",
       "  <img src=\"large-assets/ex-2.9.1-boxplot-score.png?v=JPq6yks4r5SoV2J-nez70QekzaDaigwsnpEH0u1zC04\" alt=\"Horizontal box plot showing the distribution of .\" />\n",
       "</picture>"
      ],
      "text/plain": [
       "Horizontal box plot showing the distribution of ."
      ]
     },
     "metadata": {},
     "output_type": "display_data"
    },
    {
     "name": "stdout",
     "output_type": "stream",
     "text": [
      "Reconstruction loss\n"
     ]
    },
    {
     "data": {
      "text/html": [
       "<picture>\n",
       "  <source srcset=\"large-assets/ex-2.9.1-boxplot-val-recon.dark.png?v=fURMukYn0uevdgnzOkj14tsJkIwB8CqXhNHQ_A5_kFg\" media=\"(prefers-color-scheme: dark)\" />\n",
       "  <source srcset=\"large-assets/ex-2.9.1-boxplot-val-recon.png?v=fURMukYn0uevdgnzOkj14tsJkIwB8CqXhNHQ_A5_kFg\" media=\"(prefers-color-scheme: light)\" />\n",
       "  <img src=\"large-assets/ex-2.9.1-boxplot-val-recon.png?v=fURMukYn0uevdgnzOkj14tsJkIwB8CqXhNHQ_A5_kFg\" alt=\"Horizontal box plot showing the distribution of .\" />\n",
       "</picture>"
      ],
      "text/plain": [
       "Horizontal box plot showing the distribution of ."
      ]
     },
     "metadata": {},
     "output_type": "display_data"
    },
    {
     "name": "stdout",
     "output_type": "stream",
     "text": [
      "Anchor loss\n"
     ]
    },
    {
     "data": {
      "text/html": [
       "<picture>\n",
       "  <source srcset=\"large-assets/ex-2.9.1-boxplot-val-anchor.dark.png?v=12t5Qo_t_6cQvGix-oV1ZJeLWAIDPQEdyFhtKFlnlf4\" media=\"(prefers-color-scheme: dark)\" />\n",
       "  <source srcset=\"large-assets/ex-2.9.1-boxplot-val-anchor.png?v=12t5Qo_t_6cQvGix-oV1ZJeLWAIDPQEdyFhtKFlnlf4\" media=\"(prefers-color-scheme: light)\" />\n",
       "  <img src=\"large-assets/ex-2.9.1-boxplot-val-anchor.png?v=12t5Qo_t_6cQvGix-oV1ZJeLWAIDPQEdyFhtKFlnlf4\" alt=\"Horizontal box plot showing the distribution of .\" />\n",
       "</picture>"
      ],
      "text/plain": [
       "Horizontal box plot showing the distribution of ."
      ]
     },
     "metadata": {},
     "output_type": "display_data"
    }
   ],
   "source": [
    "from IPython.display import display\n",
    "from ex_color.evaluation import results_to_dataframe\n",
    "\n",
    "runs_df = results_to_dataframe(results)\n",
    "# Show min, max, mean, stddev of each column\n",
    "log.info(f'Summary statistics for all {len(runs_df)} runs:')\n",
    "display(runs_df.describe().loc[['min', 'max', 'mean', 'std']].style.format(precision=4))\n",
    "\n",
    "print('Correlation of reconstruction error vs. similarity to anchor')\n",
    "viz.plot_boxplot(runs_df['score'], ylabel='', xlim=(None, 1), tags=('score',))\n",
    "\n",
    "print('Reconstruction loss')\n",
    "viz.plot_boxplot(runs_df['val_recon'], ylabel='', log_scale=True, tags=('val_recon',))\n",
    "\n",
    "print('Anchor loss')\n",
    "viz.plot_boxplot(runs_df['val_anchor'], ylabel='', log_scale=True, tags=('val_anchor',))"
   ]
  },
  {
   "cell_type": "markdown",
   "id": "b6153ea2",
   "metadata": {},
   "source": [
    "Select the best runs from the Pareto front of non-dominated runs, optimizing for both validation loss and score."
   ]
  },
  {
   "cell_type": "code",
   "execution_count": 10,
   "id": "d088f550",
   "metadata": {},
   "outputs": [
    {
     "name": "stdout",
     "output_type": "stream",
     "text": [
      "I 403.6 no.2.9.1:Best of 22 non-dominated runs (Pareto front):\n"
     ]
    },
    {
     "data": {
      "text/html": [
       "<style type=\"text/css\">\n",
       "</style>\n",
       "<table id=\"T_5beb0\">\n",
       "  <thead>\n",
       "    <tr>\n",
       "      <th class=\"blank level0\" >&nbsp;</th>\n",
       "      <th id=\"T_5beb0_level0_col0\" class=\"col_heading level0 col0\" >seed</th>\n",
       "      <th id=\"T_5beb0_level0_col1\" class=\"col_heading level0 col1\" >wandb url</th>\n",
       "      <th id=\"T_5beb0_level0_col2\" class=\"col_heading level0 col2\" >score</th>\n",
       "      <th id=\"T_5beb0_level0_col3\" class=\"col_heading level0 col3\" >val_recon</th>\n",
       "      <th id=\"T_5beb0_level0_col4\" class=\"col_heading level0 col4\" >val_anchor</th>\n",
       "      <th id=\"T_5beb0_level0_col5\" class=\"col_heading level0 col5\" >val_anti-anchor</th>\n",
       "      <th id=\"T_5beb0_level0_col6\" class=\"col_heading level0 col6\" >labels/n_total</th>\n",
       "      <th id=\"T_5beb0_level0_col7\" class=\"col_heading level0 col7\" >labels/n/_any</th>\n",
       "      <th id=\"T_5beb0_level0_col8\" class=\"col_heading level0 col8\" >labels/n/red</th>\n",
       "      <th id=\"T_5beb0_level0_col9\" class=\"col_heading level0 col9\" >val_loss</th>\n",
       "      <th id=\"T_5beb0_level0_col10\" class=\"col_heading level0 col10\" >_runtime</th>\n",
       "    </tr>\n",
       "  </thead>\n",
       "  <tbody>\n",
       "    <tr>\n",
       "      <th id=\"T_5beb0_level0_row0\" class=\"row_heading level0 row0\" >33</th>\n",
       "      <td id=\"T_5beb0_row0_col0\" class=\"data row0 col0\" >33</td>\n",
       "      <td id=\"T_5beb0_row0_col1\" class=\"data row0 col1\" ><a href=\"https://wandb.ai/z0r/ex-preppy/runs/44c6iade\" target=\"_blank\">https://wandb.ai/z0r/ex-preppy/runs/44c6iade</a></td>\n",
       "      <td id=\"T_5beb0_row0_col2\" class=\"data row0 col2\" >0.9848</td>\n",
       "      <td id=\"T_5beb0_row0_col3\" class=\"data row0 col3\" >0.0000</td>\n",
       "      <td id=\"T_5beb0_row0_col4\" class=\"data row0 col4\" >0.0033</td>\n",
       "      <td id=\"T_5beb0_row0_col5\" class=\"data row0 col5\" >0.0001</td>\n",
       "      <td id=\"T_5beb0_row0_col6\" class=\"data row0 col6\" >96064</td>\n",
       "      <td id=\"T_5beb0_row0_col7\" class=\"data row0 col7\" >75</td>\n",
       "      <td id=\"T_5beb0_row0_col8\" class=\"data row0 col8\" >75</td>\n",
       "      <td id=\"T_5beb0_row0_col9\" class=\"data row0 col9\" >0.0000</td>\n",
       "      <td id=\"T_5beb0_row0_col10\" class=\"data row0 col10\" >108.2703</td>\n",
       "    </tr>\n",
       "    <tr>\n",
       "      <th id=\"T_5beb0_level0_row1\" class=\"row_heading level0 row1\" >45</th>\n",
       "      <td id=\"T_5beb0_row1_col0\" class=\"data row1 col0\" >45</td>\n",
       "      <td id=\"T_5beb0_row1_col1\" class=\"data row1 col1\" ><a href=\"https://wandb.ai/z0r/ex-preppy/runs/qypejhpg\" target=\"_blank\">https://wandb.ai/z0r/ex-preppy/runs/qypejhpg</a></td>\n",
       "      <td id=\"T_5beb0_row1_col2\" class=\"data row1 col2\" >0.9758</td>\n",
       "      <td id=\"T_5beb0_row1_col3\" class=\"data row1 col3\" >0.0000</td>\n",
       "      <td id=\"T_5beb0_row1_col4\" class=\"data row1 col4\" >0.0006</td>\n",
       "      <td id=\"T_5beb0_row1_col5\" class=\"data row1 col5\" >0.0000</td>\n",
       "      <td id=\"T_5beb0_row1_col6\" class=\"data row1 col6\" >96064</td>\n",
       "      <td id=\"T_5beb0_row1_col7\" class=\"data row1 col7\" >95</td>\n",
       "      <td id=\"T_5beb0_row1_col8\" class=\"data row1 col8\" >95</td>\n",
       "      <td id=\"T_5beb0_row1_col9\" class=\"data row1 col9\" >0.0000</td>\n",
       "      <td id=\"T_5beb0_row1_col10\" class=\"data row1 col10\" >52.1061</td>\n",
       "    </tr>\n",
       "    <tr>\n",
       "      <th id=\"T_5beb0_level0_row2\" class=\"row_heading level0 row2\" >15</th>\n",
       "      <td id=\"T_5beb0_row2_col0\" class=\"data row2 col0\" >15</td>\n",
       "      <td id=\"T_5beb0_row2_col1\" class=\"data row2 col1\" ><a href=\"https://wandb.ai/z0r/ex-preppy/runs/qs71wem4\" target=\"_blank\">https://wandb.ai/z0r/ex-preppy/runs/qs71wem4</a></td>\n",
       "      <td id=\"T_5beb0_row2_col2\" class=\"data row2 col2\" >0.9715</td>\n",
       "      <td id=\"T_5beb0_row2_col3\" class=\"data row2 col3\" >0.0000</td>\n",
       "      <td id=\"T_5beb0_row2_col4\" class=\"data row2 col4\" >0.0011</td>\n",
       "      <td id=\"T_5beb0_row2_col5\" class=\"data row2 col5\" >0.0003</td>\n",
       "      <td id=\"T_5beb0_row2_col6\" class=\"data row2 col6\" >96064</td>\n",
       "      <td id=\"T_5beb0_row2_col7\" class=\"data row2 col7\" >85</td>\n",
       "      <td id=\"T_5beb0_row2_col8\" class=\"data row2 col8\" >85</td>\n",
       "      <td id=\"T_5beb0_row2_col9\" class=\"data row2 col9\" >0.0000</td>\n",
       "      <td id=\"T_5beb0_row2_col10\" class=\"data row2 col10\" >124.3796</td>\n",
       "    </tr>\n",
       "    <tr>\n",
       "      <th id=\"T_5beb0_level0_row3\" class=\"row_heading level0 row3\" >28</th>\n",
       "      <td id=\"T_5beb0_row3_col0\" class=\"data row3 col0\" >28</td>\n",
       "      <td id=\"T_5beb0_row3_col1\" class=\"data row3 col1\" ><a href=\"https://wandb.ai/z0r/ex-preppy/runs/oso411l0\" target=\"_blank\">https://wandb.ai/z0r/ex-preppy/runs/oso411l0</a></td>\n",
       "      <td id=\"T_5beb0_row3_col2\" class=\"data row3 col2\" >0.9704</td>\n",
       "      <td id=\"T_5beb0_row3_col3\" class=\"data row3 col3\" >0.0000</td>\n",
       "      <td id=\"T_5beb0_row3_col4\" class=\"data row3 col4\" >0.0005</td>\n",
       "      <td id=\"T_5beb0_row3_col5\" class=\"data row3 col5\" >0.0000</td>\n",
       "      <td id=\"T_5beb0_row3_col6\" class=\"data row3 col6\" >96064</td>\n",
       "      <td id=\"T_5beb0_row3_col7\" class=\"data row3 col7\" >94</td>\n",
       "      <td id=\"T_5beb0_row3_col8\" class=\"data row3 col8\" >94</td>\n",
       "      <td id=\"T_5beb0_row3_col9\" class=\"data row3 col9\" >0.0000</td>\n",
       "      <td id=\"T_5beb0_row3_col10\" class=\"data row3 col10\" >49.5294</td>\n",
       "    </tr>\n",
       "    <tr>\n",
       "      <th id=\"T_5beb0_level0_row4\" class=\"row_heading level0 row4\" >9</th>\n",
       "      <td id=\"T_5beb0_row4_col0\" class=\"data row4 col0\" >9</td>\n",
       "      <td id=\"T_5beb0_row4_col1\" class=\"data row4 col1\" ><a href=\"https://wandb.ai/z0r/ex-preppy/runs/1whyclhd\" target=\"_blank\">https://wandb.ai/z0r/ex-preppy/runs/1whyclhd</a></td>\n",
       "      <td id=\"T_5beb0_row4_col2\" class=\"data row4 col2\" >0.9680</td>\n",
       "      <td id=\"T_5beb0_row4_col3\" class=\"data row4 col3\" >0.0000</td>\n",
       "      <td id=\"T_5beb0_row4_col4\" class=\"data row4 col4\" >0.0002</td>\n",
       "      <td id=\"T_5beb0_row4_col5\" class=\"data row4 col5\" >0.0002</td>\n",
       "      <td id=\"T_5beb0_row4_col6\" class=\"data row4 col6\" >96064</td>\n",
       "      <td id=\"T_5beb0_row4_col7\" class=\"data row4 col7\" >94</td>\n",
       "      <td id=\"T_5beb0_row4_col8\" class=\"data row4 col8\" >94</td>\n",
       "      <td id=\"T_5beb0_row4_col9\" class=\"data row4 col9\" >0.0000</td>\n",
       "      <td id=\"T_5beb0_row4_col10\" class=\"data row4 col10\" >102.4800</td>\n",
       "    </tr>\n",
       "  </tbody>\n",
       "</table>\n"
      ],
      "text/plain": [
       "<pandas.io.formats.style.Styler at 0xffff297acf50>"
      ]
     },
     "metadata": {},
     "output_type": "display_data"
    }
   ],
   "source": [
    "from ex_color.evaluation import pareto_front\n",
    "\n",
    "non_dominated = pareto_front(runs_df, minimize=['val_recon', 'val_anchor', 'val_anti-anchor'], maximize=['score'])\n",
    "log.info(f'Best of {len(non_dominated)} non-dominated runs (Pareto front):')\n",
    "display(non_dominated.sort_values(by='score', ascending=False).head(5).style.format(precision=4, hyperlinks='html'))"
   ]
  },
  {
   "cell_type": "code",
   "execution_count": 11,
   "id": "17535f5b",
   "metadata": {},
   "outputs": [
    {
     "name": "stdout",
     "output_type": "stream",
     "text": [
      "I 403.6 no.2.9.1:Loading checkpoint of best run: seed=33, score=0.9848 @ https://wandb.ai/z0r/ex-preppy/runs/44c6iade\n"
     ]
    }
   ],
   "source": [
    "from typing import cast\n",
    "\n",
    "from mini.data import load_checkpoint_from_volume\n",
    "\n",
    "best_run = results[cast(int, non_dominated['score'].idxmax())]\n",
    "log.info(f'Loading checkpoint of best run: seed={best_run.seed}, score={best_run.score:.4f} @ {best_run.url}')\n",
    "model = CNColorMLP(K, n_nonlinear=N)\n",
    "model = load_checkpoint_from_volume(model, volume, best_run.checkpoint_key)"
   ]
  },
  {
   "cell_type": "markdown",
   "id": "5438dfd0",
   "metadata": {},
   "source": [
    "## Results"
   ]
  },
  {
   "cell_type": "code",
   "execution_count": 12,
   "id": "41643004",
   "metadata": {},
   "outputs": [],
   "source": [
    "# # Generate a list of dimensions to visualize\n",
    "# from itertools import combinations\n",
    "# [\n",
    "#     (\n",
    "#         b,\n",
    "#         a,\n",
    "#         (a + 1) % 5 if (a + 1) % 5 not in (a, b) else (a + 2) % 5,\n",
    "#     )\n",
    "#     for a, b in combinations((0, 1, 2, 3, 4), 2)\n",
    "# ]"
   ]
  },
  {
   "cell_type": "code",
   "execution_count": 13,
   "id": "ea0a66b7",
   "metadata": {},
   "outputs": [],
   "source": [
    "from ex_color.evaluation import TestSet\n",
    "\n",
    "test_set = TestSet.create()"
   ]
  },
  {
   "cell_type": "code",
   "execution_count": 14,
   "id": "482e58c1",
   "metadata": {},
   "outputs": [
    {
     "data": {
      "text/html": [
       "<picture>\n",
       "  <source srcset=\"large-assets/ex-2.9.1-pred-colors-baseline.dark.png?v=YcIZtBWWiCzBgBlSI0E-Nks7kZGVjDa3vU43_UcZwB8\" media=\"(prefers-color-scheme: dark)\" />\n",
       "  <source srcset=\"large-assets/ex-2.9.1-pred-colors-baseline.png?v=YcIZtBWWiCzBgBlSI0E-Nks7kZGVjDa3vU43_UcZwB8\" media=\"(prefers-color-scheme: light)\" />\n",
       "  <img src=\"large-assets/ex-2.9.1-pred-colors-baseline.png?v=YcIZtBWWiCzBgBlSI0E-Nks7kZGVjDa3vU43_UcZwB8\" alt=\"Plot showing four slices of the HSV cube, titled &quot;Predicted colors · baseline · V vs H by S&quot;. Nominally, each slice has constant saturation, but varies in value (brightness) from top to bottom, and in hue from left to right. Each color value is represented as a square patch of that color. The outer portion of the patches shows the color as reconstructed by the model; the inner portion shows the true (input) color.\" />\n",
       "</picture>"
      ],
      "text/plain": [
       "Plot showing four slices of the HSV cube, titled \"Predicted colors · baseline · V vs H by S\". Nominally, each slice has constant saturation, but varies in value (brightness) from top to bottom, and in hue from left to right. Each color value is represented as a square patch of that color. The outer portion of the patches shows the color as reconstructed by the model; the inner portion shows the true (input) color."
      ]
     },
     "metadata": {},
     "output_type": "display_data"
    }
   ],
   "source": [
    "from IPython.display import clear_output\n",
    "\n",
    "baseline_results = test_set.evaluate(model, [], tags={'baseline'})\n",
    "clear_output()\n",
    "\n",
    "viz.plot_cube(baseline_results)\n",
    "# viz.plot_recon_loss(baseline_results)\n",
    "# viz.plot_latent_space(\n",
    "#     baseline_results,\n",
    "#     dims=[(1, 0, 2), (2, 0, 1), (3, 0, 1), (4, 1, 2), (3, 2, 4), (4, 3, 0)],\n",
    "# )"
   ]
  },
  {
   "cell_type": "markdown",
   "id": "d8b4f1dc",
   "metadata": {},
   "source": [
    "### Ablation"
   ]
  },
  {
   "cell_type": "code",
   "execution_count": 15,
   "id": "a02428ab",
   "metadata": {},
   "outputs": [
    {
     "data": {
      "text/html": [
       "<picture>\n",
       "  <source srcset=\"large-assets/ex-2.9.1-pred-colors-ablated.dark.png?v=L7BBAipvQJnueu5aQMpH_iLIiwkKUCqBa1rD0fNP3I0\" media=\"(prefers-color-scheme: dark)\" />\n",
       "  <source srcset=\"large-assets/ex-2.9.1-pred-colors-ablated.png?v=L7BBAipvQJnueu5aQMpH_iLIiwkKUCqBa1rD0fNP3I0\" media=\"(prefers-color-scheme: light)\" />\n",
       "  <img src=\"large-assets/ex-2.9.1-pred-colors-ablated.png?v=L7BBAipvQJnueu5aQMpH_iLIiwkKUCqBa1rD0fNP3I0\" alt=\"Plot showing four slices of the HSV cube, titled &quot;Predicted colors · ablated · V vs H by S&quot;. Nominally, each slice has constant saturation, but varies in value (brightness) from top to bottom, and in hue from left to right. Each color value is represented as a square patch of that color. The outer portion of the patches shows the color as reconstructed by the model; the inner portion shows the true (input) color.\" />\n",
       "</picture>"
      ],
      "text/plain": [
       "Plot showing four slices of the HSV cube, titled \"Predicted colors · ablated · V vs H by S\". Nominally, each slice has constant saturation, but varies in value (brightness) from top to bottom, and in hue from left to right. Each color value is represented as a square patch of that color. The outer portion of the patches shows the color as reconstructed by the model; the inner portion shows the true (input) color."
      ]
     },
     "metadata": {},
     "output_type": "display_data"
    }
   ],
   "source": [
    "from IPython.display import clear_output\n",
    "from ex_color.surgery import ablate\n",
    "\n",
    "ablated_model = ablate(model, 'bottleneck', [0])\n",
    "ablation_results = test_set.evaluate(ablated_model, [], tags={'ablated'})\n",
    "clear_output()\n",
    "\n",
    "viz.plot_cube(ablation_results)\n",
    "# viz.plot_recon_loss(ablation_results)\n",
    "# viz.plot_latent_space(\n",
    "#     ablation_results,\n",
    "#     dims=[(1, 0, 2), (2, 0, 1), (3, 0, 1), (4, 1, 2), (3, 2, 4), (4, 3, 0)],\n",
    "# )"
   ]
  },
  {
   "cell_type": "markdown",
   "id": "c6061e48",
   "metadata": {},
   "source": [
    "### Pruning"
   ]
  },
  {
   "cell_type": "code",
   "execution_count": 16,
   "id": "187c5a73",
   "metadata": {},
   "outputs": [
    {
     "data": {
      "text/html": [
       "<picture>\n",
       "  <source srcset=\"large-assets/ex-2.9.1-pred-colors-pruned.dark.png?v=1FkFe6CYrIN6sr4HXUakT2JMEqEBRuOVeKV7CvKVx-Q\" media=\"(prefers-color-scheme: dark)\" />\n",
       "  <source srcset=\"large-assets/ex-2.9.1-pred-colors-pruned.png?v=1FkFe6CYrIN6sr4HXUakT2JMEqEBRuOVeKV7CvKVx-Q\" media=\"(prefers-color-scheme: light)\" />\n",
       "  <img src=\"large-assets/ex-2.9.1-pred-colors-pruned.png?v=1FkFe6CYrIN6sr4HXUakT2JMEqEBRuOVeKV7CvKVx-Q\" alt=\"Plot showing four slices of the HSV cube, titled &quot;Predicted colors · pruned · V vs H by S&quot;. Nominally, each slice has constant saturation, but varies in value (brightness) from top to bottom, and in hue from left to right. Each color value is represented as a square patch of that color. The outer portion of the patches shows the color as reconstructed by the model; the inner portion shows the true (input) color.\" />\n",
       "</picture>"
      ],
      "text/plain": [
       "Plot showing four slices of the HSV cube, titled \"Predicted colors · pruned · V vs H by S\". Nominally, each slice has constant saturation, but varies in value (brightness) from top to bottom, and in hue from left to right. Each color value is represented as a square patch of that color. The outer portion of the patches shows the color as reconstructed by the model; the inner portion shows the true (input) color."
      ]
     },
     "metadata": {},
     "output_type": "display_data"
    }
   ],
   "source": [
    "from IPython.display import clear_output\n",
    "\n",
    "from ex_color.surgery import prune\n",
    "\n",
    "pruned_model = prune(model, 'bottleneck', [0])\n",
    "pruned_results = test_set.evaluate(pruned_model, [], tags={'pruned'})\n",
    "clear_output()\n",
    "\n",
    "viz.plot_cube(pruned_results)\n",
    "# viz.plot_recon_loss(pruned_results)\n",
    "# viz.plot_latent_space(\n",
    "#     pruned_results,\n",
    "#     dims=[(0, None, 1), (1, None, 0), (2, None, 0), (3, 0, 1), (2, 1, 3), (3, 2, None)],\n",
    "# )"
   ]
  },
  {
   "cell_type": "markdown",
   "id": "3e88c807",
   "metadata": {},
   "source": [
    "### Suppression\n",
    "\n",
    "Included for comparison/completeness, but this model was not really designed for it."
   ]
  },
  {
   "cell_type": "code",
   "execution_count": 17,
   "id": "1fbb2051",
   "metadata": {},
   "outputs": [
    {
     "data": {
      "text/html": [
       "<picture>\n",
       "  <source srcset=\"large-assets/ex-2.9.1-pred-colors-suppression.dark.png?v=uOKur9mAhKdHkGES85RJ5QAy4jo83sHL2aU55TuuqMM\" media=\"(prefers-color-scheme: dark)\" />\n",
       "  <source srcset=\"large-assets/ex-2.9.1-pred-colors-suppression.png?v=uOKur9mAhKdHkGES85RJ5QAy4jo83sHL2aU55TuuqMM\" media=\"(prefers-color-scheme: light)\" />\n",
       "  <img src=\"large-assets/ex-2.9.1-pred-colors-suppression.png?v=uOKur9mAhKdHkGES85RJ5QAy4jo83sHL2aU55TuuqMM\" alt=\"Plot showing four slices of the HSV cube, titled &quot;Predicted colors · suppression · V vs H by S&quot;. Nominally, each slice has constant saturation, but varies in value (brightness) from top to bottom, and in hue from left to right. Each color value is represented as a square patch of that color. The outer portion of the patches shows the color as reconstructed by the model; the inner portion shows the true (input) color.\" />\n",
       "</picture>"
      ],
      "text/plain": [
       "Plot showing four slices of the HSV cube, titled \"Predicted colors · suppression · V vs H by S\". Nominally, each slice has constant saturation, but varies in value (brightness) from top to bottom, and in hue from left to right. Each color value is represented as a square patch of that color. The outer portion of the patches shows the color as reconstructed by the model; the inner portion shows the true (input) color."
      ]
     },
     "metadata": {},
     "output_type": "display_data"
    }
   ],
   "source": [
    "from math import cos, radians\n",
    "from IPython.display import clear_output\n",
    "\n",
    "from ex_color.intervention import Suppression, BoundedFalloff, InterventionConfig\n",
    "\n",
    "\n",
    "falloff = BoundedFalloff(\n",
    "    cos(radians(90)),  # cos(max_angle)\n",
    "    1,  # completely squash fully-aligned vectors\n",
    "    # 2,  # soft rim, sharp hub\n",
    "    0,\n",
    ")\n",
    "suppression = InterventionConfig(\n",
    "    apply=Suppression(torch.tensor(RED), falloff),\n",
    "    layer_affinities=['bottleneck'],\n",
    ")\n",
    "suppression_results = test_set.evaluate(model, [suppression], tags={'suppression'})\n",
    "clear_output()\n",
    "\n",
    "viz.plot_cube(suppression_results)\n",
    "# viz.plot_recon_loss(suppression_results)\n",
    "# viz.plot_latent_space(\n",
    "#     suppression_results,\n",
    "#     dims=[(1, 0, 2), (2, 0, 1), (3, 0, 1), (4, 1, 2), (3, 2, 4), (4, 3, 0)],\n",
    "# )"
   ]
  },
  {
   "cell_type": "code",
   "execution_count": 29,
   "id": "cd20e021",
   "metadata": {},
   "outputs": [
    {
     "name": "stdout",
     "output_type": "stream",
     "text": [
      "Baseline\n"
     ]
    },
    {
     "data": {
      "text/html": [
       "<picture>\n",
       "  <source srcset=\"large-assets/ex-2.9.1-results-baseline.dark.png?v=zi3OpaE5qc-z6e4HxYjzRpwfHPz1_mb60yCqcVRwQOs\" media=\"(prefers-color-scheme: dark)\" />\n",
       "  <source srcset=\"large-assets/ex-2.9.1-results-baseline.png?v=zi3OpaE5qc-z6e4HxYjzRpwfHPz1_mb60yCqcVRwQOs\" media=\"(prefers-color-scheme: light)\" />\n",
       "  <img src=\"large-assets/ex-2.9.1-results-baseline.png?v=zi3OpaE5qc-z6e4HxYjzRpwfHPz1_mb60yCqcVRwQOs\" alt=\"Composite figure with two latent panels (top), a color slice (middle), and a loss chart (bottom).\" />\n",
       "</picture>"
      ],
      "text/plain": [
       "Composite figure with two latent panels (top), a color slice (middle), and a loss chart (bottom)."
      ]
     },
     "metadata": {},
     "output_type": "display_data"
    },
    {
     "name": "stdout",
     "output_type": "stream",
     "text": [
      "Ablation\n"
     ]
    },
    {
     "data": {
      "text/html": [
       "<picture>\n",
       "  <source srcset=\"large-assets/ex-2.9.1-results-ablated.dark.png?v=9lD5_z_DrfyE9SsX95I2oW7M1MklkH4fFeqkMjJjOFo\" media=\"(prefers-color-scheme: dark)\" />\n",
       "  <source srcset=\"large-assets/ex-2.9.1-results-ablated.png?v=9lD5_z_DrfyE9SsX95I2oW7M1MklkH4fFeqkMjJjOFo\" media=\"(prefers-color-scheme: light)\" />\n",
       "  <img src=\"large-assets/ex-2.9.1-results-ablated.png?v=9lD5_z_DrfyE9SsX95I2oW7M1MklkH4fFeqkMjJjOFo\" alt=\"Composite figure with two latent panels (top), a color slice (middle), and a loss chart (bottom).\" />\n",
       "</picture>"
      ],
      "text/plain": [
       "Composite figure with two latent panels (top), a color slice (middle), and a loss chart (bottom)."
      ]
     },
     "metadata": {},
     "output_type": "display_data"
    },
    {
     "name": "stdout",
     "output_type": "stream",
     "text": [
      "Pruned\n"
     ]
    },
    {
     "data": {
      "text/html": [
       "<picture>\n",
       "  <source srcset=\"large-assets/ex-2.9.1-results-pruned.dark.png?v=KLNBSjmKm189e0UZFLRQyrZM6IJp6VuVOoYRQFGRwQM\" media=\"(prefers-color-scheme: dark)\" />\n",
       "  <source srcset=\"large-assets/ex-2.9.1-results-pruned.png?v=KLNBSjmKm189e0UZFLRQyrZM6IJp6VuVOoYRQFGRwQM\" media=\"(prefers-color-scheme: light)\" />\n",
       "  <img src=\"large-assets/ex-2.9.1-results-pruned.png?v=KLNBSjmKm189e0UZFLRQyrZM6IJp6VuVOoYRQFGRwQM\" alt=\"Composite figure with two latent panels (top), a color slice (middle), and a loss chart (bottom).\" />\n",
       "</picture>"
      ],
      "text/plain": [
       "Composite figure with two latent panels (top), a color slice (middle), and a loss chart (bottom)."
      ]
     },
     "metadata": {},
     "output_type": "display_data"
    },
    {
     "name": "stdout",
     "output_type": "stream",
     "text": [
      "Suppression\n"
     ]
    },
    {
     "data": {
      "text/html": [
       "<picture>\n",
       "  <source srcset=\"large-assets/ex-2.9.1-results-suppression.dark.png?v=PMXbPhfJ-WOpUj87s5NyDyjjU82W0wfVQuXtRwMyBCU\" media=\"(prefers-color-scheme: dark)\" />\n",
       "  <source srcset=\"large-assets/ex-2.9.1-results-suppression.png?v=PMXbPhfJ-WOpUj87s5NyDyjjU82W0wfVQuXtRwMyBCU\" media=\"(prefers-color-scheme: light)\" />\n",
       "  <img src=\"large-assets/ex-2.9.1-results-suppression.png?v=PMXbPhfJ-WOpUj87s5NyDyjjU82W0wfVQuXtRwMyBCU\" alt=\"Composite figure with two latent panels (top), a color slice (middle), and a loss chart (bottom).\" />\n",
       "</picture>"
      ],
      "text/plain": [
       "Composite figure with two latent panels (top), a color slice (middle), and a loss chart (bottom)."
      ]
     },
     "metadata": {},
     "output_type": "display_data"
    }
   ],
   "source": [
    "import numpy as np\n",
    "from ex_color.vis.helpers import ThemedAnnotation\n",
    "\n",
    "\n",
    "max_error = np.max(\n",
    "    [\n",
    "        baseline_results.loss_cube['MSE'],\n",
    "        ablation_results.loss_cube['MSE'],\n",
    "        pruned_results.loss_cube['MSE'],\n",
    "    ]\n",
    ")\n",
    "\n",
    "dims = ((3, 0, 1), (1, 2, 0))\n",
    "pruned_dims = ((2, None, 0), (0, 1, None))\n",
    "\n",
    "print('Baseline')\n",
    "viz.plot_stacked_results(\n",
    "    baseline_results,\n",
    "    latent_dims=dims,\n",
    "    max_error=max_error,\n",
    ")\n",
    "\n",
    "print('Ablation')\n",
    "viz.plot_stacked_results(\n",
    "    ablation_results,\n",
    "    latent_dims=dims,\n",
    "    max_error=max_error,\n",
    ")\n",
    "\n",
    "print('Pruned')\n",
    "viz.plot_stacked_results(\n",
    "    pruned_results,\n",
    "    latent_dims=pruned_dims,\n",
    "    max_error=max_error,\n",
    ")\n",
    "\n",
    "print('Suppression')\n",
    "viz.plot_stacked_results(\n",
    "    suppression_results,\n",
    "    latent_dims=dims,\n",
    "    max_error=max_error,\n",
    "    latent_annotations=[\n",
    "        ThemedAnnotation(direction=RED, angle=2 * (np.pi / 2 - falloff.a), dashed=True),\n",
    "    ],\n",
    ")"
   ]
  },
  {
   "cell_type": "code",
   "execution_count": 19,
   "id": "e988d618",
   "metadata": {},
   "outputs": [
    {
     "data": {
      "text/html": [
       "<style type=\"text/css\">\n",
       "</style>\n",
       "<table id=\"T_67220\">\n",
       "  <thead>\n",
       "    <tr>\n",
       "      <th id=\"T_67220_level0_col0\" class=\"col_heading level0 col0\" >Name</th>\n",
       "      <th id=\"T_67220_level0_col1\" class=\"col_heading level0 col1\" >RGB</th>\n",
       "      <th id=\"T_67220_level0_col3\" class=\"col_heading level0 col3\" >Baseline</th>\n",
       "      <th id=\"T_67220_level0_col4\" class=\"col_heading level0 col4\" >Ablated</th>\n",
       "      <th id=\"T_67220_level0_col5\" class=\"col_heading level0 col5\" >Δ Abl</th>\n",
       "      <th id=\"T_67220_level0_col6\" class=\"col_heading level0 col6\" >Pruned</th>\n",
       "      <th id=\"T_67220_level0_col7\" class=\"col_heading level0 col7\" >Δ Pru</th>\n",
       "      <th id=\"T_67220_level0_col8\" class=\"col_heading level0 col8\" >Suppression</th>\n",
       "      <th id=\"T_67220_level0_col9\" class=\"col_heading level0 col9\" >Δ Sup</th>\n",
       "    </tr>\n",
       "  </thead>\n",
       "  <tbody>\n",
       "    <tr>\n",
       "      <td id=\"T_67220_row0_col0\" class=\"data row0 col0\" >red</td>\n",
       "      <td id=\"T_67220_row0_col1\" class=\"data row0 col1\" ><div style=\"background-color: #ff0000; width: 1em; height: 1em; display: inline-block; border: 1px solid #8888;\"></div></td>\n",
       "      <td id=\"T_67220_row0_col3\" class=\"data row0 col3\" >0.000</td>\n",
       "      <td id=\"T_67220_row0_col4\" class=\"data row0 col4\" >0.343</td>\n",
       "      <td id=\"T_67220_row0_col5\" class=\"data row0 col5\" >+0.343</td>\n",
       "      <td id=\"T_67220_row0_col6\" class=\"data row0 col6\" >0.343</td>\n",
       "      <td id=\"T_67220_row0_col7\" class=\"data row0 col7\" >+0.343</td>\n",
       "      <td id=\"T_67220_row0_col8\" class=\"data row0 col8\" >0.213</td>\n",
       "      <td id=\"T_67220_row0_col9\" class=\"data row0 col9\" >+0.213</td>\n",
       "    </tr>\n",
       "    <tr>\n",
       "      <td id=\"T_67220_row1_col0\" class=\"data row1 col0\" >orange</td>\n",
       "      <td id=\"T_67220_row1_col1\" class=\"data row1 col1\" ><div style=\"background-color: #ff7f00; width: 1em; height: 1em; display: inline-block; border: 1px solid #8888;\"></div></td>\n",
       "      <td id=\"T_67220_row1_col3\" class=\"data row1 col3\" >0.000</td>\n",
       "      <td id=\"T_67220_row1_col4\" class=\"data row1 col4\" >0.143</td>\n",
       "      <td id=\"T_67220_row1_col5\" class=\"data row1 col5\" >+0.143</td>\n",
       "      <td id=\"T_67220_row1_col6\" class=\"data row1 col6\" >0.143</td>\n",
       "      <td id=\"T_67220_row1_col7\" class=\"data row1 col7\" >+0.143</td>\n",
       "      <td id=\"T_67220_row1_col8\" class=\"data row1 col8\" >0.128</td>\n",
       "      <td id=\"T_67220_row1_col9\" class=\"data row1 col9\" >+0.128</td>\n",
       "    </tr>\n",
       "    <tr>\n",
       "      <td id=\"T_67220_row2_col0\" class=\"data row2 col0\" >yellow</td>\n",
       "      <td id=\"T_67220_row2_col1\" class=\"data row2 col1\" ><div style=\"background-color: #ffff00; width: 1em; height: 1em; display: inline-block; border: 1px solid #8888;\"></div></td>\n",
       "      <td id=\"T_67220_row2_col3\" class=\"data row2 col3\" >0.000</td>\n",
       "      <td id=\"T_67220_row2_col4\" class=\"data row2 col4\" >0.024</td>\n",
       "      <td id=\"T_67220_row2_col5\" class=\"data row2 col5\" >+0.024</td>\n",
       "      <td id=\"T_67220_row2_col6\" class=\"data row2 col6\" >0.024</td>\n",
       "      <td id=\"T_67220_row2_col7\" class=\"data row2 col7\" >+0.024</td>\n",
       "      <td id=\"T_67220_row2_col8\" class=\"data row2 col8\" >0.036</td>\n",
       "      <td id=\"T_67220_row2_col9\" class=\"data row2 col9\" >+0.036</td>\n",
       "    </tr>\n",
       "    <tr>\n",
       "      <td id=\"T_67220_row3_col0\" class=\"data row3 col0\" >lime</td>\n",
       "      <td id=\"T_67220_row3_col1\" class=\"data row3 col1\" ><div style=\"background-color: #7fff00; width: 1em; height: 1em; display: inline-block; border: 1px solid #8888;\"></div></td>\n",
       "      <td id=\"T_67220_row3_col3\" class=\"data row3 col3\" >0.000</td>\n",
       "      <td id=\"T_67220_row3_col4\" class=\"data row3 col4\" >0.000</td>\n",
       "      <td id=\"T_67220_row3_col5\" class=\"data row3 col5\" >+0.000</td>\n",
       "      <td id=\"T_67220_row3_col6\" class=\"data row3 col6\" >0.000</td>\n",
       "      <td id=\"T_67220_row3_col7\" class=\"data row3 col7\" >+0.000</td>\n",
       "      <td id=\"T_67220_row3_col8\" class=\"data row3 col8\" >0.000</td>\n",
       "      <td id=\"T_67220_row3_col9\" class=\"data row3 col9\" >+0.000</td>\n",
       "    </tr>\n",
       "    <tr>\n",
       "      <td id=\"T_67220_row4_col0\" class=\"data row4 col0\" >green</td>\n",
       "      <td id=\"T_67220_row4_col1\" class=\"data row4 col1\" ><div style=\"background-color: #00ff00; width: 1em; height: 1em; display: inline-block; border: 1px solid #8888;\"></div></td>\n",
       "      <td id=\"T_67220_row4_col3\" class=\"data row4 col3\" >0.000</td>\n",
       "      <td id=\"T_67220_row4_col4\" class=\"data row4 col4\" >0.001</td>\n",
       "      <td id=\"T_67220_row4_col5\" class=\"data row4 col5\" >+0.001</td>\n",
       "      <td id=\"T_67220_row4_col6\" class=\"data row4 col6\" >0.001</td>\n",
       "      <td id=\"T_67220_row4_col7\" class=\"data row4 col7\" >+0.001</td>\n",
       "      <td id=\"T_67220_row4_col8\" class=\"data row4 col8\" >0.001</td>\n",
       "      <td id=\"T_67220_row4_col9\" class=\"data row4 col9\" >+0.001</td>\n",
       "    </tr>\n",
       "    <tr>\n",
       "      <td id=\"T_67220_row5_col0\" class=\"data row5 col0\" >teal</td>\n",
       "      <td id=\"T_67220_row5_col1\" class=\"data row5 col1\" ><div style=\"background-color: #00ff7f; width: 1em; height: 1em; display: inline-block; border: 1px solid #8888;\"></div></td>\n",
       "      <td id=\"T_67220_row5_col3\" class=\"data row5 col3\" >0.000</td>\n",
       "      <td id=\"T_67220_row5_col4\" class=\"data row5 col4\" >0.000</td>\n",
       "      <td id=\"T_67220_row5_col5\" class=\"data row5 col5\" >+0.000</td>\n",
       "      <td id=\"T_67220_row5_col6\" class=\"data row5 col6\" >0.000</td>\n",
       "      <td id=\"T_67220_row5_col7\" class=\"data row5 col7\" >+0.000</td>\n",
       "      <td id=\"T_67220_row5_col8\" class=\"data row5 col8\" >0.000</td>\n",
       "      <td id=\"T_67220_row5_col9\" class=\"data row5 col9\" >+0.000</td>\n",
       "    </tr>\n",
       "    <tr>\n",
       "      <td id=\"T_67220_row6_col0\" class=\"data row6 col0\" >cyan</td>\n",
       "      <td id=\"T_67220_row6_col1\" class=\"data row6 col1\" ><div style=\"background-color: #00ffff; width: 1em; height: 1em; display: inline-block; border: 1px solid #8888;\"></div></td>\n",
       "      <td id=\"T_67220_row6_col3\" class=\"data row6 col3\" >0.000</td>\n",
       "      <td id=\"T_67220_row6_col4\" class=\"data row6 col4\" >0.000</td>\n",
       "      <td id=\"T_67220_row6_col5\" class=\"data row6 col5\" >-0.000</td>\n",
       "      <td id=\"T_67220_row6_col6\" class=\"data row6 col6\" >0.000</td>\n",
       "      <td id=\"T_67220_row6_col7\" class=\"data row6 col7\" >-0.000</td>\n",
       "      <td id=\"T_67220_row6_col8\" class=\"data row6 col8\" >0.000</td>\n",
       "      <td id=\"T_67220_row6_col9\" class=\"data row6 col9\" >-0.000</td>\n",
       "    </tr>\n",
       "    <tr>\n",
       "      <td id=\"T_67220_row7_col0\" class=\"data row7 col0\" >azure</td>\n",
       "      <td id=\"T_67220_row7_col1\" class=\"data row7 col1\" ><div style=\"background-color: #007fff; width: 1em; height: 1em; display: inline-block; border: 1px solid #8888;\"></div></td>\n",
       "      <td id=\"T_67220_row7_col3\" class=\"data row7 col3\" >0.000</td>\n",
       "      <td id=\"T_67220_row7_col4\" class=\"data row7 col4\" >0.000</td>\n",
       "      <td id=\"T_67220_row7_col5\" class=\"data row7 col5\" >+0.000</td>\n",
       "      <td id=\"T_67220_row7_col6\" class=\"data row7 col6\" >0.000</td>\n",
       "      <td id=\"T_67220_row7_col7\" class=\"data row7 col7\" >+0.000</td>\n",
       "      <td id=\"T_67220_row7_col8\" class=\"data row7 col8\" >0.000</td>\n",
       "      <td id=\"T_67220_row7_col9\" class=\"data row7 col9\" >+0.000</td>\n",
       "    </tr>\n",
       "    <tr>\n",
       "      <td id=\"T_67220_row8_col0\" class=\"data row8 col0\" >blue</td>\n",
       "      <td id=\"T_67220_row8_col1\" class=\"data row8 col1\" ><div style=\"background-color: #0000ff; width: 1em; height: 1em; display: inline-block; border: 1px solid #8888;\"></div></td>\n",
       "      <td id=\"T_67220_row8_col3\" class=\"data row8 col3\" >0.000</td>\n",
       "      <td id=\"T_67220_row8_col4\" class=\"data row8 col4\" >0.000</td>\n",
       "      <td id=\"T_67220_row8_col5\" class=\"data row8 col5\" >+0.000</td>\n",
       "      <td id=\"T_67220_row8_col6\" class=\"data row8 col6\" >0.000</td>\n",
       "      <td id=\"T_67220_row8_col7\" class=\"data row8 col7\" >+0.000</td>\n",
       "      <td id=\"T_67220_row8_col8\" class=\"data row8 col8\" >0.000</td>\n",
       "      <td id=\"T_67220_row8_col9\" class=\"data row8 col9\" >+0.000</td>\n",
       "    </tr>\n",
       "    <tr>\n",
       "      <td id=\"T_67220_row9_col0\" class=\"data row9 col0\" >purple</td>\n",
       "      <td id=\"T_67220_row9_col1\" class=\"data row9 col1\" ><div style=\"background-color: #7f00ff; width: 1em; height: 1em; display: inline-block; border: 1px solid #8888;\"></div></td>\n",
       "      <td id=\"T_67220_row9_col3\" class=\"data row9 col3\" >0.000</td>\n",
       "      <td id=\"T_67220_row9_col4\" class=\"data row9 col4\" >0.000</td>\n",
       "      <td id=\"T_67220_row9_col5\" class=\"data row9 col5\" >+0.000</td>\n",
       "      <td id=\"T_67220_row9_col6\" class=\"data row9 col6\" >0.000</td>\n",
       "      <td id=\"T_67220_row9_col7\" class=\"data row9 col7\" >+0.000</td>\n",
       "      <td id=\"T_67220_row9_col8\" class=\"data row9 col8\" >0.000</td>\n",
       "      <td id=\"T_67220_row9_col9\" class=\"data row9 col9\" >+0.000</td>\n",
       "    </tr>\n",
       "    <tr>\n",
       "      <td id=\"T_67220_row10_col0\" class=\"data row10 col0\" >magenta</td>\n",
       "      <td id=\"T_67220_row10_col1\" class=\"data row10 col1\" ><div style=\"background-color: #ff00ff; width: 1em; height: 1em; display: inline-block; border: 1px solid #8888;\"></div></td>\n",
       "      <td id=\"T_67220_row10_col3\" class=\"data row10 col3\" >0.000</td>\n",
       "      <td id=\"T_67220_row10_col4\" class=\"data row10 col4\" >0.009</td>\n",
       "      <td id=\"T_67220_row10_col5\" class=\"data row10 col5\" >+0.009</td>\n",
       "      <td id=\"T_67220_row10_col6\" class=\"data row10 col6\" >0.009</td>\n",
       "      <td id=\"T_67220_row10_col7\" class=\"data row10 col7\" >+0.009</td>\n",
       "      <td id=\"T_67220_row10_col8\" class=\"data row10 col8\" >0.011</td>\n",
       "      <td id=\"T_67220_row10_col9\" class=\"data row10 col9\" >+0.011</td>\n",
       "    </tr>\n",
       "    <tr>\n",
       "      <td id=\"T_67220_row11_col0\" class=\"data row11 col0\" >pink</td>\n",
       "      <td id=\"T_67220_row11_col1\" class=\"data row11 col1\" ><div style=\"background-color: #ff007f; width: 1em; height: 1em; display: inline-block; border: 1px solid #8888;\"></div></td>\n",
       "      <td id=\"T_67220_row11_col3\" class=\"data row11 col3\" >0.000</td>\n",
       "      <td id=\"T_67220_row11_col4\" class=\"data row11 col4\" >0.124</td>\n",
       "      <td id=\"T_67220_row11_col5\" class=\"data row11 col5\" >+0.124</td>\n",
       "      <td id=\"T_67220_row11_col6\" class=\"data row11 col6\" >0.124</td>\n",
       "      <td id=\"T_67220_row11_col7\" class=\"data row11 col7\" >+0.124</td>\n",
       "      <td id=\"T_67220_row11_col8\" class=\"data row11 col8\" >0.103</td>\n",
       "      <td id=\"T_67220_row11_col9\" class=\"data row11 col9\" >+0.103</td>\n",
       "    </tr>\n",
       "    <tr>\n",
       "      <td id=\"T_67220_row12_col0\" class=\"data row12 col0\" >black</td>\n",
       "      <td id=\"T_67220_row12_col1\" class=\"data row12 col1\" ><div style=\"background-color: #000000; width: 1em; height: 1em; display: inline-block; border: 1px solid #8888;\"></div></td>\n",
       "      <td id=\"T_67220_row12_col3\" class=\"data row12 col3\" >0.000</td>\n",
       "      <td id=\"T_67220_row12_col4\" class=\"data row12 col4\" >0.001</td>\n",
       "      <td id=\"T_67220_row12_col5\" class=\"data row12 col5\" >+0.001</td>\n",
       "      <td id=\"T_67220_row12_col6\" class=\"data row12 col6\" >0.001</td>\n",
       "      <td id=\"T_67220_row12_col7\" class=\"data row12 col7\" >+0.001</td>\n",
       "      <td id=\"T_67220_row12_col8\" class=\"data row12 col8\" >0.001</td>\n",
       "      <td id=\"T_67220_row12_col9\" class=\"data row12 col9\" >+0.001</td>\n",
       "    </tr>\n",
       "    <tr>\n",
       "      <td id=\"T_67220_row13_col0\" class=\"data row13 col0\" >dark gray</td>\n",
       "      <td id=\"T_67220_row13_col1\" class=\"data row13 col1\" ><div style=\"background-color: #3f3f3f; width: 1em; height: 1em; display: inline-block; border: 1px solid #8888;\"></div></td>\n",
       "      <td id=\"T_67220_row13_col3\" class=\"data row13 col3\" >0.000</td>\n",
       "      <td id=\"T_67220_row13_col4\" class=\"data row13 col4\" >0.000</td>\n",
       "      <td id=\"T_67220_row13_col5\" class=\"data row13 col5\" >+0.000</td>\n",
       "      <td id=\"T_67220_row13_col6\" class=\"data row13 col6\" >0.000</td>\n",
       "      <td id=\"T_67220_row13_col7\" class=\"data row13 col7\" >+0.000</td>\n",
       "      <td id=\"T_67220_row13_col8\" class=\"data row13 col8\" >0.000</td>\n",
       "      <td id=\"T_67220_row13_col9\" class=\"data row13 col9\" >+0.000</td>\n",
       "    </tr>\n",
       "    <tr>\n",
       "      <td id=\"T_67220_row14_col0\" class=\"data row14 col0\" >gray</td>\n",
       "      <td id=\"T_67220_row14_col1\" class=\"data row14 col1\" ><div style=\"background-color: #7f7f7f; width: 1em; height: 1em; display: inline-block; border: 1px solid #8888;\"></div></td>\n",
       "      <td id=\"T_67220_row14_col3\" class=\"data row14 col3\" >0.000</td>\n",
       "      <td id=\"T_67220_row14_col4\" class=\"data row14 col4\" >0.001</td>\n",
       "      <td id=\"T_67220_row14_col5\" class=\"data row14 col5\" >+0.001</td>\n",
       "      <td id=\"T_67220_row14_col6\" class=\"data row14 col6\" >0.001</td>\n",
       "      <td id=\"T_67220_row14_col7\" class=\"data row14 col7\" >+0.001</td>\n",
       "      <td id=\"T_67220_row14_col8\" class=\"data row14 col8\" >0.001</td>\n",
       "      <td id=\"T_67220_row14_col9\" class=\"data row14 col9\" >+0.001</td>\n",
       "    </tr>\n",
       "    <tr>\n",
       "      <td id=\"T_67220_row15_col0\" class=\"data row15 col0\" >light gray</td>\n",
       "      <td id=\"T_67220_row15_col1\" class=\"data row15 col1\" ><div style=\"background-color: #bfbfbf; width: 1em; height: 1em; display: inline-block; border: 1px solid #8888;\"></div></td>\n",
       "      <td id=\"T_67220_row15_col3\" class=\"data row15 col3\" >0.000</td>\n",
       "      <td id=\"T_67220_row15_col4\" class=\"data row15 col4\" >0.002</td>\n",
       "      <td id=\"T_67220_row15_col5\" class=\"data row15 col5\" >+0.002</td>\n",
       "      <td id=\"T_67220_row15_col6\" class=\"data row15 col6\" >0.002</td>\n",
       "      <td id=\"T_67220_row15_col7\" class=\"data row15 col7\" >+0.002</td>\n",
       "      <td id=\"T_67220_row15_col8\" class=\"data row15 col8\" >0.002</td>\n",
       "      <td id=\"T_67220_row15_col9\" class=\"data row15 col9\" >+0.002</td>\n",
       "    </tr>\n",
       "    <tr>\n",
       "      <td id=\"T_67220_row16_col0\" class=\"data row16 col0\" >white</td>\n",
       "      <td id=\"T_67220_row16_col1\" class=\"data row16 col1\" ><div style=\"background-color: #ffffff; width: 1em; height: 1em; display: inline-block; border: 1px solid #8888;\"></div></td>\n",
       "      <td id=\"T_67220_row16_col3\" class=\"data row16 col3\" >0.000</td>\n",
       "      <td id=\"T_67220_row16_col4\" class=\"data row16 col4\" >0.001</td>\n",
       "      <td id=\"T_67220_row16_col5\" class=\"data row16 col5\" >+0.001</td>\n",
       "      <td id=\"T_67220_row16_col6\" class=\"data row16 col6\" >0.001</td>\n",
       "      <td id=\"T_67220_row16_col7\" class=\"data row16 col7\" >+0.001</td>\n",
       "      <td id=\"T_67220_row16_col8\" class=\"data row16 col8\" >0.001</td>\n",
       "      <td id=\"T_67220_row16_col9\" class=\"data row16 col9\" >+0.001</td>\n",
       "    </tr>\n",
       "  </tbody>\n",
       "</table>\n"
      ],
      "text/plain": [
       "<pandas.io.formats.style.Styler at 0xffff29818cd0>"
      ]
     },
     "metadata": {},
     "output_type": "display_data"
    },
    {
     "data": {
      "text/markdown": [
       "```latex\n",
       "\\begin{table}\n",
       "\\centering\n",
       "\\label{tab:placeholder}\n",
       "\\caption{Reconstruction error by color and intervention method}\n",
       "\\sisetup{\n",
       "    round-mode = places,\n",
       "    round-precision = 3,\n",
       "    table-auto-round = true,\n",
       "    % drop-zero-decimal = true,\n",
       "}\n",
       "\\begin{tabular}{l c g g g g}\n",
       "\\toprule\n",
       "\\multicolumn{2}{c}{{Color}} & \\multicolumn{1}{c}{{Baseline}} & \\multicolumn{1}{c}{{Ab}} & \\multicolumn{1}{c}{{Prun}} & \\multicolumn{1}{c}{{Suppression}} \\\\\n",
       "\\midrule\n",
       "Red        & \\swatch{FF0000} &  0.000064271 &  0.343180478 &  0.343180478 &  0.213169754 \\\\\n",
       "Orange     & \\swatch{FF7F00} &  0.000001609 &  0.143432498 &  0.143432498 &  0.127903447 \\\\\n",
       "Yellow     & \\swatch{FFFF00} &  0.000000000 &  0.024397219 &  0.024397219 &  0.036187626 \\\\\n",
       "Lime       & \\swatch{7FFF00} &  0.000002130 &  0.000427035 &  0.000427035 &  0.000435619 \\\\\n",
       "Green      & \\swatch{00FF00} &  0.000051003 &  0.000510316 &  0.000510316 &  0.000540676 \\\\\n",
       "Teal       & \\swatch{00FF7F} &  0.000004940 &  0.000167426 &  0.000167426 &  0.000167415 \\\\\n",
       "Cyan       & \\swatch{00FFFF} &  0.000028671 & -0.000028671 & -0.000028671 & -0.000028671 \\\\\n",
       "Azure      & \\swatch{007FFF} &  0.000016649 &  0.000081700 &  0.000081700 &  0.000081838 \\\\\n",
       "Blue       & \\swatch{0000FF} &  0.000035178 &  0.000045453 &  0.000045453 &  0.000045883 \\\\\n",
       "Purple     & \\swatch{7F00FF} &  0.000005335 &  0.000006142 &  0.000006142 &  0.000006121 \\\\\n",
       "Magenta    & \\swatch{FF00FF} &  0.000016997 &  0.009266702 &  0.009266702 &  0.010696145 \\\\\n",
       "Pink       & \\swatch{FF007F} &  0.000005614 &  0.124145284 &  0.124145284 &  0.103091747 \\\\\n",
       "Black      & \\swatch{000000} &  0.000007270 &  0.000540850 &  0.000540850 &  0.000568996 \\\\\n",
       "Dark gray  & \\swatch{3F3F3F} &  0.000002058 &  0.000476244 &  0.000476244 &  0.000476932 \\\\\n",
       "Gray       & \\swatch{7F7F7F} &  0.000024290 &  0.000750420 &  0.000750420 &  0.000757260 \\\\\n",
       "Light gray & \\swatch{BFBFBF} &  0.000009449 &  0.002489201 &  0.002489201 &  0.002421958 \\\\\n",
       "White      & \\swatch{FFFFFF} &  0.000004127 &  0.000617128 &  0.000617128 &  0.000634405 \\\\\n",
       "\\bottomrule\n",
       "\\end{tabular}\n",
       "\\end{table}\n",
       "```"
      ],
      "text/plain": [
       "\\begin{table}\n",
       "\\centering\n",
       "\\label{tab:placeholder}\n",
       "\\caption{Reconstruction error by color and intervention method}\n",
       "\\sisetup{\n",
       "    round-mode = places,\n",
       "    round-precision = 3,\n",
       "    table-auto-round = true,\n",
       "    % drop-zero-decimal = true,\n",
       "}\n",
       "\\begin{tabular}{l c g g g g}\n",
       "\\toprule\n",
       "\\multicolumn{2}{c}{{Color}} & \\multicolumn{1}{c}{{Baseline}} & \\multicolumn{1}{c}{{Ab}} & \\multicolumn{1}{c}{{Prun}} & \\multicolumn{1}{c}{{Suppression}} \\\\\n",
       "\\midrule\n",
       "Red        & \\swatch{FF0000} &  0.000064271 &  0.343180478 &  0.343180478 &  0.213169754 \\\\\n",
       "Orange     & \\swatch{FF7F00} &  0.000001609 &  0.143432498 &  0.143432498 &  0.127903447 \\\\\n",
       "Yellow     & \\swatch{FFFF00} &  0.000000000 &  0.024397219 &  0.024397219 &  0.036187626 \\\\\n",
       "Lime       & \\swatch{7FFF00} &  0.000002130 &  0.000427035 &  0.000427035 &  0.000435619 \\\\\n",
       "Green      & \\swatch{00FF00} &  0.000051003 &  0.000510316 &  0.000510316 &  0.000540676 \\\\\n",
       "Teal       & \\swatch{00FF7F} &  0.000004940 &  0.000167426 &  0.000167426 &  0.000167415 \\\\\n",
       "Cyan       & \\swatch{00FFFF} &  0.000028671 & -0.000028671 & -0.000028671 & -0.000028671 \\\\\n",
       "Azure      & \\swatch{007FFF} &  0.000016649 &  0.000081700 &  0.000081700 &  0.000081838 \\\\\n",
       "Blue       & \\swatch{0000FF} &  0.000035178 &  0.000045453 &  0.000045453 &  0.000045883 \\\\\n",
       "Purple     & \\swatch{7F00FF} &  0.000005335 &  0.000006142 &  0.000006142 &  0.000006121 \\\\\n",
       "Magenta    & \\swatch{FF00FF} &  0.000016997 &  0.009266702 &  0.009266702 &  0.010696145 \\\\\n",
       "Pink       & \\swatch{FF007F} &  0.000005614 &  0.124145284 &  0.124145284 &  0.103091747 \\\\\n",
       "Black      & \\swatch{000000} &  0.000007270 &  0.000540850 &  0.000540850 &  0.000568996 \\\\\n",
       "Dark gray  & \\swatch{3F3F3F} &  0.000002058 &  0.000476244 &  0.000476244 &  0.000476932 \\\\\n",
       "Gray       & \\swatch{7F7F7F} &  0.000024290 &  0.000750420 &  0.000750420 &  0.000757260 \\\\\n",
       "Light gray & \\swatch{BFBFBF} &  0.000009449 &  0.002489201 &  0.002489201 &  0.002421958 \\\\\n",
       "White      & \\swatch{FFFFFF} &  0.000004127 &  0.000617128 &  0.000617128 &  0.000634405 \\\\\n",
       "\\bottomrule\n",
       "\\end{tabular}\n",
       "\\end{table}"
      ]
     },
     "metadata": {},
     "output_type": "display_data"
    }
   ],
   "source": [
    "viz.tab_error_vs_color(baseline_results, ablation_results, pruned_results, suppression_results)\n",
    "viz.tab_error_vs_color_latex(baseline_results, ablation_results, pruned_results, suppression_results)"
   ]
  },
  {
   "cell_type": "code",
   "execution_count": 20,
   "id": "6d01e78c",
   "metadata": {},
   "outputs": [
    {
     "data": {
      "text/html": [
       "<picture>\n",
       "  <source srcset=\"large-assets/ex-2.9.1-error-vs-similarity-ablated.dark.png?v=BHQ0uZu8aPuFo1ScqEM1dzkstpdRxH9bilcL_mq212U\" media=\"(prefers-color-scheme: dark)\" />\n",
       "  <source srcset=\"large-assets/ex-2.9.1-error-vs-similarity-ablated.png?v=BHQ0uZu8aPuFo1ScqEM1dzkstpdRxH9bilcL_mq212U\" media=\"(prefers-color-scheme: light)\" />\n",
       "  <img src=\"large-assets/ex-2.9.1-error-vs-similarity-ablated.png?v=BHQ0uZu8aPuFo1ScqEM1dzkstpdRxH9bilcL_mq212U\" alt=\"Scatter plot showing reconstruction error versus similarity to red. Each point represents a color, with its position on the x-axis indicating how similar it is to pure red, and its position on the y-axis indicating the reconstruction error (mean squared error) for that color. The points are colored according to their actual color values.\" />\n",
       "</picture>"
      ],
      "text/plain": [
       "Scatter plot showing reconstruction error versus similarity to red. Each point represents a color, with its position on the x-axis indicating how similar it is to pure red, and its position on the y-axis indicating the reconstruction error (mean squared error) for that color. The points are colored according to their actual color values."
      ]
     },
     "metadata": {},
     "output_type": "display_data"
    },
    {
     "name": "stdout",
     "output_type": "stream",
     "text": [
      "MSE,sim³ ablated: r = 0.99, R²: 0.99, p = 0\n"
     ]
    },
    {
     "data": {
      "text/html": [
       "<picture>\n",
       "  <source srcset=\"large-assets/ex-2.9.1-error-vs-similarity-pruned.dark.png?v=U-Auh9BSWSmU3hxvF5kXMbQ_1OgZtFuCccoi8zorZUA\" media=\"(prefers-color-scheme: dark)\" />\n",
       "  <source srcset=\"large-assets/ex-2.9.1-error-vs-similarity-pruned.png?v=U-Auh9BSWSmU3hxvF5kXMbQ_1OgZtFuCccoi8zorZUA\" media=\"(prefers-color-scheme: light)\" />\n",
       "  <img src=\"large-assets/ex-2.9.1-error-vs-similarity-pruned.png?v=U-Auh9BSWSmU3hxvF5kXMbQ_1OgZtFuCccoi8zorZUA\" alt=\"Scatter plot showing reconstruction error versus similarity to red. Each point represents a color, with its position on the x-axis indicating how similar it is to pure red, and its position on the y-axis indicating the reconstruction error (mean squared error) for that color. The points are colored according to their actual color values.\" />\n",
       "</picture>"
      ],
      "text/plain": [
       "Scatter plot showing reconstruction error versus similarity to red. Each point represents a color, with its position on the x-axis indicating how similar it is to pure red, and its position on the y-axis indicating the reconstruction error (mean squared error) for that color. The points are colored according to their actual color values."
      ]
     },
     "metadata": {},
     "output_type": "display_data"
    },
    {
     "name": "stdout",
     "output_type": "stream",
     "text": [
      "MSE,sim³ pruned: r = 0.99, R²: 0.99, p = 0\n"
     ]
    },
    {
     "data": {
      "text/html": [
       "<picture>\n",
       "  <source srcset=\"large-assets/ex-2.9.1-error-vs-similarity-suppression.dark.png?v=Hw7s9Y-rak_vYzJ17sqOqZXM2jMmjRvZxQDwNL-n4ZA\" media=\"(prefers-color-scheme: dark)\" />\n",
       "  <source srcset=\"large-assets/ex-2.9.1-error-vs-similarity-suppression.png?v=Hw7s9Y-rak_vYzJ17sqOqZXM2jMmjRvZxQDwNL-n4ZA\" media=\"(prefers-color-scheme: light)\" />\n",
       "  <img src=\"large-assets/ex-2.9.1-error-vs-similarity-suppression.png?v=Hw7s9Y-rak_vYzJ17sqOqZXM2jMmjRvZxQDwNL-n4ZA\" alt=\"Scatter plot showing reconstruction error versus similarity to red. Each point represents a color, with its position on the x-axis indicating how similar it is to pure red, and its position on the y-axis indicating the reconstruction error (mean squared error) for that color. The points are colored according to their actual color values.\" />\n",
       "</picture>"
      ],
      "text/plain": [
       "Scatter plot showing reconstruction error versus similarity to red. Each point represents a color, with its position on the x-axis indicating how similar it is to pure red, and its position on the y-axis indicating the reconstruction error (mean squared error) for that color. The points are colored according to their actual color values."
      ]
     },
     "metadata": {},
     "output_type": "display_data"
    },
    {
     "name": "stdout",
     "output_type": "stream",
     "text": [
      "MSE,sim² suppression: r = 0.99, R²: 0.98, p = 0\n"
     ]
    }
   ],
   "source": [
    "viz.plot_error_vs_similarity(\n",
    "    ablation_results,\n",
    "    (0, 1, 1),\n",
    "    anchor_name='red',\n",
    "    power=3,\n",
    ")\n",
    "\n",
    "viz.plot_error_vs_similarity(\n",
    "    pruned_results,\n",
    "    (0, 1, 1),\n",
    "    anchor_name='red',\n",
    "    power=3,\n",
    ")\n",
    "\n",
    "viz.plot_error_vs_similarity(\n",
    "    suppression_results,\n",
    "    (0, 1, 1),\n",
    "    anchor_name='red',\n",
    "    power=2,\n",
    ")"
   ]
  }
 ],
 "metadata": {
  "kernelspec": {
   "display_name": "ex-color-transformer",
   "language": "python",
   "name": "python3"
  },
  "language_info": {
   "codemirror_mode": {
    "name": "ipython",
    "version": 3
   },
   "file_extension": ".py",
   "mimetype": "text/x-python",
   "name": "python",
   "nbconvert_exporter": "python",
   "pygments_lexer": "ipython3",
   "version": "3.13.5"
  }
 },
 "nbformat": 4,
 "nbformat_minor": 5
}
