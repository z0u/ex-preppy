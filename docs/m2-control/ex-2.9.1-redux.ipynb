{
 "cells": [
  {
   "cell_type": "markdown",
   "id": "191d5190",
   "metadata": {},
   "source": [
    "# Experiment 2.9.1: Delete only red with two repulsive regularizers\n",
    "\n",
    "This is a re-run of [Ex 2.9](./ex-2.9-delete-only-red-5d.ipynb) with more mature tooling. See the earlier notebook for discussion. Unlike 2.9, we only use one label (_red_), but unlike 2.10.1, we use both an anti-subspace and anti-anchor regularizer."
   ]
  },
  {
   "cell_type": "code",
   "execution_count": 1,
   "id": "db26371c",
   "metadata": {},
   "outputs": [],
   "source": [
    "from __future__ import annotations\n",
    "\n",
    "nbid = '2.9.1'  # ID for tagging assets\n",
    "nbname = 'Ablate red (only), 5D'\n",
    "experiment_name = f'Ex {nbid}: {nbname}'\n",
    "project = 'ex-preppy'"
   ]
  },
  {
   "cell_type": "code",
   "execution_count": 2,
   "id": "eaf0edd7",
   "metadata": {},
   "outputs": [],
   "source": [
    "# Basic setup: Logging, Experiment (Modal)\n",
    "import logging\n",
    "\n",
    "import modal\n",
    "\n",
    "from infra.requirements import freeze, project_packages\n",
    "from mini.experiment import Experiment\n",
    "from utils.logging import SimpleLoggingConfig\n",
    "\n",
    "logging_config = (\n",
    "    SimpleLoggingConfig()\n",
    "    .info('notebook', 'utils', 'mini', 'ex_color')\n",
    "    .error('matplotlib.axes')  # Silence warnings about set_aspect\n",
    ")\n",
    "logging_config.apply()\n",
    "\n",
    "# This is the logger for this notebook\n",
    "log = logging.getLogger(f'notebook.{nbid}')\n",
    "\n",
    "run = Experiment(experiment_name, project=project)\n",
    "run.image = modal.Image.debian_slim().pip_install(*freeze(all=True)).add_local_python_source(*project_packages())\n",
    "run.before_each(logging_config.apply)\n",
    "None  # prevent auto-display of this cell"
   ]
  },
  {
   "cell_type": "markdown",
   "id": "89b2028d",
   "metadata": {},
   "source": [
    "## Model parameters\n",
    "\n",
    "Like Ex 2.9, we use the following regularizers:\n",
    "\n",
    "- **Anchor:** pins `red` to $(1,0,0,0,0)$ (5D)\n",
    "- **AxisAlignedSubspace:** repels everything from dimension $1$ (with varying weight, see schedule)\n",
    "- **Separate:** angular repulsion to reduce global clumping (applied within each batch)\n",
    "\n",
    "Since we're isolating _red_, we have 5D latent embeddings and two nonlinear activation functions in the encoder and decoder, to allow the latent space to be warped more.\n",
    "\n",
    "But unlike 2.9:\n",
    "- **Anti-anchor:** has been removed, relying on anti-subspace to keep other concepts clear of the dimension to be ablated.\n",
    "- **Unitarity:** is present in this list, but we'll do a run without it too."
   ]
  },
  {
   "cell_type": "code",
   "execution_count": 3,
   "id": "ac781a07",
   "metadata": {},
   "outputs": [],
   "source": [
    "import torch\n",
    "\n",
    "from ex_color.loss import AngularAnchor, AntiAnchor, AxisAlignedSubspace, Separate, RegularizerConfig\n",
    "\n",
    "from ex_color.training import TrainingModule\n",
    "\n",
    "K = 5  # bottleneck dimensionality\n",
    "N = 2  # number of nonlinear layers\n",
    "H = 10  # hidden layer size\n",
    "RED = (1,) + (0,) * (K - 1)\n",
    "ANTI_RED = (-1,) + (0,) * (K - 1)\n",
    "assert len(RED) == len(ANTI_RED) == K\n",
    "BATCH_SIZE = 64\n",
    "CUBE_SUBDIVISIONS = 8\n",
    "NUM_RUNS = 100  # to probe seed sensitivity\n",
    "RUN_SEEDS = [i for i in range(NUM_RUNS)]\n",
    "\n",
    "reg_separate = RegularizerConfig(\n",
    "    name='separate',\n",
    "    compute_loss_term=Separate(power=100.0, shift=True),\n",
    "    label_affinities=None,\n",
    "    layer_affinities=['bottleneck'],\n",
    ")\n",
    "reg_anchor = RegularizerConfig(\n",
    "    name='anchor',\n",
    "    compute_loss_term=AngularAnchor(torch.tensor(RED, dtype=torch.float32)),\n",
    "    label_affinities={'red': 1.0},\n",
    "    layer_affinities=['bottleneck'],\n",
    "    phase=('train', 'validate'),\n",
    ")\n",
    "reg_anti_anchor = RegularizerConfig(\n",
    "    name='anti-anchor',\n",
    "    compute_loss_term=AntiAnchor(torch.tensor(ANTI_RED, dtype=torch.float32)),\n",
    "    label_affinities=None,\n",
    "    layer_affinities=['bottleneck'],\n",
    "    phase=('train', 'validate'),\n",
    ")\n",
    "reg_anti_subspace = RegularizerConfig(\n",
    "    name='anti-subspace',\n",
    "    compute_loss_term=AxisAlignedSubspace((0,), invert=True),\n",
    "    label_affinities=None,\n",
    "    layer_affinities=['bottleneck'],\n",
    ")"
   ]
  },
  {
   "cell_type": "code",
   "execution_count": 4,
   "id": "f09f0f05",
   "metadata": {},
   "outputs": [
    {
     "data": {
      "text/markdown": [
       "## Parameter schedule \n",
       "|   STEP | PHASE   |   ACTION |      lr |   separate |   anchor |   anti-anchor |   anti-subspace |\n",
       "|-------:|:--------|---------:|--------:|-----------:|---------:|--------------:|----------------:|\n",
       "|      0 | Train   |          |   1e-08 |            |      0   |          0    |           0.25  |\n",
       "|     10 |         |          |   0.01  |            |          |               |                 |\n",
       "|    248 |         |          |         |      0.01  |      0.1 |          0.05 |                 |\n",
       "|    750 |         |          |   0.1   |      0.001 |      0.1 |               |           0.003 |\n",
       "|   1425 |         |          |   0.1   |      0     |      0   |          0    |           0     |\n",
       "|   1500 |         |          |   0.05  |            |          |               |                 |"
      ],
      "text/plain": [
       "<IPython.core.display.Markdown object>"
      ]
     },
     "metadata": {},
     "output_type": "display_data"
    },
    {
     "data": {
      "text/html": [
       "<picture>\n",
       "  <source srcset=\"large-assets/ex-2.9.1-dopesheet.dark.png?v=VMWb66NpN05y7XsgElgH0Ib4U0XjX1CyZ_7shcCUXp8\" media=\"(prefers-color-scheme: dark)\" />\n",
       "  <source srcset=\"large-assets/ex-2.9.1-dopesheet.png?v=VMWb66NpN05y7XsgElgH0Ib4U0XjX1CyZ_7shcCUXp8\" media=\"(prefers-color-scheme: light)\" />\n",
       "  <img src=\"large-assets/ex-2.9.1-dopesheet.png?v=VMWb66NpN05y7XsgElgH0Ib4U0XjX1CyZ_7shcCUXp8\" alt=\"Plot showing the parameter schedule for the training run, titled &quot;&quot;. The plot has two sections: the upper section shows various regularization weights over time, and the lower section shows the learning rate over time. The x-axis represents training steps.\" />\n",
       "</picture>"
      ],
      "text/plain": [
       "Plot showing the parameter schedule for the training run, titled \"\". The plot has two sections: the upper section shows various regularization weights over time, and the lower section shows the learning rate over time. The x-axis represents training steps."
      ]
     },
     "metadata": {},
     "output_type": "display_data"
    }
   ],
   "source": [
    "from typing import cast\n",
    "\n",
    "import matplotlib.pyplot as plt\n",
    "from matplotlib.axes import Axes\n",
    "from IPython.display import display, Markdown\n",
    "\n",
    "from mini.temporal.dopesheet import Dopesheet\n",
    "from mini.temporal.timeline import Timeline\n",
    "from mini.temporal.vis import plot_timeline, realize_timeline, ParamGroup\n",
    "from utils.nb import displayer_mpl\n",
    "from utils.plt import Theme\n",
    "\n",
    "dopesheet = Dopesheet.from_csv(f'./ex-{nbid}-dopesheet.csv')\n",
    "\n",
    "display(Markdown(f\"\"\"## Parameter schedule \\n{dopesheet.to_markdown()}\"\"\"))\n",
    "\n",
    "\n",
    "def plot_dopesheet(dopesheet: Dopesheet, theme: Theme):\n",
    "    timeline = Timeline(dopesheet)\n",
    "    history_df = realize_timeline(timeline)\n",
    "    keyframes_df = dopesheet.as_df()\n",
    "\n",
    "    fig = plt.figure(figsize=(9, 3), constrained_layout=True)\n",
    "    axs = fig.subplots(2, 1, sharex=True, height_ratios=[3, 1])\n",
    "    ax1, ax2 = cast(tuple[Axes, ...], axs)\n",
    "\n",
    "    plot_timeline(\n",
    "        history_df,\n",
    "        keyframes_df,\n",
    "        groups=(ParamGroup(name='', params=[p for p in dopesheet.props if p not in {'lr'}]),),\n",
    "        theme=theme,\n",
    "        ax=ax1,\n",
    "        show_phase_labels=False,\n",
    "    )\n",
    "    ax1.set_ylabel('Weight')\n",
    "    ax1.set_xlabel('')\n",
    "\n",
    "    plot_timeline(\n",
    "        history_df,\n",
    "        keyframes_df,\n",
    "        groups=(ParamGroup(name='', params=['lr']),),\n",
    "        theme=theme,\n",
    "        ax=ax2,\n",
    "        show_legend=False,\n",
    "        show_phase_labels=False,\n",
    "    )\n",
    "    ax2.set_ylabel('LR')\n",
    "\n",
    "    # add a little space on the y-axis extents\n",
    "    ax1.set_ylim(ax1.get_ylim()[0] * 1.1, ax1.get_ylim()[1] * 1.1)\n",
    "    ax2.set_ylim(ax2.get_ylim()[0] * 1.1, ax2.get_ylim()[1] * 1.1)\n",
    "\n",
    "    return fig\n",
    "\n",
    "\n",
    "with displayer_mpl(\n",
    "    f'large-assets/ex-{nbid}-dopesheet.png',\n",
    "    alt_text=\"\"\"Plot showing the parameter schedule for the training run, titled \"{title}\". The plot has two sections: the upper section shows various regularization weights over time, and the lower section shows the learning rate over time. The x-axis represents training steps.\"\"\",\n",
    ") as show:\n",
    "    show(lambda theme: plot_dopesheet(dopesheet, theme))"
   ]
  },
  {
   "cell_type": "markdown",
   "id": "22376072",
   "metadata": {},
   "source": [
    "## Data\n",
    "\n",
    "Data is the same as last time: color cubes with values in RGB.\n"
   ]
  },
  {
   "cell_type": "code",
   "execution_count": 5,
   "id": "89508e77",
   "metadata": {},
   "outputs": [],
   "source": [
    "from torch import Tensor\n",
    "from torch.utils.data import DataLoader, RandomSampler\n",
    "\n",
    "from ex_color.data.color_cube import ColorCube\n",
    "from ex_color.data.cube_dataset import prep_color_dataset, redness, stochastic_labels, exact_labels\n",
    "\n",
    "\n",
    "def prep_train_data(training_subs: int, *, batch_size: int) -> DataLoader:\n",
    "    dataset = prep_color_dataset(\n",
    "        training_subs,\n",
    "        sample_at='cell-corners',\n",
    "        red=lambda c: redness(c) ** 8 * 0.08,\n",
    "    )\n",
    "    return DataLoader(\n",
    "        dataset,\n",
    "        batch_size=batch_size,\n",
    "        num_workers=4,\n",
    "        sampler=RandomSampler(dataset, num_samples=len(dataset), replacement=True),\n",
    "        collate_fn=stochastic_labels,\n",
    "    )\n",
    "\n",
    "\n",
    "def prep_val_data(training_subs: int, *, batch_size: int) -> DataLoader:\n",
    "    dataset = prep_color_dataset(\n",
    "        training_subs,\n",
    "        sample_at='cell-centers',\n",
    "        red=lambda c: redness(c) == 1,\n",
    "    )\n",
    "    return DataLoader(\n",
    "        dataset,\n",
    "        batch_size=batch_size,\n",
    "        num_workers=2,\n",
    "        sampler=RandomSampler(dataset, num_samples=batch_size, replacement=True),\n",
    "        collate_fn=exact_labels,\n",
    "    )"
   ]
  },
  {
   "cell_type": "markdown",
   "id": "62d5daf8",
   "metadata": {},
   "source": [
    "For test data it can be useful to use an HSV cube: then it can be sliced for visualization. The RGB cube is also useful for visualizations and quantitative analyses where an unbiased distribution is needed."
   ]
  },
  {
   "cell_type": "code",
   "execution_count": 6,
   "id": "4381b363",
   "metadata": {},
   "outputs": [],
   "source": [
    "import numpy as np\n",
    "\n",
    "# from ex_color.data.color_cube import ColorCube\n",
    "from ex_color.data.cyclic import arange_cyclic\n",
    "\n",
    "\n",
    "hsv_cube = ColorCube.from_hsv(\n",
    "    h=arange_cyclic(step_size=1 / 12),\n",
    "    s=np.linspace(0, 1, 4),\n",
    "    v=np.linspace(0, 1, 5),\n",
    ")\n",
    "\n",
    "n_h = hsv_cube.shape[0]\n",
    "\n",
    "hd_hsv_cube = ColorCube.from_hsv(\n",
    "    # Extend hue range to encompass the end pixels of the low-res cube above\n",
    "    h=np.linspace(0 - 1 / n_h, 1 + 1 / n_h, 300),\n",
    "    s=np.linspace(0, 1, 48),\n",
    "    v=np.linspace(0, 1, 48),\n",
    ")\n",
    "hd_hsv_cube = hd_hsv_cube[::2, ::2, ::2]\n",
    "\n",
    "rgb_cube = ColorCube.from_rgb(\n",
    "    r=np.linspace(0, 1, 20),\n",
    "    g=np.linspace(0, 1, 20),\n",
    "    b=np.linspace(0, 1, 20),\n",
    ")\n",
    "\n",
    "# with displayer_mpl(\n",
    "#     f'large-assets/ex-{nbid}-true-colors.png',\n",
    "#     alt_text=\"\"\"Plot showing four slices of the HSV cube, titled \"{title}\". Each slice has constant saturation, but varies in value (brightness) from top to bottom, and in hue from left to right. The first slice shows a grayscale gradient from black to white; the last shows the fully-saturated color spectrum.\"\"\",\n",
    "# ) as show:\n",
    "#     show(lambda: plot_colors(hsv_cube, title='True colors'))"
   ]
  },
  {
   "cell_type": "markdown",
   "id": "7fecb906",
   "metadata": {},
   "source": [
    "## Training & inference utils"
   ]
  },
  {
   "cell_type": "code",
   "execution_count": 15,
   "id": "73c22398",
   "metadata": {},
   "outputs": [],
   "source": [
    "from tempfile import gettempdir\n",
    "import wandb\n",
    "from ex_color.model import CNColorMLP\n",
    "\n",
    "\n",
    "# @run.thither(env={'WANDB_API_KEY': wandb.Api().api_key})\n",
    "async def train(\n",
    "    dopesheet: Dopesheet,\n",
    "    regularizers: list[RegularizerConfig],\n",
    "    k_bottleneck: int,\n",
    "    n_nonlinear: int,\n",
    "    k_codec: int,\n",
    "    *,\n",
    "    seed: int | None = None,\n",
    ") -> CNColorMLP:\n",
    "    \"\"\"Train the model with the given dopesheet and variant.\"\"\"\n",
    "    import lightning as L\n",
    "    from lightning.pytorch.loggers import WandbLogger\n",
    "\n",
    "    from ex_color.callbacks import LabelProportionCallback\n",
    "    from ex_color.seed import set_deterministic_mode\n",
    "\n",
    "    from utils.progress.lightning import LightningProgress\n",
    "\n",
    "    log.info(f'Training with: {[r.name for r in regularizers]}')\n",
    "\n",
    "    if seed is not None:\n",
    "        set_deterministic_mode(seed)\n",
    "\n",
    "    train_loader = prep_train_data(CUBE_SUBDIVISIONS, batch_size=BATCH_SIZE)\n",
    "    val_loader = prep_val_data(CUBE_SUBDIVISIONS, batch_size=BATCH_SIZE)\n",
    "\n",
    "    model = CNColorMLP(k_bottleneck, n_nonlinear=n_nonlinear, k_codec=k_codec)\n",
    "    total_params = sum(p.numel() for p in model.parameters() if p.requires_grad)\n",
    "    log.debug(f'Model initialized with {total_params:,} trainable parameters.')\n",
    "\n",
    "    training_module = TrainingModule(model, dopesheet, torch.nn.MSELoss(), regularizers)\n",
    "\n",
    "    logger = WandbLogger(experiment_name, project=project, save_dir=gettempdir())\n",
    "    logger.log_hyperparams({'seed': seed})\n",
    "\n",
    "    trainer = L.Trainer(\n",
    "        max_steps=len(dopesheet),\n",
    "        callbacks=[\n",
    "            LightningProgress(),\n",
    "            LabelProportionCallback(prefix='labels', get_active_labels=lambda: training_module.active_labels),\n",
    "        ],\n",
    "        enable_checkpointing=False,\n",
    "        enable_model_summary=False,\n",
    "        # enable_progress_bar=True,\n",
    "        val_check_interval=len(dopesheet) // 10,\n",
    "        check_val_every_n_epoch=None,\n",
    "        logger=logger,\n",
    "        log_every_n_steps=min(50, len(train_loader)),\n",
    "    )\n",
    "\n",
    "    print(f'max_steps: {len(dopesheet)}, train_loader length: {len(train_loader)}')\n",
    "\n",
    "    # Train the model\n",
    "    try:\n",
    "        trainer.fit(training_module, train_loader, val_loader)\n",
    "    finally:\n",
    "        wandb.finish()\n",
    "    # This is only a small model, so it's OK to return it rather than storing and loading a checkpoint remotely\n",
    "    return model"
   ]
  },
  {
   "cell_type": "code",
   "execution_count": 16,
   "id": "89ec7e6a",
   "metadata": {},
   "outputs": [],
   "source": [
    "import torch\n",
    "import numpy as np\n",
    "from torch.utils.data import TensorDataset, DataLoader\n",
    "\n",
    "from ex_color.inference import InferenceModule\n",
    "from ex_color.intervention.intervention import InterventionConfig\n",
    "\n",
    "\n",
    "async def infer_with_latent_capture(\n",
    "    model: CNColorMLP,\n",
    "    test_data: Tensor,\n",
    "    interventions: list[InterventionConfig],\n",
    "    layer_name: str = 'bottleneck',\n",
    ") -> tuple[Tensor, Tensor]:\n",
    "    module = InferenceModule(model, interventions, capture_layers=[layer_name])\n",
    "    import lightning as L\n",
    "\n",
    "    trainer = L.Trainer(enable_checkpointing=False, enable_model_summary=False, enable_progress_bar=False, logger=False)\n",
    "    batches = trainer.predict(\n",
    "        module,\n",
    "        DataLoader(\n",
    "            TensorDataset(test_data.reshape((-1, 3))),\n",
    "            batch_size=64,\n",
    "            collate_fn=lambda batch: torch.stack([row[0] for row in batch], 0),\n",
    "        ),\n",
    "    )\n",
    "    assert batches is not None\n",
    "    preds = [item for batch in batches for item in batch]\n",
    "    y = torch.cat(preds).reshape(test_data.shape)\n",
    "    # Read captured activations as a flat [N, D] tensor\n",
    "    latents = module.read_captured(layer_name)\n",
    "    return y, latents"
   ]
  },
  {
   "cell_type": "code",
   "execution_count": 17,
   "id": "40a359a0",
   "metadata": {},
   "outputs": [],
   "source": [
    "from typing import TYPE_CHECKING\n",
    "\n",
    "if TYPE_CHECKING:\n",
    "    import pandas as pd\n",
    "\n",
    "from torch.nn import functional as F\n",
    "\n",
    "\n",
    "async def test(model: CNColorMLP, interventions: list[InterventionConfig], test_data: ColorCube) -> ColorCube:\n",
    "    x = torch.tensor(test_data.rgb_grid, dtype=torch.float32)\n",
    "    y, h = await infer_with_latent_capture(model, x, interventions, 'bottleneck')\n",
    "    per_color_loss = F.mse_loss(y, x, reduction='none').mean(dim=-1)\n",
    "    return test_data.assign(\n",
    "        recon=y.numpy().reshape((*test_data.shape, -1)),\n",
    "        MSE=per_color_loss.numpy().reshape((*test_data.shape, -1)),\n",
    "        latents=h.numpy().reshape((*test_data.shape, -1)),\n",
    "    )\n",
    "\n",
    "\n",
    "async def test_named(\n",
    "    model: CNColorMLP, interventions: list[InterventionConfig], test_data: pd.DataFrame\n",
    ") -> pd.DataFrame:\n",
    "    x = torch.tensor(test_data['rgb'], dtype=torch.float32)\n",
    "    y, _ = await infer_with_latent_capture(model, x, interventions, 'bottleneck')\n",
    "    per_color_loss = F.mse_loss(y, x, reduction='none').mean(dim=-1)\n",
    "    y_tuples = [tuple(row) for row in y.numpy()]\n",
    "    return test_data.assign(recon=y_tuples, MSE=per_color_loss.numpy())  # pyright: ignore[reportArgumentType]"
   ]
  },
  {
   "cell_type": "code",
   "execution_count": 18,
   "id": "41643004",
   "metadata": {},
   "outputs": [],
   "source": [
    "# # Generate a list of dimensions to visualize\n",
    "# from itertools import combinations\n",
    "# [\n",
    "#     (\n",
    "#         b,\n",
    "#         a,\n",
    "#         (a + 1) % 5 if (a + 1) % 5 not in (a, b) else (a + 2) % 5,\n",
    "#     )\n",
    "#     for a, b in combinations((0, 1, 2, 3, 4), 2)\n",
    "# ]"
   ]
  },
  {
   "cell_type": "code",
   "execution_count": 19,
   "id": "14da6f03",
   "metadata": {},
   "outputs": [],
   "source": [
    "from typing import Sequence\n",
    "\n",
    "from ex_color.vis import (\n",
    "    plot_colors,\n",
    "    plot_cube_series,\n",
    "    plot_latent_grid_3d_from_cube,\n",
    ")\n",
    "from utils.nb import displayer_mpl\n",
    "\n",
    "\n",
    "def tags_for_file(tags: Sequence[str]) -> str:\n",
    "    import re\n",
    "\n",
    "    tags = [re.sub(r'[^a-zA-Z0-9]+', '-', tag.lower()) for tag in tags]\n",
    "    return '-'.join(tags)\n",
    "\n",
    "\n",
    "def visualize_reconstructed_cube(data: ColorCube, *, tags: Sequence[str] = ()):\n",
    "    with displayer_mpl(\n",
    "        f'large-assets/ex-{nbid}-pred-colors-{tags_for_file(tags)}.png',\n",
    "        alt_text=\"\"\"Plot showing four slices of the HSV cube, titled \"{title}\". Nominally, each slice has constant saturation, but varies in value (brightness) from top to bottom, and in hue from left to right. Each color value is represented as a square patch of that color. The outer portion of the patches shows the color as reconstructed by the model; the inner portion shows the true (input) color.\"\"\",\n",
    "    ) as show:\n",
    "        show(\n",
    "            lambda: plot_colors(\n",
    "                data,\n",
    "                title=f'Predicted colors · {\" · \".join(tags)}',\n",
    "                colors='recon',\n",
    "                colors_compare='color',\n",
    "            )\n",
    "        )\n",
    "\n",
    "\n",
    "def visualize_reconstruction_loss(data: ColorCube, *, tags: Sequence[str] = ()):\n",
    "    max_loss = np.max(data['MSE'])\n",
    "    median_loss = np.median(data['MSE'])\n",
    "    with displayer_mpl(\n",
    "        f'large-assets/ex-{nbid}-loss-colors-{tags_for_file(tags)}.png',\n",
    "        alt_text=f\"\"\"Line chart showing loss per color, titled \"{{title}}\". Y-axis: mean square error, ranging from zero to {max_loss:.2g}. X-axis: hue.\"\"\",\n",
    "    ) as show:\n",
    "        show(\n",
    "            lambda: plot_cube_series(\n",
    "                data.permute('hsv')[:, -1:, :: (data.shape[2] // -5)],\n",
    "                data.permute('svh')[:, -1:, :: -(data.shape[0] // -3)],\n",
    "                data.permute('vsh')[:, -1:, :: -(data.shape[0] // -3)],\n",
    "                title=f'Reconstruction error · {\" · \".join(tags)}',\n",
    "                var='MSE',\n",
    "                figsize=(12, 3),\n",
    "            )\n",
    "        )\n",
    "    print(f'Max loss: {max_loss:.2g}')\n",
    "    print(f'Median MSE: {median_loss:.2g}')\n",
    "\n",
    "\n",
    "def visualize_latent_space(data: ColorCube, *, tags: Sequence[str] = (), dims: Sequence[tuple[int, int, int]]):\n",
    "    with displayer_mpl(\n",
    "        f'large-assets/ex-{nbid}-latents-{tags_for_file(tags)}.png',\n",
    "        alt_text=\"\"\"Two rows of three spherical plots, titled \"{title}\". Each plot shows a vibrant collection of colored circles or balls scattered over the surface of a hypersphere, with each plot showing one 2D projection.\"\"\",\n",
    "    ) as show:\n",
    "        show(\n",
    "            lambda theme: plot_latent_grid_3d_from_cube(\n",
    "                data,\n",
    "                colors='recon',\n",
    "                colors_compare='color',\n",
    "                latents='latents',\n",
    "                title=f'Latents ·  · {\" · \".join(tags)}',\n",
    "                dims=dims,\n",
    "                dot_radius=10,\n",
    "                theme=theme,\n",
    "            )\n",
    "        )"
   ]
  },
  {
   "cell_type": "code",
   "execution_count": 20,
   "id": "ef3d8c36",
   "metadata": {},
   "outputs": [],
   "source": [
    "from collections.abc import Mapping, Sequence\n",
    "from dataclasses import dataclass, field\n",
    "from typing import Any, Callable\n",
    "\n",
    "from IPython.display import clear_output\n",
    "import matplotlib.pyplot as plt\n",
    "import numpy as np\n",
    "import pandas as pd\n",
    "from skimage.color import hsv2rgb, rgb2hsv\n",
    "from scipy.stats import pearsonr\n",
    "\n",
    "from ex_color.data import hsv_similarity\n",
    "from ex_color.data.color_cube import ColorCube\n",
    "from ex_color.intervention.intervention import InterventionConfig\n",
    "from ex_color.vis import draw_stacked_results, ConicalAnnotation, draw_cube_scatter\n",
    "from ex_color.vis.plot_latent_slices import LatentD\n",
    "from utils.nb import displayer_mpl\n",
    "from utils.plt import Theme\n",
    "\n",
    "ANCHOR_HSV = (0.0, 1.0, 1.0)\n",
    "\n",
    "\n",
    "@dataclass\n",
    "class Resultset:\n",
    "    tags: Sequence[str]\n",
    "    latent_cube: ColorCube\n",
    "    color_slice_cube: ColorCube\n",
    "    loss_cube: ColorCube\n",
    "    named_colors: pd.DataFrame\n",
    "\n",
    "\n",
    "def visualize_stacked_results(\n",
    "    res: Resultset,\n",
    "    *,\n",
    "    latent_dims: tuple[LatentD, LatentD],\n",
    "    max_error: float | None = None,\n",
    "    latent_annotations: Sequence[ConicalAnnotation | Callable[[Theme], ConicalAnnotation]] = (),\n",
    ") -> None:\n",
    "    with displayer_mpl(\n",
    "        f'large-assets/ex-{nbid}-results-{tags_for_file(res.tags)}.png',\n",
    "        alt_text=\"\"\"Composite figure with two latent panels (top), a color slice (middle), and a loss chart (bottom).\"\"\",\n",
    "    ) as show:\n",
    "        show(\n",
    "            lambda theme: draw_stacked_results(\n",
    "                res.latent_cube,\n",
    "                res.color_slice_cube,\n",
    "                res.loss_cube,\n",
    "                latent_dims=latent_dims,\n",
    "                theme=theme,\n",
    "                max_error=max_error,\n",
    "                latent_annotations=[\n",
    "                    ann(theme) if not isinstance(ann, ConicalAnnotation) else ann for ann in latent_annotations\n",
    "                ],\n",
    "            )\n",
    "        )\n",
    "\n",
    "\n",
    "def scatter_similarity_vs_error(\n",
    "    cube: ColorCube,\n",
    "    anchor_hsv: tuple[float, float, float],\n",
    "    *,\n",
    "    anchor_name: str,\n",
    "    theme: Theme,\n",
    "    power: float,\n",
    "):\n",
    "    \"\"\"Scatter plot of similarity to anchor vs reconstruction error.\"\"\"\n",
    "    cube = cube.assign(hsv=rgb2hsv(cube['color']))\n",
    "    cube = cube.assign(similarity=hsv_similarity(cube['hsv'], np.array(anchor_hsv), hemi=True, mode='angular') ** power)\n",
    "\n",
    "    fig, ax = plt.subplots(figsize=(4, 4), constrained_layout=True)\n",
    "    draw_cube_scatter(ax, cube, theme=theme, x_var='similarity', y_var='MSE')\n",
    "    ax.set_ylabel(r'MSE')\n",
    "    ax.set_xlabel(rf'$\\text{{sim}}_\\text{{{anchor_name}}}^{{{power:.2g}}}$')\n",
    "    ax.legend(loc='upper left')\n",
    "    return fig\n",
    "\n",
    "\n",
    "def visualize_error_vs_similarity(\n",
    "    cube: ColorCube,\n",
    "    anchor_hsv: tuple[float, float, float],\n",
    "    *,\n",
    "    tags: Sequence[str] = (),\n",
    "    anchor_name: str = 'anchor',\n",
    "    power: float,\n",
    ") -> None:\n",
    "    with displayer_mpl(\n",
    "        f'large-assets/ex-{nbid}-error-vs-similarity-{tags_for_file(tags)}.png',\n",
    "        alt_text=f\"\"\"Scatter plot showing reconstruction error versus similarity to {anchor_name}. Each point represents a color, with its position on the x-axis indicating how similar it is to pure red, and its position on the y-axis indicating the reconstruction error (mean squared error) for that color. The points are colored according to their actual color values.\"\"\",\n",
    "    ) as show:\n",
    "        show(\n",
    "            lambda theme: scatter_similarity_vs_error(\n",
    "                cube, anchor_hsv, theme=theme, anchor_name=anchor_name, power=power\n",
    "            )\n",
    "        )\n",
    "\n",
    "\n",
    "def hstack_named_results(*res: Resultset) -> pd.DataFrame:\n",
    "    \"\"\"Create a table of results across several experiments.\"\"\"\n",
    "    names = [' '.join(r.tags) for r in res]\n",
    "    df = res[0].named_colors[['name', 'rgb', 'hsv', 'MSE']].rename(columns={'MSE': names[0]})\n",
    "    for name, r in zip(names[1:], res[1:], strict=True):\n",
    "        df = df.merge(\n",
    "            r.named_colors[['name', 'MSE']].rename(columns={'MSE': name}),\n",
    "            on='name',\n",
    "        )\n",
    "        df[f'{name}-delta'] = df[name] - df[names[0]]\n",
    "    return df\n",
    "\n",
    "\n",
    "def metric_prefix(name: str) -> str:\n",
    "    return name.replace(' ', '_').replace('-', '_')\n",
    "\n",
    "\n",
    "@dataclass(frozen=True)\n",
    "class CorrelationStats:\n",
    "    correlation: float\n",
    "    r_squared: float\n",
    "    p_value: float\n",
    "    power: float\n",
    "\n",
    "    def to_row(self, prefix: str) -> dict[str, float]:\n",
    "        return {\n",
    "            f'{prefix}_r': self.correlation,\n",
    "            f'{prefix}_r2': self.r_squared,\n",
    "            f'{prefix}_p': self.p_value,\n",
    "            f'{prefix}_power': self.power,\n",
    "        }\n",
    "\n",
    "\n",
    "@dataclass(frozen=True)\n",
    "class CorrelationSpec:\n",
    "    plan: str\n",
    "    anchor_hsv: tuple[float, float, float]\n",
    "    power: float\n",
    "\n",
    "\n",
    "@dataclass\n",
    "class EvaluationContext:\n",
    "    model: CNColorMLP\n",
    "    interventions: Sequence[InterventionConfig]\n",
    "    extras: dict[str, Any] = field(default_factory=dict)\n",
    "\n",
    "\n",
    "@dataclass(frozen=True)\n",
    "class EvaluationPlan:\n",
    "    name: str\n",
    "    tags: Sequence[str]\n",
    "    setup: Callable[[CNColorMLP], EvaluationContext]\n",
    "\n",
    "\n",
    "@dataclass(frozen=True)\n",
    "class RunMetrics:\n",
    "    seed: int\n",
    "    correlations: Mapping[str, CorrelationStats]\n",
    "\n",
    "    def to_row(self) -> dict[str, float]:\n",
    "        row: dict[str, float] = {'seed': float(self.seed)}\n",
    "        for name, stats in sorted(self.correlations.items()):\n",
    "            prefix = metric_prefix(name)\n",
    "            row.update(stats.to_row(prefix))\n",
    "            row[f'{prefix}_abs'] = abs(stats.correlation)\n",
    "        return row\n",
    "\n",
    "    def score(self, plan: str) -> float:\n",
    "        stats = self.correlations.get(plan)\n",
    "        if stats is None:\n",
    "            raise KeyError(f'No correlation recorded for plan {plan!r}.')\n",
    "        return abs(stats.correlation)\n",
    "\n",
    "\n",
    "@dataclass\n",
    "class BestRunArtifacts:\n",
    "    seed: int\n",
    "    model: CNColorMLP\n",
    "    metrics: RunMetrics\n",
    "    plans: Mapping[str, EvaluationPlan]\n",
    "    results: dict[str, Resultset]\n",
    "    contexts: dict[str, EvaluationContext]\n",
    "    named_colors: pd.DataFrame\n",
    "\n",
    "    def get_extra(self, plan: str, key: str, default: Any | None = None) -> Any | None:\n",
    "        context = self.contexts.get(plan)\n",
    "        if context is None:\n",
    "            return default\n",
    "        return context.extras.get(key, default)\n",
    "\n",
    "\n",
    "def error_correlation(cube: ColorCube, anchor_hsv: tuple[float, float, float], *, power: float) -> tuple[float, float]:\n",
    "    \"\"\"Compute correlation between similarity to anchor and reconstruction error.\"\"\"\n",
    "    cube = cube.assign(hsv=rgb2hsv(cube['color']))\n",
    "    cube = cube.assign(similarity=hsv_similarity(cube['hsv'], np.array(anchor_hsv), hemi=True, mode='angular') ** power)\n",
    "    corr, p_value = pearsonr(cube['similarity'].flatten(), cube['MSE'].flatten())\n",
    "    return float(corr), float(p_value)\n",
    "\n",
    "\n",
    "def correlation_stats(cube: ColorCube, *, anchor_hsv: tuple[float, float, float], power: float) -> CorrelationStats:\n",
    "    corr, p_value = error_correlation(cube, anchor_hsv, power=power)\n",
    "    return CorrelationStats(correlation=corr, r_squared=corr**2, p_value=p_value, power=power)\n",
    "\n",
    "\n",
    "async def evaluate_seed(\n",
    "    seed: int,\n",
    "    plans: Mapping[str, EvaluationPlan],\n",
    "    correlation_specs: Sequence[CorrelationSpec],\n",
    ") -> tuple[RunMetrics, CNColorMLP, dict[str, EvaluationContext]]:\n",
    "    model = await train(\n",
    "        dopesheet,\n",
    "        [reg_separate, reg_anchor, reg_anti_anchor, reg_anti_subspace],\n",
    "        K,\n",
    "        N,\n",
    "        H,\n",
    "        seed=seed,\n",
    "    )\n",
    "\n",
    "    correlations: dict[str, CorrelationStats] = {}\n",
    "    contexts: dict[str, EvaluationContext] = {}\n",
    "    for spec in correlation_specs:\n",
    "        plan = plans[spec.plan]\n",
    "        context = contexts.get(plan.name)\n",
    "        if context is None:\n",
    "            context = plan.setup(model)\n",
    "            contexts[plan.name] = context\n",
    "        cube = await test(context.model, list(context.interventions), rgb_cube)\n",
    "        correlations[plan.name] = correlation_stats(cube, anchor_hsv=spec.anchor_hsv, power=spec.power)\n",
    "    metrics = RunMetrics(seed=seed, correlations=correlations)\n",
    "    return metrics, model, contexts\n",
    "\n",
    "\n",
    "async def collect_full_results(\n",
    "    seed: int,\n",
    "    model: CNColorMLP,\n",
    "    plans: Sequence[EvaluationPlan],\n",
    "    *,\n",
    "    named_colors_factory: Callable[[], pd.DataFrame],\n",
    "    correlation_specs: Sequence[CorrelationSpec],\n",
    "    precomputed_contexts: Mapping[str, EvaluationContext] | None = None,\n",
    ") -> BestRunArtifacts:\n",
    "    contexts: dict[str, EvaluationContext] = {}\n",
    "    results: dict[str, Resultset] = {}\n",
    "    base_named_colors = named_colors_factory()\n",
    "    for plan in plans:\n",
    "        context = precomputed_contexts.get(plan.name) if precomputed_contexts else None\n",
    "        if context is None:\n",
    "            context = plan.setup(model)\n",
    "        contexts[plan.name] = context\n",
    "        interventions = list(context.interventions)\n",
    "        results[plan.name] = Resultset(\n",
    "            tags=list(plan.tags),\n",
    "            latent_cube=await test(context.model, interventions, rgb_cube),\n",
    "            color_slice_cube=await test(context.model, interventions, hsv_cube),\n",
    "            loss_cube=await test(context.model, interventions, hd_hsv_cube),\n",
    "            named_colors=await test_named(context.model, interventions, base_named_colors.copy()),\n",
    "        )\n",
    "    correlations: dict[str, CorrelationStats] = {}\n",
    "    for spec in correlation_specs:\n",
    "        correlations[spec.plan] = correlation_stats(\n",
    "            results[spec.plan].latent_cube,\n",
    "            anchor_hsv=spec.anchor_hsv,\n",
    "            power=spec.power,\n",
    "        )\n",
    "    metrics = RunMetrics(seed=seed, correlations=correlations)\n",
    "    plans_by_name = {plan.name: plan for plan in plans}\n",
    "    return BestRunArtifacts(\n",
    "        seed=seed,\n",
    "        model=model,\n",
    "        metrics=metrics,\n",
    "        plans=plans_by_name,\n",
    "        results=results,\n",
    "        contexts=contexts,\n",
    "        named_colors=base_named_colors,\n",
    "    )\n",
    "\n",
    "\n",
    "async def run_multi_seed_training(\n",
    "    seeds: Sequence[int],\n",
    "    plans: Sequence[EvaluationPlan],\n",
    "    correlation_specs: Sequence[CorrelationSpec],\n",
    "    *,\n",
    "    best_plan: str,\n",
    "    named_colors_factory: Callable[[], pd.DataFrame],\n",
    ") -> tuple[list[RunMetrics], BestRunArtifacts]:\n",
    "    metrics: list[RunMetrics] = []\n",
    "    best: tuple[RunMetrics, CNColorMLP, dict[str, EvaluationContext]] | None = None\n",
    "    plans_by_name = {plan.name: plan for plan in plans}\n",
    "\n",
    "    total_runs = len(seeds)\n",
    "    for index, seed in enumerate(seeds, start=1):\n",
    "        clear_output()\n",
    "        print(f'Best so far: {best[0].to_row() if best is not None else \"N/A\"}')\n",
    "        print(f'[{index}/{total_runs}] Training seed {seed}...')\n",
    "        run_metrics, model, contexts = await evaluate_seed(seed, plans_by_name, correlation_specs)\n",
    "        metrics.append(run_metrics)\n",
    "        if best is None or run_metrics.score(best_plan) > best[0].score(best_plan):\n",
    "            best = (run_metrics, model, contexts)\n",
    "        else:\n",
    "            del model\n",
    "\n",
    "    assert best is not None\n",
    "    best_metrics, best_model, best_contexts = best\n",
    "    best_artifacts = await collect_full_results(\n",
    "        best_metrics.seed,\n",
    "        best_model,\n",
    "        plans,\n",
    "        named_colors_factory=named_colors_factory,\n",
    "        correlation_specs=correlation_specs,\n",
    "        precomputed_contexts=best_contexts,\n",
    "    )\n",
    "    return metrics, best_artifacts"
   ]
  },
  {
   "cell_type": "code",
   "execution_count": 21,
   "id": "6710a4c6",
   "metadata": {},
   "outputs": [],
   "source": [
    "from math import cos, radians\n",
    "\n",
    "from ex_color.data.color import get_named_colors_df\n",
    "from ex_color.intervention import BoundedFalloff, Suppression\n",
    "from ex_color.intervention.intervention import InterventionConfig\n",
    "from ex_color.surgery import ablate, prune\n",
    "\n",
    "\n",
    "def no_intervention_plan(model: CNColorMLP) -> EvaluationContext:\n",
    "    return EvaluationContext(model=model, interventions=())\n",
    "\n",
    "\n",
    "def ablation_plan(model: CNColorMLP) -> EvaluationContext:\n",
    "    ablated = ablate(model, 'bottleneck', [0])\n",
    "    return EvaluationContext(model=ablated, interventions=())\n",
    "\n",
    "\n",
    "def pruning_plan(model: CNColorMLP) -> EvaluationContext:\n",
    "    pruned = prune(model, 'bottleneck', [0])\n",
    "    return EvaluationContext(model=pruned, interventions=())\n",
    "\n",
    "\n",
    "def suppression_plan(model: CNColorMLP) -> EvaluationContext:\n",
    "    falloff = BoundedFalloff(\n",
    "        cos(radians(90)),\n",
    "        1.0,\n",
    "        0.0,\n",
    "    )\n",
    "    config = InterventionConfig(\n",
    "        apply=Suppression(torch.tensor(RED), falloff),\n",
    "        layer_affinities=['bottleneck'],\n",
    "    )\n",
    "    return EvaluationContext(\n",
    "        model=model,\n",
    "        interventions=[config],\n",
    "        extras={'config': config, 'falloff': falloff},\n",
    "    )\n",
    "\n",
    "\n",
    "EVALUATION_PLANS = (\n",
    "    EvaluationPlan(name='no intervention', tags=['no intervention'], setup=no_intervention_plan),\n",
    "    EvaluationPlan(name='ablated', tags=['ablated'], setup=ablation_plan),\n",
    "    EvaluationPlan(name='pruned', tags=['pruned'], setup=pruning_plan),\n",
    "    EvaluationPlan(name='suppression', tags=['suppression'], setup=suppression_plan),\n",
    ")\n",
    "\n",
    "CORRELATION_SPECS = (\n",
    "    CorrelationSpec(plan='ablated', anchor_hsv=ANCHOR_HSV, power=3),\n",
    "    CorrelationSpec(plan='suppression', anchor_hsv=ANCHOR_HSV, power=2),\n",
    ")\n",
    "\n",
    "BEST_PLAN = 'ablated'\n",
    "POWER_BY_PLAN = {spec.plan: spec.power for spec in CORRELATION_SPECS}\n",
    "\n",
    "\n",
    "def named_colors_factory() -> pd.DataFrame:\n",
    "    return get_named_colors_df(n_hues=12, n_grays=5)"
   ]
  },
  {
   "cell_type": "markdown",
   "id": "6d8fcb76",
   "metadata": {},
   "source": [
    "## Train"
   ]
  },
  {
   "cell_type": "code",
   "execution_count": 22,
   "id": "c6b26721",
   "metadata": {},
   "outputs": [
    {
     "name": "stdout",
     "output_type": "stream",
     "text": [
      "Best so far: {'seed': 47.0, 'ablated_r': 0.9798149234738697, 'ablated_r2': 0.9600372842621051, 'ablated_p': 0.0, 'ablated_power': 3, 'ablated_abs': 0.9798149234738697, 'suppression_r': 0.9847591455092971, 'suppression_r2': 0.969750574664201, 'suppression_p': 0.0, 'suppression_power': 2, 'suppression_abs': 0.9847591455092971}\n",
      "[100/100] Training seed 99...\n",
      "I 2261.6 no.2.9.1:Training with: ['separate', 'anchor', 'anti-anchor', 'anti-subspace']\n"
     ]
    },
    {
     "name": "stderr",
     "output_type": "stream",
     "text": [
      "INFO: Seed set to 99\n"
     ]
    },
    {
     "name": "stdout",
     "output_type": "stream",
     "text": [
      "I 2261.6 li.fa.ut.se:Seed set to 99\n",
      "I 2261.6 ex.se:PyTorch set to deterministic mode\n",
      "I 2261.6 ex.se:PyTorch set to deterministic mode\n"
     ]
    },
    {
     "data": {
      "text/html": [],
      "text/plain": [
       "<IPython.core.display.HTML object>"
      ]
     },
     "metadata": {},
     "output_type": "display_data"
    },
    {
     "data": {
      "text/html": [
       "Tracking run with wandb version 0.21.0"
      ],
      "text/plain": [
       "<IPython.core.display.HTML object>"
      ]
     },
     "metadata": {},
     "output_type": "display_data"
    },
    {
     "data": {
      "text/html": [
       "Run data is saved locally in <code>/tmp/wandb/run-20251010_041406-lliakigp</code>"
      ],
      "text/plain": [
       "<IPython.core.display.HTML object>"
      ]
     },
     "metadata": {},
     "output_type": "display_data"
    },
    {
     "data": {
      "text/html": [
       "Syncing run <strong><a href='https://wandb.ai/z0r/ex-preppy/runs/lliakigp' target=\"_blank\">Ex 2.9.1: Ablate red (only), 5D</a></strong> to <a href='https://wandb.ai/z0r/ex-preppy' target=\"_blank\">Weights & Biases</a> (<a href='https://wandb.me/developer-guide' target=\"_blank\">docs</a>)<br>"
      ],
      "text/plain": [
       "<IPython.core.display.HTML object>"
      ]
     },
     "metadata": {},
     "output_type": "display_data"
    },
    {
     "data": {
      "text/html": [
       " View project at <a href='https://wandb.ai/z0r/ex-preppy' target=\"_blank\">https://wandb.ai/z0r/ex-preppy</a>"
      ],
      "text/plain": [
       "<IPython.core.display.HTML object>"
      ]
     },
     "metadata": {},
     "output_type": "display_data"
    },
    {
     "data": {
      "text/html": [
       " View run at <a href='https://wandb.ai/z0r/ex-preppy/runs/lliakigp' target=\"_blank\">https://wandb.ai/z0r/ex-preppy/runs/lliakigp</a>"
      ],
      "text/plain": [
       "<IPython.core.display.HTML object>"
      ]
     },
     "metadata": {},
     "output_type": "display_data"
    },
    {
     "name": "stderr",
     "output_type": "stream",
     "text": [
      "INFO: GPU available: False, used: False\n"
     ]
    },
    {
     "name": "stdout",
     "output_type": "stream",
     "text": [
      "I 2262.9 li.py.ut.ra:GPU available: False, used: False\n"
     ]
    },
    {
     "name": "stderr",
     "output_type": "stream",
     "text": [
      "INFO: TPU available: False, using: 0 TPU cores\n"
     ]
    },
    {
     "name": "stdout",
     "output_type": "stream",
     "text": [
      "I 2262.9 li.py.ut.ra:TPU available: False, using: 0 TPU cores\n"
     ]
    },
    {
     "name": "stderr",
     "output_type": "stream",
     "text": [
      "INFO: HPU available: False, using: 0 HPUs\n"
     ]
    },
    {
     "name": "stdout",
     "output_type": "stream",
     "text": [
      "I 2262.9 li.py.ut.ra:HPU available: False, using: 0 HPUs\n",
      "max_steps: 1501, train_loader length: 8\n",
      "max_steps: 1501, train_loader length: 8\n"
     ]
    },
    {
     "name": "stderr",
     "output_type": "stream",
     "text": [
      "/workspaces/ex-color-transformer/.venv/lib/python3.13/site-packages/lightning/pytorch/trainer/connectors/data_connector.py:476: Your `val_dataloader`'s sampler has shuffling enabled, it is strongly recommended that you turn shuffling off for val/test dataloaders.\n"
     ]
    },
    {
     "data": {
      "text/html": [
       "<div style=\"width: 100%; padding: 5px 0; font-family: monospace\">\n",
       "  <div style=\"position: relative; height: calc(1em * 5/3); width: 100%; margin-bottom: 2em\">\n",
       "    <div style=\"position: absolute; top: 100%; height: 3.5px; left: 0; width: 100%; background: linear-gradient(to right, var(--h1) 0.0%, var(--h1) 2.0%, var(--h1) 4.1%, var(--h1) 6.1%, var(--h0) 8.2%, var(--h1) 10.2%, var(--h1) 12.2%, var(--h1) 14.3%, var(--h0) 16.3%, var(--h1) 18.4%, var(--h1) 20.4%, var(--h1) 22.4%, var(--h0) 24.5%, var(--h1) 26.5%, var(--h1) 28.6%, var(--h1) 30.6%, var(--h0) 32.7%, var(--h1) 34.7%, var(--h1) 36.7%, var(--h1) 38.8%, var(--h0) 40.8%, var(--h1) 42.9%, var(--h1) 44.9%, var(--h1) 46.9%, var(--h0) 49.0%, var(--h1) 51.0%, var(--h1) 53.1%, var(--h1) 55.1%, var(--h0) 57.1%, var(--h1) 59.2%, var(--h1) 61.2%, var(--h1) 63.3%, var(--h0) 65.3%, var(--h1) 67.3%, var(--h1) 69.4%, var(--h1) 71.4%, var(--h0) 73.5%, var(--h1) 75.5%, var(--h1) 77.6%, var(--h1) 79.6%, var(--h0) 81.6%, var(--h1) 83.7%, var(--h1) 85.7%, var(--h1) 87.8%, var(--h0) 89.8%, var(--h1) 91.8%, var(--h1) 93.9%, var(--h1) 95.9%, var(--h0) 98.0%, var(--h2) 100.0%);--h0:color(from currentColor srgb r g b / 0.25);--h1:color(from currentColor srgb r g b / 0.44);--h2:color(from currentColor srgb r g b / 0.69)\"></div>\n",
       "    <div style=\"position: absolute; top: 100%; font-size: 70%; padding: 3px 2px 0; left: -0.1%; border-left: 0.5px solid currentColor\">0.1912</div>\n",
       "    <div style=\"position: absolute; top: 100%; font-size: 70%; padding: 3px 2px 0; left: 9.5%; border-left: 0.5px solid currentColor\">0.1912</div>\n",
       "    <div style=\"position: absolute; top: 100%; font-size: 70%; padding: 3px 2px 0; left: 19.1%; border-left: 0.5px solid currentColor\">0.0029</div>\n",
       "    <div style=\"position: absolute; top: 100%; font-size: 70%; padding: 3px 2px 0; left: 28.7%; border-left: 0.5px solid currentColor\">0.0008</div>\n",
       "    <div style=\"position: absolute; top: 100%; font-size: 70%; padding: 3px 2px 0; left: 38.3%; border-left: 0.5px solid currentColor\">0.0013</div>\n",
       "    <div style=\"position: absolute; top: 100%; font-size: 70%; padding: 3px 2px 0; left: 47.9%; border-left: 0.5px solid currentColor\">0.0056</div>\n",
       "    <div style=\"position: absolute; top: 100%; font-size: 70%; padding: 3px 2px 0; left: 57.5%; border-left: 0.5px solid currentColor\">0.0004</div>\n",
       "    <div style=\"position: absolute; top: 100%; font-size: 70%; padding: 3px 2px 0; left: 67.1%; border-left: 0.5px solid currentColor\">0.0016</div>\n",
       "    <div style=\"position: absolute; top: 100%; font-size: 70%; padding: 3px 2px 0; left: 76.7%; border-left: 0.5px solid currentColor\">0.0003</div>\n",
       "    <div style=\"position: absolute; top: 100%; font-size: 70%; padding: 3px 2px 0; left: 86.3%; border-left: 0.5px solid currentColor\">0.0002</div>\n",
       "    <div style=\"position: absolute; top: 100%; font-size: 70%; padding: 3px 2px 0; right: 0.1%; border-right: 0.5px solid currentColor\">0.0000</div>\n",
       "    <div style=\"position: absolute; bottom: -4px; left: calc(100.0% - 4px)\">\n",
       "      <div style=\"border-left: 4px solid transparent; border-right: 4px solid transparent; border-bottom: 4px solid currentColor\"></div>\n",
       "    </div>\n",
       "    <div style=\"position: absolute; height: 100%; width: 100.0%; background-color: color(from currentColor srgb r g b / 0.1); border-bottom: 1px solid currentColor\"></div>\n",
       "    <div style=\"position: absolute; width: 100%; height: 100%; text-align: center; line-height: calc((1em * 5/3) / 0.9); font-size: 90%; white-space: nowrap; overflow: hidden; text-overflow: ellipsis; border-bottom: 1px dashed color(from currentColor srgb r g b / 0.5)\"><b>Validation</b>: 100.0% [1501/1501] [<b>00:18</b>/<00:00, 83.38 it/s]</div>\n",
       "  </div>\n",
       "  <div style=\"display: grid; grid-template-columns: repeat(3, minmax(80px, 1fr)); gap: 5px 0px; width: 100%; margin: 1em 0; font-size: 0.85em\">\n",
       "    <div style=\"font-weight: bold; border-bottom: 0.5px solid currentColor; padding: 2px 10px; text-align: left; overflow: hidden; text-overflow: ellipsis; white-space: nowrap\">v_num</div>\n",
       "    <div style=\"font-weight: bold; border-bottom: 0.5px solid currentColor; padding: 2px 10px; text-align: left; overflow: hidden; text-overflow: ellipsis; white-space: nowrap\">val_loss</div>\n",
       "    <div style=\"font-weight: bold; border-bottom: 0.5px solid currentColor; padding: 2px 10px; text-align: left; overflow: hidden; text-overflow: ellipsis; white-space: nowrap\">train_loss</div>\n",
       "    <div style=\"padding: 2px 10px; text-align: left; overflow: hidden; text-overflow: ellipsis; white-space: nowrap\">kigp</div>\n",
       "    <div style=\"padding: 2px 10px; text-align: left; overflow: hidden; text-overflow: ellipsis; white-space: nowrap\">3.452e-05</div>\n",
       "    <div style=\"padding: 2px 10px; text-align: left; overflow: hidden; text-overflow: ellipsis; white-space: nowrap\">4.542e-05</div>\n",
       "  </div>\n",
       "</div>"
      ],
      "text/plain": [
       "Validation: 100.0% [1501/1501]"
      ]
     },
     "metadata": {},
     "output_type": "display_data"
    },
    {
     "name": "stdout",
     "output_type": "stream",
     "text": [
      "Starting phase: Train\n"
     ]
    },
    {
     "name": "stderr",
     "output_type": "stream",
     "text": [
      "INFO: `Trainer.fit` stopped: `max_steps=1501` reached.\n"
     ]
    },
    {
     "name": "stdout",
     "output_type": "stream",
     "text": [
      "I 2280.9 li.py.ut.ra:`Trainer.fit` stopped: `max_steps=1501` reached.\n",
      "I 2280.9 ex.ca.la:Label frequencies (n=96064): _any: 87 (0.091%), red: 87 (0.091%)\n",
      "I 2280.9 ex.ca.la:Label frequencies (n=96064): _any: 87 (0.091%), red: 87 (0.091%)\n"
     ]
    },
    {
     "data": {
      "text/html": [],
      "text/plain": [
       "<IPython.core.display.HTML object>"
      ]
     },
     "metadata": {},
     "output_type": "display_data"
    },
    {
     "data": {
      "text/html": [
       "<br>    <style><br>        .wandb-row {<br>            display: flex;<br>            flex-direction: row;<br>            flex-wrap: wrap;<br>            justify-content: flex-start;<br>            width: 100%;<br>        }<br>        .wandb-col {<br>            display: flex;<br>            flex-direction: column;<br>            flex-basis: 100%;<br>            flex: 1;<br>            padding: 10px;<br>        }<br>    </style><br><div class=\"wandb-row\"><div class=\"wandb-col\"><h3>Run history:</h3><br/><table class=\"wandb\"><tr><td>epoch</td><td>▁▁▁▁▁▂▂▂▃▃▃▃▃▃▄▄▄▄▄▄▄▄▅▅▅▅▆▆▆▆▆▇▇▇▇█████</td></tr><tr><td>labels/_any</td><td>▁</td></tr><tr><td>labels/epoch/_any</td><td>▁█▆▅▇▇▄▅▅▅▅▄▅▄▅▅▅▅▅▆▆▆▆▆▆▆▆▆▆▆▆▆▆▆▆▆▆▆▆▆</td></tr><tr><td>labels/epoch/red</td><td>▁█▅▇█▅▅▄▄▅▅▅▅▅▅▅▅▅▅▆▆▆▆▆▆▆▆▆▆▆▆▆▆▆▆▆▆▆▆▆</td></tr><tr><td>labels/red</td><td>▁</td></tr><tr><td>train_anchor</td><td>▁▁▁▁▁▁▁▁▁▁▁▁▁▁▁▁▁█▁▁▁▁▁▁▁▁▁▁▁▁▁▁▁▂▁▁▁▁▁▁</td></tr><tr><td>train_anti-anchor</td><td>██▇▂▁▁▁▁▁▁▁▂▁▁▁▁▁▁▁▁▁▁▁▁▁▁▁▁▁▁▁▁▁▁▁▁▁▁▁▁</td></tr><tr><td>train_anti-subspace</td><td>▃▁▁▁▁▁▁▁▁▁▁▁▁▁▁▁▂▂▅▂▆▄▂▄▄▂▄▅▃█▂▃▅▅▄▃▅▅▄▄</td></tr><tr><td>train_loss</td><td>█▄▄▂▂▂▂▁▁▁▁▁▁▆▁▁▁▁▂▁▁▁▁▁▁▁▁▁▁▁▁▁▁▁▁▁▁▁▁▁</td></tr><tr><td>train_recon</td><td>█▁▁▁▁▁▁▁▁▁▁▁▁▁▁▁▁▁▁▁▁▁▁▁▁▁▁▁▁▁▁▁▁▁▁▁▁▁▁▁</td></tr><tr><td>train_separate</td><td>▇█▄▄▃▃▂▂▂▂▁▁▂▁▁▁▁▁▂▂▂▂▂▁▁▂▁▁▂▁▁▂▂▁▁▁▁▁▂▁</td></tr><tr><td>trainer/global_step</td><td>▁▁▂▂▂▂▂▂▃▃▃▃▃▃▄▄▄▄▅▅▅▅▅▅▅▆▆▆▆▇▇▇▇▇▇█████</td></tr><tr><td>val_anchor</td><td>▁█▁▁▁▁▁▁▁▁</td></tr><tr><td>val_anti-anchor</td><td>▂▃▁█▁▁▂▃▁▁</td></tr><tr><td>val_loss</td><td>▅▂▃█▂▃▁▁▁▁</td></tr><tr><td>val_recon</td><td>▅▂▃█▂▃▁▁▁▁</td></tr></table><br/></div><div class=\"wandb-col\"><h3>Run summary:</h3><br/><table class=\"wandb\"><tr><td>epoch</td><td>187</td></tr><tr><td>labels/_any</td><td>0.00091</td></tr><tr><td>labels/epoch/_any</td><td>0.00091</td></tr><tr><td>labels/epoch/red</td><td>0.00091</td></tr><tr><td>labels/red</td><td>0.00091</td></tr><tr><td>train_anchor</td><td>0</td></tr><tr><td>train_anti-anchor</td><td>0</td></tr><tr><td>train_anti-subspace</td><td>0.0856</td></tr><tr><td>train_loss</td><td>3e-05</td></tr><tr><td>train_recon</td><td>3e-05</td></tr><tr><td>train_separate</td><td>0.27476</td></tr><tr><td>trainer/global_step</td><td>1501</td></tr><tr><td>val_anchor</td><td>0</td></tr><tr><td>val_anti-anchor</td><td>0</td></tr><tr><td>val_loss</td><td>3e-05</td></tr><tr><td>val_recon</td><td>3e-05</td></tr></table><br/></div></div>"
      ],
      "text/plain": [
       "<IPython.core.display.HTML object>"
      ]
     },
     "metadata": {},
     "output_type": "display_data"
    },
    {
     "data": {
      "text/html": [
       " View run <strong style=\"color:#cdcd00\">Ex 2.9.1: Ablate red (only), 5D</strong> at: <a href='https://wandb.ai/z0r/ex-preppy/runs/lliakigp' target=\"_blank\">https://wandb.ai/z0r/ex-preppy/runs/lliakigp</a><br> View project at: <a href='https://wandb.ai/z0r/ex-preppy' target=\"_blank\">https://wandb.ai/z0r/ex-preppy</a><br>Synced 5 W&B file(s), 0 media file(s), 0 artifact file(s) and 0 other file(s)"
      ],
      "text/plain": [
       "<IPython.core.display.HTML object>"
      ]
     },
     "metadata": {},
     "output_type": "display_data"
    },
    {
     "data": {
      "text/html": [
       "Find logs at: <code>/tmp/wandb/run-20251010_041406-lliakigp/logs</code>"
      ],
      "text/plain": [
       "<IPython.core.display.HTML object>"
      ]
     },
     "metadata": {},
     "output_type": "display_data"
    },
    {
     "name": "stderr",
     "output_type": "stream",
     "text": [
      "INFO: GPU available: False, used: False\n"
     ]
    },
    {
     "name": "stdout",
     "output_type": "stream",
     "text": [
      "I 2282.3 li.py.ut.ra:GPU available: False, used: False\n"
     ]
    },
    {
     "name": "stderr",
     "output_type": "stream",
     "text": [
      "INFO: TPU available: False, using: 0 TPU cores\n"
     ]
    },
    {
     "name": "stdout",
     "output_type": "stream",
     "text": [
      "I 2282.3 li.py.ut.ra:TPU available: False, using: 0 TPU cores\n"
     ]
    },
    {
     "name": "stderr",
     "output_type": "stream",
     "text": [
      "INFO: HPU available: False, using: 0 HPUs\n"
     ]
    },
    {
     "name": "stdout",
     "output_type": "stream",
     "text": [
      "I 2282.3 li.py.ut.ra:HPU available: False, using: 0 HPUs\n"
     ]
    },
    {
     "name": "stderr",
     "output_type": "stream",
     "text": [
      "/workspaces/ex-color-transformer/.venv/lib/python3.13/site-packages/lightning/pytorch/trainer/connectors/data_connector.py:425: The 'predict_dataloader' does not have many workers which may be a bottleneck. Consider increasing the value of the `num_workers` argument` to `num_workers=3` in the `DataLoader` to improve performance.\n",
      "INFO: GPU available: False, used: False\n",
      "INFO: GPU available: False, used: False\n"
     ]
    },
    {
     "name": "stdout",
     "output_type": "stream",
     "text": [
      "I 2282.6 li.py.ut.ra:GPU available: False, used: False\n"
     ]
    },
    {
     "name": "stderr",
     "output_type": "stream",
     "text": [
      "INFO: TPU available: False, using: 0 TPU cores\n"
     ]
    },
    {
     "name": "stdout",
     "output_type": "stream",
     "text": [
      "I 2282.6 li.py.ut.ra:TPU available: False, using: 0 TPU cores\n"
     ]
    },
    {
     "name": "stderr",
     "output_type": "stream",
     "text": [
      "INFO: HPU available: False, using: 0 HPUs\n"
     ]
    },
    {
     "name": "stdout",
     "output_type": "stream",
     "text": [
      "I 2282.6 li.py.ut.ra:HPU available: False, using: 0 HPUs\n"
     ]
    },
    {
     "name": "stderr",
     "output_type": "stream",
     "text": [
      "INFO: GPU available: False, used: False\n"
     ]
    },
    {
     "name": "stdout",
     "output_type": "stream",
     "text": [
      "I 2283.1 li.py.ut.ra:GPU available: False, used: False\n"
     ]
    },
    {
     "name": "stderr",
     "output_type": "stream",
     "text": [
      "INFO: TPU available: False, using: 0 TPU cores\n"
     ]
    },
    {
     "name": "stdout",
     "output_type": "stream",
     "text": [
      "I 2283.1 li.py.ut.ra:TPU available: False, using: 0 TPU cores\n"
     ]
    },
    {
     "name": "stderr",
     "output_type": "stream",
     "text": [
      "INFO: HPU available: False, using: 0 HPUs\n"
     ]
    },
    {
     "name": "stdout",
     "output_type": "stream",
     "text": [
      "I 2283.1 li.py.ut.ra:HPU available: False, using: 0 HPUs\n"
     ]
    },
    {
     "name": "stderr",
     "output_type": "stream",
     "text": [
      "/workspaces/ex-color-transformer/.venv/lib/python3.13/site-packages/lightning/pytorch/trainer/connectors/data_connector.py:425: The 'predict_dataloader' does not have many workers which may be a bottleneck. Consider increasing the value of the `num_workers` argument` to `num_workers=3` in the `DataLoader` to improve performance.\n",
      "INFO: GPU available: False, used: False\n"
     ]
    },
    {
     "name": "stdout",
     "output_type": "stream",
     "text": [
      "I 2283.3 li.py.ut.ra:GPU available: False, used: False\n"
     ]
    },
    {
     "name": "stderr",
     "output_type": "stream",
     "text": [
      "INFO: TPU available: False, using: 0 TPU cores\n"
     ]
    },
    {
     "name": "stdout",
     "output_type": "stream",
     "text": [
      "I 2283.3 li.py.ut.ra:TPU available: False, using: 0 TPU cores\n"
     ]
    },
    {
     "name": "stderr",
     "output_type": "stream",
     "text": [
      "INFO: HPU available: False, using: 0 HPUs\n"
     ]
    },
    {
     "name": "stdout",
     "output_type": "stream",
     "text": [
      "I 2283.3 li.py.ut.ra:HPU available: False, using: 0 HPUs\n"
     ]
    },
    {
     "name": "stderr",
     "output_type": "stream",
     "text": [
      "INFO: GPU available: False, used: False\n"
     ]
    },
    {
     "name": "stdout",
     "output_type": "stream",
     "text": [
      "I 2283.3 li.py.ut.ra:GPU available: False, used: False\n"
     ]
    },
    {
     "name": "stderr",
     "output_type": "stream",
     "text": [
      "INFO: TPU available: False, using: 0 TPU cores\n"
     ]
    },
    {
     "name": "stdout",
     "output_type": "stream",
     "text": [
      "I 2283.3 li.py.ut.ra:TPU available: False, using: 0 TPU cores\n"
     ]
    },
    {
     "name": "stderr",
     "output_type": "stream",
     "text": [
      "INFO: HPU available: False, using: 0 HPUs\n"
     ]
    },
    {
     "name": "stdout",
     "output_type": "stream",
     "text": [
      "I 2283.3 li.py.ut.ra:HPU available: False, using: 0 HPUs\n"
     ]
    },
    {
     "name": "stderr",
     "output_type": "stream",
     "text": [
      "INFO: GPU available: False, used: False\n"
     ]
    },
    {
     "name": "stdout",
     "output_type": "stream",
     "text": [
      "I 2284.9 li.py.ut.ra:GPU available: False, used: False\n"
     ]
    },
    {
     "name": "stderr",
     "output_type": "stream",
     "text": [
      "INFO: TPU available: False, using: 0 TPU cores\n"
     ]
    },
    {
     "name": "stdout",
     "output_type": "stream",
     "text": [
      "I 2284.9 li.py.ut.ra:TPU available: False, using: 0 TPU cores\n"
     ]
    },
    {
     "name": "stderr",
     "output_type": "stream",
     "text": [
      "INFO: HPU available: False, using: 0 HPUs\n"
     ]
    },
    {
     "name": "stdout",
     "output_type": "stream",
     "text": [
      "I 2284.9 li.py.ut.ra:HPU available: False, using: 0 HPUs\n"
     ]
    },
    {
     "name": "stderr",
     "output_type": "stream",
     "text": [
      "INFO: GPU available: False, used: False\n"
     ]
    },
    {
     "name": "stdout",
     "output_type": "stream",
     "text": [
      "I 2284.9 li.py.ut.ra:GPU available: False, used: False\n"
     ]
    },
    {
     "name": "stderr",
     "output_type": "stream",
     "text": [
      "INFO: TPU available: False, using: 0 TPU cores\n"
     ]
    },
    {
     "name": "stdout",
     "output_type": "stream",
     "text": [
      "I 2284.9 li.py.ut.ra:TPU available: False, using: 0 TPU cores\n"
     ]
    },
    {
     "name": "stderr",
     "output_type": "stream",
     "text": [
      "INFO: HPU available: False, using: 0 HPUs\n"
     ]
    },
    {
     "name": "stdout",
     "output_type": "stream",
     "text": [
      "I 2284.9 li.py.ut.ra:HPU available: False, using: 0 HPUs\n"
     ]
    },
    {
     "name": "stderr",
     "output_type": "stream",
     "text": [
      "/workspaces/ex-color-transformer/.venv/lib/python3.13/site-packages/lightning/pytorch/trainer/connectors/data_connector.py:425: The 'predict_dataloader' does not have many workers which may be a bottleneck. Consider increasing the value of the `num_workers` argument` to `num_workers=3` in the `DataLoader` to improve performance.\n",
      "INFO: GPU available: False, used: False\n",
      "INFO: GPU available: False, used: False\n"
     ]
    },
    {
     "name": "stdout",
     "output_type": "stream",
     "text": [
      "I 2285.2 li.py.ut.ra:GPU available: False, used: False\n"
     ]
    },
    {
     "name": "stderr",
     "output_type": "stream",
     "text": [
      "INFO: TPU available: False, using: 0 TPU cores\n"
     ]
    },
    {
     "name": "stdout",
     "output_type": "stream",
     "text": [
      "I 2285.2 li.py.ut.ra:TPU available: False, using: 0 TPU cores\n"
     ]
    },
    {
     "name": "stderr",
     "output_type": "stream",
     "text": [
      "INFO: HPU available: False, using: 0 HPUs\n"
     ]
    },
    {
     "name": "stdout",
     "output_type": "stream",
     "text": [
      "I 2285.2 li.py.ut.ra:HPU available: False, using: 0 HPUs\n"
     ]
    },
    {
     "name": "stderr",
     "output_type": "stream",
     "text": [
      "INFO: GPU available: False, used: False\n"
     ]
    },
    {
     "name": "stdout",
     "output_type": "stream",
     "text": [
      "I 2285.2 li.py.ut.ra:GPU available: False, used: False\n"
     ]
    },
    {
     "name": "stderr",
     "output_type": "stream",
     "text": [
      "INFO: TPU available: False, using: 0 TPU cores\n"
     ]
    },
    {
     "name": "stdout",
     "output_type": "stream",
     "text": [
      "I 2285.2 li.py.ut.ra:TPU available: False, using: 0 TPU cores\n"
     ]
    },
    {
     "name": "stderr",
     "output_type": "stream",
     "text": [
      "INFO: HPU available: False, using: 0 HPUs\n"
     ]
    },
    {
     "name": "stdout",
     "output_type": "stream",
     "text": [
      "I 2285.2 li.py.ut.ra:HPU available: False, using: 0 HPUs\n"
     ]
    },
    {
     "name": "stderr",
     "output_type": "stream",
     "text": [
      "INFO: GPU available: False, used: False\n"
     ]
    },
    {
     "name": "stdout",
     "output_type": "stream",
     "text": [
      "I 2286.3 li.py.ut.ra:GPU available: False, used: False\n"
     ]
    },
    {
     "name": "stderr",
     "output_type": "stream",
     "text": [
      "INFO: TPU available: False, using: 0 TPU cores\n"
     ]
    },
    {
     "name": "stdout",
     "output_type": "stream",
     "text": [
      "I 2286.3 li.py.ut.ra:TPU available: False, using: 0 TPU cores\n"
     ]
    },
    {
     "name": "stderr",
     "output_type": "stream",
     "text": [
      "INFO: HPU available: False, using: 0 HPUs\n"
     ]
    },
    {
     "name": "stdout",
     "output_type": "stream",
     "text": [
      "I 2286.3 li.py.ut.ra:HPU available: False, using: 0 HPUs\n"
     ]
    },
    {
     "name": "stderr",
     "output_type": "stream",
     "text": [
      "INFO: GPU available: False, used: False\n"
     ]
    },
    {
     "name": "stdout",
     "output_type": "stream",
     "text": [
      "I 2286.3 li.py.ut.ra:GPU available: False, used: False\n"
     ]
    },
    {
     "name": "stderr",
     "output_type": "stream",
     "text": [
      "INFO: TPU available: False, using: 0 TPU cores\n"
     ]
    },
    {
     "name": "stdout",
     "output_type": "stream",
     "text": [
      "I 2286.3 li.py.ut.ra:TPU available: False, using: 0 TPU cores\n"
     ]
    },
    {
     "name": "stderr",
     "output_type": "stream",
     "text": [
      "INFO: HPU available: False, using: 0 HPUs\n"
     ]
    },
    {
     "name": "stdout",
     "output_type": "stream",
     "text": [
      "I 2286.3 li.py.ut.ra:HPU available: False, using: 0 HPUs\n"
     ]
    },
    {
     "name": "stderr",
     "output_type": "stream",
     "text": [
      "/workspaces/ex-color-transformer/.venv/lib/python3.13/site-packages/lightning/pytorch/trainer/connectors/data_connector.py:425: The 'predict_dataloader' does not have many workers which may be a bottleneck. Consider increasing the value of the `num_workers` argument` to `num_workers=3` in the `DataLoader` to improve performance.\n",
      "INFO: GPU available: False, used: False\n",
      "INFO: GPU available: False, used: False\n"
     ]
    },
    {
     "name": "stdout",
     "output_type": "stream",
     "text": [
      "I 2286.6 li.py.ut.ra:GPU available: False, used: False\n"
     ]
    },
    {
     "name": "stderr",
     "output_type": "stream",
     "text": [
      "INFO: TPU available: False, using: 0 TPU cores\n"
     ]
    },
    {
     "name": "stdout",
     "output_type": "stream",
     "text": [
      "I 2286.6 li.py.ut.ra:TPU available: False, using: 0 TPU cores\n"
     ]
    },
    {
     "name": "stderr",
     "output_type": "stream",
     "text": [
      "INFO: HPU available: False, using: 0 HPUs\n"
     ]
    },
    {
     "name": "stdout",
     "output_type": "stream",
     "text": [
      "I 2286.6 li.py.ut.ra:HPU available: False, using: 0 HPUs\n"
     ]
    },
    {
     "name": "stderr",
     "output_type": "stream",
     "text": [
      "INFO: GPU available: False, used: False\n"
     ]
    },
    {
     "name": "stdout",
     "output_type": "stream",
     "text": [
      "I 2286.6 li.py.ut.ra:GPU available: False, used: False\n"
     ]
    },
    {
     "name": "stderr",
     "output_type": "stream",
     "text": [
      "INFO: TPU available: False, using: 0 TPU cores\n"
     ]
    },
    {
     "name": "stdout",
     "output_type": "stream",
     "text": [
      "I 2286.6 li.py.ut.ra:TPU available: False, using: 0 TPU cores\n"
     ]
    },
    {
     "name": "stderr",
     "output_type": "stream",
     "text": [
      "INFO: HPU available: False, using: 0 HPUs\n"
     ]
    },
    {
     "name": "stdout",
     "output_type": "stream",
     "text": [
      "I 2286.6 li.py.ut.ra:HPU available: False, using: 0 HPUs\n"
     ]
    },
    {
     "name": "stderr",
     "output_type": "stream",
     "text": [
      "INFO: GPU available: False, used: False\n"
     ]
    },
    {
     "name": "stdout",
     "output_type": "stream",
     "text": [
      "I 2288.9 li.py.ut.ra:GPU available: False, used: False\n"
     ]
    },
    {
     "name": "stderr",
     "output_type": "stream",
     "text": [
      "INFO: TPU available: False, using: 0 TPU cores\n"
     ]
    },
    {
     "name": "stdout",
     "output_type": "stream",
     "text": [
      "I 2289.0 li.py.ut.ra:TPU available: False, using: 0 TPU cores\n"
     ]
    },
    {
     "name": "stderr",
     "output_type": "stream",
     "text": [
      "INFO: HPU available: False, using: 0 HPUs\n"
     ]
    },
    {
     "name": "stdout",
     "output_type": "stream",
     "text": [
      "I 2289.0 li.py.ut.ra:HPU available: False, using: 0 HPUs\n"
     ]
    },
    {
     "name": "stderr",
     "output_type": "stream",
     "text": [
      "INFO: GPU available: False, used: False\n"
     ]
    },
    {
     "name": "stdout",
     "output_type": "stream",
     "text": [
      "I 2289.0 li.py.ut.ra:GPU available: False, used: False\n"
     ]
    },
    {
     "name": "stderr",
     "output_type": "stream",
     "text": [
      "INFO: TPU available: False, using: 0 TPU cores\n"
     ]
    },
    {
     "name": "stdout",
     "output_type": "stream",
     "text": [
      "I 2289.0 li.py.ut.ra:TPU available: False, using: 0 TPU cores\n"
     ]
    },
    {
     "name": "stderr",
     "output_type": "stream",
     "text": [
      "INFO: HPU available: False, using: 0 HPUs\n"
     ]
    },
    {
     "name": "stdout",
     "output_type": "stream",
     "text": [
      "I 2289.0 li.py.ut.ra:HPU available: False, using: 0 HPUs\n"
     ]
    },
    {
     "name": "stderr",
     "output_type": "stream",
     "text": [
      "/workspaces/ex-color-transformer/.venv/lib/python3.13/site-packages/lightning/pytorch/trainer/connectors/data_connector.py:425: The 'predict_dataloader' does not have many workers which may be a bottleneck. Consider increasing the value of the `num_workers` argument` to `num_workers=3` in the `DataLoader` to improve performance.\n",
      "INFO: GPU available: False, used: False\n",
      "INFO: GPU available: False, used: False\n"
     ]
    },
    {
     "name": "stdout",
     "output_type": "stream",
     "text": [
      "I 2289.6 li.py.ut.ra:GPU available: False, used: False\n"
     ]
    },
    {
     "name": "stderr",
     "output_type": "stream",
     "text": [
      "INFO: TPU available: False, using: 0 TPU cores\n"
     ]
    },
    {
     "name": "stdout",
     "output_type": "stream",
     "text": [
      "I 2289.6 li.py.ut.ra:TPU available: False, using: 0 TPU cores\n"
     ]
    },
    {
     "name": "stderr",
     "output_type": "stream",
     "text": [
      "INFO: HPU available: False, using: 0 HPUs\n"
     ]
    },
    {
     "name": "stdout",
     "output_type": "stream",
     "text": [
      "I 2289.6 li.py.ut.ra:HPU available: False, using: 0 HPUs\n"
     ]
    },
    {
     "name": "stderr",
     "output_type": "stream",
     "text": [
      "INFO: GPU available: False, used: False\n"
     ]
    },
    {
     "name": "stdout",
     "output_type": "stream",
     "text": [
      "I 2289.6 li.py.ut.ra:GPU available: False, used: False\n"
     ]
    },
    {
     "name": "stderr",
     "output_type": "stream",
     "text": [
      "INFO: TPU available: False, using: 0 TPU cores\n"
     ]
    },
    {
     "name": "stdout",
     "output_type": "stream",
     "text": [
      "I 2289.6 li.py.ut.ra:TPU available: False, using: 0 TPU cores\n"
     ]
    },
    {
     "name": "stderr",
     "output_type": "stream",
     "text": [
      "INFO: HPU available: False, using: 0 HPUs\n"
     ]
    },
    {
     "name": "stdout",
     "output_type": "stream",
     "text": [
      "I 2289.6 li.py.ut.ra:HPU available: False, using: 0 HPUs\n"
     ]
    },
    {
     "name": "stderr",
     "output_type": "stream",
     "text": [
      "INFO: GPU available: False, used: False\n"
     ]
    },
    {
     "name": "stdout",
     "output_type": "stream",
     "text": [
      "I 2291.5 li.py.ut.ra:GPU available: False, used: False\n"
     ]
    },
    {
     "name": "stderr",
     "output_type": "stream",
     "text": [
      "INFO: TPU available: False, using: 0 TPU cores\n"
     ]
    },
    {
     "name": "stdout",
     "output_type": "stream",
     "text": [
      "I 2291.5 li.py.ut.ra:TPU available: False, using: 0 TPU cores\n"
     ]
    },
    {
     "name": "stderr",
     "output_type": "stream",
     "text": [
      "INFO: HPU available: False, using: 0 HPUs\n"
     ]
    },
    {
     "name": "stdout",
     "output_type": "stream",
     "text": [
      "I 2291.5 li.py.ut.ra:HPU available: False, using: 0 HPUs\n",
      "Completed 100 runs. Best seed 47 has ablated r = +0.980 (R² = 0.960).\n",
      "Completed 100 runs. Best seed 47 has ablated r = +0.980 (R² = 0.960).\n"
     ]
    }
   ],
   "source": [
    "# Reload dopesheet: makes tweaking params during development easier\n",
    "dopesheet = Dopesheet.from_csv(f'./ex-{nbid}-dopesheet.csv')\n",
    "\n",
    "run_metrics, best_run = await run_multi_seed_training(\n",
    "    RUN_SEEDS,\n",
    "    EVALUATION_PLANS,\n",
    "    CORRELATION_SPECS,\n",
    "    best_plan=BEST_PLAN,\n",
    "    named_colors_factory=named_colors_factory,\n",
    ")\n",
    "run_metrics_df = pd.DataFrame(m.to_row() for m in run_metrics).sort_values('seed').set_index('seed')\n",
    "\n",
    "print(\n",
    "    f'Completed {len(run_metrics)} runs. Best seed {best_run.seed} has {BEST_PLAN} r = '\n",
    "    f'{best_run.metrics.correlations[BEST_PLAN].correlation:+.3f} '\n",
    "    f'(R² = {best_run.metrics.correlations[BEST_PLAN].r_squared:.3f}).'\n",
    ")\n",
    "\n",
    "model = best_run.model\n",
    "best_run_metrics = best_run.metrics\n",
    "named_colors = best_run.named_colors\n",
    "results = best_run.results\n",
    "contexts = best_run.contexts\n",
    "\n",
    "suppression_extra = best_run.get_extra('suppression', 'config')\n",
    "falloff_extra = best_run.get_extra('suppression', 'falloff')\n",
    "if not isinstance(suppression_extra, InterventionConfig) or not isinstance(falloff_extra, BoundedFalloff):\n",
    "    raise RuntimeError('Suppression extras were not recorded for the best run.')\n",
    "\n",
    "suppression = suppression_extra\n",
    "falloff = falloff_extra\n",
    "\n",
    "no_intervention_results = results['no intervention']\n",
    "ablation_results = results['ablated']\n",
    "pruned_results = results['pruned']\n",
    "suppression_results = results['suppression']"
   ]
  },
  {
   "cell_type": "markdown",
   "id": "90dac03a",
   "metadata": {},
   "source": [
    "### Multi-run summary\n",
    "We trained multiple seeds to understand how sensitive the intervention metrics are to initialization. The table below captures the correlation story for each run, and we pick the best checkpoint by maximizing the absolute ablation correlation."
   ]
  },
  {
   "cell_type": "code",
   "execution_count": 23,
   "id": "48b4f8c7",
   "metadata": {},
   "outputs": [
    {
     "data": {
      "text/html": [
       "<div>\n",
       "<style scoped>\n",
       "    .dataframe tbody tr th:only-of-type {\n",
       "        vertical-align: middle;\n",
       "    }\n",
       "\n",
       "    .dataframe tbody tr th {\n",
       "        vertical-align: top;\n",
       "    }\n",
       "\n",
       "    .dataframe thead th {\n",
       "        text-align: right;\n",
       "    }\n",
       "</style>\n",
       "<table border=\"1\" class=\"dataframe\">\n",
       "  <thead>\n",
       "    <tr style=\"text-align: right;\">\n",
       "      <th></th>\n",
       "      <th>ablated_r</th>\n",
       "      <th>ablated_r2</th>\n",
       "      <th>ablated_p</th>\n",
       "      <th>ablated_power</th>\n",
       "      <th>ablated_abs</th>\n",
       "      <th>suppression_r</th>\n",
       "      <th>suppression_r2</th>\n",
       "      <th>suppression_p</th>\n",
       "      <th>suppression_power</th>\n",
       "      <th>suppression_abs</th>\n",
       "    </tr>\n",
       "    <tr>\n",
       "      <th>seed</th>\n",
       "      <th></th>\n",
       "      <th></th>\n",
       "      <th></th>\n",
       "      <th></th>\n",
       "      <th></th>\n",
       "      <th></th>\n",
       "      <th></th>\n",
       "      <th></th>\n",
       "      <th></th>\n",
       "      <th></th>\n",
       "    </tr>\n",
       "  </thead>\n",
       "  <tbody>\n",
       "    <tr>\n",
       "      <th>0.0</th>\n",
       "      <td>0.921529</td>\n",
       "      <td>0.849216</td>\n",
       "      <td>0.0</td>\n",
       "      <td>3</td>\n",
       "      <td>0.921529</td>\n",
       "      <td>0.946401</td>\n",
       "      <td>0.895675</td>\n",
       "      <td>0.0</td>\n",
       "      <td>2</td>\n",
       "      <td>0.946401</td>\n",
       "    </tr>\n",
       "    <tr>\n",
       "      <th>1.0</th>\n",
       "      <td>0.945684</td>\n",
       "      <td>0.894318</td>\n",
       "      <td>0.0</td>\n",
       "      <td>3</td>\n",
       "      <td>0.945684</td>\n",
       "      <td>0.958356</td>\n",
       "      <td>0.918447</td>\n",
       "      <td>0.0</td>\n",
       "      <td>2</td>\n",
       "      <td>0.958356</td>\n",
       "    </tr>\n",
       "    <tr>\n",
       "      <th>2.0</th>\n",
       "      <td>0.939028</td>\n",
       "      <td>0.881774</td>\n",
       "      <td>0.0</td>\n",
       "      <td>3</td>\n",
       "      <td>0.939028</td>\n",
       "      <td>0.970026</td>\n",
       "      <td>0.940951</td>\n",
       "      <td>0.0</td>\n",
       "      <td>2</td>\n",
       "      <td>0.970026</td>\n",
       "    </tr>\n",
       "    <tr>\n",
       "      <th>3.0</th>\n",
       "      <td>0.865224</td>\n",
       "      <td>0.748613</td>\n",
       "      <td>0.0</td>\n",
       "      <td>3</td>\n",
       "      <td>0.865224</td>\n",
       "      <td>0.927171</td>\n",
       "      <td>0.859646</td>\n",
       "      <td>0.0</td>\n",
       "      <td>2</td>\n",
       "      <td>0.927171</td>\n",
       "    </tr>\n",
       "    <tr>\n",
       "      <th>4.0</th>\n",
       "      <td>0.902018</td>\n",
       "      <td>0.813637</td>\n",
       "      <td>0.0</td>\n",
       "      <td>3</td>\n",
       "      <td>0.902018</td>\n",
       "      <td>0.956959</td>\n",
       "      <td>0.915771</td>\n",
       "      <td>0.0</td>\n",
       "      <td>2</td>\n",
       "      <td>0.956959</td>\n",
       "    </tr>\n",
       "    <tr>\n",
       "      <th>...</th>\n",
       "      <td>...</td>\n",
       "      <td>...</td>\n",
       "      <td>...</td>\n",
       "      <td>...</td>\n",
       "      <td>...</td>\n",
       "      <td>...</td>\n",
       "      <td>...</td>\n",
       "      <td>...</td>\n",
       "      <td>...</td>\n",
       "      <td>...</td>\n",
       "    </tr>\n",
       "    <tr>\n",
       "      <th>95.0</th>\n",
       "      <td>0.905823</td>\n",
       "      <td>0.820515</td>\n",
       "      <td>0.0</td>\n",
       "      <td>3</td>\n",
       "      <td>0.905823</td>\n",
       "      <td>0.934974</td>\n",
       "      <td>0.874176</td>\n",
       "      <td>0.0</td>\n",
       "      <td>2</td>\n",
       "      <td>0.934974</td>\n",
       "    </tr>\n",
       "    <tr>\n",
       "      <th>96.0</th>\n",
       "      <td>0.971634</td>\n",
       "      <td>0.944073</td>\n",
       "      <td>0.0</td>\n",
       "      <td>3</td>\n",
       "      <td>0.971634</td>\n",
       "      <td>0.953305</td>\n",
       "      <td>0.908791</td>\n",
       "      <td>0.0</td>\n",
       "      <td>2</td>\n",
       "      <td>0.953305</td>\n",
       "    </tr>\n",
       "    <tr>\n",
       "      <th>97.0</th>\n",
       "      <td>0.962716</td>\n",
       "      <td>0.926822</td>\n",
       "      <td>0.0</td>\n",
       "      <td>3</td>\n",
       "      <td>0.962716</td>\n",
       "      <td>0.965537</td>\n",
       "      <td>0.932261</td>\n",
       "      <td>0.0</td>\n",
       "      <td>2</td>\n",
       "      <td>0.965537</td>\n",
       "    </tr>\n",
       "    <tr>\n",
       "      <th>98.0</th>\n",
       "      <td>0.930735</td>\n",
       "      <td>0.866268</td>\n",
       "      <td>0.0</td>\n",
       "      <td>3</td>\n",
       "      <td>0.930735</td>\n",
       "      <td>0.918169</td>\n",
       "      <td>0.843034</td>\n",
       "      <td>0.0</td>\n",
       "      <td>2</td>\n",
       "      <td>0.918169</td>\n",
       "    </tr>\n",
       "    <tr>\n",
       "      <th>99.0</th>\n",
       "      <td>0.929407</td>\n",
       "      <td>0.863797</td>\n",
       "      <td>0.0</td>\n",
       "      <td>3</td>\n",
       "      <td>0.929407</td>\n",
       "      <td>0.939674</td>\n",
       "      <td>0.882987</td>\n",
       "      <td>0.0</td>\n",
       "      <td>2</td>\n",
       "      <td>0.939674</td>\n",
       "    </tr>\n",
       "  </tbody>\n",
       "</table>\n",
       "<p>100 rows × 10 columns</p>\n",
       "</div>"
      ],
      "text/plain": [
       "      ablated_r  ablated_r2  ablated_p  ablated_power  ablated_abs  \\\n",
       "seed                                                                 \n",
       "0.0    0.921529    0.849216        0.0              3     0.921529   \n",
       "1.0    0.945684    0.894318        0.0              3     0.945684   \n",
       "2.0    0.939028    0.881774        0.0              3     0.939028   \n",
       "3.0    0.865224    0.748613        0.0              3     0.865224   \n",
       "4.0    0.902018    0.813637        0.0              3     0.902018   \n",
       "...         ...         ...        ...            ...          ...   \n",
       "95.0   0.905823    0.820515        0.0              3     0.905823   \n",
       "96.0   0.971634    0.944073        0.0              3     0.971634   \n",
       "97.0   0.962716    0.926822        0.0              3     0.962716   \n",
       "98.0   0.930735    0.866268        0.0              3     0.930735   \n",
       "99.0   0.929407    0.863797        0.0              3     0.929407   \n",
       "\n",
       "      suppression_r  suppression_r2  suppression_p  suppression_power  \\\n",
       "seed                                                                    \n",
       "0.0        0.946401        0.895675            0.0                  2   \n",
       "1.0        0.958356        0.918447            0.0                  2   \n",
       "2.0        0.970026        0.940951            0.0                  2   \n",
       "3.0        0.927171        0.859646            0.0                  2   \n",
       "4.0        0.956959        0.915771            0.0                  2   \n",
       "...             ...             ...            ...                ...   \n",
       "95.0       0.934974        0.874176            0.0                  2   \n",
       "96.0       0.953305        0.908791            0.0                  2   \n",
       "97.0       0.965537        0.932261            0.0                  2   \n",
       "98.0       0.918169        0.843034            0.0                  2   \n",
       "99.0       0.939674        0.882987            0.0                  2   \n",
       "\n",
       "      suppression_abs  \n",
       "seed                   \n",
       "0.0          0.946401  \n",
       "1.0          0.958356  \n",
       "2.0          0.970026  \n",
       "3.0          0.927171  \n",
       "4.0          0.956959  \n",
       "...               ...  \n",
       "95.0         0.934974  \n",
       "96.0         0.953305  \n",
       "97.0         0.965537  \n",
       "98.0         0.918169  \n",
       "99.0         0.939674  \n",
       "\n",
       "[100 rows x 10 columns]"
      ]
     },
     "metadata": {},
     "output_type": "display_data"
    },
    {
     "data": {
      "text/html": [
       "<div>\n",
       "<style scoped>\n",
       "    .dataframe tbody tr th:only-of-type {\n",
       "        vertical-align: middle;\n",
       "    }\n",
       "\n",
       "    .dataframe tbody tr th {\n",
       "        vertical-align: top;\n",
       "    }\n",
       "\n",
       "    .dataframe thead th {\n",
       "        text-align: right;\n",
       "    }\n",
       "</style>\n",
       "<table border=\"1\" class=\"dataframe\">\n",
       "  <thead>\n",
       "    <tr style=\"text-align: right;\">\n",
       "      <th></th>\n",
       "      <th>mean</th>\n",
       "      <th>std</th>\n",
       "      <th>min</th>\n",
       "      <th>max</th>\n",
       "    </tr>\n",
       "    <tr>\n",
       "      <th>metric</th>\n",
       "      <th></th>\n",
       "      <th></th>\n",
       "      <th></th>\n",
       "      <th></th>\n",
       "    </tr>\n",
       "  </thead>\n",
       "  <tbody>\n",
       "    <tr>\n",
       "      <th>ablated_r</th>\n",
       "      <td>0.931351</td>\n",
       "      <td>0.033753</td>\n",
       "      <td>0.818136</td>\n",
       "      <td>0.979815</td>\n",
       "    </tr>\n",
       "    <tr>\n",
       "      <th>ablated_r2</th>\n",
       "      <td>0.868543</td>\n",
       "      <td>0.061725</td>\n",
       "      <td>0.669346</td>\n",
       "      <td>0.960037</td>\n",
       "    </tr>\n",
       "    <tr>\n",
       "      <th>ablated_p</th>\n",
       "      <td>0.000000</td>\n",
       "      <td>0.000000</td>\n",
       "      <td>0.000000</td>\n",
       "      <td>0.000000</td>\n",
       "    </tr>\n",
       "    <tr>\n",
       "      <th>ablated_power</th>\n",
       "      <td>3.000000</td>\n",
       "      <td>0.000000</td>\n",
       "      <td>3.000000</td>\n",
       "      <td>3.000000</td>\n",
       "    </tr>\n",
       "    <tr>\n",
       "      <th>ablated_abs</th>\n",
       "      <td>0.931351</td>\n",
       "      <td>0.033753</td>\n",
       "      <td>0.818136</td>\n",
       "      <td>0.979815</td>\n",
       "    </tr>\n",
       "    <tr>\n",
       "      <th>suppression_r</th>\n",
       "      <td>0.956301</td>\n",
       "      <td>0.024416</td>\n",
       "      <td>0.861479</td>\n",
       "      <td>0.991759</td>\n",
       "    </tr>\n",
       "    <tr>\n",
       "      <th>suppression_r2</th>\n",
       "      <td>0.915102</td>\n",
       "      <td>0.046036</td>\n",
       "      <td>0.742145</td>\n",
       "      <td>0.983585</td>\n",
       "    </tr>\n",
       "    <tr>\n",
       "      <th>suppression_p</th>\n",
       "      <td>0.000000</td>\n",
       "      <td>0.000000</td>\n",
       "      <td>0.000000</td>\n",
       "      <td>0.000000</td>\n",
       "    </tr>\n",
       "    <tr>\n",
       "      <th>suppression_power</th>\n",
       "      <td>2.000000</td>\n",
       "      <td>0.000000</td>\n",
       "      <td>2.000000</td>\n",
       "      <td>2.000000</td>\n",
       "    </tr>\n",
       "    <tr>\n",
       "      <th>suppression_abs</th>\n",
       "      <td>0.956301</td>\n",
       "      <td>0.024416</td>\n",
       "      <td>0.861479</td>\n",
       "      <td>0.991759</td>\n",
       "    </tr>\n",
       "  </tbody>\n",
       "</table>\n",
       "</div>"
      ],
      "text/plain": [
       "                       mean       std       min       max\n",
       "metric                                                   \n",
       "ablated_r          0.931351  0.033753  0.818136  0.979815\n",
       "ablated_r2         0.868543  0.061725  0.669346  0.960037\n",
       "ablated_p          0.000000  0.000000  0.000000  0.000000\n",
       "ablated_power      3.000000  0.000000  3.000000  3.000000\n",
       "ablated_abs        0.931351  0.033753  0.818136  0.979815\n",
       "suppression_r      0.956301  0.024416  0.861479  0.991759\n",
       "suppression_r2     0.915102  0.046036  0.742145  0.983585\n",
       "suppression_p      0.000000  0.000000  0.000000  0.000000\n",
       "suppression_power  2.000000  0.000000  2.000000  2.000000\n",
       "suppression_abs    0.956301  0.024416  0.861479  0.991759"
      ]
     },
     "metadata": {},
     "output_type": "display_data"
    }
   ],
   "source": [
    "from IPython.display import display\n",
    "\n",
    "display(run_metrics_df)\n",
    "\n",
    "prefixes = {metric_prefix(spec.plan) for spec in CORRELATION_SPECS}\n",
    "correlation_columns = [\n",
    "    column for column in run_metrics_df.columns if any(column.startswith(prefix) for prefix in prefixes)\n",
    "]\n",
    "correlation_summary = run_metrics_df[correlation_columns].agg(['mean', 'std', 'min', 'max']).T.rename_axis('metric')\n",
    "display(correlation_summary)"
   ]
  },
  {
   "cell_type": "markdown",
   "id": "3b95d650",
   "metadata": {},
   "source": [
    "## Test"
   ]
  },
  {
   "cell_type": "code",
   "execution_count": 24,
   "id": "482e58c1",
   "metadata": {},
   "outputs": [
    {
     "data": {
      "text/html": [
       "<picture>\n",
       "  <source srcset=\"large-assets/ex-2.9.1-pred-colors-no-intervention.dark.png?v=GFx_dsdt_8ACrNKDnMokL9p2r87L8vTQ4qpF3GCK5Ts\" media=\"(prefers-color-scheme: dark)\" />\n",
       "  <source srcset=\"large-assets/ex-2.9.1-pred-colors-no-intervention.png?v=GFx_dsdt_8ACrNKDnMokL9p2r87L8vTQ4qpF3GCK5Ts\" media=\"(prefers-color-scheme: light)\" />\n",
       "  <img src=\"large-assets/ex-2.9.1-pred-colors-no-intervention.png?v=GFx_dsdt_8ACrNKDnMokL9p2r87L8vTQ4qpF3GCK5Ts\" alt=\"Plot showing four slices of the HSV cube, titled &quot;Predicted colors · no intervention · V vs H by S&quot;. Nominally, each slice has constant saturation, but varies in value (brightness) from top to bottom, and in hue from left to right. Each color value is represented as a square patch of that color. The outer portion of the patches shows the color as reconstructed by the model; the inner portion shows the true (input) color.\" />\n",
       "</picture>"
      ],
      "text/plain": [
       "Plot showing four slices of the HSV cube, titled \"Predicted colors · no intervention · V vs H by S\". Nominally, each slice has constant saturation, but varies in value (brightness) from top to bottom, and in hue from left to right. Each color value is represented as a square patch of that color. The outer portion of the patches shows the color as reconstructed by the model; the inner portion shows the true (input) color."
      ]
     },
     "metadata": {},
     "output_type": "display_data"
    }
   ],
   "source": [
    "from IPython.display import clear_output\n",
    "\n",
    "clear_output()\n",
    "\n",
    "visualize_reconstructed_cube(\n",
    "    no_intervention_results.color_slice_cube.permute('svh'),\n",
    "    tags=no_intervention_results.tags,\n",
    ")\n",
    "# visualize_reconstruction_loss(no_intervention_results.loss_cube, tags=no_intervention_results.tags)\n",
    "# visualize_latent_space(\n",
    "#     no_intervention_results.latent_cube,\n",
    "#     tags=no_intervention_results.tags,\n",
    "#     dims=[(1, 0, 2), (2, 0, 1), (3, 0, 1), (4, 1, 2), (3, 2, 4), (4, 3, 0)],\n",
    "# )"
   ]
  },
  {
   "cell_type": "markdown",
   "id": "d8b4f1dc",
   "metadata": {},
   "source": [
    "### Ablation"
   ]
  },
  {
   "cell_type": "code",
   "execution_count": 25,
   "id": "a02428ab",
   "metadata": {},
   "outputs": [
    {
     "data": {
      "text/html": [
       "<picture>\n",
       "  <source srcset=\"large-assets/ex-2.9.1-pred-colors-ablated.dark.png?v=U8JxPZHM9xxt7D3GNOX-z-GNz0kkU4c7VfJu8LoYu0o\" media=\"(prefers-color-scheme: dark)\" />\n",
       "  <source srcset=\"large-assets/ex-2.9.1-pred-colors-ablated.png?v=U8JxPZHM9xxt7D3GNOX-z-GNz0kkU4c7VfJu8LoYu0o\" media=\"(prefers-color-scheme: light)\" />\n",
       "  <img src=\"large-assets/ex-2.9.1-pred-colors-ablated.png?v=U8JxPZHM9xxt7D3GNOX-z-GNz0kkU4c7VfJu8LoYu0o\" alt=\"Plot showing four slices of the HSV cube, titled &quot;Predicted colors · ablated · V vs H by S&quot;. Nominally, each slice has constant saturation, but varies in value (brightness) from top to bottom, and in hue from left to right. Each color value is represented as a square patch of that color. The outer portion of the patches shows the color as reconstructed by the model; the inner portion shows the true (input) color.\" />\n",
       "</picture>"
      ],
      "text/plain": [
       "Plot showing four slices of the HSV cube, titled \"Predicted colors · ablated · V vs H by S\". Nominally, each slice has constant saturation, but varies in value (brightness) from top to bottom, and in hue from left to right. Each color value is represented as a square patch of that color. The outer portion of the patches shows the color as reconstructed by the model; the inner portion shows the true (input) color."
      ]
     },
     "metadata": {},
     "output_type": "display_data"
    }
   ],
   "source": [
    "from IPython.display import clear_output\n",
    "\n",
    "clear_output()\n",
    "\n",
    "visualize_reconstructed_cube(\n",
    "    ablation_results.color_slice_cube.permute('svh'),\n",
    "    tags=ablation_results.tags,\n",
    ")\n",
    "# visualize_reconstruction_loss(ablation_results.loss_cube, tags=ablation_results.tags)\n",
    "# visualize_latent_space(\n",
    "#     ablation_results.latent_cube,\n",
    "#     tags=ablation_results.tags,\n",
    "#     dims=[(1, 0, 2), (2, 0, 1), (3, 0, 1), (4, 1, 2), (3, 2, 4), (4, 3, 0)],\n",
    "# )"
   ]
  },
  {
   "cell_type": "markdown",
   "id": "c6061e48",
   "metadata": {},
   "source": [
    "### Pruning"
   ]
  },
  {
   "cell_type": "code",
   "execution_count": 26,
   "id": "187c5a73",
   "metadata": {},
   "outputs": [
    {
     "data": {
      "text/html": [
       "<picture>\n",
       "  <source srcset=\"large-assets/ex-2.9.1-pred-colors-pruned.dark.png?v=zY7smi-mLDn8xBY7HtURQVVIfLXKrMrRp0Mt4Q0MeSU\" media=\"(prefers-color-scheme: dark)\" />\n",
       "  <source srcset=\"large-assets/ex-2.9.1-pred-colors-pruned.png?v=zY7smi-mLDn8xBY7HtURQVVIfLXKrMrRp0Mt4Q0MeSU\" media=\"(prefers-color-scheme: light)\" />\n",
       "  <img src=\"large-assets/ex-2.9.1-pred-colors-pruned.png?v=zY7smi-mLDn8xBY7HtURQVVIfLXKrMrRp0Mt4Q0MeSU\" alt=\"Plot showing four slices of the HSV cube, titled &quot;Predicted colors · pruned · V vs H by S&quot;. Nominally, each slice has constant saturation, but varies in value (brightness) from top to bottom, and in hue from left to right. Each color value is represented as a square patch of that color. The outer portion of the patches shows the color as reconstructed by the model; the inner portion shows the true (input) color.\" />\n",
       "</picture>"
      ],
      "text/plain": [
       "Plot showing four slices of the HSV cube, titled \"Predicted colors · pruned · V vs H by S\". Nominally, each slice has constant saturation, but varies in value (brightness) from top to bottom, and in hue from left to right. Each color value is represented as a square patch of that color. The outer portion of the patches shows the color as reconstructed by the model; the inner portion shows the true (input) color."
      ]
     },
     "metadata": {},
     "output_type": "display_data"
    }
   ],
   "source": [
    "from IPython.display import clear_output\n",
    "\n",
    "clear_output()\n",
    "\n",
    "visualize_reconstructed_cube(\n",
    "    pruned_results.color_slice_cube.permute('svh'),\n",
    "    tags=pruned_results.tags,\n",
    ")\n",
    "# visualize_reconstruction_loss(pruned_results.loss_cube, tags=pruned_results.tags)\n",
    "# visualize_latent_space(\n",
    "#     pruned_results.latent_cube,\n",
    "#     tags=pruned_results.tags,\n",
    "#     dims=[(1, 0, 2), (2, 0, 1), (3, 0, 1), (4, 1, 2), (3, 2, 4), (4, 3, 0)],\n",
    "# )"
   ]
  },
  {
   "cell_type": "markdown",
   "id": "3e88c807",
   "metadata": {},
   "source": [
    "### Suppression\n",
    "\n",
    "Included for comparison/completeness, but this model was not really designed for it."
   ]
  },
  {
   "cell_type": "code",
   "execution_count": 27,
   "id": "1fbb2051",
   "metadata": {},
   "outputs": [
    {
     "data": {
      "text/html": [
       "<picture>\n",
       "  <source srcset=\"large-assets/ex-2.9.1-pred-colors-suppression.dark.png?v=e9vK444sJE2lsgoPXmsn5FXU44ZCqlukcMnnn4TjKDc\" media=\"(prefers-color-scheme: dark)\" />\n",
       "  <source srcset=\"large-assets/ex-2.9.1-pred-colors-suppression.png?v=e9vK444sJE2lsgoPXmsn5FXU44ZCqlukcMnnn4TjKDc\" media=\"(prefers-color-scheme: light)\" />\n",
       "  <img src=\"large-assets/ex-2.9.1-pred-colors-suppression.png?v=e9vK444sJE2lsgoPXmsn5FXU44ZCqlukcMnnn4TjKDc\" alt=\"Plot showing four slices of the HSV cube, titled &quot;Predicted colors · suppression · V vs H by S&quot;. Nominally, each slice has constant saturation, but varies in value (brightness) from top to bottom, and in hue from left to right. Each color value is represented as a square patch of that color. The outer portion of the patches shows the color as reconstructed by the model; the inner portion shows the true (input) color.\" />\n",
       "</picture>"
      ],
      "text/plain": [
       "Plot showing four slices of the HSV cube, titled \"Predicted colors · suppression · V vs H by S\". Nominally, each slice has constant saturation, but varies in value (brightness) from top to bottom, and in hue from left to right. Each color value is represented as a square patch of that color. The outer portion of the patches shows the color as reconstructed by the model; the inner portion shows the true (input) color."
      ]
     },
     "metadata": {},
     "output_type": "display_data"
    }
   ],
   "source": [
    "from IPython.display import clear_output\n",
    "\n",
    "clear_output()\n",
    "\n",
    "visualize_reconstructed_cube(\n",
    "    suppression_results.color_slice_cube.permute('svh'),\n",
    "    tags=suppression_results.tags,\n",
    ")\n",
    "# visualize_reconstruction_loss(suppression_results.loss_cube, tags=suppression_results.tags)\n",
    "# visualize_latent_space(\n",
    "#     suppression_results.latent_cube,\n",
    "#     tags=suppression_results.tags,\n",
    "#     dims=[(1, 0, 2), (2, 0, 1), (3, 0, 1), (2, 1, 3), (3, 1, 2), (3, 2, 0)],\n",
    "# )"
   ]
  },
  {
   "cell_type": "markdown",
   "id": "725e87ae",
   "metadata": {},
   "source": [
    "### Stacked visualizations for paper"
   ]
  },
  {
   "cell_type": "code",
   "execution_count": 28,
   "id": "766be351",
   "metadata": {},
   "outputs": [
    {
     "name": "stdout",
     "output_type": "stream",
     "text": [
      "Max error:\n"
     ]
    },
    {
     "data": {
      "text/plain": [
       "{'No intervention': 9.104946366278455e-05,\n",
       " 'Ablation': 0.32055285573005676,\n",
       " 'Pruned': 0.32055285573005676,\n",
       " 'Suppression': 0.18120326101779938}"
      ]
     },
     "metadata": {},
     "output_type": "display_data"
    }
   ],
   "source": [
    "from IPython.display import display\n",
    "\n",
    "print('Max error:')\n",
    "display(\n",
    "    {\n",
    "        'No intervention': float(no_intervention_results.loss_cube['MSE'].max()),\n",
    "        'Ablation': float(ablation_results.loss_cube['MSE'].max()),\n",
    "        'Pruned': float(pruned_results.loss_cube['MSE'].max()),\n",
    "        'Suppression': float(suppression_results.loss_cube['MSE'].max()),\n",
    "    }\n",
    ")"
   ]
  },
  {
   "cell_type": "code",
   "execution_count": 29,
   "id": "cd20e021",
   "metadata": {},
   "outputs": [
    {
     "name": "stdout",
     "output_type": "stream",
     "text": [
      "Baseline\n"
     ]
    },
    {
     "data": {
      "text/html": [
       "<picture>\n",
       "  <source srcset=\"large-assets/ex-2.9.1-results-no-intervention.dark.png?v=64w-Lae2fTz2G1TkcKX6nx65Di0pG36KAybNSYzJ-Ns\" media=\"(prefers-color-scheme: dark)\" />\n",
       "  <source srcset=\"large-assets/ex-2.9.1-results-no-intervention.png?v=64w-Lae2fTz2G1TkcKX6nx65Di0pG36KAybNSYzJ-Ns\" media=\"(prefers-color-scheme: light)\" />\n",
       "  <img src=\"large-assets/ex-2.9.1-results-no-intervention.png?v=64w-Lae2fTz2G1TkcKX6nx65Di0pG36KAybNSYzJ-Ns\" alt=\"Composite figure with two latent panels (top), a color slice (middle), and a loss chart (bottom).\" />\n",
       "</picture>"
      ],
      "text/plain": [
       "Composite figure with two latent panels (top), a color slice (middle), and a loss chart (bottom)."
      ]
     },
     "metadata": {},
     "output_type": "display_data"
    },
    {
     "name": "stdout",
     "output_type": "stream",
     "text": [
      "Ablation\n"
     ]
    },
    {
     "data": {
      "text/html": [
       "<picture>\n",
       "  <source srcset=\"large-assets/ex-2.9.1-results-ablated.dark.png?v=pphJmRJEvvWfRVI3Q-jU-HTwLkdk5MZGkRH2ZMdrlDI\" media=\"(prefers-color-scheme: dark)\" />\n",
       "  <source srcset=\"large-assets/ex-2.9.1-results-ablated.png?v=pphJmRJEvvWfRVI3Q-jU-HTwLkdk5MZGkRH2ZMdrlDI\" media=\"(prefers-color-scheme: light)\" />\n",
       "  <img src=\"large-assets/ex-2.9.1-results-ablated.png?v=pphJmRJEvvWfRVI3Q-jU-HTwLkdk5MZGkRH2ZMdrlDI\" alt=\"Composite figure with two latent panels (top), a color slice (middle), and a loss chart (bottom).\" />\n",
       "</picture>"
      ],
      "text/plain": [
       "Composite figure with two latent panels (top), a color slice (middle), and a loss chart (bottom)."
      ]
     },
     "metadata": {},
     "output_type": "display_data"
    },
    {
     "name": "stdout",
     "output_type": "stream",
     "text": [
      "Pruned\n"
     ]
    },
    {
     "data": {
      "text/html": [
       "<picture>\n",
       "  <source srcset=\"large-assets/ex-2.9.1-results-pruned.dark.png?v=OL790ZjrOlKPnctfqWa5a8-zgtl_a9poWu3QY56yEEQ\" media=\"(prefers-color-scheme: dark)\" />\n",
       "  <source srcset=\"large-assets/ex-2.9.1-results-pruned.png?v=OL790ZjrOlKPnctfqWa5a8-zgtl_a9poWu3QY56yEEQ\" media=\"(prefers-color-scheme: light)\" />\n",
       "  <img src=\"large-assets/ex-2.9.1-results-pruned.png?v=OL790ZjrOlKPnctfqWa5a8-zgtl_a9poWu3QY56yEEQ\" alt=\"Composite figure with two latent panels (top), a color slice (middle), and a loss chart (bottom).\" />\n",
       "</picture>"
      ],
      "text/plain": [
       "Composite figure with two latent panels (top), a color slice (middle), and a loss chart (bottom)."
      ]
     },
     "metadata": {},
     "output_type": "display_data"
    },
    {
     "name": "stdout",
     "output_type": "stream",
     "text": [
      "Suppression\n"
     ]
    },
    {
     "data": {
      "text/html": [
       "<picture>\n",
       "  <source srcset=\"large-assets/ex-2.9.1-results-suppression.dark.png?v=rdJK4uZhZeW6wiQQhouZiQ5suaqTzfKYfxbg42wljaU\" media=\"(prefers-color-scheme: dark)\" />\n",
       "  <source srcset=\"large-assets/ex-2.9.1-results-suppression.png?v=rdJK4uZhZeW6wiQQhouZiQ5suaqTzfKYfxbg42wljaU\" media=\"(prefers-color-scheme: light)\" />\n",
       "  <img src=\"large-assets/ex-2.9.1-results-suppression.png?v=rdJK4uZhZeW6wiQQhouZiQ5suaqTzfKYfxbg42wljaU\" alt=\"Composite figure with two latent panels (top), a color slice (middle), and a loss chart (bottom).\" />\n",
       "</picture>"
      ],
      "text/plain": [
       "Composite figure with two latent panels (top), a color slice (middle), and a loss chart (bottom)."
      ]
     },
     "metadata": {},
     "output_type": "display_data"
    }
   ],
   "source": [
    "def themed_annotation(\n",
    "    theme: Theme, direction: Sequence[float], angle: float, dashed: bool = False\n",
    ") -> ConicalAnnotation:\n",
    "    return ConicalAnnotation(\n",
    "        direction=direction,\n",
    "        angle=angle,\n",
    "        color=theme.val('black', dark='#fff'),\n",
    "        linewidth=theme.val(0.75, dark=1),\n",
    "        **dict(\n",
    "            dashes=theme.val((8, 8), dark=(4, 4)),\n",
    "            gapcolor=theme.val('#ddda', dark='#222a'),\n",
    "        ) if dashed else {}\n",
    "    )  # fmt: skip\n",
    "\n",
    "\n",
    "max_error = np.max(\n",
    "    [\n",
    "        no_intervention_results.loss_cube['MSE'],\n",
    "        ablation_results.loss_cube['MSE'],\n",
    "        pruned_results.loss_cube['MSE'],\n",
    "    ]\n",
    ")\n",
    "\n",
    "print('Baseline')\n",
    "visualize_stacked_results(\n",
    "    no_intervention_results,\n",
    "    latent_dims=((3, 0, 1), (3, 2, 4)),\n",
    "    max_error=max_error,\n",
    ")\n",
    "\n",
    "print('Ablation')\n",
    "visualize_stacked_results(\n",
    "    ablation_results,\n",
    "    latent_dims=((3, 0, 1), (3, 2, 4)),\n",
    "    max_error=max_error,\n",
    ")\n",
    "\n",
    "print('Pruned')\n",
    "visualize_stacked_results(\n",
    "    pruned_results,\n",
    "    latent_dims=((2, None, 0), (2, 1, 3)),\n",
    "    max_error=max_error,\n",
    ")\n",
    "\n",
    "print('Suppression')\n",
    "visualize_stacked_results(\n",
    "    suppression_results,\n",
    "    latent_dims=((3, 0, 1), (3, 2, 0)),\n",
    "    # latent_dims=((1, 0, 2), (1, 2, 0)),\n",
    "    max_error=max_error,\n",
    "    latent_annotations=[\n",
    "        lambda theme: themed_annotation(theme, direction=RED, angle=2 * (np.pi / 2 - falloff.a), dashed=True),\n",
    "    ],\n",
    ")"
   ]
  },
  {
   "cell_type": "markdown",
   "id": "d875386f",
   "metadata": {},
   "source": [
    "### Tabular results: error vs color per intervention"
   ]
  },
  {
   "cell_type": "code",
   "execution_count": 30,
   "id": "e988d618",
   "metadata": {},
   "outputs": [
    {
     "data": {
      "text/html": [
       "<style type=\"text/css\">\n",
       "</style>\n",
       "<table id=\"T_6b92d\">\n",
       "  <thead>\n",
       "    <tr>\n",
       "      <th id=\"T_6b92d_level0_col0\" class=\"col_heading level0 col0\" >Name</th>\n",
       "      <th id=\"T_6b92d_level0_col1\" class=\"col_heading level0 col1\" >RGB</th>\n",
       "      <th id=\"T_6b92d_level0_col3\" class=\"col_heading level0 col3\" >No Intervention</th>\n",
       "      <th id=\"T_6b92d_level0_col4\" class=\"col_heading level0 col4\" >Ablated</th>\n",
       "      <th id=\"T_6b92d_level0_col5\" class=\"col_heading level0 col5\" >Δ Abl</th>\n",
       "      <th id=\"T_6b92d_level0_col6\" class=\"col_heading level0 col6\" >Pruned</th>\n",
       "      <th id=\"T_6b92d_level0_col7\" class=\"col_heading level0 col7\" >Δ Pru</th>\n",
       "      <th id=\"T_6b92d_level0_col8\" class=\"col_heading level0 col8\" >Suppression</th>\n",
       "      <th id=\"T_6b92d_level0_col9\" class=\"col_heading level0 col9\" >Δ Sup</th>\n",
       "    </tr>\n",
       "  </thead>\n",
       "  <tbody>\n",
       "    <tr>\n",
       "      <td id=\"T_6b92d_row0_col0\" class=\"data row0 col0\" >red</td>\n",
       "      <td id=\"T_6b92d_row0_col1\" class=\"data row0 col1\" ><div style=\"background-color: #ff0000; width: 1em; height: 1em; display: inline-block; border: 1px solid #8888;\"></div></td>\n",
       "      <td id=\"T_6b92d_row0_col3\" class=\"data row0 col3\" >0.000</td>\n",
       "      <td id=\"T_6b92d_row0_col4\" class=\"data row0 col4\" >0.333</td>\n",
       "      <td id=\"T_6b92d_row0_col5\" class=\"data row0 col5\" >+0.333</td>\n",
       "      <td id=\"T_6b92d_row0_col6\" class=\"data row0 col6\" >0.333</td>\n",
       "      <td id=\"T_6b92d_row0_col7\" class=\"data row0 col7\" >+0.333</td>\n",
       "      <td id=\"T_6b92d_row0_col8\" class=\"data row0 col8\" >0.198</td>\n",
       "      <td id=\"T_6b92d_row0_col9\" class=\"data row0 col9\" >+0.198</td>\n",
       "    </tr>\n",
       "    <tr>\n",
       "      <td id=\"T_6b92d_row1_col0\" class=\"data row1 col0\" >orange</td>\n",
       "      <td id=\"T_6b92d_row1_col1\" class=\"data row1 col1\" ><div style=\"background-color: #ff7f00; width: 1em; height: 1em; display: inline-block; border: 1px solid #8888;\"></div></td>\n",
       "      <td id=\"T_6b92d_row1_col3\" class=\"data row1 col3\" >0.000</td>\n",
       "      <td id=\"T_6b92d_row1_col4\" class=\"data row1 col4\" >0.123</td>\n",
       "      <td id=\"T_6b92d_row1_col5\" class=\"data row1 col5\" >+0.123</td>\n",
       "      <td id=\"T_6b92d_row1_col6\" class=\"data row1 col6\" >0.123</td>\n",
       "      <td id=\"T_6b92d_row1_col7\" class=\"data row1 col7\" >+0.123</td>\n",
       "      <td id=\"T_6b92d_row1_col8\" class=\"data row1 col8\" >0.112</td>\n",
       "      <td id=\"T_6b92d_row1_col9\" class=\"data row1 col9\" >+0.112</td>\n",
       "    </tr>\n",
       "    <tr>\n",
       "      <td id=\"T_6b92d_row2_col0\" class=\"data row2 col0\" >yellow</td>\n",
       "      <td id=\"T_6b92d_row2_col1\" class=\"data row2 col1\" ><div style=\"background-color: #ffff00; width: 1em; height: 1em; display: inline-block; border: 1px solid #8888;\"></div></td>\n",
       "      <td id=\"T_6b92d_row2_col3\" class=\"data row2 col3\" >0.000</td>\n",
       "      <td id=\"T_6b92d_row2_col4\" class=\"data row2 col4\" >0.017</td>\n",
       "      <td id=\"T_6b92d_row2_col5\" class=\"data row2 col5\" >+0.017</td>\n",
       "      <td id=\"T_6b92d_row2_col6\" class=\"data row2 col6\" >0.017</td>\n",
       "      <td id=\"T_6b92d_row2_col7\" class=\"data row2 col7\" >+0.017</td>\n",
       "      <td id=\"T_6b92d_row2_col8\" class=\"data row2 col8\" >0.024</td>\n",
       "      <td id=\"T_6b92d_row2_col9\" class=\"data row2 col9\" >+0.024</td>\n",
       "    </tr>\n",
       "    <tr>\n",
       "      <td id=\"T_6b92d_row3_col0\" class=\"data row3 col0\" >lime</td>\n",
       "      <td id=\"T_6b92d_row3_col1\" class=\"data row3 col1\" ><div style=\"background-color: #7fff00; width: 1em; height: 1em; display: inline-block; border: 1px solid #8888;\"></div></td>\n",
       "      <td id=\"T_6b92d_row3_col3\" class=\"data row3 col3\" >0.000</td>\n",
       "      <td id=\"T_6b92d_row3_col4\" class=\"data row3 col4\" >0.000</td>\n",
       "      <td id=\"T_6b92d_row3_col5\" class=\"data row3 col5\" >+0.000</td>\n",
       "      <td id=\"T_6b92d_row3_col6\" class=\"data row3 col6\" >0.000</td>\n",
       "      <td id=\"T_6b92d_row3_col7\" class=\"data row3 col7\" >+0.000</td>\n",
       "      <td id=\"T_6b92d_row3_col8\" class=\"data row3 col8\" >0.000</td>\n",
       "      <td id=\"T_6b92d_row3_col9\" class=\"data row3 col9\" >+0.000</td>\n",
       "    </tr>\n",
       "    <tr>\n",
       "      <td id=\"T_6b92d_row4_col0\" class=\"data row4 col0\" >green</td>\n",
       "      <td id=\"T_6b92d_row4_col1\" class=\"data row4 col1\" ><div style=\"background-color: #00ff00; width: 1em; height: 1em; display: inline-block; border: 1px solid #8888;\"></div></td>\n",
       "      <td id=\"T_6b92d_row4_col3\" class=\"data row4 col3\" >0.000</td>\n",
       "      <td id=\"T_6b92d_row4_col4\" class=\"data row4 col4\" >0.000</td>\n",
       "      <td id=\"T_6b92d_row4_col5\" class=\"data row4 col5\" >+0.000</td>\n",
       "      <td id=\"T_6b92d_row4_col6\" class=\"data row4 col6\" >0.000</td>\n",
       "      <td id=\"T_6b92d_row4_col7\" class=\"data row4 col7\" >+0.000</td>\n",
       "      <td id=\"T_6b92d_row4_col8\" class=\"data row4 col8\" >0.000</td>\n",
       "      <td id=\"T_6b92d_row4_col9\" class=\"data row4 col9\" >+0.000</td>\n",
       "    </tr>\n",
       "    <tr>\n",
       "      <td id=\"T_6b92d_row5_col0\" class=\"data row5 col0\" >teal</td>\n",
       "      <td id=\"T_6b92d_row5_col1\" class=\"data row5 col1\" ><div style=\"background-color: #00ff7f; width: 1em; height: 1em; display: inline-block; border: 1px solid #8888;\"></div></td>\n",
       "      <td id=\"T_6b92d_row5_col3\" class=\"data row5 col3\" >0.000</td>\n",
       "      <td id=\"T_6b92d_row5_col4\" class=\"data row5 col4\" >0.000</td>\n",
       "      <td id=\"T_6b92d_row5_col5\" class=\"data row5 col5\" >+0.000</td>\n",
       "      <td id=\"T_6b92d_row5_col6\" class=\"data row5 col6\" >0.000</td>\n",
       "      <td id=\"T_6b92d_row5_col7\" class=\"data row5 col7\" >+0.000</td>\n",
       "      <td id=\"T_6b92d_row5_col8\" class=\"data row5 col8\" >0.000</td>\n",
       "      <td id=\"T_6b92d_row5_col9\" class=\"data row5 col9\" >+0.000</td>\n",
       "    </tr>\n",
       "    <tr>\n",
       "      <td id=\"T_6b92d_row6_col0\" class=\"data row6 col0\" >cyan</td>\n",
       "      <td id=\"T_6b92d_row6_col1\" class=\"data row6 col1\" ><div style=\"background-color: #00ffff; width: 1em; height: 1em; display: inline-block; border: 1px solid #8888;\"></div></td>\n",
       "      <td id=\"T_6b92d_row6_col3\" class=\"data row6 col3\" >0.000</td>\n",
       "      <td id=\"T_6b92d_row6_col4\" class=\"data row6 col4\" >0.000</td>\n",
       "      <td id=\"T_6b92d_row6_col5\" class=\"data row6 col5\" >-0.000</td>\n",
       "      <td id=\"T_6b92d_row6_col6\" class=\"data row6 col6\" >0.000</td>\n",
       "      <td id=\"T_6b92d_row6_col7\" class=\"data row6 col7\" >-0.000</td>\n",
       "      <td id=\"T_6b92d_row6_col8\" class=\"data row6 col8\" >0.000</td>\n",
       "      <td id=\"T_6b92d_row6_col9\" class=\"data row6 col9\" >-0.000</td>\n",
       "    </tr>\n",
       "    <tr>\n",
       "      <td id=\"T_6b92d_row7_col0\" class=\"data row7 col0\" >azure</td>\n",
       "      <td id=\"T_6b92d_row7_col1\" class=\"data row7 col1\" ><div style=\"background-color: #007fff; width: 1em; height: 1em; display: inline-block; border: 1px solid #8888;\"></div></td>\n",
       "      <td id=\"T_6b92d_row7_col3\" class=\"data row7 col3\" >0.000</td>\n",
       "      <td id=\"T_6b92d_row7_col4\" class=\"data row7 col4\" >0.000</td>\n",
       "      <td id=\"T_6b92d_row7_col5\" class=\"data row7 col5\" >+0.000</td>\n",
       "      <td id=\"T_6b92d_row7_col6\" class=\"data row7 col6\" >0.000</td>\n",
       "      <td id=\"T_6b92d_row7_col7\" class=\"data row7 col7\" >+0.000</td>\n",
       "      <td id=\"T_6b92d_row7_col8\" class=\"data row7 col8\" >0.000</td>\n",
       "      <td id=\"T_6b92d_row7_col9\" class=\"data row7 col9\" >+0.000</td>\n",
       "    </tr>\n",
       "    <tr>\n",
       "      <td id=\"T_6b92d_row8_col0\" class=\"data row8 col0\" >blue</td>\n",
       "      <td id=\"T_6b92d_row8_col1\" class=\"data row8 col1\" ><div style=\"background-color: #0000ff; width: 1em; height: 1em; display: inline-block; border: 1px solid #8888;\"></div></td>\n",
       "      <td id=\"T_6b92d_row8_col3\" class=\"data row8 col3\" >0.000</td>\n",
       "      <td id=\"T_6b92d_row8_col4\" class=\"data row8 col4\" >0.000</td>\n",
       "      <td id=\"T_6b92d_row8_col5\" class=\"data row8 col5\" >+0.000</td>\n",
       "      <td id=\"T_6b92d_row8_col6\" class=\"data row8 col6\" >0.000</td>\n",
       "      <td id=\"T_6b92d_row8_col7\" class=\"data row8 col7\" >+0.000</td>\n",
       "      <td id=\"T_6b92d_row8_col8\" class=\"data row8 col8\" >0.000</td>\n",
       "      <td id=\"T_6b92d_row8_col9\" class=\"data row8 col9\" >+0.000</td>\n",
       "    </tr>\n",
       "    <tr>\n",
       "      <td id=\"T_6b92d_row9_col0\" class=\"data row9 col0\" >purple</td>\n",
       "      <td id=\"T_6b92d_row9_col1\" class=\"data row9 col1\" ><div style=\"background-color: #7f00ff; width: 1em; height: 1em; display: inline-block; border: 1px solid #8888;\"></div></td>\n",
       "      <td id=\"T_6b92d_row9_col3\" class=\"data row9 col3\" >0.000</td>\n",
       "      <td id=\"T_6b92d_row9_col4\" class=\"data row9 col4\" >0.002</td>\n",
       "      <td id=\"T_6b92d_row9_col5\" class=\"data row9 col5\" >+0.002</td>\n",
       "      <td id=\"T_6b92d_row9_col6\" class=\"data row9 col6\" >0.002</td>\n",
       "      <td id=\"T_6b92d_row9_col7\" class=\"data row9 col7\" >+0.002</td>\n",
       "      <td id=\"T_6b92d_row9_col8\" class=\"data row9 col8\" >0.002</td>\n",
       "      <td id=\"T_6b92d_row9_col9\" class=\"data row9 col9\" >+0.002</td>\n",
       "    </tr>\n",
       "    <tr>\n",
       "      <td id=\"T_6b92d_row10_col0\" class=\"data row10 col0\" >magenta</td>\n",
       "      <td id=\"T_6b92d_row10_col1\" class=\"data row10 col1\" ><div style=\"background-color: #ff00ff; width: 1em; height: 1em; display: inline-block; border: 1px solid #8888;\"></div></td>\n",
       "      <td id=\"T_6b92d_row10_col3\" class=\"data row10 col3\" >0.000</td>\n",
       "      <td id=\"T_6b92d_row10_col4\" class=\"data row10 col4\" >0.038</td>\n",
       "      <td id=\"T_6b92d_row10_col5\" class=\"data row10 col5\" >+0.038</td>\n",
       "      <td id=\"T_6b92d_row10_col6\" class=\"data row10 col6\" >0.038</td>\n",
       "      <td id=\"T_6b92d_row10_col7\" class=\"data row10 col7\" >+0.038</td>\n",
       "      <td id=\"T_6b92d_row10_col8\" class=\"data row10 col8\" >0.061</td>\n",
       "      <td id=\"T_6b92d_row10_col9\" class=\"data row10 col9\" >+0.061</td>\n",
       "    </tr>\n",
       "    <tr>\n",
       "      <td id=\"T_6b92d_row11_col0\" class=\"data row11 col0\" >pink</td>\n",
       "      <td id=\"T_6b92d_row11_col1\" class=\"data row11 col1\" ><div style=\"background-color: #ff007f; width: 1em; height: 1em; display: inline-block; border: 1px solid #8888;\"></div></td>\n",
       "      <td id=\"T_6b92d_row11_col3\" class=\"data row11 col3\" >0.000</td>\n",
       "      <td id=\"T_6b92d_row11_col4\" class=\"data row11 col4\" >0.148</td>\n",
       "      <td id=\"T_6b92d_row11_col5\" class=\"data row11 col5\" >+0.148</td>\n",
       "      <td id=\"T_6b92d_row11_col6\" class=\"data row11 col6\" >0.148</td>\n",
       "      <td id=\"T_6b92d_row11_col7\" class=\"data row11 col7\" >+0.148</td>\n",
       "      <td id=\"T_6b92d_row11_col8\" class=\"data row11 col8\" >0.120</td>\n",
       "      <td id=\"T_6b92d_row11_col9\" class=\"data row11 col9\" >+0.120</td>\n",
       "    </tr>\n",
       "    <tr>\n",
       "      <td id=\"T_6b92d_row12_col0\" class=\"data row12 col0\" >black</td>\n",
       "      <td id=\"T_6b92d_row12_col1\" class=\"data row12 col1\" ><div style=\"background-color: #000000; width: 1em; height: 1em; display: inline-block; border: 1px solid #8888;\"></div></td>\n",
       "      <td id=\"T_6b92d_row12_col3\" class=\"data row12 col3\" >0.000</td>\n",
       "      <td id=\"T_6b92d_row12_col4\" class=\"data row12 col4\" >0.001</td>\n",
       "      <td id=\"T_6b92d_row12_col5\" class=\"data row12 col5\" >+0.001</td>\n",
       "      <td id=\"T_6b92d_row12_col6\" class=\"data row12 col6\" >0.001</td>\n",
       "      <td id=\"T_6b92d_row12_col7\" class=\"data row12 col7\" >+0.001</td>\n",
       "      <td id=\"T_6b92d_row12_col8\" class=\"data row12 col8\" >0.001</td>\n",
       "      <td id=\"T_6b92d_row12_col9\" class=\"data row12 col9\" >+0.001</td>\n",
       "    </tr>\n",
       "    <tr>\n",
       "      <td id=\"T_6b92d_row13_col0\" class=\"data row13 col0\" >dark gray</td>\n",
       "      <td id=\"T_6b92d_row13_col1\" class=\"data row13 col1\" ><div style=\"background-color: #3f3f3f; width: 1em; height: 1em; display: inline-block; border: 1px solid #8888;\"></div></td>\n",
       "      <td id=\"T_6b92d_row13_col3\" class=\"data row13 col3\" >0.000</td>\n",
       "      <td id=\"T_6b92d_row13_col4\" class=\"data row13 col4\" >0.000</td>\n",
       "      <td id=\"T_6b92d_row13_col5\" class=\"data row13 col5\" >+0.000</td>\n",
       "      <td id=\"T_6b92d_row13_col6\" class=\"data row13 col6\" >0.000</td>\n",
       "      <td id=\"T_6b92d_row13_col7\" class=\"data row13 col7\" >+0.000</td>\n",
       "      <td id=\"T_6b92d_row13_col8\" class=\"data row13 col8\" >0.000</td>\n",
       "      <td id=\"T_6b92d_row13_col9\" class=\"data row13 col9\" >+0.000</td>\n",
       "    </tr>\n",
       "    <tr>\n",
       "      <td id=\"T_6b92d_row14_col0\" class=\"data row14 col0\" >gray</td>\n",
       "      <td id=\"T_6b92d_row14_col1\" class=\"data row14 col1\" ><div style=\"background-color: #7f7f7f; width: 1em; height: 1em; display: inline-block; border: 1px solid #8888;\"></div></td>\n",
       "      <td id=\"T_6b92d_row14_col3\" class=\"data row14 col3\" >0.000</td>\n",
       "      <td id=\"T_6b92d_row14_col4\" class=\"data row14 col4\" >0.000</td>\n",
       "      <td id=\"T_6b92d_row14_col5\" class=\"data row14 col5\" >+0.000</td>\n",
       "      <td id=\"T_6b92d_row14_col6\" class=\"data row14 col6\" >0.000</td>\n",
       "      <td id=\"T_6b92d_row14_col7\" class=\"data row14 col7\" >+0.000</td>\n",
       "      <td id=\"T_6b92d_row14_col8\" class=\"data row14 col8\" >0.000</td>\n",
       "      <td id=\"T_6b92d_row14_col9\" class=\"data row14 col9\" >+0.000</td>\n",
       "    </tr>\n",
       "    <tr>\n",
       "      <td id=\"T_6b92d_row15_col0\" class=\"data row15 col0\" >light gray</td>\n",
       "      <td id=\"T_6b92d_row15_col1\" class=\"data row15 col1\" ><div style=\"background-color: #bfbfbf; width: 1em; height: 1em; display: inline-block; border: 1px solid #8888;\"></div></td>\n",
       "      <td id=\"T_6b92d_row15_col3\" class=\"data row15 col3\" >0.000</td>\n",
       "      <td id=\"T_6b92d_row15_col4\" class=\"data row15 col4\" >0.000</td>\n",
       "      <td id=\"T_6b92d_row15_col5\" class=\"data row15 col5\" >+0.000</td>\n",
       "      <td id=\"T_6b92d_row15_col6\" class=\"data row15 col6\" >0.000</td>\n",
       "      <td id=\"T_6b92d_row15_col7\" class=\"data row15 col7\" >+0.000</td>\n",
       "      <td id=\"T_6b92d_row15_col8\" class=\"data row15 col8\" >0.000</td>\n",
       "      <td id=\"T_6b92d_row15_col9\" class=\"data row15 col9\" >+0.000</td>\n",
       "    </tr>\n",
       "    <tr>\n",
       "      <td id=\"T_6b92d_row16_col0\" class=\"data row16 col0\" >white</td>\n",
       "      <td id=\"T_6b92d_row16_col1\" class=\"data row16 col1\" ><div style=\"background-color: #ffffff; width: 1em; height: 1em; display: inline-block; border: 1px solid #8888;\"></div></td>\n",
       "      <td id=\"T_6b92d_row16_col3\" class=\"data row16 col3\" >0.000</td>\n",
       "      <td id=\"T_6b92d_row16_col4\" class=\"data row16 col4\" >0.001</td>\n",
       "      <td id=\"T_6b92d_row16_col5\" class=\"data row16 col5\" >+0.001</td>\n",
       "      <td id=\"T_6b92d_row16_col6\" class=\"data row16 col6\" >0.001</td>\n",
       "      <td id=\"T_6b92d_row16_col7\" class=\"data row16 col7\" >+0.001</td>\n",
       "      <td id=\"T_6b92d_row16_col8\" class=\"data row16 col8\" >0.001</td>\n",
       "      <td id=\"T_6b92d_row16_col9\" class=\"data row16 col9\" >+0.001</td>\n",
       "    </tr>\n",
       "  </tbody>\n",
       "</table>\n"
      ],
      "text/plain": [
       "<pandas.io.formats.style.Styler at 0xffff46b516a0>"
      ]
     },
     "metadata": {},
     "output_type": "display_data"
    }
   ],
   "source": [
    "from IPython.display import display\n",
    "from ex_color.vis import ColorTableHtmlFormatter\n",
    "\n",
    "df = hstack_named_results(no_intervention_results, ablation_results, pruned_results, suppression_results)\n",
    "\n",
    "display(ColorTableHtmlFormatter().style(df))"
   ]
  },
  {
   "cell_type": "code",
   "execution_count": 31,
   "id": "446b6498",
   "metadata": {},
   "outputs": [
    {
     "data": {
      "text/markdown": [
       "```latex\n",
       "\\begin{table}\n",
       "\\centering\n",
       "\\label{tab:error-per-color-soft}\n",
       "\\caption{Reconstruction error by color and intervention method}\n",
       "\\sisetup{\n",
       "    round-mode = places,\n",
       "    round-precision = 3,\n",
       "    table-auto-round = true,\n",
       "    % drop-zero-decimal = true,\n",
       "}\n",
       "\\begin{tabular}{l c g g g g}\n",
       "\\toprule\n",
       "\\multicolumn{2}{c}{{Color}} & \\multicolumn{1}{c}{{Baseline}} & \\multicolumn{1}{c}{{Ablated}} & \\multicolumn{1}{c}{{Pruned}} & \\multicolumn{1}{c}{{Suppression}} \\\\\n",
       "\\midrule\n",
       "Red        & \\swatch{FF0000} &  0.000036028 &  0.333297312 &  0.333297312 &  0.198443457 \\\\\n",
       "Orange     & \\swatch{FF7F00} &  0.000041728 &  0.123259634 &  0.123259634 &  0.111782402 \\\\\n",
       "Yellow     & \\swatch{FFFF00} &  0.000059968 &  0.017365806 &  0.017365806 &  0.023780219 \\\\\n",
       "Lime       & \\swatch{7FFF00} &  0.000084073 &  0.000207367 &  0.000207367 &  0.000209407 \\\\\n",
       "Green      & \\swatch{00FF00} &  0.000091481 &  0.000096842 &  0.000096842 &  0.000100940 \\\\\n",
       "Teal       & \\swatch{00FF7F} &  0.000000467 &  0.000002635 &  0.000002635 &  0.000002622 \\\\\n",
       "Cyan       & \\swatch{00FFFF} &  0.000104127 & -0.000003132 & -0.000003132 & -0.000003129 \\\\\n",
       "Azure      & \\swatch{007FFF} &  0.000046455 &  0.000071969 &  0.000071969 &  0.000072302 \\\\\n",
       "Blue       & \\swatch{0000FF} &  0.000007944 &  0.000199724 &  0.000199724 &  0.000211864 \\\\\n",
       "Purple     & \\swatch{7F00FF} &  0.000010084 &  0.001649732 &  0.001649732 &  0.001688957 \\\\\n",
       "Magenta    & \\swatch{FF00FF} &  0.000012721 &  0.038103655 &  0.038103655 &  0.060558371 \\\\\n",
       "Pink       & \\swatch{FF007F} &  0.000000190 &  0.147680908 &  0.147680908 &  0.119920596 \\\\\n",
       "Black      & \\swatch{000000} &  0.000074612 &  0.000788459 &  0.000788459 &  0.000860083 \\\\\n",
       "Dark gray  & \\swatch{3F3F3F} &  0.000000158 &  0.000464755 &  0.000464755 &  0.000457245 \\\\\n",
       "Gray       & \\swatch{7F7F7F} &  0.000010912 &  0.000178977 &  0.000178977 &  0.000178518 \\\\\n",
       "Light gray & \\swatch{BFBFBF} &  0.000014506 &  0.000211861 &  0.000211861 &  0.000210544 \\\\\n",
       "White      & \\swatch{FFFFFF} &  0.000111809 &  0.000714028 &  0.000714028 &  0.000731633 \\\\\n",
       "\\bottomrule\n",
       "\\end{tabular}\n",
       "\\end{table}\n",
       "```"
      ],
      "text/plain": [
       "\\begin{table}\n",
       "\\centering\n",
       "\\label{tab:error-per-color-soft}\n",
       "\\caption{Reconstruction error by color and intervention method}\n",
       "\\sisetup{\n",
       "    round-mode = places,\n",
       "    round-precision = 3,\n",
       "    table-auto-round = true,\n",
       "    % drop-zero-decimal = true,\n",
       "}\n",
       "\\begin{tabular}{l c g g g g}\n",
       "\\toprule\n",
       "\\multicolumn{2}{c}{{Color}} & \\multicolumn{1}{c}{{Baseline}} & \\multicolumn{1}{c}{{Ablated}} & \\multicolumn{1}{c}{{Pruned}} & \\multicolumn{1}{c}{{Suppression}} \\\\\n",
       "\\midrule\n",
       "Red        & \\swatch{FF0000} &  0.000036028 &  0.333297312 &  0.333297312 &  0.198443457 \\\\\n",
       "Orange     & \\swatch{FF7F00} &  0.000041728 &  0.123259634 &  0.123259634 &  0.111782402 \\\\\n",
       "Yellow     & \\swatch{FFFF00} &  0.000059968 &  0.017365806 &  0.017365806 &  0.023780219 \\\\\n",
       "Lime       & \\swatch{7FFF00} &  0.000084073 &  0.000207367 &  0.000207367 &  0.000209407 \\\\\n",
       "Green      & \\swatch{00FF00} &  0.000091481 &  0.000096842 &  0.000096842 &  0.000100940 \\\\\n",
       "Teal       & \\swatch{00FF7F} &  0.000000467 &  0.000002635 &  0.000002635 &  0.000002622 \\\\\n",
       "Cyan       & \\swatch{00FFFF} &  0.000104127 & -0.000003132 & -0.000003132 & -0.000003129 \\\\\n",
       "Azure      & \\swatch{007FFF} &  0.000046455 &  0.000071969 &  0.000071969 &  0.000072302 \\\\\n",
       "Blue       & \\swatch{0000FF} &  0.000007944 &  0.000199724 &  0.000199724 &  0.000211864 \\\\\n",
       "Purple     & \\swatch{7F00FF} &  0.000010084 &  0.001649732 &  0.001649732 &  0.001688957 \\\\\n",
       "Magenta    & \\swatch{FF00FF} &  0.000012721 &  0.038103655 &  0.038103655 &  0.060558371 \\\\\n",
       "Pink       & \\swatch{FF007F} &  0.000000190 &  0.147680908 &  0.147680908 &  0.119920596 \\\\\n",
       "Black      & \\swatch{000000} &  0.000074612 &  0.000788459 &  0.000788459 &  0.000860083 \\\\\n",
       "Dark gray  & \\swatch{3F3F3F} &  0.000000158 &  0.000464755 &  0.000464755 &  0.000457245 \\\\\n",
       "Gray       & \\swatch{7F7F7F} &  0.000010912 &  0.000178977 &  0.000178977 &  0.000178518 \\\\\n",
       "Light gray & \\swatch{BFBFBF} &  0.000014506 &  0.000211861 &  0.000211861 &  0.000210544 \\\\\n",
       "White      & \\swatch{FFFFFF} &  0.000111809 &  0.000714028 &  0.000714028 &  0.000731633 \\\\\n",
       "\\bottomrule\n",
       "\\end{tabular}\n",
       "\\end{table}"
      ]
     },
     "metadata": {},
     "output_type": "display_data"
    }
   ],
   "source": [
    "from IPython.display import display\n",
    "\n",
    "import pandas as pd\n",
    "\n",
    "from ex_color.vis import ColorTableLatexFormatter\n",
    "\n",
    "formatter = ColorTableLatexFormatter()\n",
    "# print(formatter.preamble)\n",
    "latex = formatter.to_str(\n",
    "    pd.DataFrame(\n",
    "        {\n",
    "            'color': df['name'].str.capitalize(),\n",
    "            'rgb': df['rgb'],\n",
    "            'baseline': df['no intervention'],\n",
    "            'ablated': df['ablated-delta'],\n",
    "            'pruned': df['pruned-delta'],\n",
    "            'suppression': df['suppression-delta'],\n",
    "        }\n",
    "    ),\n",
    "    caption='Reconstruction error by color and intervention method',\n",
    "    label='tab:error-per-color-soft',\n",
    ")\n",
    "display({'text/markdown': f'```latex\\n{latex}\\n```', 'text/plain': latex}, raw=True)"
   ]
  },
  {
   "cell_type": "markdown",
   "id": "1f39cf5f",
   "metadata": {},
   "source": [
    "### Correlation: error vs. similarity to anchor per intervention"
   ]
  },
  {
   "cell_type": "code",
   "execution_count": 32,
   "id": "c13bfd00",
   "metadata": {},
   "outputs": [
    {
     "name": "stdout",
     "output_type": "stream",
     "text": [
      "MSE,sim³ Ablated (seed 47): r = +0.98, R²: 0.96, p = 0\n",
      "MSE,sim³ Pruned: r = +0.98, R²: 0.96, p = 0\n",
      "MSE,sim² Suppression (seed 47): r = +0.98, R²: 0.97, p = 0\n"
     ]
    }
   ],
   "source": [
    "from utils.strings import sup\n",
    "\n",
    "ablated_stats = best_run_metrics.correlations['ablated']\n",
    "power = POWER_BY_PLAN['ablated']\n",
    "print(\n",
    "    f'MSE,sim{sup(power)} Ablated (seed {best_run.seed}): '\n",
    "    f'r = {ablated_stats.correlation:+.2f}, R²: {ablated_stats.r_squared:.2f}, p = {ablated_stats.p_value:.3g}'\n",
    ")\n",
    "\n",
    "pruned_corr, pruned_p_value = error_correlation(pruned_results.latent_cube, ANCHOR_HSV, power=power)\n",
    "print(f'MSE,sim{sup(power)} Pruned: r = {pruned_corr:+.2f}, R²: {pruned_corr**2:.2f}, p = {pruned_p_value:.3g}')\n",
    "\n",
    "suppression_stats = best_run_metrics.correlations['suppression']\n",
    "power = POWER_BY_PLAN['suppression']\n",
    "print(\n",
    "    f'MSE,sim{sup(power)} Suppression (seed {best_run.seed}): '\n",
    "    f'r = {suppression_stats.correlation:+.2f}, R²: {suppression_stats.r_squared:.2f}, p = {suppression_stats.p_value:.3g}'\n",
    ")"
   ]
  },
  {
   "cell_type": "code",
   "execution_count": 33,
   "id": "6d01e78c",
   "metadata": {},
   "outputs": [
    {
     "name": "stdout",
     "output_type": "stream",
     "text": [
      "Ablated\n"
     ]
    },
    {
     "data": {
      "text/html": [
       "<picture>\n",
       "  <source srcset=\"large-assets/ex-2.9.1-error-vs-similarity-ablated.dark.png?v=PXSK1wEn7bpfB8zPdMlisuVPBT6StO6vA82jGQbgXI8\" media=\"(prefers-color-scheme: dark)\" />\n",
       "  <source srcset=\"large-assets/ex-2.9.1-error-vs-similarity-ablated.png?v=PXSK1wEn7bpfB8zPdMlisuVPBT6StO6vA82jGQbgXI8\" media=\"(prefers-color-scheme: light)\" />\n",
       "  <img src=\"large-assets/ex-2.9.1-error-vs-similarity-ablated.png?v=PXSK1wEn7bpfB8zPdMlisuVPBT6StO6vA82jGQbgXI8\" alt=\"Scatter plot showing reconstruction error versus similarity to red. Each point represents a color, with its position on the x-axis indicating how similar it is to pure red, and its position on the y-axis indicating the reconstruction error (mean squared error) for that color. The points are colored according to their actual color values.\" />\n",
       "</picture>"
      ],
      "text/plain": [
       "Scatter plot showing reconstruction error versus similarity to red. Each point represents a color, with its position on the x-axis indicating how similar it is to pure red, and its position on the y-axis indicating the reconstruction error (mean squared error) for that color. The points are colored according to their actual color values."
      ]
     },
     "metadata": {},
     "output_type": "display_data"
    },
    {
     "name": "stdout",
     "output_type": "stream",
     "text": [
      "Pruned\n"
     ]
    },
    {
     "data": {
      "text/html": [
       "<picture>\n",
       "  <source srcset=\"large-assets/ex-2.9.1-error-vs-similarity-pruned.dark.png?v=Se2-oHsYLUWFPRdFDPqBH6ScBHLJf9iY6T0EwEjm2A0\" media=\"(prefers-color-scheme: dark)\" />\n",
       "  <source srcset=\"large-assets/ex-2.9.1-error-vs-similarity-pruned.png?v=Se2-oHsYLUWFPRdFDPqBH6ScBHLJf9iY6T0EwEjm2A0\" media=\"(prefers-color-scheme: light)\" />\n",
       "  <img src=\"large-assets/ex-2.9.1-error-vs-similarity-pruned.png?v=Se2-oHsYLUWFPRdFDPqBH6ScBHLJf9iY6T0EwEjm2A0\" alt=\"Scatter plot showing reconstruction error versus similarity to red. Each point represents a color, with its position on the x-axis indicating how similar it is to pure red, and its position on the y-axis indicating the reconstruction error (mean squared error) for that color. The points are colored according to their actual color values.\" />\n",
       "</picture>"
      ],
      "text/plain": [
       "Scatter plot showing reconstruction error versus similarity to red. Each point represents a color, with its position on the x-axis indicating how similar it is to pure red, and its position on the y-axis indicating the reconstruction error (mean squared error) for that color. The points are colored according to their actual color values."
      ]
     },
     "metadata": {},
     "output_type": "display_data"
    },
    {
     "name": "stdout",
     "output_type": "stream",
     "text": [
      "Suppression\n"
     ]
    },
    {
     "data": {
      "text/html": [
       "<picture>\n",
       "  <source srcset=\"large-assets/ex-2.9.1-error-vs-similarity-suppression.dark.png?v=7z6ZRX39ll3zX_nuNbjLxGovKUb-ygi-dEeuCilTFlM\" media=\"(prefers-color-scheme: dark)\" />\n",
       "  <source srcset=\"large-assets/ex-2.9.1-error-vs-similarity-suppression.png?v=7z6ZRX39ll3zX_nuNbjLxGovKUb-ygi-dEeuCilTFlM\" media=\"(prefers-color-scheme: light)\" />\n",
       "  <img src=\"large-assets/ex-2.9.1-error-vs-similarity-suppression.png?v=7z6ZRX39ll3zX_nuNbjLxGovKUb-ygi-dEeuCilTFlM\" alt=\"Scatter plot showing reconstruction error versus similarity to red. Each point represents a color, with its position on the x-axis indicating how similar it is to pure red, and its position on the y-axis indicating the reconstruction error (mean squared error) for that color. The points are colored according to their actual color values.\" />\n",
       "</picture>"
      ],
      "text/plain": [
       "Scatter plot showing reconstruction error versus similarity to red. Each point represents a color, with its position on the x-axis indicating how similar it is to pure red, and its position on the y-axis indicating the reconstruction error (mean squared error) for that color. The points are colored according to their actual color values."
      ]
     },
     "metadata": {},
     "output_type": "display_data"
    }
   ],
   "source": [
    "print('Ablated')\n",
    "visualize_error_vs_similarity(\n",
    "    ablation_results.latent_cube,\n",
    "    ANCHOR_HSV,\n",
    "    tags=ablation_results.tags,\n",
    "    anchor_name='red',\n",
    "    power=POWER_BY_PLAN['ablated'],\n",
    ")\n",
    "\n",
    "print('Pruned')\n",
    "visualize_error_vs_similarity(\n",
    "    pruned_results.latent_cube,\n",
    "    ANCHOR_HSV,\n",
    "    tags=pruned_results.tags,\n",
    "    anchor_name='red',\n",
    "    power=POWER_BY_PLAN['ablated'],\n",
    ")\n",
    "\n",
    "print('Suppression')\n",
    "visualize_error_vs_similarity(\n",
    "    suppression_results.latent_cube,\n",
    "    ANCHOR_HSV,\n",
    "    tags=suppression_results.tags,\n",
    "    anchor_name='red',\n",
    "    power=POWER_BY_PLAN['suppression'],\n",
    ")"
   ]
  }
 ],
 "metadata": {
  "kernelspec": {
   "display_name": "ex-color-transformer",
   "language": "python",
   "name": "python3"
  },
  "language_info": {
   "codemirror_mode": {
    "name": "ipython",
    "version": 3
   },
   "file_extension": ".py",
   "mimetype": "text/x-python",
   "name": "python",
   "nbconvert_exporter": "python",
   "pygments_lexer": "ipython3",
   "version": "3.13.5"
  }
 },
 "nbformat": 4,
 "nbformat_minor": 5
}