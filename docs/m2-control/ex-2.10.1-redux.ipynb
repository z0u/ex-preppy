{
 "cells": [
  {
   "cell_type": "markdown",
   "id": "191d5190",
   "metadata": {},
   "source": [
    "# Experiment 2.10.1: Delete only red without \"desaturated\" label\n",
    "\n",
    "This is a re-run of [Ex 2.10](./ex-2.10-delete-only-red-5d-no-subspace.ipynb) with more mature tooling. See the earlier notebook for discussion."
   ]
  },
  {
   "cell_type": "code",
   "execution_count": 1,
   "id": "db26371c",
   "metadata": {},
   "outputs": [],
   "source": [
    "from __future__ import annotations\n",
    "\n",
    "nbid = '2.10.1'  # ID for tagging assets\n",
    "nbname = 'Ablate red (only), 5D, fewer labels'\n",
    "experiment_name = f'Ex {nbid}: {nbname}'\n",
    "project = 'ex-preppy'"
   ]
  },
  {
   "cell_type": "code",
   "execution_count": 2,
   "id": "eaf0edd7",
   "metadata": {},
   "outputs": [],
   "source": [
    "# Basic setup: Logging, Experiment (Modal)\n",
    "import logging\n",
    "\n",
    "import modal\n",
    "\n",
    "from infra.requirements import uv_freeze, project_packages\n",
    "from utils.logging import SimpleLoggingConfig\n",
    "from ex_color.vis import NbViz\n",
    "\n",
    "logging_config = (\n",
    "    SimpleLoggingConfig()\n",
    "    .info('notebook', 'utils', 'mini', 'ex_color')\n",
    "    .error('matplotlib.axes')  # Silence warnings about set_aspect\n",
    ")\n",
    "logging_config.apply()\n",
    "\n",
    "# This is the logger for this notebook\n",
    "log = logging.getLogger(f'notebook.{nbid}')\n",
    "\n",
    "image = (\n",
    "    modal.Image.debian_slim()\n",
    "    .pip_install(*uv_freeze(all_groups=True, not_groups='dev'))\n",
    "    .add_local_python_source(*project_packages())\n",
    ")\n",
    "volume = modal.Volume.from_name(f'{project}-{nbid}', create_if_missing=True, version=2)\n",
    "app = modal.App(name=f'{project}-{nbid}', image=image, volumes={'/data': volume})\n",
    "\n",
    "viz = NbViz(nbid)\n",
    "None  # prevent auto-display of this cell"
   ]
  },
  {
   "cell_type": "markdown",
   "id": "89b2028d",
   "metadata": {},
   "source": [
    "## Model parameters\n",
    "\n",
    "Like Ex 2.9, we use the following regularizers:\n",
    "\n",
    "- **Anchor:** pins `red` to $(1,0,0,0,0)$ (5D)\n",
    "- **AxisAlignedSubspace:** repels everything from dimension $1$ (with varying weight, see schedule)\n",
    "- **Separate:** angular repulsion to reduce global clumping (applied within each batch)\n",
    "\n",
    "Since we're isolating _red_, we have 5D latent embeddings and two nonlinear activation functions in the encoder and decoder, to allow the latent space to be warped more.\n",
    "\n",
    "But unlike 2.9:\n",
    "- **Anti-anchor:** has been removed, relying on anti-subspace to keep other concepts clear of the dimension to be ablated.\n",
    "- **Unitarity:** is present in this list, but we'll do a run without it too."
   ]
  },
  {
   "cell_type": "code",
   "execution_count": 3,
   "id": "ac781a07",
   "metadata": {},
   "outputs": [],
   "source": [
    "import torch\n",
    "\n",
    "from ex_color.loss import AngularAnchor, AxisAlignedSubspace, Separate, RegularizerConfig\n",
    "\n",
    "K = 5  # bottleneck dimensionality\n",
    "N = 2  # number of nonlinear layers\n",
    "RED = (1, 0, 0, 0, 0)\n",
    "BATCH_SIZE = 64\n",
    "CUBE_SUBDIVISIONS = 8\n",
    "NUM_RUNS = 60  # to probe seed sensitivity\n",
    "RUN_SEEDS = [i for i in range(NUM_RUNS)]\n",
    "\n",
    "reg_separate = RegularizerConfig(\n",
    "    name='separate',\n",
    "    compute_loss_term=Separate(power=100.0, shift=True),\n",
    "    label_affinities=None,\n",
    "    layer_affinities=['bottleneck'],\n",
    ")\n",
    "reg_anchor = RegularizerConfig(\n",
    "    name='anchor',\n",
    "    compute_loss_term=AngularAnchor(torch.tensor(RED, dtype=torch.float32)),\n",
    "    label_affinities={'red': 1.0},\n",
    "    layer_affinities=['bottleneck'],\n",
    "    phase=('train', 'validate'),\n",
    ")\n",
    "reg_anti_subspace = RegularizerConfig(\n",
    "    name='anti-subspace',\n",
    "    compute_loss_term=AxisAlignedSubspace((0,), invert=True),\n",
    "    label_affinities=None,\n",
    "    layer_affinities=['bottleneck'],\n",
    ")"
   ]
  },
  {
   "cell_type": "code",
   "execution_count": 4,
   "id": "f09f0f05",
   "metadata": {},
   "outputs": [
    {
     "data": {
      "text/markdown": [
       "## Parameter schedule \n",
       "|   STEP | PHASE   |   ACTION |      lr |   separate |   anchor |   anti-subspace |\n",
       "|-------:|:--------|---------:|--------:|-----------:|---------:|----------------:|\n",
       "|      0 | Train   |          |   1e-08 |            |     0    |           0.25  |\n",
       "|     10 |         |          |   0.01  |            |          |                 |\n",
       "|    248 |         |          |         |      0.01  |     0.1  |                 |\n",
       "|    495 |         |          |         |            |          |                 |\n",
       "|    750 |         |          |   0.1   |      0.001 |     0.12 |           0.005 |\n",
       "|   1125 |         |          |         |            |          |                 |\n",
       "|   1425 |         |          |   0.1   |      0     |     0    |           0     |\n",
       "|   1500 |         |          |   0.05  |            |          |                 |"
      ],
      "text/plain": [
       "<IPython.core.display.Markdown object>"
      ]
     },
     "metadata": {},
     "output_type": "display_data"
    },
    {
     "data": {
      "text/html": [
       "<picture>\n",
       "  <source srcset=\"large-assets/ex-2.10.1-dopesheet.dark.png?v=uFbi2SF-_84PCzHkVQqh9F_VPOXeBuYB_yxbCvlOQjg\" media=\"(prefers-color-scheme: dark)\" />\n",
       "  <source srcset=\"large-assets/ex-2.10.1-dopesheet.png?v=uFbi2SF-_84PCzHkVQqh9F_VPOXeBuYB_yxbCvlOQjg\" media=\"(prefers-color-scheme: light)\" />\n",
       "  <img src=\"large-assets/ex-2.10.1-dopesheet.png?v=uFbi2SF-_84PCzHkVQqh9F_VPOXeBuYB_yxbCvlOQjg\" alt=\"Plot showing the parameter schedule for the training run, titled &quot;&quot;. The plot has two sections: the upper section shows various regularization weights over time, and the lower section shows the learning rate over time. The x-axis represents training steps.\" />\n",
       "</picture>"
      ],
      "text/plain": [
       "Plot showing the parameter schedule for the training run, titled \"\". The plot has two sections: the upper section shows various regularization weights over time, and the lower section shows the learning rate over time. The x-axis represents training steps."
      ]
     },
     "metadata": {},
     "output_type": "display_data"
    }
   ],
   "source": [
    "from mini.temporal.dopesheet import Dopesheet\n",
    "\n",
    "dopesheet = Dopesheet.from_csv(f'./ex-{nbid}-dopesheet.csv')\n",
    "viz.tab_dopesheet(dopesheet)\n",
    "viz.plot_dopesheet(dopesheet)"
   ]
  },
  {
   "cell_type": "markdown",
   "id": "22376072",
   "metadata": {},
   "source": [
    "## Data\n",
    "\n",
    "Data is the same as last time: color cubes with values in RGB.\n"
   ]
  },
  {
   "cell_type": "code",
   "execution_count": 5,
   "id": "89508e77",
   "metadata": {},
   "outputs": [],
   "source": [
    "from torch.utils.data import DataLoader, RandomSampler\n",
    "\n",
    "from ex_color.data.cube_dataset import prep_color_dataset, redness, stochastic_labels, exact_labels\n",
    "\n",
    "\n",
    "def prep_train_data(training_subs: int, *, batch_size: int) -> DataLoader:\n",
    "    dataset = prep_color_dataset(\n",
    "        training_subs,\n",
    "        sample_at='cell-corners',\n",
    "        red=lambda c: redness(c) ** 8 * 0.08,\n",
    "    )\n",
    "    return DataLoader(\n",
    "        dataset,\n",
    "        batch_size=batch_size,\n",
    "        num_workers=4,\n",
    "        sampler=RandomSampler(dataset, num_samples=len(dataset), replacement=True),\n",
    "        collate_fn=stochastic_labels,\n",
    "    )\n",
    "\n",
    "\n",
    "def prep_val_data(training_subs: int, *, batch_size: int) -> DataLoader:\n",
    "    dataset = prep_color_dataset(\n",
    "        training_subs,\n",
    "        sample_at='cell-centers',\n",
    "        red=lambda c: redness(c) == 1,\n",
    "    )\n",
    "    return DataLoader(\n",
    "        dataset,\n",
    "        batch_size=batch_size,\n",
    "        num_workers=2,\n",
    "        collate_fn=exact_labels,\n",
    "    )"
   ]
  },
  {
   "cell_type": "markdown",
   "id": "7fecb906",
   "metadata": {},
   "source": [
    "## Train"
   ]
  },
  {
   "cell_type": "code",
   "execution_count": 6,
   "id": "73c22398",
   "metadata": {},
   "outputs": [],
   "source": [
    "from typing import Callable\n",
    "\n",
    "import torch\n",
    "import wandb\n",
    "\n",
    "from ex_color.model import CNColorMLP\n",
    "from ex_color.seed import set_deterministic_mode\n",
    "from ex_color.workflow import train_model\n",
    "from ex_color.evaluation import Result\n",
    "from utils.time import hour\n",
    "\n",
    "\n",
    "@app.function(\n",
    "    cpu=1,\n",
    "    max_containers=20,\n",
    "    timeout=1 * hour,\n",
    "    env={'WANDB_API_KEY': wandb.Api().api_key or ''},\n",
    ")\n",
    "async def train(\n",
    "    dopesheet: Dopesheet,\n",
    "    regularizers: list[RegularizerConfig],\n",
    "    *,\n",
    "    seed: int,\n",
    "    score_fn: Callable[[CNColorMLP], float],\n",
    "):\n",
    "    \"\"\"Train the model with the given dopesheet and variant.\"\"\"\n",
    "    logging_config.apply()\n",
    "\n",
    "    if seed is not None:\n",
    "        set_deterministic_mode(seed)\n",
    "\n",
    "    train_loader = prep_train_data(CUBE_SUBDIVISIONS, batch_size=BATCH_SIZE)\n",
    "    val_loader = prep_val_data(CUBE_SUBDIVISIONS, batch_size=BATCH_SIZE)\n",
    "    model = CNColorMLP(K, n_nonlinear=N)\n",
    "    res = train_model(\n",
    "        model,\n",
    "        dopesheet,\n",
    "        regularizers,\n",
    "        train_loader,\n",
    "        val_loader,\n",
    "        experiment_name=experiment_name,\n",
    "        project=project,\n",
    "        hparams={'seed': seed},\n",
    "    )\n",
    "\n",
    "    score = score_fn(res.model)\n",
    "    key = f'model-{res.id_}.pt'\n",
    "    torch.save(res.model.state_dict(), f'/data/{key}')\n",
    "    return Result(seed, key, res.url, res.summary, score)"
   ]
  },
  {
   "cell_type": "code",
   "execution_count": 7,
   "id": "40a359a0",
   "metadata": {},
   "outputs": [],
   "source": [
    "from ex_color.evaluation import EvaluationPlan, ScoreByHSVSimilarity\n",
    "from ex_color.surgery import ablate\n",
    "\n",
    "ablation_plan = EvaluationPlan(\n",
    "    {'ablated'},\n",
    "    lambda m: ablate(m, 'bottleneck', [0]),\n",
    "    [],\n",
    ")\n",
    "\n",
    "score_fn = ScoreByHSVSimilarity(ablation_plan, (0.0, 1.0, 1.0), power=3.0, cube_subdivisions=CUBE_SUBDIVISIONS)"
   ]
  },
  {
   "cell_type": "code",
   "execution_count": 8,
   "id": "c6b26721",
   "metadata": {},
   "outputs": [],
   "source": [
    "import asyncio\n",
    "\n",
    "# Reload dopesheet: makes tweaking params during development easier\n",
    "dopesheet = Dopesheet.from_csv(f'./ex-{nbid}-dopesheet.csv')\n",
    "regularizers = [reg_separate, reg_anchor, reg_anti_subspace]\n",
    "\n",
    "\n",
    "async def sweep():\n",
    "    logging_config.apply()\n",
    "    workers = [train.remote.aio(dopesheet, regularizers, seed=seed, score_fn=score_fn) for seed in RUN_SEEDS]\n",
    "    return await asyncio.gather(*workers)\n",
    "\n",
    "\n",
    "with app.run():\n",
    "    results = await sweep()"
   ]
  },
  {
   "cell_type": "code",
   "execution_count": null,
   "id": "0a0b261b",
   "metadata": {},
   "outputs": [
    {
     "name": "stdout",
     "output_type": "stream",
     "text": [
      "I 1009.3 no.2.10.1:Summary statistics for all 60 runs:\n"
     ]
    },
    {
     "data": {
      "text/html": [
       "<style type=\"text/css\">\n",
       "</style>\n",
       "<table id=\"T_e77ce\">\n",
       "  <thead>\n",
       "    <tr>\n",
       "      <th class=\"blank level0\" >&nbsp;</th>\n",
       "      <th id=\"T_e77ce_level0_col0\" class=\"col_heading level0 col0\" >seed</th>\n",
       "      <th id=\"T_e77ce_level0_col1\" class=\"col_heading level0 col1\" >score</th>\n",
       "      <th id=\"T_e77ce_level0_col2\" class=\"col_heading level0 col2\" >_runtime</th>\n",
       "      <th id=\"T_e77ce_level0_col3\" class=\"col_heading level0 col3\" >labels/n/red</th>\n",
       "      <th id=\"T_e77ce_level0_col4\" class=\"col_heading level0 col4\" >labels/n_total</th>\n",
       "      <th id=\"T_e77ce_level0_col5\" class=\"col_heading level0 col5\" >val_loss</th>\n",
       "      <th id=\"T_e77ce_level0_col6\" class=\"col_heading level0 col6\" >val_anchor</th>\n",
       "      <th id=\"T_e77ce_level0_col7\" class=\"col_heading level0 col7\" >labels/n/_any</th>\n",
       "      <th id=\"T_e77ce_level0_col8\" class=\"col_heading level0 col8\" >val_recon</th>\n",
       "    </tr>\n",
       "  </thead>\n",
       "  <tbody>\n",
       "    <tr>\n",
       "      <th id=\"T_e77ce_level0_row0\" class=\"row_heading level0 row0\" >min</th>\n",
       "      <td id=\"T_e77ce_row0_col0\" class=\"data row0 col0\" >0.0000</td>\n",
       "      <td id=\"T_e77ce_row0_col1\" class=\"data row0 col1\" >0.0376</td>\n",
       "      <td id=\"T_e77ce_row0_col2\" class=\"data row0 col2\" >48.0783</td>\n",
       "      <td id=\"T_e77ce_row0_col3\" class=\"data row0 col3\" >68.0000</td>\n",
       "      <td id=\"T_e77ce_row0_col4\" class=\"data row0 col4\" >96064.0000</td>\n",
       "      <td id=\"T_e77ce_row0_col5\" class=\"data row0 col5\" >0.0000</td>\n",
       "      <td id=\"T_e77ce_row0_col6\" class=\"data row0 col6\" >0.0000</td>\n",
       "      <td id=\"T_e77ce_row0_col7\" class=\"data row0 col7\" >68.0000</td>\n",
       "      <td id=\"T_e77ce_row0_col8\" class=\"data row0 col8\" >0.0000</td>\n",
       "    </tr>\n",
       "    <tr>\n",
       "      <th id=\"T_e77ce_level0_row1\" class=\"row_heading level0 row1\" >max</th>\n",
       "      <td id=\"T_e77ce_row1_col0\" class=\"data row1 col0\" >59.0000</td>\n",
       "      <td id=\"T_e77ce_row1_col1\" class=\"data row1 col1\" >0.9769</td>\n",
       "      <td id=\"T_e77ce_row1_col2\" class=\"data row1 col2\" >246.7323</td>\n",
       "      <td id=\"T_e77ce_row1_col3\" class=\"data row1 col3\" >98.0000</td>\n",
       "      <td id=\"T_e77ce_row1_col4\" class=\"data row1 col4\" >96064.0000</td>\n",
       "      <td id=\"T_e77ce_row1_col5\" class=\"data row1 col5\" >0.0004</td>\n",
       "      <td id=\"T_e77ce_row1_col6\" class=\"data row1 col6\" >0.0465</td>\n",
       "      <td id=\"T_e77ce_row1_col7\" class=\"data row1 col7\" >98.0000</td>\n",
       "      <td id=\"T_e77ce_row1_col8\" class=\"data row1 col8\" >0.0004</td>\n",
       "    </tr>\n",
       "    <tr>\n",
       "      <th id=\"T_e77ce_level0_row2\" class=\"row_heading level0 row2\" >mean</th>\n",
       "      <td id=\"T_e77ce_row2_col0\" class=\"data row2 col0\" >29.5000</td>\n",
       "      <td id=\"T_e77ce_row2_col1\" class=\"data row2 col1\" >0.8503</td>\n",
       "      <td id=\"T_e77ce_row2_col2\" class=\"data row2 col2\" >79.2997</td>\n",
       "      <td id=\"T_e77ce_row2_col3\" class=\"data row2 col3\" >83.6167</td>\n",
       "      <td id=\"T_e77ce_row2_col4\" class=\"data row2 col4\" >96064.0000</td>\n",
       "      <td id=\"T_e77ce_row2_col5\" class=\"data row2 col5\" >0.0000</td>\n",
       "      <td id=\"T_e77ce_row2_col6\" class=\"data row2 col6\" >0.0014</td>\n",
       "      <td id=\"T_e77ce_row2_col7\" class=\"data row2 col7\" >83.6167</td>\n",
       "      <td id=\"T_e77ce_row2_col8\" class=\"data row2 col8\" >0.0000</td>\n",
       "    </tr>\n",
       "    <tr>\n",
       "      <th id=\"T_e77ce_level0_row3\" class=\"row_heading level0 row3\" >std</th>\n",
       "      <td id=\"T_e77ce_row3_col0\" class=\"data row3 col0\" >17.4642</td>\n",
       "      <td id=\"T_e77ce_row3_col1\" class=\"data row3 col1\" >0.1413</td>\n",
       "      <td id=\"T_e77ce_row3_col2\" class=\"data row3 col2\" >32.3485</td>\n",
       "      <td id=\"T_e77ce_row3_col3\" class=\"data row3 col3\" >8.0087</td>\n",
       "      <td id=\"T_e77ce_row3_col4\" class=\"data row3 col4\" >0.0000</td>\n",
       "      <td id=\"T_e77ce_row3_col5\" class=\"data row3 col5\" >0.0001</td>\n",
       "      <td id=\"T_e77ce_row3_col6\" class=\"data row3 col6\" >0.0059</td>\n",
       "      <td id=\"T_e77ce_row3_col7\" class=\"data row3 col7\" >8.0087</td>\n",
       "      <td id=\"T_e77ce_row3_col8\" class=\"data row3 col8\" >0.0001</td>\n",
       "    </tr>\n",
       "  </tbody>\n",
       "</table>\n"
      ],
      "text/plain": [
       "<pandas.io.formats.style.Styler at 0xffff3c5c4910>"
      ]
     },
     "metadata": {},
     "output_type": "display_data"
    },
    {
     "name": "stdout",
     "output_type": "stream",
     "text": [
      "Correlation of reconstruction error vs. similarity to anchor\n"
     ]
    },
    {
     "data": {
      "text/html": [
       "<picture>\n",
       "  <source srcset=\"large-assets/ex-2.10.1-boxplot-score.dark.png?v=WkWhEqtkgbdRfkjEITASULY1I_ssSYil7ziffk6Doqc\" media=\"(prefers-color-scheme: dark)\" />\n",
       "  <source srcset=\"large-assets/ex-2.10.1-boxplot-score.png?v=WkWhEqtkgbdRfkjEITASULY1I_ssSYil7ziffk6Doqc\" media=\"(prefers-color-scheme: light)\" />\n",
       "  <img src=\"large-assets/ex-2.10.1-boxplot-score.png?v=WkWhEqtkgbdRfkjEITASULY1I_ssSYil7ziffk6Doqc\" alt=\"Horizontal box plot showing the distribution of .\" />\n",
       "</picture>"
      ],
      "text/plain": [
       "Horizontal box plot showing the distribution of ."
      ]
     },
     "metadata": {},
     "output_type": "display_data"
    },
    {
     "name": "stdout",
     "output_type": "stream",
     "text": [
      "Reconstruction loss\n"
     ]
    },
    {
     "data": {
      "text/html": [
       "<picture>\n",
       "  <source srcset=\"large-assets/ex-2.10.1-boxplot-val-recon.dark.png?v=a-3JBw-fL3RkHuPGI6WLOZg69-hslA3IiJaYglvwU0U\" media=\"(prefers-color-scheme: dark)\" />\n",
       "  <source srcset=\"large-assets/ex-2.10.1-boxplot-val-recon.png?v=a-3JBw-fL3RkHuPGI6WLOZg69-hslA3IiJaYglvwU0U\" media=\"(prefers-color-scheme: light)\" />\n",
       "  <img src=\"large-assets/ex-2.10.1-boxplot-val-recon.png?v=a-3JBw-fL3RkHuPGI6WLOZg69-hslA3IiJaYglvwU0U\" alt=\"Horizontal box plot showing the distribution of .\" />\n",
       "</picture>"
      ],
      "text/plain": [
       "Horizontal box plot showing the distribution of ."
      ]
     },
     "metadata": {},
     "output_type": "display_data"
    },
    {
     "name": "stdout",
     "output_type": "stream",
     "text": [
      "Anchor loss\n"
     ]
    },
    {
     "data": {
      "text/html": [
       "<picture>\n",
       "  <source srcset=\"large-assets/ex-2.10.1-boxplot-val-anchor.dark.png?v=K3eFQr3zPIZ8aqGRqSjPgzP2Y--O7KOnp0MycD-BcPU\" media=\"(prefers-color-scheme: dark)\" />\n",
       "  <source srcset=\"large-assets/ex-2.10.1-boxplot-val-anchor.png?v=K3eFQr3zPIZ8aqGRqSjPgzP2Y--O7KOnp0MycD-BcPU\" media=\"(prefers-color-scheme: light)\" />\n",
       "  <img src=\"large-assets/ex-2.10.1-boxplot-val-anchor.png?v=K3eFQr3zPIZ8aqGRqSjPgzP2Y--O7KOnp0MycD-BcPU\" alt=\"Horizontal box plot showing the distribution of .\" />\n",
       "</picture>"
      ],
      "text/plain": [
       "Horizontal box plot showing the distribution of ."
      ]
     },
     "metadata": {},
     "output_type": "display_data"
    }
   ],
   "source": [
    "from IPython.display import display\n",
    "from ex_color.evaluation import results_to_dataframe\n",
    "\n",
    "runs_df = results_to_dataframe(results)\n",
    "# Show min, max, mean, stddev of each column\n",
    "log.info(f'Summary statistics for all {len(runs_df)} runs:')\n",
    "display(runs_df.describe().loc[['min', 'max', 'mean', 'std']].style.format(precision=4))\n",
    "\n",
    "print('Correlation of reconstruction error vs. similarity to anchor')\n",
    "viz.plot_boxplot(runs_df['score'], ylabel='', xlim=(None, 1), tags=('score',))\n",
    "\n",
    "print('Reconstruction loss')\n",
    "viz.plot_boxplot(runs_df['val_recon'], ylabel='', log_scale=True, tags=('val_recon',))\n",
    "\n",
    "print('Anchor loss')\n",
    "viz.plot_boxplot(runs_df['val_anchor'], ylabel='', log_scale=True, tags=('val_anchor',))"
   ]
  },
  {
   "cell_type": "markdown",
   "id": "fa9b9150",
   "metadata": {},
   "source": [
    "Select the best runs from the Pareto front of non-dominated runs, optimizing for both validation loss and score."
   ]
  },
  {
   "cell_type": "code",
   "execution_count": 10,
   "id": "7e98797f",
   "metadata": {},
   "outputs": [
    {
     "name": "stdout",
     "output_type": "stream",
     "text": [
      "I 324.1 no.2.10.1:Best of 9 non-dominated runs (Pareto front):\n"
     ]
    },
    {
     "data": {
      "text/html": [
       "<style type=\"text/css\">\n",
       "</style>\n",
       "<table id=\"T_8f0cc\">\n",
       "  <thead>\n",
       "    <tr>\n",
       "      <th class=\"blank level0\" >&nbsp;</th>\n",
       "      <th id=\"T_8f0cc_level0_col0\" class=\"col_heading level0 col0\" >seed</th>\n",
       "      <th id=\"T_8f0cc_level0_col1\" class=\"col_heading level0 col1\" >wandb url</th>\n",
       "      <th id=\"T_8f0cc_level0_col2\" class=\"col_heading level0 col2\" >score</th>\n",
       "      <th id=\"T_8f0cc_level0_col3\" class=\"col_heading level0 col3\" >_runtime</th>\n",
       "      <th id=\"T_8f0cc_level0_col4\" class=\"col_heading level0 col4\" >labels/n/red</th>\n",
       "      <th id=\"T_8f0cc_level0_col5\" class=\"col_heading level0 col5\" >labels/n_total</th>\n",
       "      <th id=\"T_8f0cc_level0_col6\" class=\"col_heading level0 col6\" >val_loss</th>\n",
       "      <th id=\"T_8f0cc_level0_col7\" class=\"col_heading level0 col7\" >val_anchor</th>\n",
       "      <th id=\"T_8f0cc_level0_col8\" class=\"col_heading level0 col8\" >labels/n/_any</th>\n",
       "      <th id=\"T_8f0cc_level0_col9\" class=\"col_heading level0 col9\" >val_recon</th>\n",
       "    </tr>\n",
       "  </thead>\n",
       "  <tbody>\n",
       "    <tr>\n",
       "      <th id=\"T_8f0cc_level0_row0\" class=\"row_heading level0 row0\" >52</th>\n",
       "      <td id=\"T_8f0cc_row0_col0\" class=\"data row0 col0\" >52</td>\n",
       "      <td id=\"T_8f0cc_row0_col1\" class=\"data row0 col1\" ><a href=\"https://wandb.ai/z0r/ex-preppy/runs/9wyfn37w\" target=\"_blank\">https://wandb.ai/z0r/ex-preppy/runs/9wyfn37w</a></td>\n",
       "      <td id=\"T_8f0cc_row0_col2\" class=\"data row0 col2\" >0.9769</td>\n",
       "      <td id=\"T_8f0cc_row0_col3\" class=\"data row0 col3\" >64.6405</td>\n",
       "      <td id=\"T_8f0cc_row0_col4\" class=\"data row0 col4\" >76</td>\n",
       "      <td id=\"T_8f0cc_row0_col5\" class=\"data row0 col5\" >96064</td>\n",
       "      <td id=\"T_8f0cc_row0_col6\" class=\"data row0 col6\" >0.0000</td>\n",
       "      <td id=\"T_8f0cc_row0_col7\" class=\"data row0 col7\" >0.0010</td>\n",
       "      <td id=\"T_8f0cc_row0_col8\" class=\"data row0 col8\" >76</td>\n",
       "      <td id=\"T_8f0cc_row0_col9\" class=\"data row0 col9\" >0.0000</td>\n",
       "    </tr>\n",
       "    <tr>\n",
       "      <th id=\"T_8f0cc_level0_row1\" class=\"row_heading level0 row1\" >9</th>\n",
       "      <td id=\"T_8f0cc_row1_col0\" class=\"data row1 col0\" >9</td>\n",
       "      <td id=\"T_8f0cc_row1_col1\" class=\"data row1 col1\" ><a href=\"https://wandb.ai/z0r/ex-preppy/runs/3qsan94p\" target=\"_blank\">https://wandb.ai/z0r/ex-preppy/runs/3qsan94p</a></td>\n",
       "      <td id=\"T_8f0cc_row1_col2\" class=\"data row1 col2\" >0.9758</td>\n",
       "      <td id=\"T_8f0cc_row1_col3\" class=\"data row1 col3\" >125.9621</td>\n",
       "      <td id=\"T_8f0cc_row1_col4\" class=\"data row1 col4\" >94</td>\n",
       "      <td id=\"T_8f0cc_row1_col5\" class=\"data row1 col5\" >96064</td>\n",
       "      <td id=\"T_8f0cc_row1_col6\" class=\"data row1 col6\" >0.0000</td>\n",
       "      <td id=\"T_8f0cc_row1_col7\" class=\"data row1 col7\" >0.0001</td>\n",
       "      <td id=\"T_8f0cc_row1_col8\" class=\"data row1 col8\" >94</td>\n",
       "      <td id=\"T_8f0cc_row1_col9\" class=\"data row1 col9\" >0.0000</td>\n",
       "    </tr>\n",
       "    <tr>\n",
       "      <th id=\"T_8f0cc_level0_row2\" class=\"row_heading level0 row2\" >30</th>\n",
       "      <td id=\"T_8f0cc_row2_col0\" class=\"data row2 col0\" >30</td>\n",
       "      <td id=\"T_8f0cc_row2_col1\" class=\"data row2 col1\" ><a href=\"https://wandb.ai/z0r/ex-preppy/runs/k6q5appb\" target=\"_blank\">https://wandb.ai/z0r/ex-preppy/runs/k6q5appb</a></td>\n",
       "      <td id=\"T_8f0cc_row2_col2\" class=\"data row2 col2\" >0.9594</td>\n",
       "      <td id=\"T_8f0cc_row2_col3\" class=\"data row2 col3\" >50.8907</td>\n",
       "      <td id=\"T_8f0cc_row2_col4\" class=\"data row2 col4\" >92</td>\n",
       "      <td id=\"T_8f0cc_row2_col5\" class=\"data row2 col5\" >96064</td>\n",
       "      <td id=\"T_8f0cc_row2_col6\" class=\"data row2 col6\" >0.0000</td>\n",
       "      <td id=\"T_8f0cc_row2_col7\" class=\"data row2 col7\" >0.0007</td>\n",
       "      <td id=\"T_8f0cc_row2_col8\" class=\"data row2 col8\" >92</td>\n",
       "      <td id=\"T_8f0cc_row2_col9\" class=\"data row2 col9\" >0.0000</td>\n",
       "    </tr>\n",
       "    <tr>\n",
       "      <th id=\"T_8f0cc_level0_row3\" class=\"row_heading level0 row3\" >37</th>\n",
       "      <td id=\"T_8f0cc_row3_col0\" class=\"data row3 col0\" >37</td>\n",
       "      <td id=\"T_8f0cc_row3_col1\" class=\"data row3 col1\" ><a href=\"https://wandb.ai/z0r/ex-preppy/runs/clzdmfpg\" target=\"_blank\">https://wandb.ai/z0r/ex-preppy/runs/clzdmfpg</a></td>\n",
       "      <td id=\"T_8f0cc_row3_col2\" class=\"data row3 col2\" >0.9480</td>\n",
       "      <td id=\"T_8f0cc_row3_col3\" class=\"data row3 col3\" >92.7062</td>\n",
       "      <td id=\"T_8f0cc_row3_col4\" class=\"data row3 col4\" >81</td>\n",
       "      <td id=\"T_8f0cc_row3_col5\" class=\"data row3 col5\" >96064</td>\n",
       "      <td id=\"T_8f0cc_row3_col6\" class=\"data row3 col6\" >0.0000</td>\n",
       "      <td id=\"T_8f0cc_row3_col7\" class=\"data row3 col7\" >0.0000</td>\n",
       "      <td id=\"T_8f0cc_row3_col8\" class=\"data row3 col8\" >81</td>\n",
       "      <td id=\"T_8f0cc_row3_col9\" class=\"data row3 col9\" >0.0000</td>\n",
       "    </tr>\n",
       "    <tr>\n",
       "      <th id=\"T_8f0cc_level0_row4\" class=\"row_heading level0 row4\" >0</th>\n",
       "      <td id=\"T_8f0cc_row4_col0\" class=\"data row4 col0\" >0</td>\n",
       "      <td id=\"T_8f0cc_row4_col1\" class=\"data row4 col1\" ><a href=\"https://wandb.ai/z0r/ex-preppy/runs/g9p5h6bw\" target=\"_blank\">https://wandb.ai/z0r/ex-preppy/runs/g9p5h6bw</a></td>\n",
       "      <td id=\"T_8f0cc_row4_col2\" class=\"data row4 col2\" >0.9366</td>\n",
       "      <td id=\"T_8f0cc_row4_col3\" class=\"data row4 col3\" >52.4667</td>\n",
       "      <td id=\"T_8f0cc_row4_col4\" class=\"data row4 col4\" >83</td>\n",
       "      <td id=\"T_8f0cc_row4_col5\" class=\"data row4 col5\" >96064</td>\n",
       "      <td id=\"T_8f0cc_row4_col6\" class=\"data row4 col6\" >0.0000</td>\n",
       "      <td id=\"T_8f0cc_row4_col7\" class=\"data row4 col7\" >0.0005</td>\n",
       "      <td id=\"T_8f0cc_row4_col8\" class=\"data row4 col8\" >83</td>\n",
       "      <td id=\"T_8f0cc_row4_col9\" class=\"data row4 col9\" >0.0000</td>\n",
       "    </tr>\n",
       "  </tbody>\n",
       "</table>\n"
      ],
      "text/plain": [
       "<pandas.io.formats.style.Styler at 0xffff3d108190>"
      ]
     },
     "metadata": {},
     "output_type": "display_data"
    }
   ],
   "source": [
    "from ex_color.evaluation import pareto_front\n",
    "\n",
    "non_dominated = pareto_front(runs_df, minimize=['val_recon', 'val_anchor'], maximize=['score'])\n",
    "log.info(f'Best of {len(non_dominated)} non-dominated runs (Pareto front):')\n",
    "display(non_dominated.sort_values(by='score', ascending=False).head(5).style.format(precision=4, hyperlinks='html'))"
   ]
  },
  {
   "cell_type": "code",
   "execution_count": 11,
   "id": "22b21799",
   "metadata": {},
   "outputs": [
    {
     "name": "stdout",
     "output_type": "stream",
     "text": [
      "I 324.2 no.2.10.1:Loading checkpoint of best run: seed=52, score=0.9769 @ https://wandb.ai/z0r/ex-preppy/runs/9wyfn37w\n"
     ]
    }
   ],
   "source": [
    "from typing import cast\n",
    "\n",
    "from mini.data import load_checkpoint_from_volume\n",
    "\n",
    "best_run = results[cast(int, non_dominated['score'].idxmax())]\n",
    "log.info(f'Loading checkpoint of best run: seed={best_run.seed}, score={best_run.score:.4f} @ {best_run.url}')\n",
    "model = CNColorMLP(K, n_nonlinear=N)\n",
    "model = load_checkpoint_from_volume(model, volume, best_run.checkpoint_key)"
   ]
  },
  {
   "cell_type": "markdown",
   "id": "d7050c3f",
   "metadata": {},
   "source": [
    "## Results"
   ]
  },
  {
   "cell_type": "code",
   "execution_count": 12,
   "id": "41643004",
   "metadata": {},
   "outputs": [],
   "source": [
    "# # Generate a list of dimensions to visualize\n",
    "# from itertools import combinations\n",
    "# [\n",
    "#     (\n",
    "#         b,\n",
    "#         a,\n",
    "#         (a + 1) % 5 if (a + 1) % 5 not in (a, b) else (a + 2) % 5,\n",
    "#     )\n",
    "#     for a, b in combinations((0, 1, 2, 3, 4), 2)\n",
    "# ]"
   ]
  },
  {
   "cell_type": "code",
   "execution_count": 13,
   "id": "5d8d91d3",
   "metadata": {},
   "outputs": [],
   "source": [
    "from ex_color.evaluation import TestSet\n",
    "\n",
    "test_set = TestSet.create()"
   ]
  },
  {
   "cell_type": "code",
   "execution_count": 14,
   "id": "482e58c1",
   "metadata": {},
   "outputs": [
    {
     "data": {
      "text/html": [
       "<picture>\n",
       "  <source srcset=\"large-assets/ex-2.10.1-pred-colors-baseline.dark.png?v=2vEcBsEfeIDsrbPOOxaBCRm58RHJDG7i5kzD5euS2i8\" media=\"(prefers-color-scheme: dark)\" />\n",
       "  <source srcset=\"large-assets/ex-2.10.1-pred-colors-baseline.png?v=2vEcBsEfeIDsrbPOOxaBCRm58RHJDG7i5kzD5euS2i8\" media=\"(prefers-color-scheme: light)\" />\n",
       "  <img src=\"large-assets/ex-2.10.1-pred-colors-baseline.png?v=2vEcBsEfeIDsrbPOOxaBCRm58RHJDG7i5kzD5euS2i8\" alt=\"Plot showing four slices of the HSV cube, titled &quot;Predicted colors · baseline · V vs H by S&quot;. Nominally, each slice has constant saturation, but varies in value (brightness) from top to bottom, and in hue from left to right. Each color value is represented as a square patch of that color. The outer portion of the patches shows the color as reconstructed by the model; the inner portion shows the true (input) color.\" />\n",
       "</picture>"
      ],
      "text/plain": [
       "Plot showing four slices of the HSV cube, titled \"Predicted colors · baseline · V vs H by S\". Nominally, each slice has constant saturation, but varies in value (brightness) from top to bottom, and in hue from left to right. Each color value is represented as a square patch of that color. The outer portion of the patches shows the color as reconstructed by the model; the inner portion shows the true (input) color."
      ]
     },
     "metadata": {},
     "output_type": "display_data"
    }
   ],
   "source": [
    "from IPython.display import clear_output\n",
    "\n",
    "baseline_results = test_set.evaluate(model, [], tags={'baseline'})\n",
    "clear_output()\n",
    "\n",
    "viz.plot_cube(baseline_results)\n",
    "# viz.plot_recon_loss(baseline_results)\n",
    "# viz.plot_latent_space(\n",
    "#     baseline_results,\n",
    "#     dims=[(1, 0, 2), (2, 0, 1), (3, 0, 1), (4, 1, 2), (3, 2, 4), (4, 3, 0)],\n",
    "# )"
   ]
  },
  {
   "cell_type": "markdown",
   "id": "d8b4f1dc",
   "metadata": {},
   "source": [
    "### Ablation"
   ]
  },
  {
   "cell_type": "code",
   "execution_count": 15,
   "id": "a02428ab",
   "metadata": {},
   "outputs": [
    {
     "data": {
      "text/html": [
       "<picture>\n",
       "  <source srcset=\"large-assets/ex-2.10.1-pred-colors-ablated.dark.png?v=Dx_2fKajXKQgnn0Q4iKUy9HNW-A3GomZ9V1f6GAIVno\" media=\"(prefers-color-scheme: dark)\" />\n",
       "  <source srcset=\"large-assets/ex-2.10.1-pred-colors-ablated.png?v=Dx_2fKajXKQgnn0Q4iKUy9HNW-A3GomZ9V1f6GAIVno\" media=\"(prefers-color-scheme: light)\" />\n",
       "  <img src=\"large-assets/ex-2.10.1-pred-colors-ablated.png?v=Dx_2fKajXKQgnn0Q4iKUy9HNW-A3GomZ9V1f6GAIVno\" alt=\"Plot showing four slices of the HSV cube, titled &quot;Predicted colors · ablated · V vs H by S&quot;. Nominally, each slice has constant saturation, but varies in value (brightness) from top to bottom, and in hue from left to right. Each color value is represented as a square patch of that color. The outer portion of the patches shows the color as reconstructed by the model; the inner portion shows the true (input) color.\" />\n",
       "</picture>"
      ],
      "text/plain": [
       "Plot showing four slices of the HSV cube, titled \"Predicted colors · ablated · V vs H by S\". Nominally, each slice has constant saturation, but varies in value (brightness) from top to bottom, and in hue from left to right. Each color value is represented as a square patch of that color. The outer portion of the patches shows the color as reconstructed by the model; the inner portion shows the true (input) color."
      ]
     },
     "metadata": {},
     "output_type": "display_data"
    }
   ],
   "source": [
    "from IPython.display import clear_output\n",
    "from ex_color.surgery import ablate\n",
    "\n",
    "ablated_model = ablate(model, 'bottleneck', [0])\n",
    "ablation_results = test_set.evaluate(ablated_model, [], tags={'ablated'})\n",
    "clear_output()\n",
    "\n",
    "viz.plot_cube(ablation_results)\n",
    "# viz.plot_recon_loss(ablation_results)\n",
    "# viz.plot_latent_space(\n",
    "#     ablation_results,\n",
    "#     dims=[(1, 0, 2), (2, 0, 1), (3, 0, 1), (4, 1, 2), (3, 2, 4), (4, 3, 0)],\n",
    "# )"
   ]
  },
  {
   "cell_type": "markdown",
   "id": "c6061e48",
   "metadata": {},
   "source": [
    "### Pruning"
   ]
  },
  {
   "cell_type": "code",
   "execution_count": 16,
   "id": "187c5a73",
   "metadata": {},
   "outputs": [
    {
     "data": {
      "text/html": [
       "<picture>\n",
       "  <source srcset=\"large-assets/ex-2.10.1-pred-colors-pruned.dark.png?v=2HSpvHj-XnxLO_b3wtqE2UGVTgAF6KlpbWYZwI96uUA\" media=\"(prefers-color-scheme: dark)\" />\n",
       "  <source srcset=\"large-assets/ex-2.10.1-pred-colors-pruned.png?v=2HSpvHj-XnxLO_b3wtqE2UGVTgAF6KlpbWYZwI96uUA\" media=\"(prefers-color-scheme: light)\" />\n",
       "  <img src=\"large-assets/ex-2.10.1-pred-colors-pruned.png?v=2HSpvHj-XnxLO_b3wtqE2UGVTgAF6KlpbWYZwI96uUA\" alt=\"Plot showing four slices of the HSV cube, titled &quot;Predicted colors · pruned · V vs H by S&quot;. Nominally, each slice has constant saturation, but varies in value (brightness) from top to bottom, and in hue from left to right. Each color value is represented as a square patch of that color. The outer portion of the patches shows the color as reconstructed by the model; the inner portion shows the true (input) color.\" />\n",
       "</picture>"
      ],
      "text/plain": [
       "Plot showing four slices of the HSV cube, titled \"Predicted colors · pruned · V vs H by S\". Nominally, each slice has constant saturation, but varies in value (brightness) from top to bottom, and in hue from left to right. Each color value is represented as a square patch of that color. The outer portion of the patches shows the color as reconstructed by the model; the inner portion shows the true (input) color."
      ]
     },
     "metadata": {},
     "output_type": "display_data"
    }
   ],
   "source": [
    "from IPython.display import clear_output\n",
    "\n",
    "from ex_color.surgery import prune\n",
    "\n",
    "pruned_model = prune(model, 'bottleneck', [0])\n",
    "pruned_results = test_set.evaluate(pruned_model, [], tags={'pruned'})\n",
    "clear_output()\n",
    "\n",
    "viz.plot_cube(pruned_results)\n",
    "# viz.plot_recon_loss(pruned_results)\n",
    "# viz.plot_latent_space(\n",
    "#     pruned_results,\n",
    "#     dims=[(0, None, 1), (1, None, 0), (2, None, 0), (3, 0, 1), (2, 1, 3), (3, 2, None)],\n",
    "# )"
   ]
  },
  {
   "cell_type": "markdown",
   "id": "3e88c807",
   "metadata": {},
   "source": [
    "### Suppression\n",
    "\n",
    "Included for comparison/completeness, but this model was not really designed for it."
   ]
  },
  {
   "cell_type": "code",
   "execution_count": 17,
   "id": "1fbb2051",
   "metadata": {},
   "outputs": [
    {
     "data": {
      "text/html": [
       "<picture>\n",
       "  <source srcset=\"large-assets/ex-2.10.1-pred-colors-suppression.dark.png?v=-2ggpdFVLsIEaji37oWpIhp7-shMCXYZCebpn_k5TgY\" media=\"(prefers-color-scheme: dark)\" />\n",
       "  <source srcset=\"large-assets/ex-2.10.1-pred-colors-suppression.png?v=-2ggpdFVLsIEaji37oWpIhp7-shMCXYZCebpn_k5TgY\" media=\"(prefers-color-scheme: light)\" />\n",
       "  <img src=\"large-assets/ex-2.10.1-pred-colors-suppression.png?v=-2ggpdFVLsIEaji37oWpIhp7-shMCXYZCebpn_k5TgY\" alt=\"Plot showing four slices of the HSV cube, titled &quot;Predicted colors · suppression · V vs H by S&quot;. Nominally, each slice has constant saturation, but varies in value (brightness) from top to bottom, and in hue from left to right. Each color value is represented as a square patch of that color. The outer portion of the patches shows the color as reconstructed by the model; the inner portion shows the true (input) color.\" />\n",
       "</picture>"
      ],
      "text/plain": [
       "Plot showing four slices of the HSV cube, titled \"Predicted colors · suppression · V vs H by S\". Nominally, each slice has constant saturation, but varies in value (brightness) from top to bottom, and in hue from left to right. Each color value is represented as a square patch of that color. The outer portion of the patches shows the color as reconstructed by the model; the inner portion shows the true (input) color."
      ]
     },
     "metadata": {},
     "output_type": "display_data"
    }
   ],
   "source": [
    "from math import cos, radians\n",
    "from IPython.display import clear_output\n",
    "\n",
    "from ex_color.intervention import Suppression, BoundedFalloff, InterventionConfig\n",
    "\n",
    "\n",
    "falloff = BoundedFalloff(\n",
    "    cos(radians(90)),  # cos(max_angle)\n",
    "    1,  # completely squash fully-aligned vectors\n",
    "    # 2,  # soft rim, sharp hub\n",
    "    0,\n",
    ")\n",
    "suppression = InterventionConfig(\n",
    "    apply=Suppression(torch.tensor(RED), falloff),\n",
    "    layer_affinities=['bottleneck'],\n",
    ")\n",
    "suppression_results = test_set.evaluate(model, [suppression], tags={'suppression'})\n",
    "clear_output()\n",
    "\n",
    "viz.plot_cube(suppression_results)\n",
    "# viz.plot_recon_loss(suppression_results)\n",
    "# viz.plot_latent_space(\n",
    "#     suppression_results,\n",
    "#     dims=[(1, 0, 2), (2, 0, 1), (3, 0, 1), (4, 1, 2), (3, 2, 4), (4, 3, 0)],\n",
    "# )"
   ]
  },
  {
   "cell_type": "code",
   "execution_count": 18,
   "id": "cd20e021",
   "metadata": {},
   "outputs": [
    {
     "name": "stdout",
     "output_type": "stream",
     "text": [
      "Baseline\n"
     ]
    },
    {
     "data": {
      "text/html": [
       "<picture>\n",
       "  <source srcset=\"large-assets/ex-2.10.1-results-baseline.dark.png?v=2a7qYbQ4168g8rNq8wYpX2YmeRLpiSzgyJzg9UCYp1E\" media=\"(prefers-color-scheme: dark)\" />\n",
       "  <source srcset=\"large-assets/ex-2.10.1-results-baseline.png?v=2a7qYbQ4168g8rNq8wYpX2YmeRLpiSzgyJzg9UCYp1E\" media=\"(prefers-color-scheme: light)\" />\n",
       "  <img src=\"large-assets/ex-2.10.1-results-baseline.png?v=2a7qYbQ4168g8rNq8wYpX2YmeRLpiSzgyJzg9UCYp1E\" alt=\"Composite figure with two latent panels (top), a color slice (middle), and a loss chart (bottom).\" />\n",
       "</picture>"
      ],
      "text/plain": [
       "Composite figure with two latent panels (top), a color slice (middle), and a loss chart (bottom)."
      ]
     },
     "metadata": {},
     "output_type": "display_data"
    },
    {
     "name": "stdout",
     "output_type": "stream",
     "text": [
      "Ablation\n"
     ]
    },
    {
     "data": {
      "text/html": [
       "<picture>\n",
       "  <source srcset=\"large-assets/ex-2.10.1-results-ablated.dark.png?v=lsL6Uze-Hw0-RVJeVZTVc8-lmGac67hppMXDSzvUXLE\" media=\"(prefers-color-scheme: dark)\" />\n",
       "  <source srcset=\"large-assets/ex-2.10.1-results-ablated.png?v=lsL6Uze-Hw0-RVJeVZTVc8-lmGac67hppMXDSzvUXLE\" media=\"(prefers-color-scheme: light)\" />\n",
       "  <img src=\"large-assets/ex-2.10.1-results-ablated.png?v=lsL6Uze-Hw0-RVJeVZTVc8-lmGac67hppMXDSzvUXLE\" alt=\"Composite figure with two latent panels (top), a color slice (middle), and a loss chart (bottom).\" />\n",
       "</picture>"
      ],
      "text/plain": [
       "Composite figure with two latent panels (top), a color slice (middle), and a loss chart (bottom)."
      ]
     },
     "metadata": {},
     "output_type": "display_data"
    },
    {
     "name": "stdout",
     "output_type": "stream",
     "text": [
      "Pruned\n"
     ]
    },
    {
     "data": {
      "text/html": [
       "<picture>\n",
       "  <source srcset=\"large-assets/ex-2.10.1-results-pruned.dark.png?v=BSdU3IGAeZqUYKsE0G3H6o0Eyu1Bxs5QK_Xpp9Kb4Gc\" media=\"(prefers-color-scheme: dark)\" />\n",
       "  <source srcset=\"large-assets/ex-2.10.1-results-pruned.png?v=BSdU3IGAeZqUYKsE0G3H6o0Eyu1Bxs5QK_Xpp9Kb4Gc\" media=\"(prefers-color-scheme: light)\" />\n",
       "  <img src=\"large-assets/ex-2.10.1-results-pruned.png?v=BSdU3IGAeZqUYKsE0G3H6o0Eyu1Bxs5QK_Xpp9Kb4Gc\" alt=\"Composite figure with two latent panels (top), a color slice (middle), and a loss chart (bottom).\" />\n",
       "</picture>"
      ],
      "text/plain": [
       "Composite figure with two latent panels (top), a color slice (middle), and a loss chart (bottom)."
      ]
     },
     "metadata": {},
     "output_type": "display_data"
    },
    {
     "name": "stdout",
     "output_type": "stream",
     "text": [
      "Suppression\n"
     ]
    },
    {
     "data": {
      "text/html": [
       "<picture>\n",
       "  <source srcset=\"large-assets/ex-2.10.1-results-suppression.dark.png?v=S-TS3Vba1M8KOQ1Jvhl6Ri734BDGCNYLA_gwDd7abfE\" media=\"(prefers-color-scheme: dark)\" />\n",
       "  <source srcset=\"large-assets/ex-2.10.1-results-suppression.png?v=S-TS3Vba1M8KOQ1Jvhl6Ri734BDGCNYLA_gwDd7abfE\" media=\"(prefers-color-scheme: light)\" />\n",
       "  <img src=\"large-assets/ex-2.10.1-results-suppression.png?v=S-TS3Vba1M8KOQ1Jvhl6Ri734BDGCNYLA_gwDd7abfE\" alt=\"Composite figure with two latent panels (top), a color slice (middle), and a loss chart (bottom).\" />\n",
       "</picture>"
      ],
      "text/plain": [
       "Composite figure with two latent panels (top), a color slice (middle), and a loss chart (bottom)."
      ]
     },
     "metadata": {},
     "output_type": "display_data"
    }
   ],
   "source": [
    "import numpy as np\n",
    "from ex_color.vis.helpers import ThemedAnnotation\n",
    "\n",
    "\n",
    "max_error = np.max(\n",
    "    [\n",
    "        baseline_results.loss_cube['MSE'],\n",
    "        ablation_results.loss_cube['MSE'],\n",
    "        pruned_results.loss_cube['MSE'],\n",
    "    ]\n",
    ")\n",
    "\n",
    "print('Baseline')\n",
    "viz.plot_stacked_results(\n",
    "    baseline_results,\n",
    "    latent_dims=((3, 0, 1), (3, 2, 4)),\n",
    "    max_error=max_error,\n",
    ")\n",
    "\n",
    "print('Ablation')\n",
    "viz.plot_stacked_results(\n",
    "    ablation_results,\n",
    "    latent_dims=((3, 0, 1), (3, 2, 4)),\n",
    "    max_error=max_error,\n",
    ")\n",
    "\n",
    "print('Pruned')\n",
    "viz.plot_stacked_results(\n",
    "    pruned_results,\n",
    "    latent_dims=((2, None, 0), (2, 1, 3)),\n",
    "    max_error=max_error,\n",
    ")\n",
    "\n",
    "print('Suppression')\n",
    "viz.plot_stacked_results(\n",
    "    suppression_results,\n",
    "    latent_dims=((3, 0, 1), (3, 2, 0)),\n",
    "    # latent_dims=((1, 0, 2), (1, 2, 0)),\n",
    "    max_error=max_error,\n",
    "    latent_annotations=[\n",
    "        ThemedAnnotation(direction=RED, angle=2 * (np.pi / 2 - falloff.a), dashed=True),\n",
    "    ],\n",
    ")"
   ]
  },
  {
   "cell_type": "markdown",
   "id": "d875386f",
   "metadata": {},
   "source": [
    "## Tabular results: error vs color per intervention"
   ]
  },
  {
   "cell_type": "code",
   "execution_count": 19,
   "id": "e988d618",
   "metadata": {},
   "outputs": [
    {
     "data": {
      "text/html": [
       "<style type=\"text/css\">\n",
       "</style>\n",
       "<table id=\"T_72786\">\n",
       "  <thead>\n",
       "    <tr>\n",
       "      <th id=\"T_72786_level0_col0\" class=\"col_heading level0 col0\" >Name</th>\n",
       "      <th id=\"T_72786_level0_col1\" class=\"col_heading level0 col1\" >RGB</th>\n",
       "      <th id=\"T_72786_level0_col3\" class=\"col_heading level0 col3\" >Baseline</th>\n",
       "      <th id=\"T_72786_level0_col4\" class=\"col_heading level0 col4\" >Ablated</th>\n",
       "      <th id=\"T_72786_level0_col5\" class=\"col_heading level0 col5\" >Δ Abl</th>\n",
       "      <th id=\"T_72786_level0_col6\" class=\"col_heading level0 col6\" >Pruned</th>\n",
       "      <th id=\"T_72786_level0_col7\" class=\"col_heading level0 col7\" >Δ Pru</th>\n",
       "      <th id=\"T_72786_level0_col8\" class=\"col_heading level0 col8\" >Suppression</th>\n",
       "      <th id=\"T_72786_level0_col9\" class=\"col_heading level0 col9\" >Δ Sup</th>\n",
       "    </tr>\n",
       "  </thead>\n",
       "  <tbody>\n",
       "    <tr>\n",
       "      <td id=\"T_72786_row0_col0\" class=\"data row0 col0\" >red</td>\n",
       "      <td id=\"T_72786_row0_col1\" class=\"data row0 col1\" ><div style=\"background-color: #ff0000; width: 1em; height: 1em; display: inline-block; border: 1px solid #8888;\"></div></td>\n",
       "      <td id=\"T_72786_row0_col3\" class=\"data row0 col3\" >0.000</td>\n",
       "      <td id=\"T_72786_row0_col4\" class=\"data row0 col4\" >0.385</td>\n",
       "      <td id=\"T_72786_row0_col5\" class=\"data row0 col5\" >+0.385</td>\n",
       "      <td id=\"T_72786_row0_col6\" class=\"data row0 col6\" >0.385</td>\n",
       "      <td id=\"T_72786_row0_col7\" class=\"data row0 col7\" >+0.385</td>\n",
       "      <td id=\"T_72786_row0_col8\" class=\"data row0 col8\" >0.169</td>\n",
       "      <td id=\"T_72786_row0_col9\" class=\"data row0 col9\" >+0.169</td>\n",
       "    </tr>\n",
       "    <tr>\n",
       "      <td id=\"T_72786_row1_col0\" class=\"data row1 col0\" >orange</td>\n",
       "      <td id=\"T_72786_row1_col1\" class=\"data row1 col1\" ><div style=\"background-color: #ff7f00; width: 1em; height: 1em; display: inline-block; border: 1px solid #8888;\"></div></td>\n",
       "      <td id=\"T_72786_row1_col3\" class=\"data row1 col3\" >0.000</td>\n",
       "      <td id=\"T_72786_row1_col4\" class=\"data row1 col4\" >0.113</td>\n",
       "      <td id=\"T_72786_row1_col5\" class=\"data row1 col5\" >+0.113</td>\n",
       "      <td id=\"T_72786_row1_col6\" class=\"data row1 col6\" >0.113</td>\n",
       "      <td id=\"T_72786_row1_col7\" class=\"data row1 col7\" >+0.113</td>\n",
       "      <td id=\"T_72786_row1_col8\" class=\"data row1 col8\" >0.083</td>\n",
       "      <td id=\"T_72786_row1_col9\" class=\"data row1 col9\" >+0.083</td>\n",
       "    </tr>\n",
       "    <tr>\n",
       "      <td id=\"T_72786_row2_col0\" class=\"data row2 col0\" >yellow</td>\n",
       "      <td id=\"T_72786_row2_col1\" class=\"data row2 col1\" ><div style=\"background-color: #ffff00; width: 1em; height: 1em; display: inline-block; border: 1px solid #8888;\"></div></td>\n",
       "      <td id=\"T_72786_row2_col3\" class=\"data row2 col3\" >0.000</td>\n",
       "      <td id=\"T_72786_row2_col4\" class=\"data row2 col4\" >0.017</td>\n",
       "      <td id=\"T_72786_row2_col5\" class=\"data row2 col5\" >+0.017</td>\n",
       "      <td id=\"T_72786_row2_col6\" class=\"data row2 col6\" >0.017</td>\n",
       "      <td id=\"T_72786_row2_col7\" class=\"data row2 col7\" >+0.017</td>\n",
       "      <td id=\"T_72786_row2_col8\" class=\"data row2 col8\" >0.021</td>\n",
       "      <td id=\"T_72786_row2_col9\" class=\"data row2 col9\" >+0.021</td>\n",
       "    </tr>\n",
       "    <tr>\n",
       "      <td id=\"T_72786_row3_col0\" class=\"data row3 col0\" >lime</td>\n",
       "      <td id=\"T_72786_row3_col1\" class=\"data row3 col1\" ><div style=\"background-color: #7fff00; width: 1em; height: 1em; display: inline-block; border: 1px solid #8888;\"></div></td>\n",
       "      <td id=\"T_72786_row3_col3\" class=\"data row3 col3\" >0.000</td>\n",
       "      <td id=\"T_72786_row3_col4\" class=\"data row3 col4\" >0.001</td>\n",
       "      <td id=\"T_72786_row3_col5\" class=\"data row3 col5\" >+0.000</td>\n",
       "      <td id=\"T_72786_row3_col6\" class=\"data row3 col6\" >0.001</td>\n",
       "      <td id=\"T_72786_row3_col7\" class=\"data row3 col7\" >+0.000</td>\n",
       "      <td id=\"T_72786_row3_col8\" class=\"data row3 col8\" >0.001</td>\n",
       "      <td id=\"T_72786_row3_col9\" class=\"data row3 col9\" >+0.000</td>\n",
       "    </tr>\n",
       "    <tr>\n",
       "      <td id=\"T_72786_row4_col0\" class=\"data row4 col0\" >green</td>\n",
       "      <td id=\"T_72786_row4_col1\" class=\"data row4 col1\" ><div style=\"background-color: #00ff00; width: 1em; height: 1em; display: inline-block; border: 1px solid #8888;\"></div></td>\n",
       "      <td id=\"T_72786_row4_col3\" class=\"data row4 col3\" >0.000</td>\n",
       "      <td id=\"T_72786_row4_col4\" class=\"data row4 col4\" >0.000</td>\n",
       "      <td id=\"T_72786_row4_col5\" class=\"data row4 col5\" >+0.000</td>\n",
       "      <td id=\"T_72786_row4_col6\" class=\"data row4 col6\" >0.000</td>\n",
       "      <td id=\"T_72786_row4_col7\" class=\"data row4 col7\" >+0.000</td>\n",
       "      <td id=\"T_72786_row4_col8\" class=\"data row4 col8\" >0.000</td>\n",
       "      <td id=\"T_72786_row4_col9\" class=\"data row4 col9\" >+0.000</td>\n",
       "    </tr>\n",
       "    <tr>\n",
       "      <td id=\"T_72786_row5_col0\" class=\"data row5 col0\" >teal</td>\n",
       "      <td id=\"T_72786_row5_col1\" class=\"data row5 col1\" ><div style=\"background-color: #00ff7f; width: 1em; height: 1em; display: inline-block; border: 1px solid #8888;\"></div></td>\n",
       "      <td id=\"T_72786_row5_col3\" class=\"data row5 col3\" >0.000</td>\n",
       "      <td id=\"T_72786_row5_col4\" class=\"data row5 col4\" >0.000</td>\n",
       "      <td id=\"T_72786_row5_col5\" class=\"data row5 col5\" >+0.000</td>\n",
       "      <td id=\"T_72786_row5_col6\" class=\"data row5 col6\" >0.000</td>\n",
       "      <td id=\"T_72786_row5_col7\" class=\"data row5 col7\" >+0.000</td>\n",
       "      <td id=\"T_72786_row5_col8\" class=\"data row5 col8\" >0.000</td>\n",
       "      <td id=\"T_72786_row5_col9\" class=\"data row5 col9\" >+0.000</td>\n",
       "    </tr>\n",
       "    <tr>\n",
       "      <td id=\"T_72786_row6_col0\" class=\"data row6 col0\" >cyan</td>\n",
       "      <td id=\"T_72786_row6_col1\" class=\"data row6 col1\" ><div style=\"background-color: #00ffff; width: 1em; height: 1em; display: inline-block; border: 1px solid #8888;\"></div></td>\n",
       "      <td id=\"T_72786_row6_col3\" class=\"data row6 col3\" >0.000</td>\n",
       "      <td id=\"T_72786_row6_col4\" class=\"data row6 col4\" >0.001</td>\n",
       "      <td id=\"T_72786_row6_col5\" class=\"data row6 col5\" >+0.001</td>\n",
       "      <td id=\"T_72786_row6_col6\" class=\"data row6 col6\" >0.001</td>\n",
       "      <td id=\"T_72786_row6_col7\" class=\"data row6 col7\" >+0.001</td>\n",
       "      <td id=\"T_72786_row6_col8\" class=\"data row6 col8\" >0.000</td>\n",
       "      <td id=\"T_72786_row6_col9\" class=\"data row6 col9\" >+0.000</td>\n",
       "    </tr>\n",
       "    <tr>\n",
       "      <td id=\"T_72786_row7_col0\" class=\"data row7 col0\" >azure</td>\n",
       "      <td id=\"T_72786_row7_col1\" class=\"data row7 col1\" ><div style=\"background-color: #007fff; width: 1em; height: 1em; display: inline-block; border: 1px solid #8888;\"></div></td>\n",
       "      <td id=\"T_72786_row7_col3\" class=\"data row7 col3\" >0.000</td>\n",
       "      <td id=\"T_72786_row7_col4\" class=\"data row7 col4\" >0.000</td>\n",
       "      <td id=\"T_72786_row7_col5\" class=\"data row7 col5\" >+0.000</td>\n",
       "      <td id=\"T_72786_row7_col6\" class=\"data row7 col6\" >0.000</td>\n",
       "      <td id=\"T_72786_row7_col7\" class=\"data row7 col7\" >+0.000</td>\n",
       "      <td id=\"T_72786_row7_col8\" class=\"data row7 col8\" >0.000</td>\n",
       "      <td id=\"T_72786_row7_col9\" class=\"data row7 col9\" >+0.000</td>\n",
       "    </tr>\n",
       "    <tr>\n",
       "      <td id=\"T_72786_row8_col0\" class=\"data row8 col0\" >blue</td>\n",
       "      <td id=\"T_72786_row8_col1\" class=\"data row8 col1\" ><div style=\"background-color: #0000ff; width: 1em; height: 1em; display: inline-block; border: 1px solid #8888;\"></div></td>\n",
       "      <td id=\"T_72786_row8_col3\" class=\"data row8 col3\" >0.000</td>\n",
       "      <td id=\"T_72786_row8_col4\" class=\"data row8 col4\" >0.000</td>\n",
       "      <td id=\"T_72786_row8_col5\" class=\"data row8 col5\" >+0.000</td>\n",
       "      <td id=\"T_72786_row8_col6\" class=\"data row8 col6\" >0.000</td>\n",
       "      <td id=\"T_72786_row8_col7\" class=\"data row8 col7\" >+0.000</td>\n",
       "      <td id=\"T_72786_row8_col8\" class=\"data row8 col8\" >0.000</td>\n",
       "      <td id=\"T_72786_row8_col9\" class=\"data row8 col9\" >+0.000</td>\n",
       "    </tr>\n",
       "    <tr>\n",
       "      <td id=\"T_72786_row9_col0\" class=\"data row9 col0\" >purple</td>\n",
       "      <td id=\"T_72786_row9_col1\" class=\"data row9 col1\" ><div style=\"background-color: #7f00ff; width: 1em; height: 1em; display: inline-block; border: 1px solid #8888;\"></div></td>\n",
       "      <td id=\"T_72786_row9_col3\" class=\"data row9 col3\" >0.000</td>\n",
       "      <td id=\"T_72786_row9_col4\" class=\"data row9 col4\" >0.000</td>\n",
       "      <td id=\"T_72786_row9_col5\" class=\"data row9 col5\" >-0.000</td>\n",
       "      <td id=\"T_72786_row9_col6\" class=\"data row9 col6\" >0.000</td>\n",
       "      <td id=\"T_72786_row9_col7\" class=\"data row9 col7\" >-0.000</td>\n",
       "      <td id=\"T_72786_row9_col8\" class=\"data row9 col8\" >0.000</td>\n",
       "      <td id=\"T_72786_row9_col9\" class=\"data row9 col9\" >-0.000</td>\n",
       "    </tr>\n",
       "    <tr>\n",
       "      <td id=\"T_72786_row10_col0\" class=\"data row10 col0\" >magenta</td>\n",
       "      <td id=\"T_72786_row10_col1\" class=\"data row10 col1\" ><div style=\"background-color: #ff00ff; width: 1em; height: 1em; display: inline-block; border: 1px solid #8888;\"></div></td>\n",
       "      <td id=\"T_72786_row10_col3\" class=\"data row10 col3\" >0.000</td>\n",
       "      <td id=\"T_72786_row10_col4\" class=\"data row10 col4\" >0.015</td>\n",
       "      <td id=\"T_72786_row10_col5\" class=\"data row10 col5\" >+0.015</td>\n",
       "      <td id=\"T_72786_row10_col6\" class=\"data row10 col6\" >0.015</td>\n",
       "      <td id=\"T_72786_row10_col7\" class=\"data row10 col7\" >+0.015</td>\n",
       "      <td id=\"T_72786_row10_col8\" class=\"data row10 col8\" >0.028</td>\n",
       "      <td id=\"T_72786_row10_col9\" class=\"data row10 col9\" >+0.028</td>\n",
       "    </tr>\n",
       "    <tr>\n",
       "      <td id=\"T_72786_row11_col0\" class=\"data row11 col0\" >pink</td>\n",
       "      <td id=\"T_72786_row11_col1\" class=\"data row11 col1\" ><div style=\"background-color: #ff007f; width: 1em; height: 1em; display: inline-block; border: 1px solid #8888;\"></div></td>\n",
       "      <td id=\"T_72786_row11_col3\" class=\"data row11 col3\" >0.000</td>\n",
       "      <td id=\"T_72786_row11_col4\" class=\"data row11 col4\" >0.117</td>\n",
       "      <td id=\"T_72786_row11_col5\" class=\"data row11 col5\" >+0.117</td>\n",
       "      <td id=\"T_72786_row11_col6\" class=\"data row11 col6\" >0.117</td>\n",
       "      <td id=\"T_72786_row11_col7\" class=\"data row11 col7\" >+0.117</td>\n",
       "      <td id=\"T_72786_row11_col8\" class=\"data row11 col8\" >0.104</td>\n",
       "      <td id=\"T_72786_row11_col9\" class=\"data row11 col9\" >+0.104</td>\n",
       "    </tr>\n",
       "    <tr>\n",
       "      <td id=\"T_72786_row12_col0\" class=\"data row12 col0\" >black</td>\n",
       "      <td id=\"T_72786_row12_col1\" class=\"data row12 col1\" ><div style=\"background-color: #000000; width: 1em; height: 1em; display: inline-block; border: 1px solid #8888;\"></div></td>\n",
       "      <td id=\"T_72786_row12_col3\" class=\"data row12 col3\" >0.000</td>\n",
       "      <td id=\"T_72786_row12_col4\" class=\"data row12 col4\" >0.000</td>\n",
       "      <td id=\"T_72786_row12_col5\" class=\"data row12 col5\" >+0.000</td>\n",
       "      <td id=\"T_72786_row12_col6\" class=\"data row12 col6\" >0.000</td>\n",
       "      <td id=\"T_72786_row12_col7\" class=\"data row12 col7\" >+0.000</td>\n",
       "      <td id=\"T_72786_row12_col8\" class=\"data row12 col8\" >0.000</td>\n",
       "      <td id=\"T_72786_row12_col9\" class=\"data row12 col9\" >+0.000</td>\n",
       "    </tr>\n",
       "    <tr>\n",
       "      <td id=\"T_72786_row13_col0\" class=\"data row13 col0\" >dark gray</td>\n",
       "      <td id=\"T_72786_row13_col1\" class=\"data row13 col1\" ><div style=\"background-color: #3f3f3f; width: 1em; height: 1em; display: inline-block; border: 1px solid #8888;\"></div></td>\n",
       "      <td id=\"T_72786_row13_col3\" class=\"data row13 col3\" >0.000</td>\n",
       "      <td id=\"T_72786_row13_col4\" class=\"data row13 col4\" >0.000</td>\n",
       "      <td id=\"T_72786_row13_col5\" class=\"data row13 col5\" >+0.000</td>\n",
       "      <td id=\"T_72786_row13_col6\" class=\"data row13 col6\" >0.000</td>\n",
       "      <td id=\"T_72786_row13_col7\" class=\"data row13 col7\" >+0.000</td>\n",
       "      <td id=\"T_72786_row13_col8\" class=\"data row13 col8\" >0.000</td>\n",
       "      <td id=\"T_72786_row13_col9\" class=\"data row13 col9\" >+0.000</td>\n",
       "    </tr>\n",
       "    <tr>\n",
       "      <td id=\"T_72786_row14_col0\" class=\"data row14 col0\" >gray</td>\n",
       "      <td id=\"T_72786_row14_col1\" class=\"data row14 col1\" ><div style=\"background-color: #7f7f7f; width: 1em; height: 1em; display: inline-block; border: 1px solid #8888;\"></div></td>\n",
       "      <td id=\"T_72786_row14_col3\" class=\"data row14 col3\" >0.000</td>\n",
       "      <td id=\"T_72786_row14_col4\" class=\"data row14 col4\" >0.000</td>\n",
       "      <td id=\"T_72786_row14_col5\" class=\"data row14 col5\" >+0.000</td>\n",
       "      <td id=\"T_72786_row14_col6\" class=\"data row14 col6\" >0.000</td>\n",
       "      <td id=\"T_72786_row14_col7\" class=\"data row14 col7\" >+0.000</td>\n",
       "      <td id=\"T_72786_row14_col8\" class=\"data row14 col8\" >0.000</td>\n",
       "      <td id=\"T_72786_row14_col9\" class=\"data row14 col9\" >+0.000</td>\n",
       "    </tr>\n",
       "    <tr>\n",
       "      <td id=\"T_72786_row15_col0\" class=\"data row15 col0\" >light gray</td>\n",
       "      <td id=\"T_72786_row15_col1\" class=\"data row15 col1\" ><div style=\"background-color: #bfbfbf; width: 1em; height: 1em; display: inline-block; border: 1px solid #8888;\"></div></td>\n",
       "      <td id=\"T_72786_row15_col3\" class=\"data row15 col3\" >0.000</td>\n",
       "      <td id=\"T_72786_row15_col4\" class=\"data row15 col4\" >0.000</td>\n",
       "      <td id=\"T_72786_row15_col5\" class=\"data row15 col5\" >+0.000</td>\n",
       "      <td id=\"T_72786_row15_col6\" class=\"data row15 col6\" >0.000</td>\n",
       "      <td id=\"T_72786_row15_col7\" class=\"data row15 col7\" >+0.000</td>\n",
       "      <td id=\"T_72786_row15_col8\" class=\"data row15 col8\" >0.000</td>\n",
       "      <td id=\"T_72786_row15_col9\" class=\"data row15 col9\" >+0.000</td>\n",
       "    </tr>\n",
       "    <tr>\n",
       "      <td id=\"T_72786_row16_col0\" class=\"data row16 col0\" >white</td>\n",
       "      <td id=\"T_72786_row16_col1\" class=\"data row16 col1\" ><div style=\"background-color: #ffffff; width: 1em; height: 1em; display: inline-block; border: 1px solid #8888;\"></div></td>\n",
       "      <td id=\"T_72786_row16_col3\" class=\"data row16 col3\" >0.000</td>\n",
       "      <td id=\"T_72786_row16_col4\" class=\"data row16 col4\" >0.000</td>\n",
       "      <td id=\"T_72786_row16_col5\" class=\"data row16 col5\" >+0.000</td>\n",
       "      <td id=\"T_72786_row16_col6\" class=\"data row16 col6\" >0.000</td>\n",
       "      <td id=\"T_72786_row16_col7\" class=\"data row16 col7\" >+0.000</td>\n",
       "      <td id=\"T_72786_row16_col8\" class=\"data row16 col8\" >0.000</td>\n",
       "      <td id=\"T_72786_row16_col9\" class=\"data row16 col9\" >+0.000</td>\n",
       "    </tr>\n",
       "  </tbody>\n",
       "</table>\n"
      ],
      "text/plain": [
       "<pandas.io.formats.style.Styler at 0xffff3e9a2850>"
      ]
     },
     "metadata": {},
     "output_type": "display_data"
    },
    {
     "data": {
      "text/markdown": [
       "```latex\n",
       "\\begin{table}\n",
       "\\centering\n",
       "\\label{tab:placeholder}\n",
       "\\caption{Reconstruction error by color and intervention method}\n",
       "\\sisetup{\n",
       "    round-mode = places,\n",
       "    round-precision = 3,\n",
       "    table-auto-round = true,\n",
       "    % drop-zero-decimal = true,\n",
       "}\n",
       "\\begin{tabular}{l c g g g g}\n",
       "\\toprule\n",
       "\\multicolumn{2}{c}{{Color}} & \\multicolumn{1}{c}{{Baseline}} & \\multicolumn{1}{c}{{Ab}} & \\multicolumn{1}{c}{{Prun}} & \\multicolumn{1}{c}{{Suppression}} \\\\\n",
       "\\midrule\n",
       "Red        & \\swatch{FF0000} &  0.000077906 &  0.384716421 &  0.384716421 &  0.168523297 \\\\\n",
       "Orange     & \\swatch{FF7F00} &  0.000031726 &  0.113451622 &  0.113451622 &  0.083263777 \\\\\n",
       "Yellow     & \\swatch{FFFF00} &  0.000013345 &  0.016918859 &  0.016918859 &  0.020894140 \\\\\n",
       "Lime       & \\swatch{7FFF00} &  0.000079475 &  0.000485919 &  0.000485919 &  0.000494194 \\\\\n",
       "Green      & \\swatch{00FF00} &  0.000000000 &  0.000472142 &  0.000472142 &  0.000497808 \\\\\n",
       "Teal       & \\swatch{00FF7F} &  0.000053029 &  0.000196097 &  0.000196097 &  0.000000000 \\\\\n",
       "Cyan       & \\swatch{00FFFF} &  0.000032129 &  0.000706011 &  0.000706011 &  0.000000000 \\\\\n",
       "Azure      & \\swatch{007FFF} &  0.000013463 &  0.000026407 &  0.000026407 &  0.000000000 \\\\\n",
       "Blue       & \\swatch{0000FF} &  0.000072361 &  0.000084369 &  0.000084369 &  0.000087863 \\\\\n",
       "Purple     & \\swatch{7F00FF} &  0.000014799 & -0.000009592 & -0.000009592 & -0.000009529 \\\\\n",
       "Magenta    & \\swatch{FF00FF} &  0.000021298 &  0.014621931 &  0.014621931 &  0.028397223 \\\\\n",
       "Pink       & \\swatch{FF007F} &  0.000011701 &  0.117298670 &  0.117298670 &  0.103648156 \\\\\n",
       "Black      & \\swatch{000000} &  0.000056622 &  0.000151883 &  0.000151883 &  0.000155355 \\\\\n",
       "Dark gray  & \\swatch{3F3F3F} &  0.000022615 &  0.000145711 &  0.000145711 &  0.000000000 \\\\\n",
       "Gray       & \\swatch{7F7F7F} &  0.000027212 &  0.000380780 &  0.000380780 &  0.000000000 \\\\\n",
       "Light gray & \\swatch{BFBFBF} &  0.000023661 &  0.000005613 &  0.000005613 &  0.000000000 \\\\\n",
       "White      & \\swatch{FFFFFF} &  0.000083601 &  0.000299237 &  0.000299237 &  0.000325033 \\\\\n",
       "\\bottomrule\n",
       "\\end{tabular}\n",
       "\\end{table}\n",
       "```"
      ],
      "text/plain": [
       "\\begin{table}\n",
       "\\centering\n",
       "\\label{tab:placeholder}\n",
       "\\caption{Reconstruction error by color and intervention method}\n",
       "\\sisetup{\n",
       "    round-mode = places,\n",
       "    round-precision = 3,\n",
       "    table-auto-round = true,\n",
       "    % drop-zero-decimal = true,\n",
       "}\n",
       "\\begin{tabular}{l c g g g g}\n",
       "\\toprule\n",
       "\\multicolumn{2}{c}{{Color}} & \\multicolumn{1}{c}{{Baseline}} & \\multicolumn{1}{c}{{Ab}} & \\multicolumn{1}{c}{{Prun}} & \\multicolumn{1}{c}{{Suppression}} \\\\\n",
       "\\midrule\n",
       "Red        & \\swatch{FF0000} &  0.000077906 &  0.384716421 &  0.384716421 &  0.168523297 \\\\\n",
       "Orange     & \\swatch{FF7F00} &  0.000031726 &  0.113451622 &  0.113451622 &  0.083263777 \\\\\n",
       "Yellow     & \\swatch{FFFF00} &  0.000013345 &  0.016918859 &  0.016918859 &  0.020894140 \\\\\n",
       "Lime       & \\swatch{7FFF00} &  0.000079475 &  0.000485919 &  0.000485919 &  0.000494194 \\\\\n",
       "Green      & \\swatch{00FF00} &  0.000000000 &  0.000472142 &  0.000472142 &  0.000497808 \\\\\n",
       "Teal       & \\swatch{00FF7F} &  0.000053029 &  0.000196097 &  0.000196097 &  0.000000000 \\\\\n",
       "Cyan       & \\swatch{00FFFF} &  0.000032129 &  0.000706011 &  0.000706011 &  0.000000000 \\\\\n",
       "Azure      & \\swatch{007FFF} &  0.000013463 &  0.000026407 &  0.000026407 &  0.000000000 \\\\\n",
       "Blue       & \\swatch{0000FF} &  0.000072361 &  0.000084369 &  0.000084369 &  0.000087863 \\\\\n",
       "Purple     & \\swatch{7F00FF} &  0.000014799 & -0.000009592 & -0.000009592 & -0.000009529 \\\\\n",
       "Magenta    & \\swatch{FF00FF} &  0.000021298 &  0.014621931 &  0.014621931 &  0.028397223 \\\\\n",
       "Pink       & \\swatch{FF007F} &  0.000011701 &  0.117298670 &  0.117298670 &  0.103648156 \\\\\n",
       "Black      & \\swatch{000000} &  0.000056622 &  0.000151883 &  0.000151883 &  0.000155355 \\\\\n",
       "Dark gray  & \\swatch{3F3F3F} &  0.000022615 &  0.000145711 &  0.000145711 &  0.000000000 \\\\\n",
       "Gray       & \\swatch{7F7F7F} &  0.000027212 &  0.000380780 &  0.000380780 &  0.000000000 \\\\\n",
       "Light gray & \\swatch{BFBFBF} &  0.000023661 &  0.000005613 &  0.000005613 &  0.000000000 \\\\\n",
       "White      & \\swatch{FFFFFF} &  0.000083601 &  0.000299237 &  0.000299237 &  0.000325033 \\\\\n",
       "\\bottomrule\n",
       "\\end{tabular}\n",
       "\\end{table}"
      ]
     },
     "metadata": {},
     "output_type": "display_data"
    }
   ],
   "source": [
    "viz.tab_error_vs_color(baseline_results, ablation_results, pruned_results, suppression_results)\n",
    "viz.tab_error_vs_color_latex(baseline_results, ablation_results, pruned_results, suppression_results)"
   ]
  },
  {
   "cell_type": "code",
   "execution_count": 20,
   "id": "6d01e78c",
   "metadata": {},
   "outputs": [
    {
     "data": {
      "text/html": [
       "<picture>\n",
       "  <source srcset=\"large-assets/ex-2.10.1-error-vs-similarity-ablated.dark.png?v=Yd-H8Q555vXrMcybdNlysicDGiIHzqwdsRCfrLFsuL0\" media=\"(prefers-color-scheme: dark)\" />\n",
       "  <source srcset=\"large-assets/ex-2.10.1-error-vs-similarity-ablated.png?v=Yd-H8Q555vXrMcybdNlysicDGiIHzqwdsRCfrLFsuL0\" media=\"(prefers-color-scheme: light)\" />\n",
       "  <img src=\"large-assets/ex-2.10.1-error-vs-similarity-ablated.png?v=Yd-H8Q555vXrMcybdNlysicDGiIHzqwdsRCfrLFsuL0\" alt=\"Scatter plot showing reconstruction error versus similarity to red. Each point represents a color, with its position on the x-axis indicating how similar it is to pure red, and its position on the y-axis indicating the reconstruction error (mean squared error) for that color. The points are colored according to their actual color values.\" />\n",
       "</picture>"
      ],
      "text/plain": [
       "Scatter plot showing reconstruction error versus similarity to red. Each point represents a color, with its position on the x-axis indicating how similar it is to pure red, and its position on the y-axis indicating the reconstruction error (mean squared error) for that color. The points are colored according to their actual color values."
      ]
     },
     "metadata": {},
     "output_type": "display_data"
    },
    {
     "name": "stdout",
     "output_type": "stream",
     "text": [
      "MSE,sim³ ablated: r = 0.98, R²: 0.95, p = 0\n"
     ]
    },
    {
     "data": {
      "text/html": [
       "<picture>\n",
       "  <source srcset=\"large-assets/ex-2.10.1-error-vs-similarity-pruned.dark.png?v=KsDko0BVw7XwQ61wGRWS33oM0n23YGSP8IQpqIocklU\" media=\"(prefers-color-scheme: dark)\" />\n",
       "  <source srcset=\"large-assets/ex-2.10.1-error-vs-similarity-pruned.png?v=KsDko0BVw7XwQ61wGRWS33oM0n23YGSP8IQpqIocklU\" media=\"(prefers-color-scheme: light)\" />\n",
       "  <img src=\"large-assets/ex-2.10.1-error-vs-similarity-pruned.png?v=KsDko0BVw7XwQ61wGRWS33oM0n23YGSP8IQpqIocklU\" alt=\"Scatter plot showing reconstruction error versus similarity to red. Each point represents a color, with its position on the x-axis indicating how similar it is to pure red, and its position on the y-axis indicating the reconstruction error (mean squared error) for that color. The points are colored according to their actual color values.\" />\n",
       "</picture>"
      ],
      "text/plain": [
       "Scatter plot showing reconstruction error versus similarity to red. Each point represents a color, with its position on the x-axis indicating how similar it is to pure red, and its position on the y-axis indicating the reconstruction error (mean squared error) for that color. The points are colored according to their actual color values."
      ]
     },
     "metadata": {},
     "output_type": "display_data"
    },
    {
     "name": "stdout",
     "output_type": "stream",
     "text": [
      "MSE,sim³ pruned: r = 0.98, R²: 0.95, p = 0\n"
     ]
    },
    {
     "data": {
      "text/html": [
       "<picture>\n",
       "  <source srcset=\"large-assets/ex-2.10.1-error-vs-similarity-suppression.dark.png?v=y3hTAFgyq1hw2_wsd6i52AdTm0ejn4VT2TdGXhRbb-4\" media=\"(prefers-color-scheme: dark)\" />\n",
       "  <source srcset=\"large-assets/ex-2.10.1-error-vs-similarity-suppression.png?v=y3hTAFgyq1hw2_wsd6i52AdTm0ejn4VT2TdGXhRbb-4\" media=\"(prefers-color-scheme: light)\" />\n",
       "  <img src=\"large-assets/ex-2.10.1-error-vs-similarity-suppression.png?v=y3hTAFgyq1hw2_wsd6i52AdTm0ejn4VT2TdGXhRbb-4\" alt=\"Scatter plot showing reconstruction error versus similarity to red. Each point represents a color, with its position on the x-axis indicating how similar it is to pure red, and its position on the y-axis indicating the reconstruction error (mean squared error) for that color. The points are colored according to their actual color values.\" />\n",
       "</picture>"
      ],
      "text/plain": [
       "Scatter plot showing reconstruction error versus similarity to red. Each point represents a color, with its position on the x-axis indicating how similar it is to pure red, and its position on the y-axis indicating the reconstruction error (mean squared error) for that color. The points are colored according to their actual color values."
      ]
     },
     "metadata": {},
     "output_type": "display_data"
    },
    {
     "name": "stdout",
     "output_type": "stream",
     "text": [
      "MSE,sim² suppression: r = 0.98, R²: 0.97, p = 0\n"
     ]
    }
   ],
   "source": [
    "viz.plot_error_vs_similarity(\n",
    "    ablation_results,\n",
    "    (0, 1, 1),\n",
    "    anchor_name='red',\n",
    "    power=3,\n",
    ")\n",
    "\n",
    "viz.plot_error_vs_similarity(\n",
    "    pruned_results,\n",
    "    (0, 1, 1),\n",
    "    anchor_name='red',\n",
    "    power=3,\n",
    ")\n",
    "\n",
    "viz.plot_error_vs_similarity(\n",
    "    suppression_results,\n",
    "    (0, 1, 1),\n",
    "    anchor_name='red',\n",
    "    power=2,\n",
    ")"
   ]
  }
 ],
 "metadata": {
  "kernelspec": {
   "display_name": "ex-color-transformer",
   "language": "python",
   "name": "python3"
  },
  "language_info": {
   "codemirror_mode": {
    "name": "ipython",
    "version": 3
   },
   "file_extension": ".py",
   "mimetype": "text/x-python",
   "name": "python",
   "nbconvert_exporter": "python",
   "pygments_lexer": "ipython3",
   "version": "3.13.5"
  }
 },
 "nbformat": 4,
 "nbformat_minor": 5
}
