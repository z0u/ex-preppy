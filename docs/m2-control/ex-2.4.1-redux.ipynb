{
 "cells": [
  {
   "cell_type": "markdown",
   "id": "191d5190",
   "metadata": {},
   "source": [
    "# Experiment 2.4.1: Soft intervention on red with color wheel\n"
   ]
  },
  {
   "cell_type": "code",
   "execution_count": 1,
   "id": "db26371c",
   "metadata": {},
   "outputs": [],
   "source": [
    "from __future__ import annotations\n",
    "\n",
    "nbid = '2.4.1'  # ID for tagging assets\n",
    "nbname = 'Soft intervention on red with color wheel'\n",
    "experiment_name = f'Ex {nbid}: {nbname}'\n",
    "project = 'ex-preppy'"
   ]
  },
  {
   "cell_type": "code",
   "execution_count": 2,
   "id": "eaf0edd7",
   "metadata": {},
   "outputs": [],
   "source": [
    "# Basic setup: Logging, Experiment (Modal)\n",
    "import logging\n",
    "\n",
    "import modal\n",
    "\n",
    "from infra.requirements import freeze, project_packages\n",
    "from mini.experiment import Experiment\n",
    "from utils.logging import SimpleLoggingConfig\n",
    "\n",
    "logging_config = (\n",
    "    SimpleLoggingConfig()\n",
    "    .info('notebook', 'utils', 'mini', 'ex_color')\n",
    "    .error('matplotlib.axes')  # Silence warnings about set_aspect\n",
    ")\n",
    "logging_config.apply()\n",
    "\n",
    "# This is the logger for this notebook\n",
    "log = logging.getLogger(f'notebook.{nbid}')\n",
    "\n",
    "run = Experiment(experiment_name, project=project)\n",
    "run.image = modal.Image.debian_slim().pip_install(*freeze(all=True)).add_local_python_source(*project_packages())\n",
    "run.before_each(logging_config.apply)\n",
    "None  # prevent auto-display of this cell"
   ]
  },
  {
   "cell_type": "markdown",
   "id": "89b2028d",
   "metadata": {},
   "source": [
    "## Model parameters\n",
    "\n",
    "Like Ex 2.4, we use the following regularizers:\n",
    "\n",
    "- **Anchor:** pins `red` to $(1,0,0,0)$ (4D)\n",
    "- **AxisAlignedSubspace:** attracts vibrant hues to dimensions $0,1$\n",
    "- **Separate:** angular repulsion to reduce global clumping (applied within each batch)"
   ]
  },
  {
   "cell_type": "code",
   "execution_count": 3,
   "id": "ac781a07",
   "metadata": {},
   "outputs": [],
   "source": [
    "import torch\n",
    "\n",
    "from ex_color.loss import AngularAnchor, AxisAlignedSubspace, Separate, RegularizerConfig\n",
    "\n",
    "from ex_color.training import TrainingModule\n",
    "\n",
    "K = 4  # bottleneck dimensionality\n",
    "N = 1  # number of nonlinear layers\n",
    "RED = (1, 0, 0, 0)\n",
    "assert len(RED) == K\n",
    "\n",
    "reg_separate = RegularizerConfig(\n",
    "    name='separate',\n",
    "    compute_loss_term=Separate(power=100.0, shift=True),\n",
    "    label_affinities=None,\n",
    "    layer_affinities=['bottleneck'],\n",
    ")\n",
    "reg_anchor = RegularizerConfig(\n",
    "    name='anchor',\n",
    "    compute_loss_term=AngularAnchor(torch.tensor(RED, dtype=torch.float32)),\n",
    "    label_affinities={'red': 1.0},\n",
    "    layer_affinities=['bottleneck'],\n",
    "    phase=('train', 'validate'),\n",
    ")\n",
    "reg_subspace = RegularizerConfig(\n",
    "    name='subspace',\n",
    "    compute_loss_term=AxisAlignedSubspace((0, 1)),\n",
    "    label_affinities={'vibrant': 1},\n",
    "    # label_affinities={'primary': 1},\n",
    "    layer_affinities=['bottleneck'],\n",
    "    phase=('train', 'validate'),\n",
    ")"
   ]
  },
  {
   "cell_type": "code",
   "execution_count": 4,
   "id": "f09f0f05",
   "metadata": {},
   "outputs": [
    {
     "data": {
      "text/markdown": [
       "## Parameter schedule \n",
       "|   STEP | PHASE   |   ACTION |      lr |   separate |   anchor |   subspace |\n",
       "|-------:|:--------|---------:|--------:|-----------:|---------:|-----------:|\n",
       "|      0 | Train   |          |   1e-08 |            |     0.01 |       0.01 |\n",
       "|     10 |         |          |   0.01  |            |          |            |\n",
       "|    375 |         |          |         |            |          |       0.1  |\n",
       "|    750 |         |          |   0.1   |       0.01 |     0.1  |            |\n",
       "|   1125 |         |          |         |            |          |       0.1  |\n",
       "|   1425 |         |          |   0.1   |       0    |     0    |       0    |\n",
       "|   1500 |         |          |   0.05  |            |          |            |"
      ],
      "text/plain": [
       "<IPython.core.display.Markdown object>"
      ]
     },
     "metadata": {},
     "output_type": "display_data"
    },
    {
     "data": {
      "text/html": [
       "<picture>\n",
       "  <source srcset=\"large-assets/ex-2.4.1-dopesheet.dark.png?v=uQqP8OkQjFmczR4FAPrlxPf0WGbgH67bce_B5lsGm1o\" media=\"(prefers-color-scheme: dark)\" />\n",
       "  <source srcset=\"large-assets/ex-2.4.1-dopesheet.png?v=uQqP8OkQjFmczR4FAPrlxPf0WGbgH67bce_B5lsGm1o\" media=\"(prefers-color-scheme: light)\" />\n",
       "  <img src=\"large-assets/ex-2.4.1-dopesheet.png?v=uQqP8OkQjFmczR4FAPrlxPf0WGbgH67bce_B5lsGm1o\" alt=\"Plot showing the parameter schedule for the training run, titled &quot;&quot;. The plot has two sections: the upper section shows various regularization weights over time, and the lower section shows the learning rate over time. The x-axis represents training steps.\" />\n",
       "</picture>"
      ],
      "text/plain": [
       "Plot showing the parameter schedule for the training run, titled \"\". The plot has two sections: the upper section shows various regularization weights over time, and the lower section shows the learning rate over time. The x-axis represents training steps."
      ]
     },
     "metadata": {},
     "output_type": "display_data"
    }
   ],
   "source": [
    "from typing import cast\n",
    "\n",
    "import matplotlib.pyplot as plt\n",
    "from matplotlib.axes import Axes\n",
    "from IPython.display import display, Markdown\n",
    "\n",
    "from mini.temporal.dopesheet import Dopesheet\n",
    "from mini.temporal.timeline import Timeline\n",
    "from mini.temporal.vis import plot_timeline, realize_timeline, ParamGroup\n",
    "from utils.nb import displayer_mpl\n",
    "from utils.plt import Theme\n",
    "\n",
    "dopesheet = Dopesheet.from_csv(f'./ex-{nbid}-dopesheet.csv')\n",
    "\n",
    "display(Markdown(f\"\"\"## Parameter schedule \\n{dopesheet.to_markdown()}\"\"\"))\n",
    "\n",
    "\n",
    "def plot_dopesheet(dopesheet: Dopesheet, theme: Theme):\n",
    "    timeline = Timeline(dopesheet)\n",
    "    history_df = realize_timeline(timeline)\n",
    "    keyframes_df = dopesheet.as_df()\n",
    "\n",
    "    fig = plt.figure(figsize=(9, 3), constrained_layout=True)\n",
    "    axs = fig.subplots(2, 1, sharex=True, height_ratios=[3, 1])\n",
    "    ax1, ax2 = cast(tuple[Axes, ...], axs)\n",
    "\n",
    "    plot_timeline(\n",
    "        history_df,\n",
    "        keyframes_df,\n",
    "        groups=(ParamGroup(name='', params=[p for p in dopesheet.props if p not in {'lr'}]),),\n",
    "        theme=theme,\n",
    "        ax=ax1,\n",
    "        show_phase_labels=False,\n",
    "    )\n",
    "    ax1.set_ylabel('Weight')\n",
    "    ax1.set_xlabel('')\n",
    "\n",
    "    plot_timeline(\n",
    "        history_df,\n",
    "        keyframes_df,\n",
    "        groups=(ParamGroup(name='', params=['lr']),),\n",
    "        theme=theme,\n",
    "        ax=ax2,\n",
    "        show_legend=False,\n",
    "        show_phase_labels=False,\n",
    "    )\n",
    "    ax2.set_ylabel('LR')\n",
    "\n",
    "    # add a little space on the y-axis extents\n",
    "    ax1.set_ylim(ax1.get_ylim()[0] * 1.1, ax1.get_ylim()[1] * 1.1)\n",
    "    ax2.set_ylim(ax2.get_ylim()[0] * 1.1, ax2.get_ylim()[1] * 1.1)\n",
    "\n",
    "    return fig\n",
    "\n",
    "\n",
    "with displayer_mpl(\n",
    "    f'large-assets/ex-{nbid}-dopesheet.png',\n",
    "    alt_text=\"\"\"Plot showing the parameter schedule for the training run, titled \"{title}\". The plot has two sections: the upper section shows various regularization weights over time, and the lower section shows the learning rate over time. The x-axis represents training steps.\"\"\",\n",
    ") as show:\n",
    "    show(lambda theme: plot_dopesheet(dopesheet, theme))"
   ]
  },
  {
   "cell_type": "markdown",
   "id": "22376072",
   "metadata": {},
   "source": [
    "## Data\n",
    "\n",
    "Data is the same as last time: color cubes with values in RGB.\n"
   ]
  },
  {
   "cell_type": "code",
   "execution_count": 5,
   "id": "89508e77",
   "metadata": {},
   "outputs": [],
   "source": [
    "from torch import Tensor\n",
    "from torch.utils.data import DataLoader, TensorDataset, RandomSampler\n",
    "import numpy as np\n",
    "\n",
    "from ex_color.data.color_cube import ColorCube\n",
    "from ex_color.data.cube_dataset import CubeDataset, redness, stochastic_labels, exact_labels, vibrancy\n",
    "\n",
    "\n",
    "def prep_data() -> DataLoader:\n",
    "    cube = ColorCube.from_rgb(\n",
    "        r=np.linspace(0, 1, 10),\n",
    "        g=np.linspace(0, 1, 10),\n",
    "        b=np.linspace(0, 1, 10),\n",
    "    )\n",
    "    # Softly label _red_ - will be stochastically discretized in the dataloader\n",
    "    cube = cube.assign(\n",
    "        red=redness(cube['color']) ** 8 * 0.08,\n",
    "        vibrant=vibrancy(cube['color']) ** 10 * 0.01,\n",
    "        # desaturated=(1 - vibrancy(cube['color'])) ** 10 * 0.02,\n",
    "    )\n",
    "    dataset = CubeDataset(cube)\n",
    "    return DataLoader(\n",
    "        dataset,\n",
    "        batch_size=64,\n",
    "        num_workers=4,\n",
    "        sampler=RandomSampler(dataset, num_samples=len(dataset), replacement=True),\n",
    "        collate_fn=stochastic_labels,\n",
    "    )\n",
    "\n",
    "\n",
    "def prep_val_data() -> DataLoader:\n",
    "    cube = ColorCube.from_rgb(\n",
    "        r=np.linspace(0, 1, 4),\n",
    "        g=np.linspace(0, 1, 4),\n",
    "        b=np.linspace(0, 1, 4),\n",
    "    )\n",
    "    # Exact labels for validation: we only check where the prototypes are located\n",
    "    cube = cube.assign(\n",
    "        red=redness(cube['color']) == 1,\n",
    "        # vibrant=vibrancy(cube['color']) == 1,\n",
    "    )\n",
    "    dataset = CubeDataset(cube)\n",
    "    return DataLoader(\n",
    "        dataset,\n",
    "        # batch_size=len(dataset),\n",
    "        num_workers=2,\n",
    "        collate_fn=exact_labels,\n",
    "    )"
   ]
  },
  {
   "cell_type": "code",
   "execution_count": 6,
   "id": "4381b363",
   "metadata": {},
   "outputs": [],
   "source": [
    "import numpy as np\n",
    "\n",
    "# from ex_color.data.color_cube import ColorCube\n",
    "from ex_color.data.cyclic import arange_cyclic\n",
    "\n",
    "\n",
    "hsv_cube = ColorCube.from_hsv(\n",
    "    h=arange_cyclic(step_size=1 / 12),\n",
    "    s=np.linspace(0, 1, 4),\n",
    "    v=np.linspace(0, 1, 5),\n",
    ")\n",
    "\n",
    "n_h = hsv_cube.shape[0]\n",
    "\n",
    "hd_hsv_cube = ColorCube.from_hsv(\n",
    "    # Extend hue range to encompass the end pixels of the low-res cube above\n",
    "    h=np.linspace(0 - 1 / n_h, 1 + 1 / n_h, 300),\n",
    "    s=np.linspace(0, 1, 48),\n",
    "    v=np.linspace(0, 1, 48),\n",
    ")\n",
    "hd_hsv_cube = hd_hsv_cube[::2, ::2, ::2]\n",
    "\n",
    "rgb_cube = ColorCube.from_rgb(\n",
    "    r=np.linspace(0, 1, 20),\n",
    "    g=np.linspace(0, 1, 20),\n",
    "    b=np.linspace(0, 1, 20),\n",
    ")\n",
    "\n",
    "# with displayer_mpl(\n",
    "#     f'large-assets/ex-{nbid}-true-colors.png',\n",
    "#     alt_text=\"\"\"Plot showing four slices of the HSV cube, titled \"{title}\". Each slice has constant saturation, but varies in value (brightness) from top to bottom, and in hue from left to right. The first slice shows a grayscale gradient from black to white; the last shows the fully-saturated color spectrum.\"\"\",\n",
    "# ) as show:\n",
    "#     show(lambda: plot_colors(hsv_cube, title='True colors'))"
   ]
  },
  {
   "cell_type": "markdown",
   "id": "7fecb906",
   "metadata": {},
   "source": [
    "## Training & inference utils\n",
    "\n",
    "Like in Ex 2.2..2.9, the model is trained with PyTorch Lightning, with regularizers applied as custom hooks."
   ]
  },
  {
   "cell_type": "code",
   "execution_count": 7,
   "id": "73c22398",
   "metadata": {},
   "outputs": [],
   "source": [
    "from tempfile import gettempdir\n",
    "import wandb\n",
    "from ex_color.model import CNColorMLP\n",
    "\n",
    "\n",
    "# @run.thither(env={'WANDB_API_KEY': wandb.Api().api_key})\n",
    "async def train(\n",
    "    dopesheet: Dopesheet,\n",
    "    regularizers: list[RegularizerConfig],\n",
    "    k_bottleneck: int,\n",
    "    n_nonlinear: int,\n",
    "    *,\n",
    "    seed: int | None = None,\n",
    ") -> CNColorMLP:\n",
    "    \"\"\"Train the model with the given dopesheet and variant.\"\"\"\n",
    "    import lightning as L\n",
    "    from lightning.pytorch.loggers import WandbLogger\n",
    "\n",
    "    from ex_color.callbacks import LabelProportionCallback\n",
    "    from ex_color.seed import set_deterministic_mode\n",
    "\n",
    "    from utils.progress.lightning import LightningProgress\n",
    "\n",
    "    log.info(f'Training with: {[r.name for r in regularizers]}')\n",
    "\n",
    "    if seed is not None:\n",
    "        set_deterministic_mode(seed)\n",
    "\n",
    "    train_loader = prep_data()\n",
    "    val_loader = prep_val_data()\n",
    "\n",
    "    model = CNColorMLP(k_bottleneck, n_nonlinear=n_nonlinear)\n",
    "    total_params = sum(p.numel() for p in model.parameters() if p.requires_grad)\n",
    "    log.debug(f'Model initialized with {total_params:,} trainable parameters.')\n",
    "\n",
    "    training_module = TrainingModule(model, dopesheet, torch.nn.MSELoss(), regularizers)\n",
    "\n",
    "    logger = WandbLogger(experiment_name, project=project, save_dir=gettempdir())\n",
    "\n",
    "    trainer = L.Trainer(\n",
    "        max_steps=len(dopesheet),\n",
    "        callbacks=[\n",
    "            LightningProgress(),\n",
    "            LabelProportionCallback(prefix='labels', get_active_labels=lambda: training_module.active_labels),\n",
    "        ],\n",
    "        enable_checkpointing=False,\n",
    "        enable_model_summary=False,\n",
    "        # enable_progress_bar=True,\n",
    "        check_val_every_n_epoch=10,\n",
    "        logger=logger,\n",
    "        log_every_n_steps=min(50, len(train_loader)),\n",
    "    )\n",
    "\n",
    "    print(f'max_steps: {len(dopesheet)}, train_loader length: {len(train_loader)}')\n",
    "\n",
    "    # Train the model\n",
    "    try:\n",
    "        trainer.fit(training_module, train_loader, val_loader)\n",
    "    finally:\n",
    "        wandb.finish()\n",
    "    # This is only a small model, so it's OK to return it rather than storing and loading a checkpoint remotely\n",
    "    return model"
   ]
  },
  {
   "cell_type": "markdown",
   "id": "b9688ac3",
   "metadata": {},
   "source": [
    "We wrap the model that we trained above in an `InferenceModule`. We won't be using its intervention features."
   ]
  },
  {
   "cell_type": "code",
   "execution_count": 8,
   "id": "89ec7e6a",
   "metadata": {},
   "outputs": [],
   "source": [
    "import torch\n",
    "import numpy as np\n",
    "\n",
    "from ex_color.inference import InferenceModule\n",
    "from ex_color.intervention.intervention import InterventionConfig\n",
    "\n",
    "\n",
    "async def infer_with_latent_capture(\n",
    "    model: CNColorMLP,\n",
    "    test_data: Tensor,\n",
    "    interventions: list[InterventionConfig],\n",
    "    layer_name: str = 'bottleneck',\n",
    ") -> tuple[Tensor, Tensor]:\n",
    "    module = InferenceModule(model, interventions, capture_layers=[layer_name])\n",
    "    import lightning as L\n",
    "\n",
    "    trainer = L.Trainer(enable_checkpointing=False, enable_model_summary=False, enable_progress_bar=False, logger=False)\n",
    "    batches = trainer.predict(\n",
    "        module,\n",
    "        DataLoader(\n",
    "            TensorDataset(test_data.reshape((-1, 3))),\n",
    "            batch_size=64,\n",
    "            collate_fn=lambda batch: torch.stack([row[0] for row in batch], 0),\n",
    "        ),\n",
    "    )\n",
    "    assert batches is not None\n",
    "    preds = [item for batch in batches for item in batch]\n",
    "    y = torch.cat(preds).reshape(test_data.shape)\n",
    "    # Read captured activations as a flat [N, D] tensor\n",
    "    latents = module.read_captured(layer_name)\n",
    "    return y, latents"
   ]
  },
  {
   "cell_type": "code",
   "execution_count": 9,
   "id": "40a359a0",
   "metadata": {},
   "outputs": [],
   "source": [
    "from typing import TYPE_CHECKING\n",
    "\n",
    "if TYPE_CHECKING:\n",
    "    import pandas as pd\n",
    "\n",
    "from torch.nn import functional as F\n",
    "\n",
    "\n",
    "async def test(model: CNColorMLP, interventions: list[InterventionConfig], test_data: ColorCube) -> ColorCube:\n",
    "    x = torch.tensor(test_data.rgb_grid, dtype=torch.float32)\n",
    "    y, h = await infer_with_latent_capture(model, x, interventions, 'bottleneck')\n",
    "    per_color_loss = F.mse_loss(y, x, reduction='none').mean(dim=-1)\n",
    "    return test_data.assign(\n",
    "        recon=y.numpy().reshape((*test_data.shape, -1)),\n",
    "        MSE=per_color_loss.numpy().reshape((*test_data.shape, -1)),\n",
    "        latents=h.numpy().reshape((*test_data.shape, -1)),\n",
    "    )\n",
    "\n",
    "\n",
    "async def test_named(\n",
    "    model: CNColorMLP, interventions: list[InterventionConfig], test_data: pd.DataFrame\n",
    ") -> pd.DataFrame:\n",
    "    x = torch.tensor(test_data['rgb'], dtype=torch.float32)\n",
    "    y, _ = await infer_with_latent_capture(model, x, interventions, 'bottleneck')\n",
    "    per_color_loss = F.mse_loss(y, x, reduction='none').mean(dim=-1)\n",
    "    y_tuples = [tuple(row) for row in y.numpy()]\n",
    "    return test_data.assign(recon=y_tuples, MSE=per_color_loss.numpy())  # pyright: ignore[reportArgumentType]"
   ]
  },
  {
   "cell_type": "code",
   "execution_count": 10,
   "id": "41643004",
   "metadata": {},
   "outputs": [],
   "source": [
    "# # Generate a list of dimensions to visualize\n",
    "# from itertools import combinations\n",
    "# [\n",
    "#     (\n",
    "#         b,\n",
    "#         a,\n",
    "#         (a + 1) % K if (a + 1) % K not in (a, b) else (a + 2) % K,\n",
    "#     )\n",
    "#     for a, b in combinations(tuple(range(K)), 2)\n",
    "# ]"
   ]
  },
  {
   "cell_type": "code",
   "execution_count": 11,
   "id": "14da6f03",
   "metadata": {},
   "outputs": [],
   "source": [
    "from typing import Sequence\n",
    "\n",
    "from ex_color.vis import (\n",
    "    plot_colors,\n",
    "    plot_cube_series,\n",
    "    plot_latent_grid_3d_from_cube,\n",
    ")\n",
    "from utils.nb import displayer_mpl\n",
    "\n",
    "\n",
    "def tags_for_file(tags: Sequence[str]) -> str:\n",
    "    import re\n",
    "\n",
    "    tags = [re.sub(r'[^a-zA-Z0-9]+', '-', tag.lower()) for tag in tags]\n",
    "    return '-'.join(tags)\n",
    "\n",
    "\n",
    "def visualize_reconstructed_cube(data: ColorCube, *, tags: Sequence[str] = ()):\n",
    "    with displayer_mpl(\n",
    "        f'large-assets/ex-{nbid}-pred-colors-{tags_for_file(tags)}.png',\n",
    "        alt_text=\"\"\"Plot showing four slices of the HSV cube, titled \"{title}\". Nominally, each slice has constant saturation, but varies in value (brightness) from top to bottom, and in hue from left to right. Each color value is represented as a square patch of that color. The outer portion of the patches shows the color as reconstructed by the model; the inner portion shows the true (input) color.\"\"\",\n",
    "    ) as show:\n",
    "        show(\n",
    "            lambda: plot_colors(\n",
    "                data,\n",
    "                title=f'Predicted colors · {\" · \".join(tags)}',\n",
    "                colors='recon',\n",
    "                colors_compare='color',\n",
    "            )\n",
    "        )\n",
    "\n",
    "\n",
    "def visualize_reconstruction_loss(data: ColorCube, *, tags: Sequence[str] = ()):\n",
    "    max_loss = np.max(data['MSE'])\n",
    "    median_loss = np.median(data['MSE'])\n",
    "    with displayer_mpl(\n",
    "        f'large-assets/ex-{nbid}-loss-colors-{tags_for_file(tags)}.png',\n",
    "        alt_text=f\"\"\"Line chart showing loss per color, titled \"{{title}}\". Y-axis: mean square error, ranging from zero to {max_loss:.2g}. X-axis: hue.\"\"\",\n",
    "    ) as show:\n",
    "        show(\n",
    "            lambda: plot_cube_series(\n",
    "                data.permute('hsv')[:, -1:, :: (data.shape[2] // -5)],\n",
    "                data.permute('svh')[:, -1:, :: -(data.shape[0] // -3)],\n",
    "                data.permute('vsh')[:, -1:, :: -(data.shape[0] // -3)],\n",
    "                title=f'Reconstruction error · {\" · \".join(tags)}',\n",
    "                var='MSE',\n",
    "                figsize=(12, 3),\n",
    "            )\n",
    "        )\n",
    "    print(f'Max loss: {max_loss:.2g}')\n",
    "    print(f'Median MSE: {median_loss:.2g}')\n",
    "\n",
    "\n",
    "def visualize_latent_space(data: ColorCube, *, tags: Sequence[str] = (), dims: Sequence[tuple[int, int, int]]):\n",
    "    with displayer_mpl(\n",
    "        f'large-assets/ex-{nbid}-latents-{tags_for_file(tags)}.png',\n",
    "        alt_text=\"\"\"Two rows of three spherical plots, titled \"{title}\". Each plot shows a vibrant collection of colored circles or balls scattered over the surface of a hypersphere, with each plot showing one 2D projection.\"\"\",\n",
    "    ) as show:\n",
    "        show(\n",
    "            lambda theme: plot_latent_grid_3d_from_cube(\n",
    "                data,\n",
    "                colors='recon',\n",
    "                colors_compare='color',\n",
    "                latents='latents',\n",
    "                title=f'Latents ·  · {\" · \".join(tags)}',\n",
    "                dims=dims,\n",
    "                dot_radius=10,\n",
    "                theme=theme,\n",
    "            )\n",
    "        )"
   ]
  },
  {
   "cell_type": "code",
   "execution_count": 12,
   "id": "fa6f5d52",
   "metadata": {},
   "outputs": [
    {
     "data": {
      "text/plain": [
       "<module 'ex_color.vis' from '/workspaces/ex-color-transformer/src/ex_color/vis/__init__.py'>"
      ]
     },
     "execution_count": 12,
     "metadata": {},
     "output_type": "execute_result"
    }
   ],
   "source": [
    "import importlib\n",
    "import ex_color.vis\n",
    "\n",
    "importlib.reload(ex_color.vis)"
   ]
  },
  {
   "cell_type": "code",
   "execution_count": 33,
   "id": "ef3d8c36",
   "metadata": {},
   "outputs": [],
   "source": [
    "from dataclasses import dataclass\n",
    "from typing import Callable\n",
    "\n",
    "import skimage as ski\n",
    "\n",
    "from ex_color.data import hsv_similarity\n",
    "from ex_color.vis import draw_stacked_results, ConicalAnnotation, draw_cube_scatter\n",
    "from ex_color.vis.plot_latent_slices import LatentD\n",
    "from utils.nb import displayer_mpl\n",
    "\n",
    "\n",
    "@dataclass\n",
    "class Resultset:\n",
    "    tags: Sequence[str]\n",
    "    latent_cube: ColorCube\n",
    "    color_slice_cube: ColorCube\n",
    "    loss_cube: ColorCube\n",
    "    named_colors: pd.DataFrame\n",
    "\n",
    "\n",
    "def visualize_stacked_results(\n",
    "    res: Resultset,\n",
    "    *,\n",
    "    latent_dims: tuple[LatentD, LatentD],\n",
    "    max_error: float | None = None,\n",
    "    latent_annotations: Sequence[ConicalAnnotation | Callable[[Theme], ConicalAnnotation]] = (),\n",
    "):\n",
    "    with displayer_mpl(\n",
    "        f'large-assets/ex-{nbid}-results-{tags_for_file(res.tags)}.png',\n",
    "        alt_text=\"\"\"Composite figure with two latent panels (top), a color slice (middle), and a loss chart (bottom).\"\"\",\n",
    "    ) as show:\n",
    "        show(\n",
    "            lambda theme: draw_stacked_results(\n",
    "                res.latent_cube,\n",
    "                res.color_slice_cube,\n",
    "                res.loss_cube,\n",
    "                latent_dims=latent_dims,\n",
    "                theme=theme,\n",
    "                max_error=max_error,\n",
    "                latent_annotations=[\n",
    "                    ann(theme) if not isinstance(ann, ConicalAnnotation) else ann  #\n",
    "                    for ann in latent_annotations\n",
    "                ],\n",
    "            )\n",
    "        )\n",
    "\n",
    "\n",
    "def scatter_similarity_vs_error(\n",
    "    cube: ColorCube,\n",
    "    anchor_hsv: tuple[float, float, float],\n",
    "    *,\n",
    "    anchor_name: str,\n",
    "    theme: Theme,\n",
    "):\n",
    "    \"\"\"Scatter plot of similarity to anchor vs reconstruction error.\"\"\"\n",
    "    cube = cube.assign(hsv=ski.color.rgb2hsv(cube['color']))\n",
    "    cube = cube.assign(similarity=hsv_similarity(cube['hsv'], np.array(anchor_hsv), hemi=True, mode='cosine') ** 2)\n",
    "\n",
    "    fig, ax = plt.subplots(figsize=(4, 4), constrained_layout=True)\n",
    "    draw_cube_scatter(ax, cube, theme=theme, x_var='similarity', y_var='MSE')\n",
    "    ax.set_ylabel(r'MSE')\n",
    "    ax.set_xlabel(rf'$\\text{{sim}}_\\text{{{anchor_name}}}^2$')\n",
    "    ax.legend(loc='upper left')\n",
    "    return fig\n",
    "\n",
    "\n",
    "def visualize_error_vs_similarity(\n",
    "    cube: ColorCube,\n",
    "    anchor_hsv: tuple[float, float, float],\n",
    "    *,\n",
    "    tags: Sequence[str] = (),\n",
    "    anchor_name: str = 'anchor',\n",
    "):\n",
    "    with displayer_mpl(\n",
    "        f'large-assets/ex-{nbid}-error-vs-similarity-{tags_for_file(tags)}.png',\n",
    "        alt_text=f\"\"\"Scatter plot showing reconstruction error versus similarity to {anchor_name}. Each point represents a color, with its position on the x-axis indicating how similar it is to pure red, and its position on the y-axis indicating the reconstruction error (mean squared error) for that color. The points are colored according to their actual color values.\"\"\",\n",
    "    ) as show:\n",
    "        show(lambda theme: scatter_similarity_vs_error(cube, anchor_hsv, theme=theme, anchor_name=anchor_name))\n",
    "\n",
    "\n",
    "def hstack_named_results(*res: Resultset) -> pd.DataFrame:\n",
    "    \"\"\"\n",
    "    Create a table of results across several experiments.\n",
    "\n",
    "    The output table begins with columns taken from the first Resultset:\n",
    "    - name (of color)\n",
    "    - rgb\n",
    "    - hsv\n",
    "    - {tags}: reconstruction error (MSE) of first Resultset\n",
    "\n",
    "    Then, for each subsequent Resultset, two columns are added:\n",
    "    - {tags}: reconstruction error (MSE) of that Resultset\n",
    "    - {tags}-delta: change in reconstruction error relative to the first Resultset\n",
    "    \"\"\"\n",
    "    names = [' '.join(r.tags) for r in res]\n",
    "    df = res[0].named_colors[['name', 'rgb', 'hsv', 'MSE']].rename(columns={'MSE': names[0]})\n",
    "    for name, r in zip(names[1:], res[1:], strict=True):\n",
    "        df = df.merge(\n",
    "            r.named_colors[['name', 'MSE']].rename(columns={'MSE': name}),\n",
    "            on='name',\n",
    "        )\n",
    "        df[f'{name}-delta'] = df[name] - df[names[0]]\n",
    "    return df"
   ]
  },
  {
   "cell_type": "markdown",
   "id": "6d8fcb76",
   "metadata": {},
   "source": [
    "## Train\n",
    "\n",
    "The first model we'll test is one that is trained without the subspace term, but with the unitarity regularization term included."
   ]
  },
  {
   "cell_type": "code",
   "execution_count": 14,
   "id": "c6b26721",
   "metadata": {},
   "outputs": [
    {
     "name": "stdout",
     "output_type": "stream",
     "text": [
      "I 20.3 no.2.4.1:Training with: ['separate', 'anchor', 'subspace']\n"
     ]
    },
    {
     "name": "stderr",
     "output_type": "stream",
     "text": [
      "INFO: Seed set to 0\n"
     ]
    },
    {
     "name": "stdout",
     "output_type": "stream",
     "text": [
      "I 20.4 li.fa.ut.se:Seed set to 0\n",
      "I 20.4 ex.se:  PyTorch set to deterministic mode\n"
     ]
    },
    {
     "name": "stderr",
     "output_type": "stream",
     "text": [
      "INFO: GPU available: False, used: False\n"
     ]
    },
    {
     "name": "stdout",
     "output_type": "stream",
     "text": [
      "I 20.7 li.py.ut.ra:GPU available: False, used: False\n"
     ]
    },
    {
     "name": "stderr",
     "output_type": "stream",
     "text": [
      "INFO: TPU available: False, using: 0 TPU cores\n"
     ]
    },
    {
     "name": "stdout",
     "output_type": "stream",
     "text": [
      "I 20.7 li.py.ut.ra:TPU available: False, using: 0 TPU cores\n"
     ]
    },
    {
     "name": "stderr",
     "output_type": "stream",
     "text": [
      "INFO: HPU available: False, using: 0 HPUs\n"
     ]
    },
    {
     "name": "stdout",
     "output_type": "stream",
     "text": [
      "I 20.7 li.py.ut.ra:HPU available: False, using: 0 HPUs\n",
      "max_steps: 1501, train_loader length: 16\n"
     ]
    },
    {
     "name": "stderr",
     "output_type": "stream",
     "text": [
      "\u001b[34m\u001b[1mwandb\u001b[0m: Currently logged in as: \u001b[33mz0r\u001b[0m to \u001b[32mhttps://api.wandb.ai\u001b[0m. Use \u001b[1m`wandb login --relogin`\u001b[0m to force relogin\n"
     ]
    },
    {
     "data": {
      "text/html": [
       "creating run (0.5s)"
      ],
      "text/plain": [
       "<IPython.core.display.HTML object>"
      ]
     },
     "metadata": {},
     "output_type": "display_data"
    },
    {
     "data": {
      "text/html": [
       "Tracking run with wandb version 0.21.0"
      ],
      "text/plain": [
       "<IPython.core.display.HTML object>"
      ]
     },
     "metadata": {},
     "output_type": "display_data"
    },
    {
     "data": {
      "text/html": [
       "Run data is saved locally in <code>/tmp/wandb/run-20251002_042157-f51zbdsn</code>"
      ],
      "text/plain": [
       "<IPython.core.display.HTML object>"
      ]
     },
     "metadata": {},
     "output_type": "display_data"
    },
    {
     "data": {
      "text/html": [
       "Syncing run <strong><a href='https://wandb.ai/z0r/ex-preppy/runs/f51zbdsn' target=\"_blank\">Ex 2.4.1: Soft intervention on red with color wheel</a></strong> to <a href='https://wandb.ai/z0r/ex-preppy' target=\"_blank\">Weights & Biases</a> (<a href='https://wandb.me/developer-guide' target=\"_blank\">docs</a>)<br>"
      ],
      "text/plain": [
       "<IPython.core.display.HTML object>"
      ]
     },
     "metadata": {},
     "output_type": "display_data"
    },
    {
     "data": {
      "text/html": [
       " View project at <a href='https://wandb.ai/z0r/ex-preppy' target=\"_blank\">https://wandb.ai/z0r/ex-preppy</a>"
      ],
      "text/plain": [
       "<IPython.core.display.HTML object>"
      ]
     },
     "metadata": {},
     "output_type": "display_data"
    },
    {
     "data": {
      "text/html": [
       " View run at <a href='https://wandb.ai/z0r/ex-preppy/runs/f51zbdsn' target=\"_blank\">https://wandb.ai/z0r/ex-preppy/runs/f51zbdsn</a>"
      ],
      "text/plain": [
       "<IPython.core.display.HTML object>"
      ]
     },
     "metadata": {},
     "output_type": "display_data"
    },
    {
     "data": {
      "text/html": [
       "<div style=\"width: 100%; padding: 5px 0; font-family: monospace\">\n",
       "  <div style=\"position: relative; height: calc(1em * 5/3); width: 100%; margin-bottom: 2em\">\n",
       "    <div style=\"position: absolute; top: 100%; height: 3.5px; left: 0; width: 100%; background: linear-gradient(to right, var(--h1) 0.0%, var(--h1) 2.0%, var(--h1) 4.1%, var(--h1) 6.1%, var(--h1) 8.2%, var(--h1) 10.2%, var(--h1) 12.2%, var(--h1) 14.3%, var(--h0) 16.3%, var(--h1) 18.4%, var(--h1) 20.4%, var(--h1) 22.4%, var(--h1) 24.5%, var(--h1) 26.5%, var(--h1) 28.6%, var(--h1) 30.6%, var(--h0) 32.7%, var(--h1) 34.7%, var(--h1) 36.7%, var(--h1) 38.8%, var(--h1) 40.8%, var(--h1) 42.9%, var(--h1) 44.9%, var(--h1) 46.9%, var(--h0) 49.0%, var(--h1) 51.0%, var(--h1) 53.1%, var(--h1) 55.1%, var(--h1) 57.1%, var(--h1) 59.2%, var(--h1) 61.2%, var(--h1) 63.3%, var(--h0) 65.3%, var(--h1) 67.3%, var(--h1) 69.4%, var(--h1) 71.4%, var(--h1) 73.5%, var(--h1) 75.5%, var(--h1) 77.6%, var(--h1) 79.6%, var(--h0) 81.6%, var(--h1) 83.7%, var(--h1) 85.7%, var(--h1) 87.8%, var(--h1) 89.8%, var(--h1) 91.8%, var(--h1) 93.9%, var(--h1) 95.9%, var(--h0) 98.0%, var(--h2) 100.0%);--h0:color(from currentColor srgb r g b / 0.06);--h1:color(from currentColor srgb r g b / 0.25);--h2:color(from currentColor srgb r g b / 0.56)\"></div>\n",
       "    <div style=\"position: absolute; top: 100%; font-size: 70%; padding: 3px 2px 0; left: -0.1%; border-left: 0.5px solid currentColor\">0.0278</div>\n",
       "    <div style=\"position: absolute; top: 100%; font-size: 70%; padding: 3px 2px 0; left: 9.5%; border-left: 0.5px solid currentColor\">0.0278</div>\n",
       "    <div style=\"position: absolute; top: 100%; font-size: 70%; padding: 3px 2px 0; left: 19.1%; border-left: 0.5px solid currentColor\">0.0055</div>\n",
       "    <div style=\"position: absolute; top: 100%; font-size: 70%; padding: 3px 2px 0; left: 28.7%; border-left: 0.5px solid currentColor\">0.0106</div>\n",
       "    <div style=\"position: absolute; top: 100%; font-size: 70%; padding: 3px 2px 0; left: 38.3%; border-left: 0.5px solid currentColor\">0.0065</div>\n",
       "    <div style=\"position: absolute; top: 100%; font-size: 70%; padding: 3px 2px 0; left: 47.9%; border-left: 0.5px solid currentColor\">0.0013</div>\n",
       "    <div style=\"position: absolute; top: 100%; font-size: 70%; padding: 3px 2px 0; left: 57.5%; border-left: 0.5px solid currentColor\">0.0014</div>\n",
       "    <div style=\"position: absolute; top: 100%; font-size: 70%; padding: 3px 2px 0; left: 67.1%; border-left: 0.5px solid currentColor\">0.0008</div>\n",
       "    <div style=\"position: absolute; top: 100%; font-size: 70%; padding: 3px 2px 0; left: 76.7%; border-left: 0.5px solid currentColor\">0.0007</div>\n",
       "    <div style=\"position: absolute; top: 100%; font-size: 70%; padding: 3px 2px 0; left: 86.3%; border-left: 0.5px solid currentColor\">0.0004</div>\n",
       "    <div style=\"position: absolute; top: 100%; font-size: 70%; padding: 3px 2px 0; right: 0.1%; border-right: 0.5px solid currentColor\">0.0001</div>\n",
       "    <div style=\"position: absolute; bottom: -4px; left: calc(100.0% - 4px)\">\n",
       "      <div style=\"border-left: 4px solid transparent; border-right: 4px solid transparent; border-bottom: 4px solid currentColor\"></div>\n",
       "    </div>\n",
       "    <div style=\"position: absolute; height: 100%; width: 100.0%; background-color: color(from currentColor srgb r g b / 0.1); border-bottom: 1px solid currentColor\"></div>\n",
       "    <div style=\"position: absolute; width: 100%; height: 100%; text-align: center; line-height: calc((1em * 5/3) / 0.9); font-size: 90%; white-space: nowrap; overflow: hidden; text-overflow: ellipsis; border-bottom: 1px dashed color(from currentColor srgb r g b / 0.5)\"><b>Training</b>: 100.0% [1501/1501] [<b>00:14</b>/<00:00, 107.19 it/s]</div>\n",
       "  </div>\n",
       "  <div style=\"display: grid; grid-template-columns: repeat(3, minmax(80px, 1fr)); gap: 5px 0px; width: 100%; margin: 1em 0; font-size: 0.85em\">\n",
       "    <div style=\"font-weight: bold; border-bottom: 0.5px solid currentColor; padding: 2px 10px; text-align: left; overflow: hidden; text-overflow: ellipsis; white-space: nowrap\">v_num</div>\n",
       "    <div style=\"font-weight: bold; border-bottom: 0.5px solid currentColor; padding: 2px 10px; text-align: left; overflow: hidden; text-overflow: ellipsis; white-space: nowrap\">val_loss</div>\n",
       "    <div style=\"font-weight: bold; border-bottom: 0.5px solid currentColor; padding: 2px 10px; text-align: left; overflow: hidden; text-overflow: ellipsis; white-space: nowrap\">train_loss</div>\n",
       "    <div style=\"padding: 2px 10px; text-align: left; overflow: hidden; text-overflow: ellipsis; white-space: nowrap\">bdsn</div>\n",
       "    <div style=\"padding: 2px 10px; text-align: left; overflow: hidden; text-overflow: ellipsis; white-space: nowrap\">0.0001412</div>\n",
       "    <div style=\"padding: 2px 10px; text-align: left; overflow: hidden; text-overflow: ellipsis; white-space: nowrap\">6.818e-05</div>\n",
       "  </div>\n",
       "</div>"
      ],
      "text/plain": [
       "Training: 100.0% [1501/1501]"
      ]
     },
     "metadata": {},
     "output_type": "display_data"
    },
    {
     "name": "stdout",
     "output_type": "stream",
     "text": [
      "Starting phase: Train\n"
     ]
    },
    {
     "name": "stderr",
     "output_type": "stream",
     "text": [
      "INFO: `Trainer.fit` stopped: `max_steps=1501` reached.\n"
     ]
    },
    {
     "name": "stdout",
     "output_type": "stream",
     "text": [
      "I 38.4 li.py.ut.ra:`Trainer.fit` stopped: `max_steps=1501` reached.\n",
      "I 38.5 ex.ca.la:Label frequencies (n=89064): _any: 0.192%, red: 0.082%, vibrant: 0.111%\n"
     ]
    },
    {
     "data": {
      "text/html": [],
      "text/plain": [
       "<IPython.core.display.HTML object>"
      ]
     },
     "metadata": {},
     "output_type": "display_data"
    },
    {
     "data": {
      "text/html": [
       "<br>    <style><br>        .wandb-row {<br>            display: flex;<br>            flex-direction: row;<br>            flex-wrap: wrap;<br>            justify-content: flex-start;<br>            width: 100%;<br>        }<br>        .wandb-col {<br>            display: flex;<br>            flex-direction: column;<br>            flex-basis: 100%;<br>            flex: 1;<br>            padding: 10px;<br>        }<br>    </style><br><div class=\"wandb-row\"><div class=\"wandb-col\"><h3>Run history:</h3><br/><table class=\"wandb\"><tr><td>epoch</td><td>▁▁▁▁▂▂▂▂▂▂▂▃▃▃▃▄▄▅▅▅▅▅▅▅▅▆▆▆▆▆▇▇▇▇▇█████</td></tr><tr><td>labels/_any</td><td>▁</td></tr><tr><td>labels/epoch/_any</td><td>█▅▁▁▂▄▄▃▃▃▃▃▃▃▄▃▅▅▄▄▄▄▅▄▅▄▄▄▄▄▅▅▄▅▅▅▅▅▅▅</td></tr><tr><td>labels/epoch/red</td><td>█▃▃▁▂▂▂▂▂▂▂▂▂▂▂▂▂▁▂▂▁▁▂▁▁▁▁▁▁▁▂▂▂▂▂▂▂▂▂▂</td></tr><tr><td>labels/epoch/vibrant</td><td>▁▄▃▆▄▅▄▄▄▄▅▆▆▆▆▇▇▇▇▇▆▇▇▇▇▇▇▇▇▇▇█████████</td></tr><tr><td>labels/red</td><td>▁</td></tr><tr><td>labels/vibrant</td><td>▁</td></tr><tr><td>train_anchor</td><td>▁▁▁▁▁▁▁▁▁▁▁▁▁▁▁▁▁▁▁▁▁▁▁▁▁▁▁▁▁▁▁▁▁▁▁▁▁▁▁▁</td></tr><tr><td>train_loss</td><td>█▄▂▃▂▂▂▂▃▃▃▂▂▃▂▂▂▁▂▂▂▂▂▂▁▁▂▁▂▂▂▁▁▁▁▁▁▁▁▁</td></tr><tr><td>train_recon</td><td>█▂▁▁▁▁▁▁▁▁▁▁▁▁▁▁▁▁▁▁▁▁▁▁▁▁▁▁▁▁▁▁▁▁▁▁▁▁▁▁</td></tr><tr><td>train_separate</td><td>█▂▂▂▂▂▁▁▁▁▁▁▁▁▁▁▂▁▁▁▁▁▁▁▁▁▁▁▁▁▁▁▁▁▂▁▂▁▁▁</td></tr><tr><td>train_subspace</td><td>▁▁▁▁▁▁▁▁▁▁▁▁▁▁▁▁▁▁▁▁▁▁▁▁▁▁▁▁▁▁▁▁▁▁▁▁▁▁▁▁</td></tr><tr><td>trainer/global_step</td><td>▁▁▂▂▂▂▂▂▃▃▃▃▃▄▄▄▄▄▄▄▄▅▅▅▅▅▅▆▆▆▆▇▇▇▇█████</td></tr><tr><td>val_anchor</td><td>▇█▂▁▁▁▁▁▁</td></tr><tr><td>val_loss</td><td>▅█▅▂▂▁▁▁▁</td></tr><tr><td>val_recon</td><td>▅█▅▂▂▁▁▁▁</td></tr></table><br/></div><div class=\"wandb-col\"><h3>Run summary:</h3><br/><table class=\"wandb\"><tr><td>epoch</td><td>92</td></tr><tr><td>labels/_any</td><td>0.00192</td></tr><tr><td>labels/epoch/_any</td><td>0.00192</td></tr><tr><td>labels/epoch/red</td><td>0.00082</td></tr><tr><td>labels/epoch/vibrant</td><td>0.00111</td></tr><tr><td>labels/red</td><td>0.00082</td></tr><tr><td>labels/vibrant</td><td>0.00111</td></tr><tr><td>train_anchor</td><td>0</td></tr><tr><td>train_loss</td><td>6e-05</td></tr><tr><td>train_recon</td><td>6e-05</td></tr><tr><td>train_separate</td><td>0.28419</td></tr><tr><td>train_subspace</td><td>0</td></tr><tr><td>trainer/global_step</td><td>1487</td></tr><tr><td>val_anchor</td><td>0.00039</td></tr><tr><td>val_loss</td><td>0.00014</td></tr><tr><td>val_recon</td><td>0.00014</td></tr></table><br/></div></div>"
      ],
      "text/plain": [
       "<IPython.core.display.HTML object>"
      ]
     },
     "metadata": {},
     "output_type": "display_data"
    },
    {
     "data": {
      "text/html": [
       " View run <strong style=\"color:#cdcd00\">Ex 2.4.1: Soft intervention on red with color wheel</strong> at: <a href='https://wandb.ai/z0r/ex-preppy/runs/f51zbdsn' target=\"_blank\">https://wandb.ai/z0r/ex-preppy/runs/f51zbdsn</a><br> View project at: <a href='https://wandb.ai/z0r/ex-preppy' target=\"_blank\">https://wandb.ai/z0r/ex-preppy</a><br>Synced 5 W&B file(s), 0 media file(s), 0 artifact file(s) and 0 other file(s)"
      ],
      "text/plain": [
       "<IPython.core.display.HTML object>"
      ]
     },
     "metadata": {},
     "output_type": "display_data"
    },
    {
     "data": {
      "text/html": [
       "Find logs at: <code>/tmp/wandb/run-20251002_042157-f51zbdsn/logs</code>"
      ],
      "text/plain": [
       "<IPython.core.display.HTML object>"
      ]
     },
     "metadata": {},
     "output_type": "display_data"
    }
   ],
   "source": [
    "# Reload dopesheet: makes tweaking params during development easier\n",
    "dopesheet = Dopesheet.from_csv(f'./ex-{nbid}-dopesheet.csv')\n",
    "\n",
    "model = await train(\n",
    "    dopesheet,\n",
    "    [reg_separate, reg_anchor, reg_subspace],\n",
    "    K,\n",
    "    N,\n",
    "    seed=0,  # Arbitrary but not cherry-picked\n",
    ")"
   ]
  },
  {
   "cell_type": "code",
   "execution_count": 15,
   "id": "482e58c1",
   "metadata": {},
   "outputs": [
    {
     "data": {
      "text/html": [
       "<picture>\n",
       "  <source srcset=\"large-assets/ex-2.4.1-pred-colors-no-intervention.dark.png?v=yULxa1oYkPdYnlSlku9Lz-mNBi4L7u3oD0rQJt1hIUQ\" media=\"(prefers-color-scheme: dark)\" />\n",
       "  <source srcset=\"large-assets/ex-2.4.1-pred-colors-no-intervention.png?v=yULxa1oYkPdYnlSlku9Lz-mNBi4L7u3oD0rQJt1hIUQ\" media=\"(prefers-color-scheme: light)\" />\n",
       "  <img src=\"large-assets/ex-2.4.1-pred-colors-no-intervention.png?v=yULxa1oYkPdYnlSlku9Lz-mNBi4L7u3oD0rQJt1hIUQ\" alt=\"Plot showing four slices of the HSV cube, titled &quot;Predicted colors · no intervention · V vs H by S&quot;. Nominally, each slice has constant saturation, but varies in value (brightness) from top to bottom, and in hue from left to right. Each color value is represented as a square patch of that color. The outer portion of the patches shows the color as reconstructed by the model; the inner portion shows the true (input) color.\" />\n",
       "</picture>"
      ],
      "text/plain": [
       "Plot showing four slices of the HSV cube, titled \"Predicted colors · no intervention · V vs H by S\". Nominally, each slice has constant saturation, but varies in value (brightness) from top to bottom, and in hue from left to right. Each color value is represented as a square patch of that color. The outer portion of the patches shows the color as reconstructed by the model; the inner portion shows the true (input) color."
      ]
     },
     "metadata": {},
     "output_type": "display_data"
    }
   ],
   "source": [
    "from IPython.display import clear_output\n",
    "\n",
    "from ex_color.data.color import get_named_colors_df\n",
    "\n",
    "named_colors = get_named_colors_df(n_hues=12, n_grays=5)\n",
    "\n",
    "no_intervention_results = Resultset(\n",
    "    tags=['no intervention'],\n",
    "    latent_cube=await test(model, [], rgb_cube),\n",
    "    color_slice_cube=await test(model, [], hsv_cube),\n",
    "    loss_cube=await test(model, [], hd_hsv_cube),\n",
    "    named_colors=await test_named(model, [], named_colors),\n",
    ")\n",
    "clear_output()\n",
    "\n",
    "visualize_reconstructed_cube(no_intervention_results.color_slice_cube.permute('svh'), tags=no_intervention_results.tags)\n",
    "# visualize_reconstruction_loss(no_intervention_results.loss_cube, tags=no_intervention_results.tags)\n",
    "# visualize_latent_space(\n",
    "#     no_intervention_results.latent_cube,\n",
    "#     tags=no_intervention_results.tags,\n",
    "#     dims=[(1, 0, 2), (2, 0, 1), (3, 0, 1), (2, 1, 3), (3, 1, 2), (3, 2, 0)],\n",
    "# )"
   ]
  },
  {
   "cell_type": "markdown",
   "id": "6456fd4b",
   "metadata": {},
   "source": [
    "Reconstruction loss looks about as good as last time. There's higher loss around red even without intervenion, but it's still low.\n",
    "\n",
    "Latent space looks suprisingly good: the area opposing red is clear, and there's a pronounced collection of reds near the anchor point."
   ]
  },
  {
   "cell_type": "markdown",
   "id": "d8b4f1dc",
   "metadata": {},
   "source": [
    "## Suppression"
   ]
  },
  {
   "cell_type": "code",
   "execution_count": 16,
   "id": "a02428ab",
   "metadata": {},
   "outputs": [
    {
     "data": {
      "text/html": [
       "<picture>\n",
       "  <source srcset=\"large-assets/ex-2.4.1-pred-colors-suppression.dark.png?v=9iekcSh-c_nOk5bD-4wVXEWyyobQNdcY_GmrlKLs1BA\" media=\"(prefers-color-scheme: dark)\" />\n",
       "  <source srcset=\"large-assets/ex-2.4.1-pred-colors-suppression.png?v=9iekcSh-c_nOk5bD-4wVXEWyyobQNdcY_GmrlKLs1BA\" media=\"(prefers-color-scheme: light)\" />\n",
       "  <img src=\"large-assets/ex-2.4.1-pred-colors-suppression.png?v=9iekcSh-c_nOk5bD-4wVXEWyyobQNdcY_GmrlKLs1BA\" alt=\"Plot showing four slices of the HSV cube, titled &quot;Predicted colors · suppression · V vs H by S&quot;. Nominally, each slice has constant saturation, but varies in value (brightness) from top to bottom, and in hue from left to right. Each color value is represented as a square patch of that color. The outer portion of the patches shows the color as reconstructed by the model; the inner portion shows the true (input) color.\" />\n",
       "</picture>"
      ],
      "text/plain": [
       "Plot showing four slices of the HSV cube, titled \"Predicted colors · suppression · V vs H by S\". Nominally, each slice has constant saturation, but varies in value (brightness) from top to bottom, and in hue from left to right. Each color value is represented as a square patch of that color. The outer portion of the patches shows the color as reconstructed by the model; the inner portion shows the true (input) color."
      ]
     },
     "metadata": {},
     "output_type": "display_data"
    }
   ],
   "source": [
    "from math import cos, radians\n",
    "from IPython.display import clear_output\n",
    "\n",
    "from ex_color.intervention import Suppression, BoundedFalloff\n",
    "\n",
    "\n",
    "falloff = BoundedFalloff(\n",
    "    cos(radians(90)),  # cos(max_angle)\n",
    "    1,  # completely squash fully-aligned vectors\n",
    "    # 2,  # soft rim, sharp hub\n",
    "    0,\n",
    ")\n",
    "suppression = InterventionConfig(\n",
    "    apply=Suppression(torch.tensor(RED), falloff),\n",
    "    layer_affinities=['bottleneck'],\n",
    ")\n",
    "suppression_results = Resultset(\n",
    "    tags=['suppression'],\n",
    "    latent_cube=await test(model, [suppression], rgb_cube),\n",
    "    color_slice_cube=await test(model, [suppression], hsv_cube),\n",
    "    loss_cube=await test(model, [suppression], hd_hsv_cube),\n",
    "    named_colors=await test_named(model, [suppression], named_colors),\n",
    ")\n",
    "clear_output()\n",
    "\n",
    "visualize_reconstructed_cube(suppression_results.color_slice_cube.permute('svh'), tags=suppression_results.tags)\n",
    "# visualize_reconstruction_loss(suppression_results.loss_cube, tags=suppression_results.tags)\n",
    "# visualize_latent_space(\n",
    "#     suppression_results.latent_cube,\n",
    "#     tags=suppression_results.tags,\n",
    "#     dims=[(1, 0, 2), (2, 0, 1), (3, 0, 1), (2, 1, 3), (3, 1, 2), (3, 2, 0)],\n",
    "# )"
   ]
  },
  {
   "cell_type": "markdown",
   "id": "c6061e48",
   "metadata": {},
   "source": [
    "## Repulsion"
   ]
  },
  {
   "cell_type": "code",
   "execution_count": 17,
   "id": "187c5a73",
   "metadata": {},
   "outputs": [
    {
     "data": {
      "text/html": [
       "<picture>\n",
       "  <source srcset=\"large-assets/ex-2.4.1-pred-colors-repulsion.dark.png?v=yTC60HkopG8MXIbRUMvedT-TSHhnSPu8Qnrhocruq8Q\" media=\"(prefers-color-scheme: dark)\" />\n",
       "  <source srcset=\"large-assets/ex-2.4.1-pred-colors-repulsion.png?v=yTC60HkopG8MXIbRUMvedT-TSHhnSPu8Qnrhocruq8Q\" media=\"(prefers-color-scheme: light)\" />\n",
       "  <img src=\"large-assets/ex-2.4.1-pred-colors-repulsion.png?v=yTC60HkopG8MXIbRUMvedT-TSHhnSPu8Qnrhocruq8Q\" alt=\"Plot showing four slices of the HSV cube, titled &quot;Predicted colors · repulsion · V vs H by S&quot;. Nominally, each slice has constant saturation, but varies in value (brightness) from top to bottom, and in hue from left to right. Each color value is represented as a square patch of that color. The outer portion of the patches shows the color as reconstructed by the model; the inner portion shows the true (input) color.\" />\n",
       "</picture>"
      ],
      "text/plain": [
       "Plot showing four slices of the HSV cube, titled \"Predicted colors · repulsion · V vs H by S\". Nominally, each slice has constant saturation, but varies in value (brightness) from top to bottom, and in hue from left to right. Each color value is represented as a square patch of that color. The outer portion of the patches shows the color as reconstructed by the model; the inner portion shows the true (input) color."
      ]
     },
     "metadata": {},
     "output_type": "display_data"
    }
   ],
   "source": [
    "from math import cos, pi, radians\n",
    "from IPython.display import clear_output\n",
    "\n",
    "from ex_color.intervention import Repulsion, FastBezierMapper, LinearMapper\n",
    "\n",
    "mapper = FastBezierMapper(\n",
    "    0,  # cos(max_angle)\n",
    "    cos(pi / 3),  # cos(min_angle)\n",
    ")\n",
    "mapper = LinearMapper(\n",
    "    cos(radians(90)),\n",
    "    cos(radians(70)),\n",
    ")\n",
    "repulsion = InterventionConfig(\n",
    "    Repulsion(torch.tensor(RED), mapper),\n",
    "    layer_affinities=['bottleneck'],\n",
    ")\n",
    "repulsion_results = Resultset(\n",
    "    tags=['repulsion'],\n",
    "    latent_cube=await test(model, [repulsion], rgb_cube),\n",
    "    color_slice_cube=await test(model, [repulsion], hsv_cube),\n",
    "    loss_cube=await test(model, [repulsion], hd_hsv_cube),\n",
    "    named_colors=await test_named(model, [repulsion], named_colors),\n",
    ")\n",
    "clear_output()\n",
    "\n",
    "visualize_reconstructed_cube(repulsion_results.color_slice_cube.permute('svh'), tags=repulsion_results.tags)\n",
    "# visualize_reconstruction_loss(repulsion_results.loss_cube, tags=repulsion_results.tags)\n",
    "# visualize_latent_space(\n",
    "#     repulsion_results.latent_cube,\n",
    "#     tags=repulsion_results.tags,\n",
    "#     dims=[(1, 0, 2), (2, 0, 1), (3, 0, 1), (2, 1, 3), (3, 1, 2), (3, 2, 0)],\n",
    "# )"
   ]
  },
  {
   "cell_type": "markdown",
   "id": "dd48d17b",
   "metadata": {},
   "source": [
    "## Ablation"
   ]
  },
  {
   "cell_type": "code",
   "execution_count": 18,
   "id": "3b6f69d7",
   "metadata": {},
   "outputs": [
    {
     "data": {
      "text/html": [
       "<picture>\n",
       "  <source srcset=\"large-assets/ex-2.4.1-pred-colors-ablation.dark.png?v=YpL4FGsIubjfZuuUKrw8Dk34KrF2XUKdqlnIkYLd86c\" media=\"(prefers-color-scheme: dark)\" />\n",
       "  <source srcset=\"large-assets/ex-2.4.1-pred-colors-ablation.png?v=YpL4FGsIubjfZuuUKrw8Dk34KrF2XUKdqlnIkYLd86c\" media=\"(prefers-color-scheme: light)\" />\n",
       "  <img src=\"large-assets/ex-2.4.1-pred-colors-ablation.png?v=YpL4FGsIubjfZuuUKrw8Dk34KrF2XUKdqlnIkYLd86c\" alt=\"Plot showing four slices of the HSV cube, titled &quot;Predicted colors · ablation · V vs H by S&quot;. Nominally, each slice has constant saturation, but varies in value (brightness) from top to bottom, and in hue from left to right. Each color value is represented as a square patch of that color. The outer portion of the patches shows the color as reconstructed by the model; the inner portion shows the true (input) color.\" />\n",
       "</picture>"
      ],
      "text/plain": [
       "Plot showing four slices of the HSV cube, titled \"Predicted colors · ablation · V vs H by S\". Nominally, each slice has constant saturation, but varies in value (brightness) from top to bottom, and in hue from left to right. Each color value is represented as a square patch of that color. The outer portion of the patches shows the color as reconstructed by the model; the inner portion shows the true (input) color."
      ]
     },
     "metadata": {},
     "output_type": "display_data"
    }
   ],
   "source": [
    "from ex_color.surgery import ablate\n",
    "\n",
    "ablated_model = ablate(model, 'bottleneck', [0])\n",
    "\n",
    "ablation_results = Resultset(\n",
    "    tags=['ablation'],\n",
    "    latent_cube=await test(ablated_model, [], rgb_cube),\n",
    "    color_slice_cube=await test(ablated_model, [], hsv_cube),\n",
    "    loss_cube=await test(ablated_model, [], hd_hsv_cube),\n",
    "    named_colors=await test_named(ablated_model, [], named_colors),\n",
    ")\n",
    "clear_output()\n",
    "\n",
    "visualize_reconstructed_cube(ablation_results.color_slice_cube.permute('svh'), tags=ablation_results.tags)\n",
    "# visualize_reconstruction_loss(ablation_results.loss_cube, tags=ablation_results.tags)\n",
    "# visualize_latent_space(\n",
    "#     ablation_results.latent_cube,\n",
    "#     tags=ablation_results.tags,\n",
    "#     dims=[(1, 0, 2), (2, 0, 1), (3, 0, 1), (2, 1, 3), (3, 1, 2), (3, 2, 0)],\n",
    "# )"
   ]
  },
  {
   "cell_type": "markdown",
   "id": "725e87ae",
   "metadata": {},
   "source": [
    "## Stacked visualizations for paper"
   ]
  },
  {
   "cell_type": "code",
   "execution_count": 19,
   "id": "e498e18c",
   "metadata": {},
   "outputs": [
    {
     "name": "stdout",
     "output_type": "stream",
     "text": [
      "Max error:\n"
     ]
    },
    {
     "data": {
      "text/plain": [
       "{'No intervention': 0.0004948975401930511,\n",
       " 'Suppression': 0.1882771998643875,\n",
       " 'Repulsion': 0.18570585548877716,\n",
       " 'Ablation': 0.33162155747413635}"
      ]
     },
     "metadata": {},
     "output_type": "display_data"
    }
   ],
   "source": [
    "from IPython.display import display\n",
    "\n",
    "print('Max error:')\n",
    "display(\n",
    "    {\n",
    "        'No intervention': float(no_intervention_results.loss_cube['MSE'].max()),\n",
    "        'Suppression': float(suppression_results.loss_cube['MSE'].max()),\n",
    "        'Repulsion': float(repulsion_results.loss_cube['MSE'].max()),\n",
    "        'Ablation': float(ablation_results.loss_cube['MSE'].max()),\n",
    "    }\n",
    ")"
   ]
  },
  {
   "cell_type": "code",
   "execution_count": 20,
   "id": "cd20e021",
   "metadata": {},
   "outputs": [
    {
     "name": "stdout",
     "output_type": "stream",
     "text": [
      "Baseline\n"
     ]
    },
    {
     "data": {
      "text/html": [
       "<picture>\n",
       "  <source srcset=\"large-assets/ex-2.4.1-results-no-intervention.dark.png?v=wuOep8MfGvhqbHeUsYlpT8x1wwnTTs4FqRjenenu4O8\" media=\"(prefers-color-scheme: dark)\" />\n",
       "  <source srcset=\"large-assets/ex-2.4.1-results-no-intervention.png?v=wuOep8MfGvhqbHeUsYlpT8x1wwnTTs4FqRjenenu4O8\" media=\"(prefers-color-scheme: light)\" />\n",
       "  <img src=\"large-assets/ex-2.4.1-results-no-intervention.png?v=wuOep8MfGvhqbHeUsYlpT8x1wwnTTs4FqRjenenu4O8\" alt=\"Composite figure with two latent panels (top), a color slice (middle), and a loss chart (bottom).\" />\n",
       "</picture>"
      ],
      "text/plain": [
       "Composite figure with two latent panels (top), a color slice (middle), and a loss chart (bottom)."
      ]
     },
     "metadata": {},
     "output_type": "display_data"
    },
    {
     "name": "stdout",
     "output_type": "stream",
     "text": [
      "Suppression\n"
     ]
    },
    {
     "data": {
      "text/html": [
       "<picture>\n",
       "  <source srcset=\"large-assets/ex-2.4.1-results-suppression.dark.png?v=PVdx92_ZUifxAypGVkjMtJg5MgCkMPFFNyTUAmCZm_c\" media=\"(prefers-color-scheme: dark)\" />\n",
       "  <source srcset=\"large-assets/ex-2.4.1-results-suppression.png?v=PVdx92_ZUifxAypGVkjMtJg5MgCkMPFFNyTUAmCZm_c\" media=\"(prefers-color-scheme: light)\" />\n",
       "  <img src=\"large-assets/ex-2.4.1-results-suppression.png?v=PVdx92_ZUifxAypGVkjMtJg5MgCkMPFFNyTUAmCZm_c\" alt=\"Composite figure with two latent panels (top), a color slice (middle), and a loss chart (bottom).\" />\n",
       "</picture>"
      ],
      "text/plain": [
       "Composite figure with two latent panels (top), a color slice (middle), and a loss chart (bottom)."
      ]
     },
     "metadata": {},
     "output_type": "display_data"
    },
    {
     "name": "stdout",
     "output_type": "stream",
     "text": [
      "Repulsion\n"
     ]
    },
    {
     "data": {
      "text/html": [
       "<picture>\n",
       "  <source srcset=\"large-assets/ex-2.4.1-results-repulsion.dark.png?v=M7hHLemXB1h8UEPpoYT-0H-Ws-l9JNYWCOt4x2yYQgI\" media=\"(prefers-color-scheme: dark)\" />\n",
       "  <source srcset=\"large-assets/ex-2.4.1-results-repulsion.png?v=M7hHLemXB1h8UEPpoYT-0H-Ws-l9JNYWCOt4x2yYQgI\" media=\"(prefers-color-scheme: light)\" />\n",
       "  <img src=\"large-assets/ex-2.4.1-results-repulsion.png?v=M7hHLemXB1h8UEPpoYT-0H-Ws-l9JNYWCOt4x2yYQgI\" alt=\"Composite figure with two latent panels (top), a color slice (middle), and a loss chart (bottom).\" />\n",
       "</picture>"
      ],
      "text/plain": [
       "Composite figure with two latent panels (top), a color slice (middle), and a loss chart (bottom)."
      ]
     },
     "metadata": {},
     "output_type": "display_data"
    },
    {
     "name": "stdout",
     "output_type": "stream",
     "text": [
      "Ablation\n"
     ]
    },
    {
     "data": {
      "text/html": [
       "<picture>\n",
       "  <source srcset=\"large-assets/ex-2.4.1-results-ablation.dark.png?v=dgQ_tA2W1CPtfvnIi6dVUpd1R9oq36i0DZMaDdKT-O8\" media=\"(prefers-color-scheme: dark)\" />\n",
       "  <source srcset=\"large-assets/ex-2.4.1-results-ablation.png?v=dgQ_tA2W1CPtfvnIi6dVUpd1R9oq36i0DZMaDdKT-O8\" media=\"(prefers-color-scheme: light)\" />\n",
       "  <img src=\"large-assets/ex-2.4.1-results-ablation.png?v=dgQ_tA2W1CPtfvnIi6dVUpd1R9oq36i0DZMaDdKT-O8\" alt=\"Composite figure with two latent panels (top), a color slice (middle), and a loss chart (bottom).\" />\n",
       "</picture>"
      ],
      "text/plain": [
       "Composite figure with two latent panels (top), a color slice (middle), and a loss chart (bottom)."
      ]
     },
     "metadata": {},
     "output_type": "display_data"
    }
   ],
   "source": [
    "def themed_annotation(\n",
    "    theme: Theme, direction: Sequence[float], angle: float, dashed: bool = False\n",
    ") -> ConicalAnnotation:\n",
    "    return ConicalAnnotation(\n",
    "        direction=direction,\n",
    "        angle=angle,\n",
    "        color=theme.val('black', dark='#fff'),\n",
    "        linewidth=theme.val(0.75, dark=1),\n",
    "        **dict(\n",
    "            dashes=theme.val((8, 8), dark=(4, 4)),\n",
    "            gapcolor=theme.val('#ddda', dark='#222a'),\n",
    "        ) if dashed else {}\n",
    "    )  # fmt: skip\n",
    "\n",
    "\n",
    "max_error = np.max(\n",
    "    [\n",
    "        no_intervention_results.loss_cube['MSE'],\n",
    "        suppression_results.loss_cube['MSE'],\n",
    "        repulsion_results.loss_cube['MSE'],\n",
    "    ]\n",
    ")\n",
    "\n",
    "print('Baseline')\n",
    "visualize_stacked_results(\n",
    "    no_intervention_results,\n",
    "    latent_dims=((1, 0, 2), (1, 2, 0)),\n",
    "    max_error=max_error,\n",
    ")\n",
    "\n",
    "print('Suppression')\n",
    "visualize_stacked_results(\n",
    "    suppression_results,\n",
    "    latent_dims=((1, 0, 2), (1, 2, 0)),\n",
    "    max_error=max_error,\n",
    "    latent_annotations=[\n",
    "        lambda theme: themed_annotation(theme, direction=RED, angle=2 * (np.pi / 2 - falloff.a), dashed=True),\n",
    "    ],\n",
    ")\n",
    "\n",
    "print('Repulsion')\n",
    "visualize_stacked_results(\n",
    "    repulsion_results,\n",
    "    latent_dims=((1, 0, 2), (1, 2, 0)),\n",
    "    max_error=max_error,\n",
    "    latent_annotations=[\n",
    "        lambda theme: themed_annotation(theme, direction=RED, angle=2 * (np.pi / 2 - mapper.a), dashed=True),\n",
    "        lambda theme: themed_annotation(theme, direction=RED, angle=2 * (np.pi / 2 - mapper.b), dashed=False),\n",
    "    ],\n",
    ")\n",
    "\n",
    "print('Ablation')\n",
    "visualize_stacked_results(\n",
    "    ablation_results,\n",
    "    latent_dims=((1, 0, 2), (1, 2, 0)),\n",
    "    max_error=max_error,\n",
    ")"
   ]
  },
  {
   "cell_type": "markdown",
   "id": "5c726581",
   "metadata": {},
   "source": [
    "## Tabular results: error vs color per intervention"
   ]
  },
  {
   "cell_type": "code",
   "execution_count": 21,
   "id": "66d1ae0b",
   "metadata": {},
   "outputs": [
    {
     "data": {
      "text/html": [
       "<style type=\"text/css\">\n",
       "</style>\n",
       "<table id=\"T_c1803\">\n",
       "  <thead>\n",
       "    <tr>\n",
       "      <th id=\"T_c1803_level0_col0\" class=\"col_heading level0 col0\" >Name</th>\n",
       "      <th id=\"T_c1803_level0_col1\" class=\"col_heading level0 col1\" >RGB</th>\n",
       "      <th id=\"T_c1803_level0_col3\" class=\"col_heading level0 col3\" >No Intervention</th>\n",
       "      <th id=\"T_c1803_level0_col4\" class=\"col_heading level0 col4\" >Suppression</th>\n",
       "      <th id=\"T_c1803_level0_col5\" class=\"col_heading level0 col5\" >Δ Sup</th>\n",
       "      <th id=\"T_c1803_level0_col6\" class=\"col_heading level0 col6\" >Repulsion</th>\n",
       "      <th id=\"T_c1803_level0_col7\" class=\"col_heading level0 col7\" >Δ Rep</th>\n",
       "      <th id=\"T_c1803_level0_col8\" class=\"col_heading level0 col8\" >Ablation</th>\n",
       "      <th id=\"T_c1803_level0_col9\" class=\"col_heading level0 col9\" >Δ Abl</th>\n",
       "    </tr>\n",
       "  </thead>\n",
       "  <tbody>\n",
       "    <tr>\n",
       "      <td id=\"T_c1803_row0_col0\" class=\"data row0 col0\" >red</td>\n",
       "      <td id=\"T_c1803_row0_col1\" class=\"data row0 col1\" ><div style=\"background-color: #ff0000; width: 1em; height: 1em; display: inline-block; border: 1px solid #8888;\"></div></td>\n",
       "      <td id=\"T_c1803_row0_col3\" class=\"data row0 col3\" >0.001</td>\n",
       "      <td id=\"T_c1803_row0_col4\" class=\"data row0 col4\" >0.206</td>\n",
       "      <td id=\"T_c1803_row0_col5\" class=\"data row0 col5\" >+0.205</td>\n",
       "      <td id=\"T_c1803_row0_col6\" class=\"data row0 col6\" >0.198</td>\n",
       "      <td id=\"T_c1803_row0_col7\" class=\"data row0 col7\" >+0.197</td>\n",
       "      <td id=\"T_c1803_row0_col8\" class=\"data row0 col8\" >0.333</td>\n",
       "      <td id=\"T_c1803_row0_col9\" class=\"data row0 col9\" >+0.333</td>\n",
       "    </tr>\n",
       "    <tr>\n",
       "      <td id=\"T_c1803_row1_col0\" class=\"data row1 col0\" >orange</td>\n",
       "      <td id=\"T_c1803_row1_col1\" class=\"data row1 col1\" ><div style=\"background-color: #ff7f00; width: 1em; height: 1em; display: inline-block; border: 1px solid #8888;\"></div></td>\n",
       "      <td id=\"T_c1803_row1_col3\" class=\"data row1 col3\" >0.000</td>\n",
       "      <td id=\"T_c1803_row1_col4\" class=\"data row1 col4\" >0.121</td>\n",
       "      <td id=\"T_c1803_row1_col5\" class=\"data row1 col5\" >+0.121</td>\n",
       "      <td id=\"T_c1803_row1_col6\" class=\"data row1 col6\" >0.071</td>\n",
       "      <td id=\"T_c1803_row1_col7\" class=\"data row1 col7\" >+0.071</td>\n",
       "      <td id=\"T_c1803_row1_col8\" class=\"data row1 col8\" >0.144</td>\n",
       "      <td id=\"T_c1803_row1_col9\" class=\"data row1 col9\" >+0.144</td>\n",
       "    </tr>\n",
       "    <tr>\n",
       "      <td id=\"T_c1803_row2_col0\" class=\"data row2 col0\" >yellow</td>\n",
       "      <td id=\"T_c1803_row2_col1\" class=\"data row2 col1\" ><div style=\"background-color: #ffff00; width: 1em; height: 1em; display: inline-block; border: 1px solid #8888;\"></div></td>\n",
       "      <td id=\"T_c1803_row2_col3\" class=\"data row2 col3\" >0.000</td>\n",
       "      <td id=\"T_c1803_row2_col4\" class=\"data row2 col4\" >0.047</td>\n",
       "      <td id=\"T_c1803_row2_col5\" class=\"data row2 col5\" >+0.046</td>\n",
       "      <td id=\"T_c1803_row2_col6\" class=\"data row2 col6\" >0.018</td>\n",
       "      <td id=\"T_c1803_row2_col7\" class=\"data row2 col7\" >+0.017</td>\n",
       "      <td id=\"T_c1803_row2_col8\" class=\"data row2 col8\" >0.040</td>\n",
       "      <td id=\"T_c1803_row2_col9\" class=\"data row2 col9\" >+0.039</td>\n",
       "    </tr>\n",
       "    <tr>\n",
       "      <td id=\"T_c1803_row3_col0\" class=\"data row3 col0\" >lime</td>\n",
       "      <td id=\"T_c1803_row3_col1\" class=\"data row3 col1\" ><div style=\"background-color: #7fff00; width: 1em; height: 1em; display: inline-block; border: 1px solid #8888;\"></div></td>\n",
       "      <td id=\"T_c1803_row3_col3\" class=\"data row3 col3\" >0.000</td>\n",
       "      <td id=\"T_c1803_row3_col4\" class=\"data row3 col4\" >0.000</td>\n",
       "      <td id=\"T_c1803_row3_col5\" class=\"data row3 col5\" >-0.000</td>\n",
       "      <td id=\"T_c1803_row3_col6\" class=\"data row3 col6\" >0.000</td>\n",
       "      <td id=\"T_c1803_row3_col7\" class=\"data row3 col7\" >-0.000</td>\n",
       "      <td id=\"T_c1803_row3_col8\" class=\"data row3 col8\" >0.000</td>\n",
       "      <td id=\"T_c1803_row3_col9\" class=\"data row3 col9\" >-0.000</td>\n",
       "    </tr>\n",
       "    <tr>\n",
       "      <td id=\"T_c1803_row4_col0\" class=\"data row4 col0\" >green</td>\n",
       "      <td id=\"T_c1803_row4_col1\" class=\"data row4 col1\" ><div style=\"background-color: #00ff00; width: 1em; height: 1em; display: inline-block; border: 1px solid #8888;\"></div></td>\n",
       "      <td id=\"T_c1803_row4_col3\" class=\"data row4 col3\" >0.001</td>\n",
       "      <td id=\"T_c1803_row4_col4\" class=\"data row4 col4\" >0.001</td>\n",
       "      <td id=\"T_c1803_row4_col5\" class=\"data row4 col5\" >+0.000</td>\n",
       "      <td id=\"T_c1803_row4_col6\" class=\"data row4 col6\" >0.001</td>\n",
       "      <td id=\"T_c1803_row4_col7\" class=\"data row4 col7\" >+0.000</td>\n",
       "      <td id=\"T_c1803_row4_col8\" class=\"data row4 col8\" >0.046</td>\n",
       "      <td id=\"T_c1803_row4_col9\" class=\"data row4 col9\" >+0.046</td>\n",
       "    </tr>\n",
       "    <tr>\n",
       "      <td id=\"T_c1803_row5_col0\" class=\"data row5 col0\" >teal</td>\n",
       "      <td id=\"T_c1803_row5_col1\" class=\"data row5 col1\" ><div style=\"background-color: #00ff7f; width: 1em; height: 1em; display: inline-block; border: 1px solid #8888;\"></div></td>\n",
       "      <td id=\"T_c1803_row5_col3\" class=\"data row5 col3\" >0.000</td>\n",
       "      <td id=\"T_c1803_row5_col4\" class=\"data row5 col4\" >0.000</td>\n",
       "      <td id=\"T_c1803_row5_col5\" class=\"data row5 col5\" >+0.000</td>\n",
       "      <td id=\"T_c1803_row5_col6\" class=\"data row5 col6\" >0.000</td>\n",
       "      <td id=\"T_c1803_row5_col7\" class=\"data row5 col7\" >+0.000</td>\n",
       "      <td id=\"T_c1803_row5_col8\" class=\"data row5 col8\" >0.148</td>\n",
       "      <td id=\"T_c1803_row5_col9\" class=\"data row5 col9\" >+0.148</td>\n",
       "    </tr>\n",
       "    <tr>\n",
       "      <td id=\"T_c1803_row6_col0\" class=\"data row6 col0\" >cyan</td>\n",
       "      <td id=\"T_c1803_row6_col1\" class=\"data row6 col1\" ><div style=\"background-color: #00ffff; width: 1em; height: 1em; display: inline-block; border: 1px solid #8888;\"></div></td>\n",
       "      <td id=\"T_c1803_row6_col3\" class=\"data row6 col3\" >0.001</td>\n",
       "      <td id=\"T_c1803_row6_col4\" class=\"data row6 col4\" >0.001</td>\n",
       "      <td id=\"T_c1803_row6_col5\" class=\"data row6 col5\" >+0.000</td>\n",
       "      <td id=\"T_c1803_row6_col6\" class=\"data row6 col6\" >0.001</td>\n",
       "      <td id=\"T_c1803_row6_col7\" class=\"data row6 col7\" >+0.000</td>\n",
       "      <td id=\"T_c1803_row6_col8\" class=\"data row6 col8\" >0.345</td>\n",
       "      <td id=\"T_c1803_row6_col9\" class=\"data row6 col9\" >+0.344</td>\n",
       "    </tr>\n",
       "    <tr>\n",
       "      <td id=\"T_c1803_row7_col0\" class=\"data row7 col0\" >azure</td>\n",
       "      <td id=\"T_c1803_row7_col1\" class=\"data row7 col1\" ><div style=\"background-color: #007fff; width: 1em; height: 1em; display: inline-block; border: 1px solid #8888;\"></div></td>\n",
       "      <td id=\"T_c1803_row7_col3\" class=\"data row7 col3\" >0.000</td>\n",
       "      <td id=\"T_c1803_row7_col4\" class=\"data row7 col4\" >0.000</td>\n",
       "      <td id=\"T_c1803_row7_col5\" class=\"data row7 col5\" >+0.000</td>\n",
       "      <td id=\"T_c1803_row7_col6\" class=\"data row7 col6\" >0.000</td>\n",
       "      <td id=\"T_c1803_row7_col7\" class=\"data row7 col7\" >+0.000</td>\n",
       "      <td id=\"T_c1803_row7_col8\" class=\"data row7 col8\" >0.171</td>\n",
       "      <td id=\"T_c1803_row7_col9\" class=\"data row7 col9\" >+0.171</td>\n",
       "    </tr>\n",
       "    <tr>\n",
       "      <td id=\"T_c1803_row8_col0\" class=\"data row8 col0\" >blue</td>\n",
       "      <td id=\"T_c1803_row8_col1\" class=\"data row8 col1\" ><div style=\"background-color: #0000ff; width: 1em; height: 1em; display: inline-block; border: 1px solid #8888;\"></div></td>\n",
       "      <td id=\"T_c1803_row8_col3\" class=\"data row8 col3\" >0.001</td>\n",
       "      <td id=\"T_c1803_row8_col4\" class=\"data row8 col4\" >0.001</td>\n",
       "      <td id=\"T_c1803_row8_col5\" class=\"data row8 col5\" >+0.000</td>\n",
       "      <td id=\"T_c1803_row8_col6\" class=\"data row8 col6\" >0.001</td>\n",
       "      <td id=\"T_c1803_row8_col7\" class=\"data row8 col7\" >+0.000</td>\n",
       "      <td id=\"T_c1803_row8_col8\" class=\"data row8 col8\" >0.049</td>\n",
       "      <td id=\"T_c1803_row8_col9\" class=\"data row8 col9\" >+0.049</td>\n",
       "    </tr>\n",
       "    <tr>\n",
       "      <td id=\"T_c1803_row9_col0\" class=\"data row9 col0\" >purple</td>\n",
       "      <td id=\"T_c1803_row9_col1\" class=\"data row9 col1\" ><div style=\"background-color: #7f00ff; width: 1em; height: 1em; display: inline-block; border: 1px solid #8888;\"></div></td>\n",
       "      <td id=\"T_c1803_row9_col3\" class=\"data row9 col3\" >0.000</td>\n",
       "      <td id=\"T_c1803_row9_col4\" class=\"data row9 col4\" >0.000</td>\n",
       "      <td id=\"T_c1803_row9_col5\" class=\"data row9 col5\" >+0.000</td>\n",
       "      <td id=\"T_c1803_row9_col6\" class=\"data row9 col6\" >0.000</td>\n",
       "      <td id=\"T_c1803_row9_col7\" class=\"data row9 col7\" >+0.000</td>\n",
       "      <td id=\"T_c1803_row9_col8\" class=\"data row9 col8\" >0.001</td>\n",
       "      <td id=\"T_c1803_row9_col9\" class=\"data row9 col9\" >+0.001</td>\n",
       "    </tr>\n",
       "    <tr>\n",
       "      <td id=\"T_c1803_row10_col0\" class=\"data row10 col0\" >magenta</td>\n",
       "      <td id=\"T_c1803_row10_col1\" class=\"data row10 col1\" ><div style=\"background-color: #ff00ff; width: 1em; height: 1em; display: inline-block; border: 1px solid #8888;\"></div></td>\n",
       "      <td id=\"T_c1803_row10_col3\" class=\"data row10 col3\" >0.001</td>\n",
       "      <td id=\"T_c1803_row10_col4\" class=\"data row10 col4\" >0.031</td>\n",
       "      <td id=\"T_c1803_row10_col5\" class=\"data row10 col5\" >+0.030</td>\n",
       "      <td id=\"T_c1803_row10_col6\" class=\"data row10 col6\" >0.012</td>\n",
       "      <td id=\"T_c1803_row10_col7\" class=\"data row10 col7\" >+0.011</td>\n",
       "      <td id=\"T_c1803_row10_col8\" class=\"data row10 col8\" >0.026</td>\n",
       "      <td id=\"T_c1803_row10_col9\" class=\"data row10 col9\" >+0.026</td>\n",
       "    </tr>\n",
       "    <tr>\n",
       "      <td id=\"T_c1803_row11_col0\" class=\"data row11 col0\" >pink</td>\n",
       "      <td id=\"T_c1803_row11_col1\" class=\"data row11 col1\" ><div style=\"background-color: #ff007f; width: 1em; height: 1em; display: inline-block; border: 1px solid #8888;\"></div></td>\n",
       "      <td id=\"T_c1803_row11_col3\" class=\"data row11 col3\" >0.000</td>\n",
       "      <td id=\"T_c1803_row11_col4\" class=\"data row11 col4\" >0.113</td>\n",
       "      <td id=\"T_c1803_row11_col5\" class=\"data row11 col5\" >+0.113</td>\n",
       "      <td id=\"T_c1803_row11_col6\" class=\"data row11 col6\" >0.074</td>\n",
       "      <td id=\"T_c1803_row11_col7\" class=\"data row11 col7\" >+0.074</td>\n",
       "      <td id=\"T_c1803_row11_col8\" class=\"data row11 col8\" >0.143</td>\n",
       "      <td id=\"T_c1803_row11_col9\" class=\"data row11 col9\" >+0.143</td>\n",
       "    </tr>\n",
       "    <tr>\n",
       "      <td id=\"T_c1803_row12_col0\" class=\"data row12 col0\" >black</td>\n",
       "      <td id=\"T_c1803_row12_col1\" class=\"data row12 col1\" ><div style=\"background-color: #000000; width: 1em; height: 1em; display: inline-block; border: 1px solid #8888;\"></div></td>\n",
       "      <td id=\"T_c1803_row12_col3\" class=\"data row12 col3\" >0.000</td>\n",
       "      <td id=\"T_c1803_row12_col4\" class=\"data row12 col4\" >0.000</td>\n",
       "      <td id=\"T_c1803_row12_col5\" class=\"data row12 col5\" >+0.000</td>\n",
       "      <td id=\"T_c1803_row12_col6\" class=\"data row12 col6\" >0.000</td>\n",
       "      <td id=\"T_c1803_row12_col7\" class=\"data row12 col7\" >+0.000</td>\n",
       "      <td id=\"T_c1803_row12_col8\" class=\"data row12 col8\" >0.002</td>\n",
       "      <td id=\"T_c1803_row12_col9\" class=\"data row12 col9\" >+0.002</td>\n",
       "    </tr>\n",
       "    <tr>\n",
       "      <td id=\"T_c1803_row13_col0\" class=\"data row13 col0\" >dark gray</td>\n",
       "      <td id=\"T_c1803_row13_col1\" class=\"data row13 col1\" ><div style=\"background-color: #3f3f3f; width: 1em; height: 1em; display: inline-block; border: 1px solid #8888;\"></div></td>\n",
       "      <td id=\"T_c1803_row13_col3\" class=\"data row13 col3\" >0.000</td>\n",
       "      <td id=\"T_c1803_row13_col4\" class=\"data row13 col4\" >0.000</td>\n",
       "      <td id=\"T_c1803_row13_col5\" class=\"data row13 col5\" >+0.000</td>\n",
       "      <td id=\"T_c1803_row13_col6\" class=\"data row13 col6\" >0.000</td>\n",
       "      <td id=\"T_c1803_row13_col7\" class=\"data row13 col7\" >+0.000</td>\n",
       "      <td id=\"T_c1803_row13_col8\" class=\"data row13 col8\" >0.001</td>\n",
       "      <td id=\"T_c1803_row13_col9\" class=\"data row13 col9\" >+0.000</td>\n",
       "    </tr>\n",
       "    <tr>\n",
       "      <td id=\"T_c1803_row14_col0\" class=\"data row14 col0\" >gray</td>\n",
       "      <td id=\"T_c1803_row14_col1\" class=\"data row14 col1\" ><div style=\"background-color: #7f7f7f; width: 1em; height: 1em; display: inline-block; border: 1px solid #8888;\"></div></td>\n",
       "      <td id=\"T_c1803_row14_col3\" class=\"data row14 col3\" >0.000</td>\n",
       "      <td id=\"T_c1803_row14_col4\" class=\"data row14 col4\" >0.000</td>\n",
       "      <td id=\"T_c1803_row14_col5\" class=\"data row14 col5\" >+0.000</td>\n",
       "      <td id=\"T_c1803_row14_col6\" class=\"data row14 col6\" >0.000</td>\n",
       "      <td id=\"T_c1803_row14_col7\" class=\"data row14 col7\" >+0.000</td>\n",
       "      <td id=\"T_c1803_row14_col8\" class=\"data row14 col8\" >0.000</td>\n",
       "      <td id=\"T_c1803_row14_col9\" class=\"data row14 col9\" >+0.000</td>\n",
       "    </tr>\n",
       "    <tr>\n",
       "      <td id=\"T_c1803_row15_col0\" class=\"data row15 col0\" >light gray</td>\n",
       "      <td id=\"T_c1803_row15_col1\" class=\"data row15 col1\" ><div style=\"background-color: #bfbfbf; width: 1em; height: 1em; display: inline-block; border: 1px solid #8888;\"></div></td>\n",
       "      <td id=\"T_c1803_row15_col3\" class=\"data row15 col3\" >0.000</td>\n",
       "      <td id=\"T_c1803_row15_col4\" class=\"data row15 col4\" >0.000</td>\n",
       "      <td id=\"T_c1803_row15_col5\" class=\"data row15 col5\" >+0.000</td>\n",
       "      <td id=\"T_c1803_row15_col6\" class=\"data row15 col6\" >0.000</td>\n",
       "      <td id=\"T_c1803_row15_col7\" class=\"data row15 col7\" >+0.000</td>\n",
       "      <td id=\"T_c1803_row15_col8\" class=\"data row15 col8\" >0.000</td>\n",
       "      <td id=\"T_c1803_row15_col9\" class=\"data row15 col9\" >+0.000</td>\n",
       "    </tr>\n",
       "    <tr>\n",
       "      <td id=\"T_c1803_row16_col0\" class=\"data row16 col0\" >white</td>\n",
       "      <td id=\"T_c1803_row16_col1\" class=\"data row16 col1\" ><div style=\"background-color: #ffffff; width: 1em; height: 1em; display: inline-block; border: 1px solid #8888;\"></div></td>\n",
       "      <td id=\"T_c1803_row16_col3\" class=\"data row16 col3\" >0.000</td>\n",
       "      <td id=\"T_c1803_row16_col4\" class=\"data row16 col4\" >0.000</td>\n",
       "      <td id=\"T_c1803_row16_col5\" class=\"data row16 col5\" >+0.000</td>\n",
       "      <td id=\"T_c1803_row16_col6\" class=\"data row16 col6\" >0.000</td>\n",
       "      <td id=\"T_c1803_row16_col7\" class=\"data row16 col7\" >+0.000</td>\n",
       "      <td id=\"T_c1803_row16_col8\" class=\"data row16 col8\" >0.000</td>\n",
       "      <td id=\"T_c1803_row16_col9\" class=\"data row16 col9\" >+0.000</td>\n",
       "    </tr>\n",
       "  </tbody>\n",
       "</table>\n"
      ],
      "text/plain": [
       "<pandas.io.formats.style.Styler at 0xffff45569010>"
      ]
     },
     "metadata": {},
     "output_type": "display_data"
    }
   ],
   "source": [
    "from IPython.display import display\n",
    "from ex_color.vis import ColorTableHtmlFormatter\n",
    "\n",
    "df = hstack_named_results(no_intervention_results, suppression_results, repulsion_results, ablation_results)\n",
    "\n",
    "display(ColorTableHtmlFormatter().style(df))"
   ]
  },
  {
   "cell_type": "code",
   "execution_count": 22,
   "id": "20b22443",
   "metadata": {},
   "outputs": [
    {
     "data": {
      "text/markdown": [
       "```latex\n",
       "\\begin{table}\n",
       "\\centering\n",
       "\\label{tab:error-per-color-soft}\n",
       "\\caption{Reconstruction error by color and intervention method}\n",
       "\\sisetup{\n",
       "    round-mode = places,\n",
       "    round-precision = 3,\n",
       "    table-auto-round = true,\n",
       "    % drop-zero-decimal = true,\n",
       "}\n",
       "\\begin{tabular}{l c g g g g}\n",
       "\\toprule\n",
       "\\multicolumn{2}{c}{{Color}} & \\multicolumn{1}{c}{{Baseline}} & \\multicolumn{1}{c}{{Suppression}} & \\multicolumn{1}{c}{{Repulsion}} & \\multicolumn{1}{c}{{Ablation}} \\\\\n",
       "\\midrule\n",
       "Red        & \\swatch{FF0000} &  0.000768037 &  0.205282241 &  0.196813837 &  0.332565308 \\\\\n",
       "Orange     & \\swatch{FF7F00} &  0.000007175 &  0.121251166 &  0.071423836 &  0.144406125 \\\\\n",
       "Yellow     & \\swatch{FFFF00} &  0.000465135 &  0.046414554 &  0.017316537 &  0.039200030 \\\\\n",
       "Lime       & \\swatch{7FFF00} &  0.000046972 & -0.000013951 & -0.000010727 & -0.000014021 \\\\\n",
       "Green      & \\swatch{00FF00} &  0.000651126 &  0.000000000 &  0.000000000 &  0.045809921 \\\\\n",
       "Teal       & \\swatch{00FF7F} &  0.000004109 &  0.000000000 &  0.000000000 &  0.147797063 \\\\\n",
       "Cyan       & \\swatch{00FFFF} &  0.001199420 &  0.000000000 &  0.000000000 &  0.343560725 \\\\\n",
       "Azure      & \\swatch{007FFF} &  0.000035421 &  0.000000000 &  0.000000000 &  0.171221405 \\\\\n",
       "Blue       & \\swatch{0000FF} &  0.000555592 &  0.000000000 &  0.000000000 &  0.048887715 \\\\\n",
       "Purple     & \\swatch{7F00FF} &  0.000046439 &  0.000000000 &  0.000000000 &  0.000859078 \\\\\n",
       "Magenta    & \\swatch{FF00FF} &  0.000616221 &  0.030436348 &  0.011453097 &  0.025803939 \\\\\n",
       "Pink       & \\swatch{FF007F} &  0.000131380 &  0.113162704 &  0.074021526 &  0.142593428 \\\\\n",
       "Black      & \\swatch{000000} &  0.000072439 &  0.000000000 &  0.000000000 &  0.001567130 \\\\\n",
       "Dark gray  & \\swatch{3F3F3F} &  0.000058124 &  0.000000000 &  0.000000000 &  0.000449589 \\\\\n",
       "Gray       & \\swatch{7F7F7F} &  0.000161277 &  0.000000000 &  0.000000000 &  0.000215866 \\\\\n",
       "Light gray & \\swatch{BFBFBF} &  0.000028848 &  0.000000000 &  0.000000000 &  0.000028761 \\\\\n",
       "White      & \\swatch{FFFFFF} &  0.000146175 &  0.000000000 &  0.000000000 &  0.000147133 \\\\\n",
       "\\bottomrule\n",
       "\\end{tabular}\n",
       "\\end{table}\n",
       "```"
      ],
      "text/plain": [
       "\\begin{table}\n",
       "\\centering\n",
       "\\label{tab:error-per-color-soft}\n",
       "\\caption{Reconstruction error by color and intervention method}\n",
       "\\sisetup{\n",
       "    round-mode = places,\n",
       "    round-precision = 3,\n",
       "    table-auto-round = true,\n",
       "    % drop-zero-decimal = true,\n",
       "}\n",
       "\\begin{tabular}{l c g g g g}\n",
       "\\toprule\n",
       "\\multicolumn{2}{c}{{Color}} & \\multicolumn{1}{c}{{Baseline}} & \\multicolumn{1}{c}{{Suppression}} & \\multicolumn{1}{c}{{Repulsion}} & \\multicolumn{1}{c}{{Ablation}} \\\\\n",
       "\\midrule\n",
       "Red        & \\swatch{FF0000} &  0.000768037 &  0.205282241 &  0.196813837 &  0.332565308 \\\\\n",
       "Orange     & \\swatch{FF7F00} &  0.000007175 &  0.121251166 &  0.071423836 &  0.144406125 \\\\\n",
       "Yellow     & \\swatch{FFFF00} &  0.000465135 &  0.046414554 &  0.017316537 &  0.039200030 \\\\\n",
       "Lime       & \\swatch{7FFF00} &  0.000046972 & -0.000013951 & -0.000010727 & -0.000014021 \\\\\n",
       "Green      & \\swatch{00FF00} &  0.000651126 &  0.000000000 &  0.000000000 &  0.045809921 \\\\\n",
       "Teal       & \\swatch{00FF7F} &  0.000004109 &  0.000000000 &  0.000000000 &  0.147797063 \\\\\n",
       "Cyan       & \\swatch{00FFFF} &  0.001199420 &  0.000000000 &  0.000000000 &  0.343560725 \\\\\n",
       "Azure      & \\swatch{007FFF} &  0.000035421 &  0.000000000 &  0.000000000 &  0.171221405 \\\\\n",
       "Blue       & \\swatch{0000FF} &  0.000555592 &  0.000000000 &  0.000000000 &  0.048887715 \\\\\n",
       "Purple     & \\swatch{7F00FF} &  0.000046439 &  0.000000000 &  0.000000000 &  0.000859078 \\\\\n",
       "Magenta    & \\swatch{FF00FF} &  0.000616221 &  0.030436348 &  0.011453097 &  0.025803939 \\\\\n",
       "Pink       & \\swatch{FF007F} &  0.000131380 &  0.113162704 &  0.074021526 &  0.142593428 \\\\\n",
       "Black      & \\swatch{000000} &  0.000072439 &  0.000000000 &  0.000000000 &  0.001567130 \\\\\n",
       "Dark gray  & \\swatch{3F3F3F} &  0.000058124 &  0.000000000 &  0.000000000 &  0.000449589 \\\\\n",
       "Gray       & \\swatch{7F7F7F} &  0.000161277 &  0.000000000 &  0.000000000 &  0.000215866 \\\\\n",
       "Light gray & \\swatch{BFBFBF} &  0.000028848 &  0.000000000 &  0.000000000 &  0.000028761 \\\\\n",
       "White      & \\swatch{FFFFFF} &  0.000146175 &  0.000000000 &  0.000000000 &  0.000147133 \\\\\n",
       "\\bottomrule\n",
       "\\end{tabular}\n",
       "\\end{table}"
      ]
     },
     "metadata": {},
     "output_type": "display_data"
    }
   ],
   "source": [
    "from IPython.display import display\n",
    "\n",
    "import pandas as pd\n",
    "\n",
    "from ex_color.vis import ColorTableLatexFormatter\n",
    "\n",
    "formatter = ColorTableLatexFormatter()\n",
    "# print(formatter.preamble)\n",
    "latex = formatter.to_str(\n",
    "    pd.DataFrame(\n",
    "        {\n",
    "            'color': df['name'].str.capitalize(),\n",
    "            'rgb': df['rgb'],\n",
    "            'baseline': df['no intervention'],\n",
    "            'suppression': df['suppression-delta'],\n",
    "            'repulsion': df['repulsion-delta'],\n",
    "            'ablation': df['ablation-delta'],\n",
    "        }\n",
    "    ),\n",
    "    caption='Reconstruction error by color and intervention method',\n",
    "    label='tab:error-per-color-soft',\n",
    ")\n",
    "display({'text/markdown': f'```latex\\n{latex}\\n```', 'text/plain': latex}, raw=True)"
   ]
  },
  {
   "cell_type": "markdown",
   "id": "115d466b",
   "metadata": {},
   "source": [
    "## Correlation: error vs. similarity to anchor per intervention"
   ]
  },
  {
   "cell_type": "code",
   "execution_count": 34,
   "id": "b54f9b1f",
   "metadata": {},
   "outputs": [
    {
     "name": "stdout",
     "output_type": "stream",
     "text": [
      "Suppression: r = 0.99, R²: 0.97, p = 0\n",
      "Repulsion: r = 0.96, R²: 0.92, p = 0\n",
      "Ablation: r = 0.67, R²: 0.45, p = 0\n"
     ]
    }
   ],
   "source": [
    "import skimage as ski\n",
    "from scipy.stats import pearsonr\n",
    "\n",
    "from ex_color.data import hsv_similarity\n",
    "\n",
    "\n",
    "def error_correlation(cube: ColorCube, anchor_hsv: tuple[float, float, float]) -> tuple[float, float]:\n",
    "    \"\"\"Compute correlation between similarity to anchor and reconstruction error.\"\"\"\n",
    "    # Use squared similarity to match the squared error term\n",
    "    cube = cube.assign(hsv=ski.color.rgb2hsv(cube['color']))\n",
    "    cube = cube.assign(red_similarity=hsv_similarity(cube['hsv'], np.array(anchor_hsv), hemi=True, mode='cosine') ** 2)\n",
    "    corr, p_value = pearsonr(cube['red_similarity'].flatten(), cube['MSE'].flatten())\n",
    "    return float(corr), float(p_value)\n",
    "\n",
    "\n",
    "corr, p_value = error_correlation(suppression_results.loss_cube, (0, 1, 1))\n",
    "print(f'Suppression: r = {corr:.2f}, R²: {corr**2:.2f}, p = {p_value:.3g}')\n",
    "corr, p_value = error_correlation(repulsion_results.loss_cube, (0, 1, 1))\n",
    "print(f'Repulsion: r = {corr:.2f}, R²: {corr**2:.2f}, p = {p_value:.3g}')\n",
    "corr, p_value = error_correlation(ablation_results.loss_cube, (0, 1, 1))\n",
    "print(f'Ablation: r = {corr:.2f}, R²: {corr**2:.2f}, p = {p_value:.3g}')"
   ]
  },
  {
   "cell_type": "code",
   "execution_count": 35,
   "id": "7014d941",
   "metadata": {},
   "outputs": [
    {
     "name": "stdout",
     "output_type": "stream",
     "text": [
      "Suppression\n"
     ]
    },
    {
     "data": {
      "text/html": [
       "<picture>\n",
       "  <source srcset=\"large-assets/ex-2.4.1-error-vs-similarity-suppression.dark.png?v=Ny3ehF3YIpBnOw1b-GY40bu5e9OaR3x-sFa4IxSYNYM\" media=\"(prefers-color-scheme: dark)\" />\n",
       "  <source srcset=\"large-assets/ex-2.4.1-error-vs-similarity-suppression.png?v=Ny3ehF3YIpBnOw1b-GY40bu5e9OaR3x-sFa4IxSYNYM\" media=\"(prefers-color-scheme: light)\" />\n",
       "  <img src=\"large-assets/ex-2.4.1-error-vs-similarity-suppression.png?v=Ny3ehF3YIpBnOw1b-GY40bu5e9OaR3x-sFa4IxSYNYM\" alt=\"Scatter plot showing reconstruction error versus similarity to red. Each point represents a color, with its position on the x-axis indicating how similar it is to pure red, and its position on the y-axis indicating the reconstruction error (mean squared error) for that color. The points are colored according to their actual color values.\" />\n",
       "</picture>"
      ],
      "text/plain": [
       "Scatter plot showing reconstruction error versus similarity to red. Each point represents a color, with its position on the x-axis indicating how similar it is to pure red, and its position on the y-axis indicating the reconstruction error (mean squared error) for that color. The points are colored according to their actual color values."
      ]
     },
     "metadata": {},
     "output_type": "display_data"
    },
    {
     "name": "stdout",
     "output_type": "stream",
     "text": [
      "Repulsion\n"
     ]
    },
    {
     "data": {
      "text/html": [
       "<picture>\n",
       "  <source srcset=\"large-assets/ex-2.4.1-error-vs-similarity-repulsion.dark.png?v=OhfUZ0w1DX-ulXk6ScfYI1fCzx2pDR_CsgdQHJw1ESI\" media=\"(prefers-color-scheme: dark)\" />\n",
       "  <source srcset=\"large-assets/ex-2.4.1-error-vs-similarity-repulsion.png?v=OhfUZ0w1DX-ulXk6ScfYI1fCzx2pDR_CsgdQHJw1ESI\" media=\"(prefers-color-scheme: light)\" />\n",
       "  <img src=\"large-assets/ex-2.4.1-error-vs-similarity-repulsion.png?v=OhfUZ0w1DX-ulXk6ScfYI1fCzx2pDR_CsgdQHJw1ESI\" alt=\"Scatter plot showing reconstruction error versus similarity to red. Each point represents a color, with its position on the x-axis indicating how similar it is to pure red, and its position on the y-axis indicating the reconstruction error (mean squared error) for that color. The points are colored according to their actual color values.\" />\n",
       "</picture>"
      ],
      "text/plain": [
       "Scatter plot showing reconstruction error versus similarity to red. Each point represents a color, with its position on the x-axis indicating how similar it is to pure red, and its position on the y-axis indicating the reconstruction error (mean squared error) for that color. The points are colored according to their actual color values."
      ]
     },
     "metadata": {},
     "output_type": "display_data"
    },
    {
     "name": "stdout",
     "output_type": "stream",
     "text": [
      "Ablation\n"
     ]
    },
    {
     "data": {
      "text/html": [
       "<picture>\n",
       "  <source srcset=\"large-assets/ex-2.4.1-error-vs-similarity-ablation.dark.png?v=MKAhGA0gQLSIUBCB7O98XKlBsVKeGemF9yOn_Oxh5Js\" media=\"(prefers-color-scheme: dark)\" />\n",
       "  <source srcset=\"large-assets/ex-2.4.1-error-vs-similarity-ablation.png?v=MKAhGA0gQLSIUBCB7O98XKlBsVKeGemF9yOn_Oxh5Js\" media=\"(prefers-color-scheme: light)\" />\n",
       "  <img src=\"large-assets/ex-2.4.1-error-vs-similarity-ablation.png?v=MKAhGA0gQLSIUBCB7O98XKlBsVKeGemF9yOn_Oxh5Js\" alt=\"Scatter plot showing reconstruction error versus similarity to red. Each point represents a color, with its position on the x-axis indicating how similar it is to pure red, and its position on the y-axis indicating the reconstruction error (mean squared error) for that color. The points are colored according to their actual color values.\" />\n",
       "</picture>"
      ],
      "text/plain": [
       "Scatter plot showing reconstruction error versus similarity to red. Each point represents a color, with its position on the x-axis indicating how similar it is to pure red, and its position on the y-axis indicating the reconstruction error (mean squared error) for that color. The points are colored according to their actual color values."
      ]
     },
     "metadata": {},
     "output_type": "display_data"
    }
   ],
   "source": [
    "print('Suppression')\n",
    "visualize_error_vs_similarity(\n",
    "    suppression_results.loss_cube.permute('vsh'),\n",
    "    (0, 1, 1),\n",
    "    tags=suppression_results.tags,\n",
    "    anchor_name='red',\n",
    ")\n",
    "\n",
    "print('Repulsion')\n",
    "visualize_error_vs_similarity(\n",
    "    repulsion_results.loss_cube.permute('vsh'),\n",
    "    (0, 1, 1),\n",
    "    tags=repulsion_results.tags,\n",
    "    anchor_name='red',\n",
    ")\n",
    "\n",
    "print('Ablation')\n",
    "visualize_error_vs_similarity(\n",
    "    ablation_results.loss_cube.permute('vsh'),\n",
    "    (0, 1, 1),\n",
    "    tags=ablation_results.tags,\n",
    "    anchor_name='red',\n",
    ")"
   ]
  }
 ],
 "metadata": {
  "kernelspec": {
   "display_name": "ex-color-transformer",
   "language": "python",
   "name": "python3"
  },
  "language_info": {
   "codemirror_mode": {
    "name": "ipython",
    "version": 3
   },
   "file_extension": ".py",
   "mimetype": "text/x-python",
   "name": "python",
   "nbconvert_exporter": "python",
   "pygments_lexer": "ipython3",
   "version": "3.13.5"
  }
 },
 "nbformat": 4,
 "nbformat_minor": 5
}
