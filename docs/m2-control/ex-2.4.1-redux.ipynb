{
 "cells": [
  {
   "cell_type": "markdown",
   "id": "191d5190",
   "metadata": {},
   "source": [
    "# Experiment 2.4.1: Soft intervention on red with color wheel\n",
    "\n",
    "This is a re-run of [Ex 2.4](./ex-2.4-post-norm-reg.ipynb) with more mature tooling. See the earlier notebook for discussion."
   ]
  },
  {
   "cell_type": "code",
   "execution_count": 1,
   "id": "db26371c",
   "metadata": {},
   "outputs": [],
   "source": [
    "from __future__ import annotations\n",
    "\n",
    "nbid = '2.4.1'  # ID for tagging assets\n",
    "nbname = 'Soft intervention on red with color wheel'\n",
    "experiment_name = f'Ex {nbid}: {nbname}'\n",
    "project = 'ex-preppy'"
   ]
  },
  {
   "cell_type": "code",
   "execution_count": 2,
   "id": "eaf0edd7",
   "metadata": {},
   "outputs": [],
   "source": [
    "# Basic setup: Logging, Experiment (Modal)\n",
    "import logging\n",
    "\n",
    "import modal\n",
    "\n",
    "from infra.requirements import uv_freeze, project_packages\n",
    "from utils.logging import SimpleLoggingConfig\n",
    "from ex_color.vis import NbViz\n",
    "\n",
    "logging_config = (\n",
    "    SimpleLoggingConfig()\n",
    "    .info('notebook', 'utils', 'mini', 'ex_color')\n",
    "    .error('matplotlib.axes')  # Silence warnings about set_aspect\n",
    ")\n",
    "logging_config.apply()\n",
    "\n",
    "# This is the logger for this notebook\n",
    "log = logging.getLogger(f'notebook.{nbid}')\n",
    "\n",
    "image = (\n",
    "    modal.Image.debian_slim()\n",
    "    .pip_install(*uv_freeze(all_groups=True, not_groups='dev'))\n",
    "    .add_local_python_source(*project_packages())\n",
    ")\n",
    "volume = modal.Volume.from_name(f'{project}-{nbid}', create_if_missing=True, version=2)\n",
    "app = modal.App(name=f'{project}-{nbid}', image=image, volumes={'/data': volume})\n",
    "\n",
    "viz = NbViz(nbid)"
   ]
  },
  {
   "cell_type": "markdown",
   "id": "89b2028d",
   "metadata": {},
   "source": [
    "## Model parameters\n",
    "\n",
    "Like Ex 2.4, we use the following regularizers:\n",
    "\n",
    "- **Anchor:** pins `red` to $(1,0,0,0)$ (4D)\n",
    "- **AxisAlignedSubspace:** attracts vibrant hues to dimensions $0,1$\n",
    "- **Separate:** angular repulsion to reduce global clumping (applied within each batch)"
   ]
  },
  {
   "cell_type": "code",
   "execution_count": 3,
   "id": "ac781a07",
   "metadata": {},
   "outputs": [],
   "source": [
    "import torch\n",
    "\n",
    "from ex_color.loss import AngularAnchor, AxisAlignedSubspace, Separate, RegularizerConfig\n",
    "\n",
    "K = 4  # bottleneck dimensionality\n",
    "N = 1  # number of nonlinear layers\n",
    "RED = (1, 0, 0, 0)\n",
    "assert len(RED) == K\n",
    "BATCH_SIZE = 64\n",
    "CUBE_SUBDIVISIONS = 8\n",
    "NUM_RUNS = 60  # to probe seed sensitivity\n",
    "RUN_SEEDS = [i for i in range(NUM_RUNS)]\n",
    "\n",
    "reg_separate = RegularizerConfig(\n",
    "    name='separate',\n",
    "    compute_loss_term=Separate(power=100.0, shift=True),\n",
    "    label_affinities=None,\n",
    "    layer_affinities=['bottleneck'],\n",
    ")\n",
    "reg_anchor = RegularizerConfig(\n",
    "    name='anchor',\n",
    "    compute_loss_term=AngularAnchor(torch.tensor(RED, dtype=torch.float32)),\n",
    "    label_affinities={'red': 1.0},\n",
    "    layer_affinities=['bottleneck'],\n",
    "    phase=('train', 'validate'),\n",
    ")\n",
    "reg_subspace = RegularizerConfig(\n",
    "    name='subspace',\n",
    "    compute_loss_term=AxisAlignedSubspace((0, 1)),\n",
    "    label_affinities={'vibrant': 1},\n",
    "    # label_affinities={'primary': 1},\n",
    "    layer_affinities=['bottleneck'],\n",
    "    phase=('train', 'validate'),\n",
    ")"
   ]
  },
  {
   "cell_type": "code",
   "execution_count": 56,
   "id": "f09f0f05",
   "metadata": {},
   "outputs": [
    {
     "data": {
      "text/markdown": [
       "## Parameter schedule \n",
       "|   STEP | PHASE   |   ACTION |      lr |   separate |   anchor |   subspace |\n",
       "|-------:|:--------|---------:|--------:|-----------:|---------:|-----------:|\n",
       "|      0 | Train   |          |   1e-08 |            |     0.01 |       0.01 |\n",
       "|     10 |         |          |   0.01  |            |          |            |\n",
       "|    375 |         |          |         |            |          |       0.1  |\n",
       "|    750 |         |          |   0.1   |       0.01 |     0.1  |            |\n",
       "|   1125 |         |          |         |            |          |       0.1  |\n",
       "|   1425 |         |          |   0.1   |       0    |     0    |       0    |\n",
       "|   1500 |         |          |   0.05  |            |          |            |"
      ],
      "text/plain": [
       "<IPython.core.display.Markdown object>"
      ]
     },
     "metadata": {},
     "output_type": "display_data"
    },
    {
     "data": {
      "text/html": [
       "<picture>\n",
       "  <source srcset=\"large-assets/ex-2.4.1-dopesheet.dark.png?v=OxyaqwA7InRNCsfIKGmUF3QBZlqN5QTlRMcNtZxvhSQ\" media=\"(prefers-color-scheme: dark)\" />\n",
       "  <source srcset=\"large-assets/ex-2.4.1-dopesheet.png?v=OxyaqwA7InRNCsfIKGmUF3QBZlqN5QTlRMcNtZxvhSQ\" media=\"(prefers-color-scheme: light)\" />\n",
       "  <img src=\"large-assets/ex-2.4.1-dopesheet.png?v=OxyaqwA7InRNCsfIKGmUF3QBZlqN5QTlRMcNtZxvhSQ\" alt=\"Plot showing the parameter schedule for the training run, titled &quot;&quot;. The plot has two sections: the upper section shows various regularization weights over time, and the lower section shows the learning rate over time. The x-axis represents training steps.\" />\n",
       "</picture>"
      ],
      "text/plain": [
       "Plot showing the parameter schedule for the training run, titled \"\". The plot has two sections: the upper section shows various regularization weights over time, and the lower section shows the learning rate over time. The x-axis represents training steps."
      ]
     },
     "metadata": {},
     "output_type": "display_data"
    }
   ],
   "source": [
    "from mini.temporal.dopesheet import Dopesheet\n",
    "\n",
    "dopesheet = Dopesheet.from_csv(f'./ex-{nbid}-dopesheet.csv')\n",
    "viz.tab_dopesheet(dopesheet)\n",
    "viz.plot_dopesheet(dopesheet)"
   ]
  },
  {
   "cell_type": "markdown",
   "id": "22376072",
   "metadata": {},
   "source": [
    "## Data\n",
    "\n",
    "Data is the same as last time: color cubes with values in RGB.\n"
   ]
  },
  {
   "cell_type": "code",
   "execution_count": 5,
   "id": "89508e77",
   "metadata": {},
   "outputs": [],
   "source": [
    "from torch.utils.data import DataLoader, RandomSampler\n",
    "\n",
    "from ex_color.data.cube_dataset import prep_color_dataset, redness, stochastic_labels, exact_labels, vibrancy\n",
    "\n",
    "\n",
    "def prep_train_data(training_subs: int, *, batch_size: int) -> DataLoader:\n",
    "    dataset = prep_color_dataset(\n",
    "        training_subs,\n",
    "        sample_at='cell-corners',\n",
    "        red=lambda c: redness(c) ** 8 * 0.08,\n",
    "        vibrant=lambda c: vibrancy(c) ** 10 * 0.01,\n",
    "    )\n",
    "    return DataLoader(\n",
    "        dataset,\n",
    "        batch_size=batch_size,\n",
    "        num_workers=4,\n",
    "        sampler=RandomSampler(dataset, num_samples=len(dataset), replacement=True),\n",
    "        collate_fn=stochastic_labels,\n",
    "    )\n",
    "\n",
    "\n",
    "def prep_val_data(training_subs: int, *, batch_size: int) -> DataLoader:\n",
    "    dataset = prep_color_dataset(\n",
    "        training_subs,\n",
    "        sample_at='cell-centers',\n",
    "        red=lambda c: redness(c) == 1,\n",
    "        # vibrant=lambda c: vibrancy(c) == 1,\n",
    "    )\n",
    "    return DataLoader(\n",
    "        dataset,\n",
    "        batch_size=batch_size,\n",
    "        num_workers=2,\n",
    "        # sampler=RandomSampler(dataset, num_samples=batch_size, replacement=True),\n",
    "        collate_fn=exact_labels,\n",
    "    )"
   ]
  },
  {
   "cell_type": "markdown",
   "id": "7fecb906",
   "metadata": {},
   "source": [
    "## Train"
   ]
  },
  {
   "cell_type": "code",
   "execution_count": null,
   "id": "73c22398",
   "metadata": {},
   "outputs": [],
   "source": [
    "from typing import Callable\n",
    "\n",
    "import torch\n",
    "import wandb\n",
    "\n",
    "from ex_color.model import CNColorMLP\n",
    "from ex_color.seed import set_deterministic_mode\n",
    "from ex_color.workflow import train_model\n",
    "from ex_color.evaluation import Result\n",
    "from utils.time import hour\n",
    "\n",
    "\n",
    "@app.function(\n",
    "    cpu=1,\n",
    "    max_containers=20,\n",
    "    timeout=1 * hour,\n",
    "    env={'WANDB_API_KEY': wandb.Api().api_key or ''},\n",
    ")\n",
    "async def train(\n",
    "    dopesheet: Dopesheet,\n",
    "    regularizers: list[RegularizerConfig],\n",
    "    *,\n",
    "    seed: int,\n",
    "    score_fn: Callable[[CNColorMLP], float],\n",
    "):\n",
    "    \"\"\"Train the model with the given dopesheet and variant.\"\"\"\n",
    "    logging_config.apply()\n",
    "\n",
    "    if seed is not None:\n",
    "        set_deterministic_mode(seed)\n",
    "\n",
    "    train_loader = prep_train_data(CUBE_SUBDIVISIONS, batch_size=BATCH_SIZE)\n",
    "    val_loader = prep_val_data(CUBE_SUBDIVISIONS, batch_size=BATCH_SIZE)\n",
    "    model = CNColorMLP(K, n_nonlinear=N)\n",
    "    res = train_model(\n",
    "        model,\n",
    "        dopesheet,\n",
    "        regularizers,\n",
    "        train_loader,\n",
    "        val_loader,\n",
    "        experiment_name=experiment_name,\n",
    "        project=project,\n",
    "        hparams={'seed': seed},\n",
    "    )\n",
    "\n",
    "    score = score_fn(res.model)\n",
    "    key = f'model-{res.id_}.pt'\n",
    "    torch.save(res.model.state_dict(), f'/data/{key}')\n",
    "    return Result(seed, key, res.url, res.summary, score)"
   ]
  },
  {
   "cell_type": "code",
   "execution_count": 7,
   "id": "89ec7e6a",
   "metadata": {},
   "outputs": [],
   "source": [
    "from math import cos, radians\n",
    "\n",
    "from ex_color.evaluation import EvaluationPlan, ScoreByHSVSimilarity\n",
    "from ex_color.intervention import InterventionConfig, Suppression, BoundedFalloff\n",
    "\n",
    "\n",
    "falloff = BoundedFalloff(\n",
    "    cos(radians(90)),  # cos(max_angle)\n",
    "    1,  # completely squash fully-aligned vectors\n",
    "    # 2,  # soft rim, sharp hub\n",
    "    0,\n",
    ")\n",
    "suppression = InterventionConfig(\n",
    "    apply=Suppression(torch.tensor(RED), falloff),\n",
    "    layer_affinities=['bottleneck'],\n",
    ")\n",
    "suppression_plan = EvaluationPlan(\n",
    "    {'suppression'},\n",
    "    lambda m: m,\n",
    "    [suppression],\n",
    ")\n",
    "\n",
    "score_fn = ScoreByHSVSimilarity(suppression_plan, (0.0, 1.0, 1.0), power=2.0, cube_subdivisions=CUBE_SUBDIVISIONS)"
   ]
  },
  {
   "cell_type": "code",
   "execution_count": 8,
   "id": "c6b26721",
   "metadata": {},
   "outputs": [],
   "source": [
    "import asyncio\n",
    "\n",
    "from IPython.display import display\n",
    "\n",
    "from mini.data import load_checkpoint_from_volume\n",
    "\n",
    "# Reload dopesheet: makes tweaking params during development easier\n",
    "dopesheet = Dopesheet.from_csv(f'./ex-{nbid}-dopesheet.csv')\n",
    "regularizers = [reg_separate, reg_anchor, reg_subspace]\n",
    "\n",
    "\n",
    "async def sweep():\n",
    "    logging_config.apply()\n",
    "    workers = [train.remote.aio(dopesheet, regularizers, seed=seed, score_fn=score_fn) for seed in RUN_SEEDS]\n",
    "    return await asyncio.gather(*workers)\n",
    "\n",
    "\n",
    "with app.run():\n",
    "    results = await sweep()"
   ]
  },
  {
   "cell_type": "code",
   "execution_count": 57,
   "id": "15d57770",
   "metadata": {},
   "outputs": [
    {
     "name": "stdout",
     "output_type": "stream",
     "text": [
      "I 3236.3 no.2.4.1:Summary statistics for all 60 runs:\n"
     ]
    },
    {
     "data": {
      "text/html": [
       "<style type=\"text/css\">\n",
       "</style>\n",
       "<table id=\"T_608c6\">\n",
       "  <thead>\n",
       "    <tr>\n",
       "      <th class=\"blank level0\" >&nbsp;</th>\n",
       "      <th id=\"T_608c6_level0_col0\" class=\"col_heading level0 col0\" >seed</th>\n",
       "      <th id=\"T_608c6_level0_col1\" class=\"col_heading level0 col1\" >score</th>\n",
       "      <th id=\"T_608c6_level0_col2\" class=\"col_heading level0 col2\" >_runtime</th>\n",
       "      <th id=\"T_608c6_level0_col3\" class=\"col_heading level0 col3\" >val_recon</th>\n",
       "      <th id=\"T_608c6_level0_col4\" class=\"col_heading level0 col4\" >labels/n/red</th>\n",
       "      <th id=\"T_608c6_level0_col5\" class=\"col_heading level0 col5\" >val_loss</th>\n",
       "      <th id=\"T_608c6_level0_col6\" class=\"col_heading level0 col6\" >val_anchor</th>\n",
       "      <th id=\"T_608c6_level0_col7\" class=\"col_heading level0 col7\" >labels/n_total</th>\n",
       "      <th id=\"T_608c6_level0_col8\" class=\"col_heading level0 col8\" >labels/n/_any</th>\n",
       "      <th id=\"T_608c6_level0_col9\" class=\"col_heading level0 col9\" >labels/n/vibrant</th>\n",
       "    </tr>\n",
       "  </thead>\n",
       "  <tbody>\n",
       "    <tr>\n",
       "      <th id=\"T_608c6_level0_row0\" class=\"row_heading level0 row0\" >min</th>\n",
       "      <td id=\"T_608c6_row0_col0\" class=\"data row0 col0\" >0.0000</td>\n",
       "      <td id=\"T_608c6_row0_col1\" class=\"data row0 col1\" >0.8821</td>\n",
       "      <td id=\"T_608c6_row0_col2\" class=\"data row0 col2\" >47.2148</td>\n",
       "      <td id=\"T_608c6_row0_col3\" class=\"data row0 col3\" >0.0000</td>\n",
       "      <td id=\"T_608c6_row0_col4\" class=\"data row0 col4\" >64.0000</td>\n",
       "      <td id=\"T_608c6_row0_col5\" class=\"data row0 col5\" >0.0000</td>\n",
       "      <td id=\"T_608c6_row0_col6\" class=\"data row0 col6\" >0.0005</td>\n",
       "      <td id=\"T_608c6_row0_col7\" class=\"data row0 col7\" >96064.0000</td>\n",
       "      <td id=\"T_608c6_row0_col8\" class=\"data row0 col8\" >160.0000</td>\n",
       "      <td id=\"T_608c6_row0_col9\" class=\"data row0 col9\" >85.0000</td>\n",
       "    </tr>\n",
       "    <tr>\n",
       "      <th id=\"T_608c6_level0_row1\" class=\"row_heading level0 row1\" >max</th>\n",
       "      <td id=\"T_608c6_row1_col0\" class=\"data row1 col0\" >59.0000</td>\n",
       "      <td id=\"T_608c6_row1_col1\" class=\"data row1 col1\" >0.9910</td>\n",
       "      <td id=\"T_608c6_row1_col2\" class=\"data row1 col2\" >295.5800</td>\n",
       "      <td id=\"T_608c6_row1_col3\" class=\"data row1 col3\" >0.0001</td>\n",
       "      <td id=\"T_608c6_row1_col4\" class=\"data row1 col4\" >104.0000</td>\n",
       "      <td id=\"T_608c6_row1_col5\" class=\"data row1 col5\" >0.0001</td>\n",
       "      <td id=\"T_608c6_row1_col6\" class=\"data row1 col6\" >0.0072</td>\n",
       "      <td id=\"T_608c6_row1_col7\" class=\"data row1 col7\" >96064.0000</td>\n",
       "      <td id=\"T_608c6_row1_col8\" class=\"data row1 col8\" >225.0000</td>\n",
       "      <td id=\"T_608c6_row1_col9\" class=\"data row1 col9\" >132.0000</td>\n",
       "    </tr>\n",
       "    <tr>\n",
       "      <th id=\"T_608c6_level0_row2\" class=\"row_heading level0 row2\" >mean</th>\n",
       "      <td id=\"T_608c6_row2_col0\" class=\"data row2 col0\" >29.5000</td>\n",
       "      <td id=\"T_608c6_row2_col1\" class=\"data row2 col1\" >0.9515</td>\n",
       "      <td id=\"T_608c6_row2_col2\" class=\"data row2 col2\" >91.3084</td>\n",
       "      <td id=\"T_608c6_row2_col3\" class=\"data row2 col3\" >0.0000</td>\n",
       "      <td id=\"T_608c6_row2_col4\" class=\"data row2 col4\" >82.2167</td>\n",
       "      <td id=\"T_608c6_row2_col5\" class=\"data row2 col5\" >0.0000</td>\n",
       "      <td id=\"T_608c6_row2_col6\" class=\"data row2 col6\" >0.0029</td>\n",
       "      <td id=\"T_608c6_row2_col7\" class=\"data row2 col7\" >96064.0000</td>\n",
       "      <td id=\"T_608c6_row2_col8\" class=\"data row2 col8\" >189.7167</td>\n",
       "      <td id=\"T_608c6_row2_col9\" class=\"data row2 col9\" >107.9500</td>\n",
       "    </tr>\n",
       "    <tr>\n",
       "      <th id=\"T_608c6_level0_row3\" class=\"row_heading level0 row3\" >std</th>\n",
       "      <td id=\"T_608c6_row3_col0\" class=\"data row3 col0\" >17.4642</td>\n",
       "      <td id=\"T_608c6_row3_col1\" class=\"data row3 col1\" >0.0236</td>\n",
       "      <td id=\"T_608c6_row3_col2\" class=\"data row3 col2\" >59.4868</td>\n",
       "      <td id=\"T_608c6_row3_col3\" class=\"data row3 col3\" >0.0000</td>\n",
       "      <td id=\"T_608c6_row3_col4\" class=\"data row3 col4\" >8.3951</td>\n",
       "      <td id=\"T_608c6_row3_col5\" class=\"data row3 col5\" >0.0000</td>\n",
       "      <td id=\"T_608c6_row3_col6\" class=\"data row3 col6\" >0.0015</td>\n",
       "      <td id=\"T_608c6_row3_col7\" class=\"data row3 col7\" >0.0000</td>\n",
       "      <td id=\"T_608c6_row3_col8\" class=\"data row3 col8\" >13.8834</td>\n",
       "      <td id=\"T_608c6_row3_col9\" class=\"data row3 col9\" >10.6460</td>\n",
       "    </tr>\n",
       "  </tbody>\n",
       "</table>\n"
      ],
      "text/plain": [
       "<pandas.io.formats.style.Styler at 0xffff31e96710>"
      ]
     },
     "metadata": {},
     "output_type": "display_data"
    },
    {
     "data": {
      "text/html": [
       "<picture>\n",
       "  <source srcset=\"large-assets/ex-2.4.1-boxplot-score.dark.png?v=J8wbxXLyzwY1tqrhP-_mDx9ovSgqLcG9GDTzzAQIkys\" media=\"(prefers-color-scheme: dark)\" />\n",
       "  <source srcset=\"large-assets/ex-2.4.1-boxplot-score.png?v=J8wbxXLyzwY1tqrhP-_mDx9ovSgqLcG9GDTzzAQIkys\" media=\"(prefers-color-scheme: light)\" />\n",
       "  <img src=\"large-assets/ex-2.4.1-boxplot-score.png?v=J8wbxXLyzwY1tqrhP-_mDx9ovSgqLcG9GDTzzAQIkys\" alt=\"Horizontal box plot showing the distribution of $R_\\text{sim}^2$.\" />\n",
       "</picture>"
      ],
      "text/plain": [
       "Horizontal box plot showing the distribution of $R_\\text{sim}^2$."
      ]
     },
     "metadata": {},
     "output_type": "display_data"
    },
    {
     "data": {
      "text/html": [
       "<picture>\n",
       "  <source srcset=\"large-assets/ex-2.4.1-boxplot-val-recon.dark.png?v=y9BuxkMuWFXu9Cwq1MsE6nSVEUpvRpzTcNfLhud77Mg\" media=\"(prefers-color-scheme: dark)\" />\n",
       "  <source srcset=\"large-assets/ex-2.4.1-boxplot-val-recon.png?v=y9BuxkMuWFXu9Cwq1MsE6nSVEUpvRpzTcNfLhud77Mg\" media=\"(prefers-color-scheme: light)\" />\n",
       "  <img src=\"large-assets/ex-2.4.1-boxplot-val-recon.png?v=y9BuxkMuWFXu9Cwq1MsE6nSVEUpvRpzTcNfLhud77Mg\" alt=\"Horizontal box plot showing the distribution of $\\mathcal{L}_\\text{task}$.\" />\n",
       "</picture>"
      ],
      "text/plain": [
       "Horizontal box plot showing the distribution of $\\mathcal{L}_\\text{task}$."
      ]
     },
     "metadata": {},
     "output_type": "display_data"
    },
    {
     "data": {
      "text/html": [
       "<picture>\n",
       "  <source srcset=\"large-assets/ex-2.4.1-boxplot-val-anchor.dark.png?v=rCTErrba4154q4CxxquBWHklCj3Oh-jeqk3oIN3B94c\" media=\"(prefers-color-scheme: dark)\" />\n",
       "  <source srcset=\"large-assets/ex-2.4.1-boxplot-val-anchor.png?v=rCTErrba4154q4CxxquBWHklCj3Oh-jeqk3oIN3B94c\" media=\"(prefers-color-scheme: light)\" />\n",
       "  <img src=\"large-assets/ex-2.4.1-boxplot-val-anchor.png?v=rCTErrba4154q4CxxquBWHklCj3Oh-jeqk3oIN3B94c\" alt=\"Horizontal box plot showing the distribution of $\\mathcal{L}_\\text{red}$.\" />\n",
       "</picture>"
      ],
      "text/plain": [
       "Horizontal box plot showing the distribution of $\\mathcal{L}_\\text{red}$."
      ]
     },
     "metadata": {},
     "output_type": "display_data"
    }
   ],
   "source": [
    "from IPython.display import display\n",
    "from ex_color.evaluation import pareto_front, results_to_dataframe\n",
    "\n",
    "runs_df = results_to_dataframe(results)\n",
    "# Show min, max, mean, stddev of each column\n",
    "log.info(f'Summary statistics for all {len(runs_df)} runs:')\n",
    "display(runs_df.describe().loc[['min', 'max', 'mean', 'std']].style.format(precision=4))\n",
    "\n",
    "viz.plot_boxplot(runs_df['score'], figsize=(4, 1), ylabel=r'$R_\\text{sim}^2$', xlim=(None, 0.999), tags=('score',))\n",
    "viz.plot_boxplot(\n",
    "    runs_df['val_recon'], figsize=(4, 1), ylabel=r'$\\mathcal{L}_\\text{task}$', xlim=(0, None), tags=('val_recon',)\n",
    ")\n",
    "viz.plot_boxplot(\n",
    "    runs_df['val_anchor'], figsize=(4, 1), ylabel=r'$\\mathcal{L}_\\text{red}$', xlim=(0, None), tags=('val_anchor',)\n",
    ")"
   ]
  },
  {
   "cell_type": "markdown",
   "id": "f1a75a99",
   "metadata": {},
   "source": [
    "Select the best runs from the Pareto front of non-dominated runs, optimizing for both validation loss and score."
   ]
  },
  {
   "cell_type": "code",
   "execution_count": 58,
   "id": "d71ab63b",
   "metadata": {},
   "outputs": [
    {
     "name": "stdout",
     "output_type": "stream",
     "text": [
      "I 3243.6 no.2.4.1:Best of 4 non-dominated runs (Pareto front):\n"
     ]
    },
    {
     "data": {
      "text/html": [
       "<style type=\"text/css\">\n",
       "</style>\n",
       "<table id=\"T_7f57c\">\n",
       "  <thead>\n",
       "    <tr>\n",
       "      <th class=\"blank level0\" >&nbsp;</th>\n",
       "      <th id=\"T_7f57c_level0_col0\" class=\"col_heading level0 col0\" >seed</th>\n",
       "      <th id=\"T_7f57c_level0_col1\" class=\"col_heading level0 col1\" >wandb url</th>\n",
       "      <th id=\"T_7f57c_level0_col2\" class=\"col_heading level0 col2\" >score</th>\n",
       "      <th id=\"T_7f57c_level0_col3\" class=\"col_heading level0 col3\" >_runtime</th>\n",
       "      <th id=\"T_7f57c_level0_col4\" class=\"col_heading level0 col4\" >val_recon</th>\n",
       "      <th id=\"T_7f57c_level0_col5\" class=\"col_heading level0 col5\" >labels/n/red</th>\n",
       "      <th id=\"T_7f57c_level0_col6\" class=\"col_heading level0 col6\" >val_loss</th>\n",
       "      <th id=\"T_7f57c_level0_col7\" class=\"col_heading level0 col7\" >val_anchor</th>\n",
       "      <th id=\"T_7f57c_level0_col8\" class=\"col_heading level0 col8\" >labels/n_total</th>\n",
       "      <th id=\"T_7f57c_level0_col9\" class=\"col_heading level0 col9\" >labels/n/_any</th>\n",
       "      <th id=\"T_7f57c_level0_col10\" class=\"col_heading level0 col10\" >labels/n/vibrant</th>\n",
       "    </tr>\n",
       "  </thead>\n",
       "  <tbody>\n",
       "    <tr>\n",
       "      <th id=\"T_7f57c_level0_row0\" class=\"row_heading level0 row0\" >7</th>\n",
       "      <td id=\"T_7f57c_row0_col0\" class=\"data row0 col0\" >7</td>\n",
       "      <td id=\"T_7f57c_row0_col1\" class=\"data row0 col1\" ><a href=\"https://wandb.ai/z0r/ex-preppy/runs/vf3kg1sj\" target=\"_blank\">https://wandb.ai/z0r/ex-preppy/runs/vf3kg1sj</a></td>\n",
       "      <td id=\"T_7f57c_row0_col2\" class=\"data row0 col2\" >0.9910</td>\n",
       "      <td id=\"T_7f57c_row0_col3\" class=\"data row0 col3\" >117.7342</td>\n",
       "      <td id=\"T_7f57c_row0_col4\" class=\"data row0 col4\" >0.0000</td>\n",
       "      <td id=\"T_7f57c_row0_col5\" class=\"data row0 col5\" >73</td>\n",
       "      <td id=\"T_7f57c_row0_col6\" class=\"data row0 col6\" >0.0000</td>\n",
       "      <td id=\"T_7f57c_row0_col7\" class=\"data row0 col7\" >0.0006</td>\n",
       "      <td id=\"T_7f57c_row0_col8\" class=\"data row0 col8\" >96064</td>\n",
       "      <td id=\"T_7f57c_row0_col9\" class=\"data row0 col9\" >173</td>\n",
       "      <td id=\"T_7f57c_row0_col10\" class=\"data row0 col10\" >100</td>\n",
       "    </tr>\n",
       "    <tr>\n",
       "      <th id=\"T_7f57c_level0_row1\" class=\"row_heading level0 row1\" >40</th>\n",
       "      <td id=\"T_7f57c_row1_col0\" class=\"data row1 col0\" >40</td>\n",
       "      <td id=\"T_7f57c_row1_col1\" class=\"data row1 col1\" ><a href=\"https://wandb.ai/z0r/ex-preppy/runs/w7p0ddp4\" target=\"_blank\">https://wandb.ai/z0r/ex-preppy/runs/w7p0ddp4</a></td>\n",
       "      <td id=\"T_7f57c_row1_col2\" class=\"data row1 col2\" >0.9848</td>\n",
       "      <td id=\"T_7f57c_row1_col3\" class=\"data row1 col3\" >112.8913</td>\n",
       "      <td id=\"T_7f57c_row1_col4\" class=\"data row1 col4\" >0.0000</td>\n",
       "      <td id=\"T_7f57c_row1_col5\" class=\"data row1 col5\" >75</td>\n",
       "      <td id=\"T_7f57c_row1_col6\" class=\"data row1 col6\" >0.0000</td>\n",
       "      <td id=\"T_7f57c_row1_col7\" class=\"data row1 col7\" >0.0020</td>\n",
       "      <td id=\"T_7f57c_row1_col8\" class=\"data row1 col8\" >96064</td>\n",
       "      <td id=\"T_7f57c_row1_col9\" class=\"data row1 col9\" >182</td>\n",
       "      <td id=\"T_7f57c_row1_col10\" class=\"data row1 col10\" >107</td>\n",
       "    </tr>\n",
       "    <tr>\n",
       "      <th id=\"T_7f57c_level0_row2\" class=\"row_heading level0 row2\" >39</th>\n",
       "      <td id=\"T_7f57c_row2_col0\" class=\"data row2 col0\" >39</td>\n",
       "      <td id=\"T_7f57c_row2_col1\" class=\"data row2 col1\" ><a href=\"https://wandb.ai/z0r/ex-preppy/runs/pm88dcvt\" target=\"_blank\">https://wandb.ai/z0r/ex-preppy/runs/pm88dcvt</a></td>\n",
       "      <td id=\"T_7f57c_row2_col2\" class=\"data row2 col2\" >0.9780</td>\n",
       "      <td id=\"T_7f57c_row2_col3\" class=\"data row2 col3\" >115.8973</td>\n",
       "      <td id=\"T_7f57c_row2_col4\" class=\"data row2 col4\" >0.0000</td>\n",
       "      <td id=\"T_7f57c_row2_col5\" class=\"data row2 col5\" >81</td>\n",
       "      <td id=\"T_7f57c_row2_col6\" class=\"data row2 col6\" >0.0000</td>\n",
       "      <td id=\"T_7f57c_row2_col7\" class=\"data row2 col7\" >0.0005</td>\n",
       "      <td id=\"T_7f57c_row2_col8\" class=\"data row2 col8\" >96064</td>\n",
       "      <td id=\"T_7f57c_row2_col9\" class=\"data row2 col9\" >182</td>\n",
       "      <td id=\"T_7f57c_row2_col10\" class=\"data row2 col10\" >101</td>\n",
       "    </tr>\n",
       "    <tr>\n",
       "      <th id=\"T_7f57c_level0_row3\" class=\"row_heading level0 row3\" >30</th>\n",
       "      <td id=\"T_7f57c_row3_col0\" class=\"data row3 col0\" >30</td>\n",
       "      <td id=\"T_7f57c_row3_col1\" class=\"data row3 col1\" ><a href=\"https://wandb.ai/z0r/ex-preppy/runs/w5mowzc1\" target=\"_blank\">https://wandb.ai/z0r/ex-preppy/runs/w5mowzc1</a></td>\n",
       "      <td id=\"T_7f57c_row3_col2\" class=\"data row3 col2\" >0.9531</td>\n",
       "      <td id=\"T_7f57c_row3_col3\" class=\"data row3 col3\" >48.6483</td>\n",
       "      <td id=\"T_7f57c_row3_col4\" class=\"data row3 col4\" >0.0000</td>\n",
       "      <td id=\"T_7f57c_row3_col5\" class=\"data row3 col5\" >89</td>\n",
       "      <td id=\"T_7f57c_row3_col6\" class=\"data row3 col6\" >0.0000</td>\n",
       "      <td id=\"T_7f57c_row3_col7\" class=\"data row3 col7\" >0.0034</td>\n",
       "      <td id=\"T_7f57c_row3_col8\" class=\"data row3 col8\" >96064</td>\n",
       "      <td id=\"T_7f57c_row3_col9\" class=\"data row3 col9\" >188</td>\n",
       "      <td id=\"T_7f57c_row3_col10\" class=\"data row3 col10\" >99</td>\n",
       "    </tr>\n",
       "  </tbody>\n",
       "</table>\n"
      ],
      "text/plain": [
       "<pandas.io.formats.style.Styler at 0xffff1cccf250>"
      ]
     },
     "metadata": {},
     "output_type": "display_data"
    }
   ],
   "source": [
    "non_dominated = pareto_front(runs_df, minimize=['val_recon', 'val_anchor'], maximize=['score'])\n",
    "log.info(f'Best of {len(non_dominated)} non-dominated runs (Pareto front):')\n",
    "display(non_dominated.sort_values(by='score', ascending=False).head(5).style.format(precision=4, hyperlinks='html'))"
   ]
  },
  {
   "cell_type": "code",
   "execution_count": 59,
   "id": "20f4bd05",
   "metadata": {},
   "outputs": [
    {
     "name": "stdout",
     "output_type": "stream",
     "text": [
      "I 3243.7 no.2.4.1:Loading checkpoint of best run: seed=7, score=0.9910 @ https://wandb.ai/z0r/ex-preppy/runs/vf3kg1sj\n"
     ]
    }
   ],
   "source": [
    "from typing import cast\n",
    "\n",
    "best_run = results[cast(int, non_dominated['score'].idxmax())]\n",
    "log.info(f'Loading checkpoint of best run: seed={best_run.seed}, score={best_run.score:.4f} @ {best_run.url}')\n",
    "model = CNColorMLP(K, n_nonlinear=N)\n",
    "model = load_checkpoint_from_volume(model, volume, best_run.checkpoint_key)"
   ]
  },
  {
   "cell_type": "markdown",
   "id": "2c7974df",
   "metadata": {},
   "source": [
    "## Results"
   ]
  },
  {
   "cell_type": "code",
   "execution_count": 60,
   "id": "41643004",
   "metadata": {},
   "outputs": [],
   "source": [
    "# # Generate a list of dimensions to visualize\n",
    "# from itertools import combinations\n",
    "# [\n",
    "#     (\n",
    "#         b,\n",
    "#         a,\n",
    "#         (a + 1) % K if (a + 1) % K not in (a, b) else (a + 2) % K,\n",
    "#     )\n",
    "#     for a, b in combinations(tuple(range(K)), 2)\n",
    "# ]"
   ]
  },
  {
   "cell_type": "code",
   "execution_count": 61,
   "id": "aca51608",
   "metadata": {},
   "outputs": [],
   "source": [
    "from ex_color.evaluation import TestSet\n",
    "\n",
    "test_set = TestSet.create()"
   ]
  },
  {
   "cell_type": "code",
   "execution_count": 62,
   "id": "482e58c1",
   "metadata": {},
   "outputs": [
    {
     "data": {
      "text/html": [
       "<picture>\n",
       "  <source srcset=\"large-assets/ex-2.4.1-pred-colors-baseline.dark.png?v=3TKksyiaajNamzesMLWGAzrNe3TX0yDnjfNfBg-7e6E\" media=\"(prefers-color-scheme: dark)\" />\n",
       "  <source srcset=\"large-assets/ex-2.4.1-pred-colors-baseline.png?v=3TKksyiaajNamzesMLWGAzrNe3TX0yDnjfNfBg-7e6E\" media=\"(prefers-color-scheme: light)\" />\n",
       "  <img src=\"large-assets/ex-2.4.1-pred-colors-baseline.png?v=3TKksyiaajNamzesMLWGAzrNe3TX0yDnjfNfBg-7e6E\" alt=\"Plot showing four slices of the HSV cube, titled &quot;Predicted colors · baseline · V vs H by S&quot;. Nominally, each slice has constant saturation, but varies in value (brightness) from top to bottom, and in hue from left to right. Each color value is represented as a square patch of that color. The outer portion of the patches shows the color as reconstructed by the model; the inner portion shows the true (input) color.\" />\n",
       "</picture>"
      ],
      "text/plain": [
       "Plot showing four slices of the HSV cube, titled \"Predicted colors · baseline · V vs H by S\". Nominally, each slice has constant saturation, but varies in value (brightness) from top to bottom, and in hue from left to right. Each color value is represented as a square patch of that color. The outer portion of the patches shows the color as reconstructed by the model; the inner portion shows the true (input) color."
      ]
     },
     "metadata": {},
     "output_type": "display_data"
    }
   ],
   "source": [
    "from IPython.display import clear_output\n",
    "\n",
    "baseline_results = test_set.evaluate(model, [], tags={'baseline'})\n",
    "clear_output()\n",
    "\n",
    "viz.plot_cube(baseline_results)\n",
    "# viz.plot_recon_loss(baseline_results)\n",
    "# viz.plot_latent_space(\n",
    "#     baseline_results,\n",
    "#     dims=[(1, 0, 2), (2, 0, 1), (3, 0, 1), (2, 1, 3), (3, 1, 2), (3, 2, 0)],\n",
    "# )"
   ]
  },
  {
   "cell_type": "markdown",
   "id": "d8b4f1dc",
   "metadata": {},
   "source": [
    "### Suppression"
   ]
  },
  {
   "cell_type": "code",
   "execution_count": 63,
   "id": "a02428ab",
   "metadata": {},
   "outputs": [
    {
     "data": {
      "text/html": [
       "<picture>\n",
       "  <source srcset=\"large-assets/ex-2.4.1-pred-colors-suppression.dark.png?v=vubiJPv8_U-gDkZQt_IWvH_pL_LqqelyAp33slFnAGY\" media=\"(prefers-color-scheme: dark)\" />\n",
       "  <source srcset=\"large-assets/ex-2.4.1-pred-colors-suppression.png?v=vubiJPv8_U-gDkZQt_IWvH_pL_LqqelyAp33slFnAGY\" media=\"(prefers-color-scheme: light)\" />\n",
       "  <img src=\"large-assets/ex-2.4.1-pred-colors-suppression.png?v=vubiJPv8_U-gDkZQt_IWvH_pL_LqqelyAp33slFnAGY\" alt=\"Plot showing four slices of the HSV cube, titled &quot;Predicted colors · suppression · V vs H by S&quot;. Nominally, each slice has constant saturation, but varies in value (brightness) from top to bottom, and in hue from left to right. Each color value is represented as a square patch of that color. The outer portion of the patches shows the color as reconstructed by the model; the inner portion shows the true (input) color.\" />\n",
       "</picture>"
      ],
      "text/plain": [
       "Plot showing four slices of the HSV cube, titled \"Predicted colors · suppression · V vs H by S\". Nominally, each slice has constant saturation, but varies in value (brightness) from top to bottom, and in hue from left to right. Each color value is represented as a square patch of that color. The outer portion of the patches shows the color as reconstructed by the model; the inner portion shows the true (input) color."
      ]
     },
     "metadata": {},
     "output_type": "display_data"
    }
   ],
   "source": [
    "from math import cos, radians\n",
    "from IPython.display import clear_output\n",
    "\n",
    "from ex_color.intervention import Suppression, BoundedFalloff\n",
    "\n",
    "\n",
    "falloff = BoundedFalloff(\n",
    "    cos(radians(90)),  # cos(max_angle)\n",
    "    1,  # completely squash fully-aligned vectors\n",
    "    # 2,  # soft rim, sharp hub\n",
    "    0,\n",
    ")\n",
    "suppression = InterventionConfig(\n",
    "    apply=Suppression(torch.tensor(RED), falloff),\n",
    "    layer_affinities=['bottleneck'],\n",
    ")\n",
    "suppression_results = test_set.evaluate(model, [suppression], tags={'suppression'})\n",
    "clear_output()\n",
    "\n",
    "viz.plot_cube(suppression_results)\n",
    "# viz.plot_recon_loss(suppression_results)\n",
    "# viz.plot_latent_space(\n",
    "#     suppression_results,\n",
    "#     dims=[(1, 0, 2), (2, 0, 1), (3, 0, 1), (2, 1, 3), (3, 1, 2), (3, 2, 0)],\n",
    "# )"
   ]
  },
  {
   "cell_type": "markdown",
   "id": "c6061e48",
   "metadata": {},
   "source": [
    "### Repulsion"
   ]
  },
  {
   "cell_type": "code",
   "execution_count": 64,
   "id": "187c5a73",
   "metadata": {},
   "outputs": [
    {
     "data": {
      "text/html": [
       "<picture>\n",
       "  <source srcset=\"large-assets/ex-2.4.1-pred-colors-repulsion.dark.png?v=EGRDLNVxQsig4px644Qw4rmyf6d_yndw_AAItznmF_8\" media=\"(prefers-color-scheme: dark)\" />\n",
       "  <source srcset=\"large-assets/ex-2.4.1-pred-colors-repulsion.png?v=EGRDLNVxQsig4px644Qw4rmyf6d_yndw_AAItznmF_8\" media=\"(prefers-color-scheme: light)\" />\n",
       "  <img src=\"large-assets/ex-2.4.1-pred-colors-repulsion.png?v=EGRDLNVxQsig4px644Qw4rmyf6d_yndw_AAItznmF_8\" alt=\"Plot showing four slices of the HSV cube, titled &quot;Predicted colors · repulsion · V vs H by S&quot;. Nominally, each slice has constant saturation, but varies in value (brightness) from top to bottom, and in hue from left to right. Each color value is represented as a square patch of that color. The outer portion of the patches shows the color as reconstructed by the model; the inner portion shows the true (input) color.\" />\n",
       "</picture>"
      ],
      "text/plain": [
       "Plot showing four slices of the HSV cube, titled \"Predicted colors · repulsion · V vs H by S\". Nominally, each slice has constant saturation, but varies in value (brightness) from top to bottom, and in hue from left to right. Each color value is represented as a square patch of that color. The outer portion of the patches shows the color as reconstructed by the model; the inner portion shows the true (input) color."
      ]
     },
     "metadata": {},
     "output_type": "display_data"
    }
   ],
   "source": [
    "from math import cos, radians\n",
    "from IPython.display import clear_output\n",
    "\n",
    "from ex_color.intervention import Repulsion, LinearMapper\n",
    "\n",
    "# mapper = FastBezierMapper(\n",
    "#     cos(radians(90)),\n",
    "#     cos(radians(60)),\n",
    "# )\n",
    "mapper = LinearMapper(\n",
    "    cos(radians(90)),\n",
    "    cos(radians(89)),\n",
    ")\n",
    "repulsion = InterventionConfig(\n",
    "    Repulsion(torch.tensor(RED), mapper),\n",
    "    layer_affinities=['bottleneck'],\n",
    ")\n",
    "repulsion_results = test_set.evaluate(model, [repulsion], tags={'repulsion'})\n",
    "clear_output()\n",
    "\n",
    "viz.plot_cube(repulsion_results)\n",
    "# viz.plot_recon_loss(repulsion_results)\n",
    "# viz.plot_latent_space(\n",
    "#     repulsion_results,\n",
    "#     dims=[(1, 0, 2), (2, 0, 1), (3, 0, 1), (2, 1, 3), (3, 1, 2), (3, 2, 0)],\n",
    "# )"
   ]
  },
  {
   "cell_type": "markdown",
   "id": "dd48d17b",
   "metadata": {},
   "source": [
    "### Ablation"
   ]
  },
  {
   "cell_type": "code",
   "execution_count": 65,
   "id": "3b6f69d7",
   "metadata": {},
   "outputs": [
    {
     "data": {
      "text/html": [
       "<picture>\n",
       "  <source srcset=\"large-assets/ex-2.4.1-pred-colors-ablated.dark.png?v=Ajr_Q3wAWN-KQBni3fPaS2h9_s7UMmBQWsQMSSU0XPs\" media=\"(prefers-color-scheme: dark)\" />\n",
       "  <source srcset=\"large-assets/ex-2.4.1-pred-colors-ablated.png?v=Ajr_Q3wAWN-KQBni3fPaS2h9_s7UMmBQWsQMSSU0XPs\" media=\"(prefers-color-scheme: light)\" />\n",
       "  <img src=\"large-assets/ex-2.4.1-pred-colors-ablated.png?v=Ajr_Q3wAWN-KQBni3fPaS2h9_s7UMmBQWsQMSSU0XPs\" alt=\"Plot showing four slices of the HSV cube, titled &quot;Predicted colors · ablated · V vs H by S&quot;. Nominally, each slice has constant saturation, but varies in value (brightness) from top to bottom, and in hue from left to right. Each color value is represented as a square patch of that color. The outer portion of the patches shows the color as reconstructed by the model; the inner portion shows the true (input) color.\" />\n",
       "</picture>"
      ],
      "text/plain": [
       "Plot showing four slices of the HSV cube, titled \"Predicted colors · ablated · V vs H by S\". Nominally, each slice has constant saturation, but varies in value (brightness) from top to bottom, and in hue from left to right. Each color value is represented as a square patch of that color. The outer portion of the patches shows the color as reconstructed by the model; the inner portion shows the true (input) color."
      ]
     },
     "metadata": {},
     "output_type": "display_data"
    }
   ],
   "source": [
    "from ex_color.surgery import ablate\n",
    "\n",
    "ablated_model = ablate(model, 'bottleneck', [0])\n",
    "ablation_results = test_set.evaluate(ablated_model, [], tags={'ablated'})\n",
    "clear_output()\n",
    "\n",
    "viz.plot_cube(ablation_results)\n",
    "# viz.plot_recon_loss(ablation_results)\n",
    "# viz.plot_latent_space(\n",
    "#     ablation_results.latent_cube,\n",
    "#     tags=ablation_results.tags,\n",
    "#     dims=[(1, 0, 2), (2, 0, 1), (3, 0, 1), (2, 1, 3), (3, 1, 2), (3, 2, 0)],\n",
    "# )"
   ]
  },
  {
   "cell_type": "markdown",
   "id": "725e87ae",
   "metadata": {},
   "source": [
    "## Results"
   ]
  },
  {
   "cell_type": "code",
   "execution_count": 66,
   "id": "cd20e021",
   "metadata": {},
   "outputs": [
    {
     "name": "stdout",
     "output_type": "stream",
     "text": [
      "Baseline\n"
     ]
    },
    {
     "data": {
      "text/html": [
       "<picture>\n",
       "  <source srcset=\"large-assets/ex-2.4.1-results-baseline.dark.png?v=SunKavBXrU7O8aC0vzr207aD7yNtjWWt9pWE5WzqZuw\" media=\"(prefers-color-scheme: dark)\" />\n",
       "  <source srcset=\"large-assets/ex-2.4.1-results-baseline.png?v=SunKavBXrU7O8aC0vzr207aD7yNtjWWt9pWE5WzqZuw\" media=\"(prefers-color-scheme: light)\" />\n",
       "  <img src=\"large-assets/ex-2.4.1-results-baseline.png?v=SunKavBXrU7O8aC0vzr207aD7yNtjWWt9pWE5WzqZuw\" alt=\"Composite figure with two latent panels (top), a color slice (middle), and a loss chart (bottom).\" />\n",
       "</picture>"
      ],
      "text/plain": [
       "Composite figure with two latent panels (top), a color slice (middle), and a loss chart (bottom)."
      ]
     },
     "metadata": {},
     "output_type": "display_data"
    },
    {
     "name": "stdout",
     "output_type": "stream",
     "text": [
      "Suppression\n"
     ]
    },
    {
     "data": {
      "text/html": [
       "<picture>\n",
       "  <source srcset=\"large-assets/ex-2.4.1-results-suppression.dark.png?v=WPL7Rr0_8rve8b2wNq_k90iSV-gRPUgIhGnQJ3q4DSU\" media=\"(prefers-color-scheme: dark)\" />\n",
       "  <source srcset=\"large-assets/ex-2.4.1-results-suppression.png?v=WPL7Rr0_8rve8b2wNq_k90iSV-gRPUgIhGnQJ3q4DSU\" media=\"(prefers-color-scheme: light)\" />\n",
       "  <img src=\"large-assets/ex-2.4.1-results-suppression.png?v=WPL7Rr0_8rve8b2wNq_k90iSV-gRPUgIhGnQJ3q4DSU\" alt=\"Composite figure with two latent panels (top), a color slice (middle), and a loss chart (bottom).\" />\n",
       "</picture>"
      ],
      "text/plain": [
       "Composite figure with two latent panels (top), a color slice (middle), and a loss chart (bottom)."
      ]
     },
     "metadata": {},
     "output_type": "display_data"
    },
    {
     "name": "stdout",
     "output_type": "stream",
     "text": [
      "Repulsion\n"
     ]
    },
    {
     "data": {
      "text/html": [
       "<picture>\n",
       "  <source srcset=\"large-assets/ex-2.4.1-results-repulsion.dark.png?v=FlKE2V9UiCnTR9V-uP1R5xHeZTpOFQAIkNAEC3GeRBA\" media=\"(prefers-color-scheme: dark)\" />\n",
       "  <source srcset=\"large-assets/ex-2.4.1-results-repulsion.png?v=FlKE2V9UiCnTR9V-uP1R5xHeZTpOFQAIkNAEC3GeRBA\" media=\"(prefers-color-scheme: light)\" />\n",
       "  <img src=\"large-assets/ex-2.4.1-results-repulsion.png?v=FlKE2V9UiCnTR9V-uP1R5xHeZTpOFQAIkNAEC3GeRBA\" alt=\"Composite figure with two latent panels (top), a color slice (middle), and a loss chart (bottom).\" />\n",
       "</picture>"
      ],
      "text/plain": [
       "Composite figure with two latent panels (top), a color slice (middle), and a loss chart (bottom)."
      ]
     },
     "metadata": {},
     "output_type": "display_data"
    },
    {
     "name": "stdout",
     "output_type": "stream",
     "text": [
      "Ablation\n"
     ]
    },
    {
     "data": {
      "text/html": [
       "<picture>\n",
       "  <source srcset=\"large-assets/ex-2.4.1-results-ablated.dark.png?v=ta4bMaE3sY5JBjcwkwf6KnTLhJ2eIYO4udguOHC682E\" media=\"(prefers-color-scheme: dark)\" />\n",
       "  <source srcset=\"large-assets/ex-2.4.1-results-ablated.png?v=ta4bMaE3sY5JBjcwkwf6KnTLhJ2eIYO4udguOHC682E\" media=\"(prefers-color-scheme: light)\" />\n",
       "  <img src=\"large-assets/ex-2.4.1-results-ablated.png?v=ta4bMaE3sY5JBjcwkwf6KnTLhJ2eIYO4udguOHC682E\" alt=\"Composite figure with two latent panels (top), a color slice (middle), and a loss chart (bottom).\" />\n",
       "</picture>"
      ],
      "text/plain": [
       "Composite figure with two latent panels (top), a color slice (middle), and a loss chart (bottom)."
      ]
     },
     "metadata": {},
     "output_type": "display_data"
    }
   ],
   "source": [
    "import numpy as np\n",
    "from ex_color.vis.helpers import ThemedAnnotation\n",
    "\n",
    "\n",
    "max_error = np.max(\n",
    "    [\n",
    "        baseline_results.loss_cube['MSE'],\n",
    "        suppression_results.loss_cube['MSE'],\n",
    "        repulsion_results.loss_cube['MSE'],\n",
    "    ]\n",
    ")\n",
    "\n",
    "print('Baseline')\n",
    "viz.plot_stacked_results(\n",
    "    baseline_results,\n",
    "    latent_dims=((1, 0, 2), (1, 3, 0)),\n",
    "    max_error=max_error,\n",
    ")\n",
    "\n",
    "print('Suppression')\n",
    "viz.plot_stacked_results(\n",
    "    suppression_results,\n",
    "    latent_dims=((1, 0, 2), (1, 3, 0)),\n",
    "    max_error=max_error,\n",
    "    latent_annotations=[\n",
    "        ThemedAnnotation(direction=RED, angle=2 * (np.pi / 2 - falloff.a), dashed=True),\n",
    "    ],\n",
    ")\n",
    "\n",
    "print('Repulsion')\n",
    "viz.plot_stacked_results(\n",
    "    repulsion_results,\n",
    "    latent_dims=((1, 0, 2), (1, 3, 0)),\n",
    "    max_error=max_error,\n",
    "    latent_annotations=[\n",
    "        ThemedAnnotation(direction=RED, angle=2 * (np.pi / 2 - mapper.a), dashed=True),\n",
    "        ThemedAnnotation(direction=RED, angle=2 * (np.pi / 2 - mapper.b), dashed=False),\n",
    "    ],\n",
    ")\n",
    "\n",
    "print('Ablation')\n",
    "viz.plot_stacked_results(\n",
    "    ablation_results,\n",
    "    latent_dims=((1, 0, 2), (1, 3, 0)),\n",
    "    max_error=max_error,\n",
    ")"
   ]
  },
  {
   "cell_type": "code",
   "execution_count": 67,
   "id": "66d1ae0b",
   "metadata": {},
   "outputs": [
    {
     "data": {
      "text/html": [
       "<style type=\"text/css\">\n",
       "</style>\n",
       "<table id=\"T_2da4b\">\n",
       "  <thead>\n",
       "    <tr>\n",
       "      <th id=\"T_2da4b_level0_col0\" class=\"col_heading level0 col0\" >Name</th>\n",
       "      <th id=\"T_2da4b_level0_col1\" class=\"col_heading level0 col1\" >RGB</th>\n",
       "      <th id=\"T_2da4b_level0_col3\" class=\"col_heading level0 col3\" >Baseline</th>\n",
       "      <th id=\"T_2da4b_level0_col4\" class=\"col_heading level0 col4\" >Suppression</th>\n",
       "      <th id=\"T_2da4b_level0_col5\" class=\"col_heading level0 col5\" >Δ Sup</th>\n",
       "      <th id=\"T_2da4b_level0_col6\" class=\"col_heading level0 col6\" >Repulsion</th>\n",
       "      <th id=\"T_2da4b_level0_col7\" class=\"col_heading level0 col7\" >Δ Rep</th>\n",
       "      <th id=\"T_2da4b_level0_col8\" class=\"col_heading level0 col8\" >Ablated</th>\n",
       "      <th id=\"T_2da4b_level0_col9\" class=\"col_heading level0 col9\" >Δ Abl</th>\n",
       "    </tr>\n",
       "  </thead>\n",
       "  <tbody>\n",
       "    <tr>\n",
       "      <td id=\"T_2da4b_row0_col0\" class=\"data row0 col0\" >red</td>\n",
       "      <td id=\"T_2da4b_row0_col1\" class=\"data row0 col1\" ><div style=\"background-color: #ff0000; width: 1em; height: 1em; display: inline-block; border: 1px solid #8888;\"></div></td>\n",
       "      <td id=\"T_2da4b_row0_col3\" class=\"data row0 col3\" >0.001</td>\n",
       "      <td id=\"T_2da4b_row0_col4\" class=\"data row0 col4\" >0.284</td>\n",
       "      <td id=\"T_2da4b_row0_col5\" class=\"data row0 col5\" >+0.284</td>\n",
       "      <td id=\"T_2da4b_row0_col6\" class=\"data row0 col6\" >0.333</td>\n",
       "      <td id=\"T_2da4b_row0_col7\" class=\"data row0 col7\" >+0.333</td>\n",
       "      <td id=\"T_2da4b_row0_col8\" class=\"data row0 col8\" >0.333</td>\n",
       "      <td id=\"T_2da4b_row0_col9\" class=\"data row0 col9\" >+0.333</td>\n",
       "    </tr>\n",
       "    <tr>\n",
       "      <td id=\"T_2da4b_row1_col0\" class=\"data row1 col0\" >orange</td>\n",
       "      <td id=\"T_2da4b_row1_col1\" class=\"data row1 col1\" ><div style=\"background-color: #ff7f00; width: 1em; height: 1em; display: inline-block; border: 1px solid #8888;\"></div></td>\n",
       "      <td id=\"T_2da4b_row1_col3\" class=\"data row1 col3\" >0.000</td>\n",
       "      <td id=\"T_2da4b_row1_col4\" class=\"data row1 col4\" >0.154</td>\n",
       "      <td id=\"T_2da4b_row1_col5\" class=\"data row1 col5\" >+0.154</td>\n",
       "      <td id=\"T_2da4b_row1_col6\" class=\"data row1 col6\" >0.135</td>\n",
       "      <td id=\"T_2da4b_row1_col7\" class=\"data row1 col7\" >+0.135</td>\n",
       "      <td id=\"T_2da4b_row1_col8\" class=\"data row1 col8\" >0.138</td>\n",
       "      <td id=\"T_2da4b_row1_col9\" class=\"data row1 col9\" >+0.137</td>\n",
       "    </tr>\n",
       "    <tr>\n",
       "      <td id=\"T_2da4b_row2_col0\" class=\"data row2 col0\" >yellow</td>\n",
       "      <td id=\"T_2da4b_row2_col1\" class=\"data row2 col1\" ><div style=\"background-color: #ffff00; width: 1em; height: 1em; display: inline-block; border: 1px solid #8888;\"></div></td>\n",
       "      <td id=\"T_2da4b_row2_col3\" class=\"data row2 col3\" >0.000</td>\n",
       "      <td id=\"T_2da4b_row2_col4\" class=\"data row2 col4\" >0.046</td>\n",
       "      <td id=\"T_2da4b_row2_col5\" class=\"data row2 col5\" >+0.046</td>\n",
       "      <td id=\"T_2da4b_row2_col6\" class=\"data row2 col6\" >0.030</td>\n",
       "      <td id=\"T_2da4b_row2_col7\" class=\"data row2 col7\" >+0.030</td>\n",
       "      <td id=\"T_2da4b_row2_col8\" class=\"data row2 col8\" >0.031</td>\n",
       "      <td id=\"T_2da4b_row2_col9\" class=\"data row2 col9\" >+0.031</td>\n",
       "    </tr>\n",
       "    <tr>\n",
       "      <td id=\"T_2da4b_row3_col0\" class=\"data row3 col0\" >lime</td>\n",
       "      <td id=\"T_2da4b_row3_col1\" class=\"data row3 col1\" ><div style=\"background-color: #7fff00; width: 1em; height: 1em; display: inline-block; border: 1px solid #8888;\"></div></td>\n",
       "      <td id=\"T_2da4b_row3_col3\" class=\"data row3 col3\" >0.000</td>\n",
       "      <td id=\"T_2da4b_row3_col4\" class=\"data row3 col4\" >0.000</td>\n",
       "      <td id=\"T_2da4b_row3_col5\" class=\"data row3 col5\" >+0.000</td>\n",
       "      <td id=\"T_2da4b_row3_col6\" class=\"data row3 col6\" >0.000</td>\n",
       "      <td id=\"T_2da4b_row3_col7\" class=\"data row3 col7\" >+0.000</td>\n",
       "      <td id=\"T_2da4b_row3_col8\" class=\"data row3 col8\" >0.000</td>\n",
       "      <td id=\"T_2da4b_row3_col9\" class=\"data row3 col9\" >+0.000</td>\n",
       "    </tr>\n",
       "    <tr>\n",
       "      <td id=\"T_2da4b_row4_col0\" class=\"data row4 col0\" >green</td>\n",
       "      <td id=\"T_2da4b_row4_col1\" class=\"data row4 col1\" ><div style=\"background-color: #00ff00; width: 1em; height: 1em; display: inline-block; border: 1px solid #8888;\"></div></td>\n",
       "      <td id=\"T_2da4b_row4_col3\" class=\"data row4 col3\" >0.000</td>\n",
       "      <td id=\"T_2da4b_row4_col4\" class=\"data row4 col4\" >0.000</td>\n",
       "      <td id=\"T_2da4b_row4_col5\" class=\"data row4 col5\" >+0.000</td>\n",
       "      <td id=\"T_2da4b_row4_col6\" class=\"data row4 col6\" >0.000</td>\n",
       "      <td id=\"T_2da4b_row4_col7\" class=\"data row4 col7\" >+0.000</td>\n",
       "      <td id=\"T_2da4b_row4_col8\" class=\"data row4 col8\" >0.035</td>\n",
       "      <td id=\"T_2da4b_row4_col9\" class=\"data row4 col9\" >+0.035</td>\n",
       "    </tr>\n",
       "    <tr>\n",
       "      <td id=\"T_2da4b_row5_col0\" class=\"data row5 col0\" >teal</td>\n",
       "      <td id=\"T_2da4b_row5_col1\" class=\"data row5 col1\" ><div style=\"background-color: #00ff7f; width: 1em; height: 1em; display: inline-block; border: 1px solid #8888;\"></div></td>\n",
       "      <td id=\"T_2da4b_row5_col3\" class=\"data row5 col3\" >0.000</td>\n",
       "      <td id=\"T_2da4b_row5_col4\" class=\"data row5 col4\" >0.000</td>\n",
       "      <td id=\"T_2da4b_row5_col5\" class=\"data row5 col5\" >+0.000</td>\n",
       "      <td id=\"T_2da4b_row5_col6\" class=\"data row5 col6\" >0.000</td>\n",
       "      <td id=\"T_2da4b_row5_col7\" class=\"data row5 col7\" >+0.000</td>\n",
       "      <td id=\"T_2da4b_row5_col8\" class=\"data row5 col8\" >0.140</td>\n",
       "      <td id=\"T_2da4b_row5_col9\" class=\"data row5 col9\" >+0.140</td>\n",
       "    </tr>\n",
       "    <tr>\n",
       "      <td id=\"T_2da4b_row6_col0\" class=\"data row6 col0\" >cyan</td>\n",
       "      <td id=\"T_2da4b_row6_col1\" class=\"data row6 col1\" ><div style=\"background-color: #00ffff; width: 1em; height: 1em; display: inline-block; border: 1px solid #8888;\"></div></td>\n",
       "      <td id=\"T_2da4b_row6_col3\" class=\"data row6 col3\" >0.001</td>\n",
       "      <td id=\"T_2da4b_row6_col4\" class=\"data row6 col4\" >0.001</td>\n",
       "      <td id=\"T_2da4b_row6_col5\" class=\"data row6 col5\" >+0.000</td>\n",
       "      <td id=\"T_2da4b_row6_col6\" class=\"data row6 col6\" >0.001</td>\n",
       "      <td id=\"T_2da4b_row6_col7\" class=\"data row6 col7\" >+0.000</td>\n",
       "      <td id=\"T_2da4b_row6_col8\" class=\"data row6 col8\" >0.342</td>\n",
       "      <td id=\"T_2da4b_row6_col9\" class=\"data row6 col9\" >+0.341</td>\n",
       "    </tr>\n",
       "    <tr>\n",
       "      <td id=\"T_2da4b_row7_col0\" class=\"data row7 col0\" >azure</td>\n",
       "      <td id=\"T_2da4b_row7_col1\" class=\"data row7 col1\" ><div style=\"background-color: #007fff; width: 1em; height: 1em; display: inline-block; border: 1px solid #8888;\"></div></td>\n",
       "      <td id=\"T_2da4b_row7_col3\" class=\"data row7 col3\" >0.000</td>\n",
       "      <td id=\"T_2da4b_row7_col4\" class=\"data row7 col4\" >0.000</td>\n",
       "      <td id=\"T_2da4b_row7_col5\" class=\"data row7 col5\" >+0.000</td>\n",
       "      <td id=\"T_2da4b_row7_col6\" class=\"data row7 col6\" >0.000</td>\n",
       "      <td id=\"T_2da4b_row7_col7\" class=\"data row7 col7\" >+0.000</td>\n",
       "      <td id=\"T_2da4b_row7_col8\" class=\"data row7 col8\" >0.153</td>\n",
       "      <td id=\"T_2da4b_row7_col9\" class=\"data row7 col9\" >+0.153</td>\n",
       "    </tr>\n",
       "    <tr>\n",
       "      <td id=\"T_2da4b_row8_col0\" class=\"data row8 col0\" >blue</td>\n",
       "      <td id=\"T_2da4b_row8_col1\" class=\"data row8 col1\" ><div style=\"background-color: #0000ff; width: 1em; height: 1em; display: inline-block; border: 1px solid #8888;\"></div></td>\n",
       "      <td id=\"T_2da4b_row8_col3\" class=\"data row8 col3\" >0.000</td>\n",
       "      <td id=\"T_2da4b_row8_col4\" class=\"data row8 col4\" >0.000</td>\n",
       "      <td id=\"T_2da4b_row8_col5\" class=\"data row8 col5\" >+0.000</td>\n",
       "      <td id=\"T_2da4b_row8_col6\" class=\"data row8 col6\" >0.000</td>\n",
       "      <td id=\"T_2da4b_row8_col7\" class=\"data row8 col7\" >+0.000</td>\n",
       "      <td id=\"T_2da4b_row8_col8\" class=\"data row8 col8\" >0.034</td>\n",
       "      <td id=\"T_2da4b_row8_col9\" class=\"data row8 col9\" >+0.034</td>\n",
       "    </tr>\n",
       "    <tr>\n",
       "      <td id=\"T_2da4b_row9_col0\" class=\"data row9 col0\" >purple</td>\n",
       "      <td id=\"T_2da4b_row9_col1\" class=\"data row9 col1\" ><div style=\"background-color: #7f00ff; width: 1em; height: 1em; display: inline-block; border: 1px solid #8888;\"></div></td>\n",
       "      <td id=\"T_2da4b_row9_col3\" class=\"data row9 col3\" >0.000</td>\n",
       "      <td id=\"T_2da4b_row9_col4\" class=\"data row9 col4\" >0.000</td>\n",
       "      <td id=\"T_2da4b_row9_col5\" class=\"data row9 col5\" >+0.000</td>\n",
       "      <td id=\"T_2da4b_row9_col6\" class=\"data row9 col6\" >0.000</td>\n",
       "      <td id=\"T_2da4b_row9_col7\" class=\"data row9 col7\" >+0.000</td>\n",
       "      <td id=\"T_2da4b_row9_col8\" class=\"data row9 col8\" >0.000</td>\n",
       "      <td id=\"T_2da4b_row9_col9\" class=\"data row9 col9\" >+0.000</td>\n",
       "    </tr>\n",
       "    <tr>\n",
       "      <td id=\"T_2da4b_row10_col0\" class=\"data row10 col0\" >magenta</td>\n",
       "      <td id=\"T_2da4b_row10_col1\" class=\"data row10 col1\" ><div style=\"background-color: #ff00ff; width: 1em; height: 1em; display: inline-block; border: 1px solid #8888;\"></div></td>\n",
       "      <td id=\"T_2da4b_row10_col3\" class=\"data row10 col3\" >0.000</td>\n",
       "      <td id=\"T_2da4b_row10_col4\" class=\"data row10 col4\" >0.049</td>\n",
       "      <td id=\"T_2da4b_row10_col5\" class=\"data row10 col5\" >+0.048</td>\n",
       "      <td id=\"T_2da4b_row10_col6\" class=\"data row10 col6\" >0.033</td>\n",
       "      <td id=\"T_2da4b_row10_col7\" class=\"data row10 col7\" >+0.033</td>\n",
       "      <td id=\"T_2da4b_row10_col8\" class=\"data row10 col8\" >0.035</td>\n",
       "      <td id=\"T_2da4b_row10_col9\" class=\"data row10 col9\" >+0.034</td>\n",
       "    </tr>\n",
       "    <tr>\n",
       "      <td id=\"T_2da4b_row11_col0\" class=\"data row11 col0\" >pink</td>\n",
       "      <td id=\"T_2da4b_row11_col1\" class=\"data row11 col1\" ><div style=\"background-color: #ff007f; width: 1em; height: 1em; display: inline-block; border: 1px solid #8888;\"></div></td>\n",
       "      <td id=\"T_2da4b_row11_col3\" class=\"data row11 col3\" >0.000</td>\n",
       "      <td id=\"T_2da4b_row11_col4\" class=\"data row11 col4\" >0.158</td>\n",
       "      <td id=\"T_2da4b_row11_col5\" class=\"data row11 col5\" >+0.158</td>\n",
       "      <td id=\"T_2da4b_row11_col6\" class=\"data row11 col6\" >0.144</td>\n",
       "      <td id=\"T_2da4b_row11_col7\" class=\"data row11 col7\" >+0.144</td>\n",
       "      <td id=\"T_2da4b_row11_col8\" class=\"data row11 col8\" >0.148</td>\n",
       "      <td id=\"T_2da4b_row11_col9\" class=\"data row11 col9\" >+0.148</td>\n",
       "    </tr>\n",
       "    <tr>\n",
       "      <td id=\"T_2da4b_row12_col0\" class=\"data row12 col0\" >black</td>\n",
       "      <td id=\"T_2da4b_row12_col1\" class=\"data row12 col1\" ><div style=\"background-color: #000000; width: 1em; height: 1em; display: inline-block; border: 1px solid #8888;\"></div></td>\n",
       "      <td id=\"T_2da4b_row12_col3\" class=\"data row12 col3\" >0.000</td>\n",
       "      <td id=\"T_2da4b_row12_col4\" class=\"data row12 col4\" >0.000</td>\n",
       "      <td id=\"T_2da4b_row12_col5\" class=\"data row12 col5\" >+0.000</td>\n",
       "      <td id=\"T_2da4b_row12_col6\" class=\"data row12 col6\" >0.000</td>\n",
       "      <td id=\"T_2da4b_row12_col7\" class=\"data row12 col7\" >+0.000</td>\n",
       "      <td id=\"T_2da4b_row12_col8\" class=\"data row12 col8\" >0.000</td>\n",
       "      <td id=\"T_2da4b_row12_col9\" class=\"data row12 col9\" >+0.000</td>\n",
       "    </tr>\n",
       "    <tr>\n",
       "      <td id=\"T_2da4b_row13_col0\" class=\"data row13 col0\" >dark gray</td>\n",
       "      <td id=\"T_2da4b_row13_col1\" class=\"data row13 col1\" ><div style=\"background-color: #3f3f3f; width: 1em; height: 1em; display: inline-block; border: 1px solid #8888;\"></div></td>\n",
       "      <td id=\"T_2da4b_row13_col3\" class=\"data row13 col3\" >0.000</td>\n",
       "      <td id=\"T_2da4b_row13_col4\" class=\"data row13 col4\" >0.000</td>\n",
       "      <td id=\"T_2da4b_row13_col5\" class=\"data row13 col5\" >+0.000</td>\n",
       "      <td id=\"T_2da4b_row13_col6\" class=\"data row13 col6\" >0.000</td>\n",
       "      <td id=\"T_2da4b_row13_col7\" class=\"data row13 col7\" >+0.000</td>\n",
       "      <td id=\"T_2da4b_row13_col8\" class=\"data row13 col8\" >0.000</td>\n",
       "      <td id=\"T_2da4b_row13_col9\" class=\"data row13 col9\" >+0.000</td>\n",
       "    </tr>\n",
       "    <tr>\n",
       "      <td id=\"T_2da4b_row14_col0\" class=\"data row14 col0\" >gray</td>\n",
       "      <td id=\"T_2da4b_row14_col1\" class=\"data row14 col1\" ><div style=\"background-color: #7f7f7f; width: 1em; height: 1em; display: inline-block; border: 1px solid #8888;\"></div></td>\n",
       "      <td id=\"T_2da4b_row14_col3\" class=\"data row14 col3\" >0.000</td>\n",
       "      <td id=\"T_2da4b_row14_col4\" class=\"data row14 col4\" >0.000</td>\n",
       "      <td id=\"T_2da4b_row14_col5\" class=\"data row14 col5\" >-0.000</td>\n",
       "      <td id=\"T_2da4b_row14_col6\" class=\"data row14 col6\" >0.000</td>\n",
       "      <td id=\"T_2da4b_row14_col7\" class=\"data row14 col7\" >-0.000</td>\n",
       "      <td id=\"T_2da4b_row14_col8\" class=\"data row14 col8\" >0.000</td>\n",
       "      <td id=\"T_2da4b_row14_col9\" class=\"data row14 col9\" >-0.000</td>\n",
       "    </tr>\n",
       "    <tr>\n",
       "      <td id=\"T_2da4b_row15_col0\" class=\"data row15 col0\" >light gray</td>\n",
       "      <td id=\"T_2da4b_row15_col1\" class=\"data row15 col1\" ><div style=\"background-color: #bfbfbf; width: 1em; height: 1em; display: inline-block; border: 1px solid #8888;\"></div></td>\n",
       "      <td id=\"T_2da4b_row15_col3\" class=\"data row15 col3\" >0.000</td>\n",
       "      <td id=\"T_2da4b_row15_col4\" class=\"data row15 col4\" >0.000</td>\n",
       "      <td id=\"T_2da4b_row15_col5\" class=\"data row15 col5\" >-0.000</td>\n",
       "      <td id=\"T_2da4b_row15_col6\" class=\"data row15 col6\" >0.000</td>\n",
       "      <td id=\"T_2da4b_row15_col7\" class=\"data row15 col7\" >-0.000</td>\n",
       "      <td id=\"T_2da4b_row15_col8\" class=\"data row15 col8\" >0.000</td>\n",
       "      <td id=\"T_2da4b_row15_col9\" class=\"data row15 col9\" >-0.000</td>\n",
       "    </tr>\n",
       "    <tr>\n",
       "      <td id=\"T_2da4b_row16_col0\" class=\"data row16 col0\" >white</td>\n",
       "      <td id=\"T_2da4b_row16_col1\" class=\"data row16 col1\" ><div style=\"background-color: #ffffff; width: 1em; height: 1em; display: inline-block; border: 1px solid #8888;\"></div></td>\n",
       "      <td id=\"T_2da4b_row16_col3\" class=\"data row16 col3\" >0.000</td>\n",
       "      <td id=\"T_2da4b_row16_col4\" class=\"data row16 col4\" >0.000</td>\n",
       "      <td id=\"T_2da4b_row16_col5\" class=\"data row16 col5\" >-0.000</td>\n",
       "      <td id=\"T_2da4b_row16_col6\" class=\"data row16 col6\" >0.000</td>\n",
       "      <td id=\"T_2da4b_row16_col7\" class=\"data row16 col7\" >-0.000</td>\n",
       "      <td id=\"T_2da4b_row16_col8\" class=\"data row16 col8\" >0.000</td>\n",
       "      <td id=\"T_2da4b_row16_col9\" class=\"data row16 col9\" >-0.000</td>\n",
       "    </tr>\n",
       "  </tbody>\n",
       "</table>\n"
      ],
      "text/plain": [
       "<pandas.io.formats.style.Styler at 0xffff1ce7c190>"
      ]
     },
     "metadata": {},
     "output_type": "display_data"
    },
    {
     "data": {
      "text/markdown": [
       "```latex\n",
       "\\begin{table}\n",
       "\\centering\n",
       "\\label{tab:placeholder}\n",
       "\\caption{Reconstruction error by color and intervention method}\n",
       "\\sisetup{\n",
       "    round-mode = places,\n",
       "    round-precision = 3,\n",
       "    table-auto-round = true,\n",
       "    % drop-zero-decimal = true,\n",
       "}\n",
       "\\begin{tabular}{l c g g g g}\n",
       "\\toprule\n",
       "\\multicolumn{2}{c}{{Color}} & \\multicolumn{1}{c}{{Baseline}} & \\multicolumn{1}{c}{{Suppression}} & \\multicolumn{1}{c}{{Repulsion}} & \\multicolumn{1}{c}{{Ab}} \\\\\n",
       "\\midrule\n",
       "Red        & \\swatch{FF0000} &  0.000646441 &  0.283565402 &  0.332686901 &  0.332686901 \\\\\n",
       "Orange     & \\swatch{FF7F00} &  0.000063273 &  0.153662667 &  0.135243282 &  0.137482330 \\\\\n",
       "Yellow     & \\swatch{FFFF00} &  0.000411471 &  0.045807652 &  0.029817866 &  0.030973202 \\\\\n",
       "Lime       & \\swatch{7FFF00} &  0.000108202 &  0.000000000 &  0.000000000 &  0.000005553 \\\\\n",
       "Green      & \\swatch{00FF00} &  0.000220426 &  0.000000000 &  0.000000000 &  0.034675885 \\\\\n",
       "Teal       & \\swatch{00FF7F} &  0.000000987 &  0.000000000 &  0.000000000 &  0.140236422 \\\\\n",
       "Cyan       & \\swatch{00FFFF} &  0.001272679 &  0.000000000 &  0.000000000 &  0.341102839 \\\\\n",
       "Azure      & \\swatch{007FFF} &  0.000013033 &  0.000000000 &  0.000000000 &  0.152602226 \\\\\n",
       "Blue       & \\swatch{0000FF} &  0.000310250 &  0.000000000 &  0.000000000 &  0.034143779 \\\\\n",
       "Purple     & \\swatch{7F00FF} &  0.000052661 &  0.000000000 &  0.000000000 &  0.000002188 \\\\\n",
       "Magenta    & \\swatch{FF00FF} &  0.000248737 &  0.048393659 &  0.033117589 &  0.034419138 \\\\\n",
       "Pink       & \\swatch{FF007F} &  0.000200588 &  0.157892689 &  0.143878400 &  0.148011118 \\\\\n",
       "Black      & \\swatch{000000} &  0.000000000 &  0.000009886 &  0.000006749 &  0.000007795 \\\\\n",
       "Dark gray  & \\swatch{3F3F3F} &  0.000121935 &  0.000156103 &  0.000148772 &  0.000153551 \\\\\n",
       "Gray       & \\swatch{7F7F7F} &  0.000064246 & -0.000056821 & -0.000056655 & -0.000056814 \\\\\n",
       "Light gray & \\swatch{BFBFBF} &  0.000018871 & -0.000007298 & -0.000007729 & -0.000007257 \\\\\n",
       "White      & \\swatch{FFFFFF} &  0.000108906 & -0.000092649 & -0.000093249 & -0.000093859 \\\\\n",
       "\\bottomrule\n",
       "\\end{tabular}\n",
       "\\end{table}\n",
       "```"
      ],
      "text/plain": [
       "\\begin{table}\n",
       "\\centering\n",
       "\\label{tab:placeholder}\n",
       "\\caption{Reconstruction error by color and intervention method}\n",
       "\\sisetup{\n",
       "    round-mode = places,\n",
       "    round-precision = 3,\n",
       "    table-auto-round = true,\n",
       "    % drop-zero-decimal = true,\n",
       "}\n",
       "\\begin{tabular}{l c g g g g}\n",
       "\\toprule\n",
       "\\multicolumn{2}{c}{{Color}} & \\multicolumn{1}{c}{{Baseline}} & \\multicolumn{1}{c}{{Suppression}} & \\multicolumn{1}{c}{{Repulsion}} & \\multicolumn{1}{c}{{Ab}} \\\\\n",
       "\\midrule\n",
       "Red        & \\swatch{FF0000} &  0.000646441 &  0.283565402 &  0.332686901 &  0.332686901 \\\\\n",
       "Orange     & \\swatch{FF7F00} &  0.000063273 &  0.153662667 &  0.135243282 &  0.137482330 \\\\\n",
       "Yellow     & \\swatch{FFFF00} &  0.000411471 &  0.045807652 &  0.029817866 &  0.030973202 \\\\\n",
       "Lime       & \\swatch{7FFF00} &  0.000108202 &  0.000000000 &  0.000000000 &  0.000005553 \\\\\n",
       "Green      & \\swatch{00FF00} &  0.000220426 &  0.000000000 &  0.000000000 &  0.034675885 \\\\\n",
       "Teal       & \\swatch{00FF7F} &  0.000000987 &  0.000000000 &  0.000000000 &  0.140236422 \\\\\n",
       "Cyan       & \\swatch{00FFFF} &  0.001272679 &  0.000000000 &  0.000000000 &  0.341102839 \\\\\n",
       "Azure      & \\swatch{007FFF} &  0.000013033 &  0.000000000 &  0.000000000 &  0.152602226 \\\\\n",
       "Blue       & \\swatch{0000FF} &  0.000310250 &  0.000000000 &  0.000000000 &  0.034143779 \\\\\n",
       "Purple     & \\swatch{7F00FF} &  0.000052661 &  0.000000000 &  0.000000000 &  0.000002188 \\\\\n",
       "Magenta    & \\swatch{FF00FF} &  0.000248737 &  0.048393659 &  0.033117589 &  0.034419138 \\\\\n",
       "Pink       & \\swatch{FF007F} &  0.000200588 &  0.157892689 &  0.143878400 &  0.148011118 \\\\\n",
       "Black      & \\swatch{000000} &  0.000000000 &  0.000009886 &  0.000006749 &  0.000007795 \\\\\n",
       "Dark gray  & \\swatch{3F3F3F} &  0.000121935 &  0.000156103 &  0.000148772 &  0.000153551 \\\\\n",
       "Gray       & \\swatch{7F7F7F} &  0.000064246 & -0.000056821 & -0.000056655 & -0.000056814 \\\\\n",
       "Light gray & \\swatch{BFBFBF} &  0.000018871 & -0.000007298 & -0.000007729 & -0.000007257 \\\\\n",
       "White      & \\swatch{FFFFFF} &  0.000108906 & -0.000092649 & -0.000093249 & -0.000093859 \\\\\n",
       "\\bottomrule\n",
       "\\end{tabular}\n",
       "\\end{table}"
      ]
     },
     "metadata": {},
     "output_type": "display_data"
    }
   ],
   "source": [
    "viz.tab_error_vs_color(baseline_results, suppression_results, repulsion_results, ablation_results)\n",
    "viz.tab_error_vs_color_latex(baseline_results, suppression_results, repulsion_results, ablation_results)"
   ]
  },
  {
   "cell_type": "code",
   "execution_count": 68,
   "id": "7014d941",
   "metadata": {},
   "outputs": [
    {
     "data": {
      "text/html": [
       "<picture>\n",
       "  <source srcset=\"large-assets/ex-2.4.1-error-vs-similarity-suppression.dark.png?v=BBN_H4ssSOFPbLYJ9Ppg4PIm-3rvfSidLQOZ-qK2H50\" media=\"(prefers-color-scheme: dark)\" />\n",
       "  <source srcset=\"large-assets/ex-2.4.1-error-vs-similarity-suppression.png?v=BBN_H4ssSOFPbLYJ9Ppg4PIm-3rvfSidLQOZ-qK2H50\" media=\"(prefers-color-scheme: light)\" />\n",
       "  <img src=\"large-assets/ex-2.4.1-error-vs-similarity-suppression.png?v=BBN_H4ssSOFPbLYJ9Ppg4PIm-3rvfSidLQOZ-qK2H50\" alt=\"Scatter plot showing reconstruction error versus similarity to red. Each point represents a color, with its position on the x-axis indicating how similar it is to pure red, and its position on the y-axis indicating the reconstruction error (mean squared error) for that color. The points are colored according to their actual color values.\" />\n",
       "</picture>"
      ],
      "text/plain": [
       "Scatter plot showing reconstruction error versus similarity to red. Each point represents a color, with its position on the x-axis indicating how similar it is to pure red, and its position on the y-axis indicating the reconstruction error (mean squared error) for that color. The points are colored according to their actual color values."
      ]
     },
     "metadata": {},
     "output_type": "display_data"
    },
    {
     "name": "stdout",
     "output_type": "stream",
     "text": [
      "MSE,sim² suppression: r = 1.00, R²: 0.99, p = 0\n"
     ]
    },
    {
     "data": {
      "text/html": [
       "<picture>\n",
       "  <source srcset=\"large-assets/ex-2.4.1-error-vs-similarity-repulsion.dark.png?v=Z_B3FvMTsYE5U8W16rFmCghcaVDeY1Sm8cY8XajrsUc\" media=\"(prefers-color-scheme: dark)\" />\n",
       "  <source srcset=\"large-assets/ex-2.4.1-error-vs-similarity-repulsion.png?v=Z_B3FvMTsYE5U8W16rFmCghcaVDeY1Sm8cY8XajrsUc\" media=\"(prefers-color-scheme: light)\" />\n",
       "  <img src=\"large-assets/ex-2.4.1-error-vs-similarity-repulsion.png?v=Z_B3FvMTsYE5U8W16rFmCghcaVDeY1Sm8cY8XajrsUc\" alt=\"Scatter plot showing reconstruction error versus similarity to red. Each point represents a color, with its position on the x-axis indicating how similar it is to pure red, and its position on the y-axis indicating the reconstruction error (mean squared error) for that color. The points are colored according to their actual color values.\" />\n",
       "</picture>"
      ],
      "text/plain": [
       "Scatter plot showing reconstruction error versus similarity to red. Each point represents a color, with its position on the x-axis indicating how similar it is to pure red, and its position on the y-axis indicating the reconstruction error (mean squared error) for that color. The points are colored according to their actual color values."
      ]
     },
     "metadata": {},
     "output_type": "display_data"
    },
    {
     "name": "stdout",
     "output_type": "stream",
     "text": [
      "MSE,sim² repulsion: r = 0.99, R²: 0.98, p = 0\n"
     ]
    },
    {
     "data": {
      "text/html": [
       "<picture>\n",
       "  <source srcset=\"large-assets/ex-2.4.1-error-vs-similarity-ablated.dark.png?v=gD-9Tw3vyCWOOIQcNEwvybh-AB7x9_6VYe7emnrbDvQ\" media=\"(prefers-color-scheme: dark)\" />\n",
       "  <source srcset=\"large-assets/ex-2.4.1-error-vs-similarity-ablated.png?v=gD-9Tw3vyCWOOIQcNEwvybh-AB7x9_6VYe7emnrbDvQ\" media=\"(prefers-color-scheme: light)\" />\n",
       "  <img src=\"large-assets/ex-2.4.1-error-vs-similarity-ablated.png?v=gD-9Tw3vyCWOOIQcNEwvybh-AB7x9_6VYe7emnrbDvQ\" alt=\"Scatter plot showing reconstruction error versus similarity to red. Each point represents a color, with its position on the x-axis indicating how similar it is to pure red, and its position on the y-axis indicating the reconstruction error (mean squared error) for that color. The points are colored according to their actual color values.\" />\n",
       "</picture>"
      ],
      "text/plain": [
       "Scatter plot showing reconstruction error versus similarity to red. Each point represents a color, with its position on the x-axis indicating how similar it is to pure red, and its position on the y-axis indicating the reconstruction error (mean squared error) for that color. The points are colored according to their actual color values."
      ]
     },
     "metadata": {},
     "output_type": "display_data"
    },
    {
     "name": "stdout",
     "output_type": "stream",
     "text": [
      "MSE,sim² ablated: r = 0.61, R²: 0.37, p = 0\n"
     ]
    }
   ],
   "source": [
    "viz.plot_error_vs_similarity(\n",
    "    suppression_results,\n",
    "    (0, 1, 1),\n",
    "    anchor_name='red',\n",
    "    power=2,\n",
    ")\n",
    "\n",
    "viz.plot_error_vs_similarity(\n",
    "    repulsion_results,\n",
    "    (0, 1, 1),\n",
    "    anchor_name='red',\n",
    "    power=2,\n",
    ")\n",
    "\n",
    "viz.plot_error_vs_similarity(\n",
    "    ablation_results,\n",
    "    (0, 1, 1),\n",
    "    anchor_name='red',\n",
    "    power=2,\n",
    ")"
   ]
  }
 ],
 "metadata": {
  "kernelspec": {
   "display_name": "ex-color-transformer",
   "language": "python",
   "name": "python3"
  },
  "language_info": {
   "codemirror_mode": {
    "name": "ipython",
    "version": 3
   },
   "file_extension": ".py",
   "mimetype": "text/x-python",
   "name": "python",
   "nbconvert_exporter": "python",
   "pygments_lexer": "ipython3",
   "version": "3.13.5"
  }
 },
 "nbformat": 4,
 "nbformat_minor": 5
}
